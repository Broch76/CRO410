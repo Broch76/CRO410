{
 "cells": [
  {
   "cell_type": "markdown",
   "metadata": {},
   "source": [
    "<img src=\"2019 CRO410 ST1 Q1a.png\" width=\"900\" />"
   ]
  },
  {
   "cell_type": "markdown",
   "metadata": {},
   "source": [
    "<img src=\"2019 CRO410 ST1 Q1b.png\" width=\"900\" />"
   ]
  },
  {
   "cell_type": "markdown",
   "metadata": {},
   "source": [
    "<img src=\"2019 CRO410 ST1 Q1c.png\" width=\"900\" />"
   ]
  },
  {
   "cell_type": "markdown",
   "metadata": {},
   "source": [
    "<img src=\"2019 CRO410 ST1 Q1d.png\" width=\"900\" />"
   ]
  },
  {
   "cell_type": "code",
   "execution_count": 120,
   "metadata": {
    "collapsed": true
   },
   "outputs": [],
   "source": [
    "from numpy import log, array, exp, linspace, asarray, argmax, interp, append\n",
    "from scipy.integrate import odeint\n",
    "from scipy.stats import linregress \n",
    "import matplotlib.pyplot as plt\n",
    "%matplotlib inline"
   ]
  },
  {
   "cell_type": "code",
   "execution_count": 121,
   "metadata": {
    "collapsed": true
   },
   "outputs": [],
   "source": [
    "from scipy.optimize import fsolve"
   ]
  },
  {
   "cell_type": "code",
   "execution_count": 122,
   "metadata": {
    "collapsed": true
   },
   "outputs": [],
   "source": [
    "V = 2000 #L\n",
    "CAo = 5 #mol/L\n",
    "CBo = CAo\n",
    "Qo1 = 3 #L/s\n",
    "CIo = 5 #mol/L\n",
    "FAo = CAo*Qo1 #mol/s\n",
    "FBo = CBo*Qo1 #mol/s\n",
    "FIo = CIo*Qo1 #mol/s\n",
    "To = 350 #K\n",
    "R = 8.314 #kpm.m3/(kmol.K)"
   ]
  },
  {
   "cell_type": "code",
   "execution_count": 123,
   "metadata": {
    "collapsed": true
   },
   "outputs": [],
   "source": [
    "ko  = 1500 #L/(mol.s)\n",
    "E = 65000 # J/mol\n",
    "delHrx = -60000 #J/molrx\n",
    "CpA = 100 #J/(mol.K)\n",
    "CpB = 70 #J/(mol.K)\n",
    "CpC = 170 #J/(mol.K)\n",
    "CpI = 60 #J/(mol.K)"
   ]
  },
  {
   "cell_type": "code",
   "execution_count": 124,
   "metadata": {},
   "outputs": [
    {
     "name": "stdout",
     "output_type": "stream",
     "text": [
      "565.018824351\n",
      "Max conversion for CSTR= 86.0938242305 %\n"
     ]
    }
   ],
   "source": [
    "Tu = 833 #keep changing until overall X=93% right at the end\n",
    "UA = 3000\n",
    "\n",
    "def CSTR1(var1):\n",
    "    X1 = var1[0]\n",
    "    a =  2*FAo*CpA + FIo*CpI + UA\n",
    "    T1 = (2*FAo*CpA + FIo*CpI)*To/a + UA*Tu/a - FAo*delHrx*X1/a\n",
    "    return[X1 - (ko/Qo1)*exp(-E/(R*T1))*CAo*((1-X1)**2)*V]   \n",
    "\n",
    "Xcstr1 = fsolve(CSTR1,0.9) \n",
    "X1 = Xcstr1[-1]\n",
    "a = 2*FAo*CpA + FIo*CpI + UA\n",
    "T1 = (2*FAo*CpA + FIo*CpI)*To/a + UA*Tu/a - FAo*delHrx*Xa/a\n",
    "print(T1)\n",
    "print('Max conversion for CSTR=', X1*100,'%')"
   ]
  },
  {
   "cell_type": "code",
   "execution_count": 125,
   "metadata": {
    "collapsed": true
   },
   "outputs": [],
   "source": [
    "CAo2 = CAo*(1-X1)\n",
    "CBo2 = CAo2\n",
    "CIo2 = CIo"
   ]
  },
  {
   "cell_type": "code",
   "execution_count": 126,
   "metadata": {
    "collapsed": true
   },
   "outputs": [],
   "source": [
    "def CSTR2(var2):\n",
    "    X2 = var2[0]\n",
    "    T2 = T1 - delHrx*FAo*(1-X1)*X2/(2*FAo*(1-X1)*CpA + FIo*CpI)\n",
    "    return[X2 - (ko/Qo1)*exp(-E/(R*T2))*(CAo*(1-X1)*(1-X2)**2)*V]"
   ]
  },
  {
   "cell_type": "code",
   "execution_count": 127,
   "metadata": {},
   "outputs": [
    {
     "name": "stdout",
     "output_type": "stream",
     "text": [
      "Max conversion for 2nd CSTR= 49.8812923729 %\n",
      "Tout of CSTR= 612.414754914 K\n"
     ]
    }
   ],
   "source": [
    "Xcstr2 = fsolve(CSTR2,0.9)\n",
    "X2 = Xcstr2[-1]\n",
    "T2 = T1 - delHrx*FAo*(1-X1)*X2/(2*FAo*(1-X1)*CpA + FIo*CpI)\n",
    "print('Max conversion for 2nd CSTR=', X2*100,'%')\n",
    "print('Tout of CSTR=', T2,'K')"
   ]
  },
  {
   "cell_type": "code",
   "execution_count": 128,
   "metadata": {},
   "outputs": [
    {
     "data": {
      "text/plain": [
       "0.93030404423970425"
      ]
     },
     "execution_count": 128,
     "metadata": {},
     "output_type": "execute_result"
    }
   ],
   "source": [
    "#overall conversion needs to be 93%\n",
    "CAout = CAo*(1-X1)*(1-X2)\n",
    "Tconv = -(CAout-CAo)/CAo\n",
    "Tconv"
   ]
  },
  {
   "cell_type": "code",
   "execution_count": null,
   "metadata": {
    "collapsed": true
   },
   "outputs": [],
   "source": []
  }
 ],
 "metadata": {
  "kernelspec": {
   "display_name": "Python 3",
   "language": "python",
   "name": "python3"
  },
  "language_info": {
   "codemirror_mode": {
    "name": "ipython",
    "version": 3
   },
   "file_extension": ".py",
   "mimetype": "text/x-python",
   "name": "python",
   "nbconvert_exporter": "python",
   "pygments_lexer": "ipython3",
   "version": "3.6.1"
  }
 },
 "nbformat": 4,
 "nbformat_minor": 2
}
