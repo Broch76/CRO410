{
 "cells": [
  {
   "cell_type": "markdown",
   "metadata": {},
   "source": [
    "<img src="2019 CRO410 ST1 Q1a.png" width="700" />"
   ]
  },
  {
   "cell_type": "markdown",
   "metadata": {},
   "source": [
    "<img src=\"2019 CRO410 ST1 Q1b.png\" width=\"600\" />"
   ]
  },
  {
   "cell_type": "markdown",
   "metadata": {},
   "source": [
    "<img src=\"2019 CRO410 ST1 Q1c.png\" width=\"700\" />"
   ]
  },
  {
   "cell_type": "markdown",
   "metadata": {},
   "source": [
    "<img src=\"2019 CRO410 ST1 Q1d.png\" width=\"600\" />"
   ]
  },
  {
   "cell_type": "code",
   "execution_count": 249,
   "metadata": {
    "collapsed": true
   },
   "outputs": [],
   "source": [
    "from numpy import log, array, exp, linspace, asarray, argmax, interp, append\n",
    "from scipy.integrate import odeint\n",
    "from scipy.stats import linregress \n",
    "import matplotlib.pyplot as plt\n",
    "%matplotlib inline"
   ]
  },
  {
   "cell_type": "code",
   "execution_count": 250,
   "metadata": {
    "collapsed": true
   },
   "outputs": [],
   "source": [
    "from scipy.optimize import fsolve"
   ]
  },
  {
   "cell_type": "code",
   "execution_count": 251,
   "metadata": {
    "collapsed": true
   },
   "outputs": [],
   "source": [
    "V = 2000 #L\n",
    "CAo = 5 #mol/L\n",
    "CBo = CAo\n",
    "Qo1 = 3 #L/s\n",
    "CIo = 5 #mol/L\n",
    "FAo = CAo*Qo1 #mol/s\n",
    "FBo = CBo*Qo1 #mol/s\n",
    "FIo = CIo*Qo1 #mol/s\n",
    "To = 350 #K\n",
    "R = 8.314 #kpm.m3/(kmol.K)"
   ]
  },
  {
   "cell_type": "code",
   "execution_count": 252,
   "metadata": {
    "collapsed": true
   },
   "outputs": [],
   "source": [
    "ko  = 1500 #L/(mol.s)\n",
    "E = 65000 # J/mol\n",
    "delHrx = -60000 #J/molrx\n",
    "CpA = 100 #J/(mol.K)\n",
    "CpB = 70 #J/(mol.K)\n",
    "CpC = 170 #J/(mol.K)\n",
    "CpI = 60 #J/(mol.K)"
   ]
  },
  {
   "cell_type": "code",
   "execution_count": 263,
   "metadata": {},
   "outputs": [
    {
     "name": "stdout",
     "output_type": "stream",
     "text": [
      "556.06143142\n",
      "Max conversion for CSTR= 60.6470974219 %\n"
     ]
    }
   ],
   "source": [
    "Tu = 642 #keep changing until overall X=93% right at the end\n",
    "UA = 3000\n",
    "\n",
    "def CSTR1(var1):\n",
    "    X1 = var1[0]\n",
    "    d =  2*FAo*CpA + FIo*CpI + UA\n",
    "    T1 = (2*FAo*CpA + FIo*CpI)*To/d + UA*Tu/d - FAo*delHrx*X1/d\n",
    "    return[X1 - (ko/Qo1)*exp(-E/(R*T1))*CAo*((1-X1)**2)*V]   \n",
    "\n",
    "Xcstr1 = fsolve(CSTR1,0.9) \n",
    "X1 = Xcstr1[-1]\n",
    "d = 2*FAo*CpA + FIo*CpI + UA\n",
    "T1 = (2*FAo*CpA + FIo*CpI)*To/d + UA*Tu/d - FAo*delHrx*X1/d\n",
    "print(T1)\n",
    "print('Max conversion for CSTR=', X1*100,'%')"
   ]
  },
  {
   "cell_type": "code",
   "execution_count": 254,
   "metadata": {},
   "outputs": [],
   "source": [
    "tspan1 = linspace(To,T1,1000)\n",
    "G = (ko/Qo1)*exp(-E/(R*tspan1))*CAo*V\n",
    "a = 1\n",
    "b = -(2*G+1)/G\n",
    "c = 1\n",
    "Xma = (-b - (b**2 - 4*a*c)**0.5)/(2*a)\n",
    "Xea = d*tspan1/(UA*Tu - FAo*delHrx) - (2*FAo*CpA + FIo*CpI)*To/(UA*Tu - FAo*delHrx)"
   ]
  },
  {
   "cell_type": "code",
   "execution_count": 255,
   "metadata": {
    "scrolled": true
   },
   "outputs": [
    {
     "data": {
      "image/png": "iVBORw0KGgoAAAANSUhEUgAAAYUAAAEKCAYAAAD9xUlFAAAABHNCSVQICAgIfAhkiAAAAAlwSFlz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\nYII=\n",
      "text/plain": [
       "<matplotlib.figure.Figure at 0x20144152240>"
      ]
     },
     "metadata": {},
     "output_type": "display_data"
    }
   ],
   "source": [
    "plt.figure(1)\n",
    "plt.plot(tspan1, Xma, color='blue', label='XA1m')\n",
    "plt.plot(tspan1, Xea, color='green', label='XA1e')\n",
    "plt.legend(loc='best')\n",
    "plt.ylabel('Conversion') \n",
    "plt.xlabel('Temp[K]') \n",
    "plt.show()"
   ]
  },
  {
   "cell_type": "code",
   "execution_count": 256,
   "metadata": {
    "collapsed": true
   },
   "outputs": [],
   "source": [
    "CAo2 = CAo*(1-X1)\n",
    "CBo2 = CAo2\n",
    "CIo2 = CIo"
   ]
  },
  {
   "cell_type": "code",
   "execution_count": 257,
   "metadata": {
    "collapsed": true
   },
   "outputs": [],
   "source": [
    "def CSTR2(var2):\n",
    "    X2 = var2[0]\n",
    "    T2 = T1 - delHrx*FAo*(1-X1)*X2/(2*FAo*(1-X1)*CpA + FIo*CpI)\n",
    "    return[X2 - (ko/Qo1)*exp(-E/(R*T2))*(CAo*(1-X1)*(1-X2)**2)*V]"
   ]
  },
  {
   "cell_type": "code",
   "execution_count": 258,
   "metadata": {},
   "outputs": [
    {
     "name": "stdout",
     "output_type": "stream",
     "text": [
      "Max conversion for 2nd CSTR= 82.2339124768 %\n",
      "Tout of CSTR= 696.047345175 K\n"
     ]
    }
   ],
   "source": [
    "Xcstr2 = fsolve(CSTR2,0.9)\n",
    "X2 = Xcstr2[-1]\n",
    "T2 = T1 - delHrx*FAo*(1-X1)*X2/(2*FAo*(1-X1)*CpA + FIo*CpI)\n",
    "print('Max conversion for 2nd CSTR=', X2*100,'%')\n",
    "print('Tout of CSTR=', T2,'K')"
   ]
  },
  {
   "cell_type": "code",
   "execution_count": 259,
   "metadata": {
    "collapsed": true
   },
   "outputs": [],
   "source": [
    "tspan2 = linspace(T1,T2,1000)\n",
    "G = (ko/Qo1)*exp(-E/(R*tspan2))*CAo*(1 - X1)*V\n",
    "a = 1\n",
    "b = -(2*G+1)/G\n",
    "c = 1\n",
    "Xmb = (-b - (b**2 - 4*a*c)**0.5)/(2*a)\n",
    "Xeb = ((2*FAo*(1-X1)*CpA + FIo*CpI)/(delHrx*FAo*(1-X1))*X2)*(T1-tspan2)"
   ]
  },
  {
   "cell_type": "code",
   "execution_count": 260,
   "metadata": {},
   "outputs": [
    {
     "data": {
      "image/png": "iVBORw0KGgoAAAANSUhEUgAAAYUAAAEKCAYAAAD9xUlFAAAABHNCSVQICAgIfAhkiAAAAAlwSFlz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\nSqZFQSmlVDItCkoppZJpUVBKKZXs/wGjVrRwk1a6lQAAAABJRU5ErkJggg==\n",
      "text/plain": [
       "<matplotlib.figure.Figure at 0x20143e34240>"
      ]
     },
     "metadata": {},
     "output_type": "display_data"
    }
   ],
   "source": [
    "plt.figure(2)\n",
    "plt.plot(tspan2, Xmb, color='blue', label='XA2m')\n",
    "plt.plot(tspan2, Xeb, color='green', label='XA2e')\n",
    "plt.legend(loc='best')\n",
    "plt.ylabel('Conversion') \n",
    "plt.xlabel('Temp[K]') \n",
    "plt.show()"
   ]
  },
  {
   "cell_type": "code",
   "execution_count": 261,
   "metadata": {},
   "outputs": [
    {
     "data": {
      "text/plain": [
       "0.93008528885043518"
      ]
     },
     "execution_count": 261,
     "metadata": {},
     "output_type": "execute_result"
    }
   ],
   "source": [
    "#overall conversion needs to be 93%\n",
    "CAout = CAo*(1-X1)*(1-X2)\n",
    "Tconv = -(CAout-CAo)/CAo\n",
    "Tconv"
   ]
  },
  {
   "cell_type": "code",
   "execution_count": null,
   "metadata": {
    "collapsed": true
   },
   "outputs": [],
   "source": []
  }
 ],
 "metadata": {
  "kernelspec": {
   "display_name": "Python 3",
   "language": "python",
   "name": "python3"
  },
  "language_info": {
   "codemirror_mode": {
    "name": "ipython",
    "version": 3
   },
   "file_extension": ".py",
   "mimetype": "text/x-python",
   "name": "python",
   "nbconvert_exporter": "python",
   "pygments_lexer": "ipython3",
   "version": "3.6.1"
  }
 },
 "nbformat": 4,
 "nbformat_minor": 2
}
