{
 "cells": [
  {
   "cell_type": "code",
   "execution_count": 119,
   "metadata": {},
   "outputs": [],
   "source": [
    "from numpy import *\n",
    "from scipy.optimize import fsolve\n",
    "from scipy.integrate import odeint\n",
    "from scipy.stats import linregress \n",
    "from matplotlib import pyplot as plt\n",
    "from scipy.interpolate import interp1d\n",
    "%matplotlib inline"
   ]
  },
  {
   "cell_type": "markdown",
   "metadata": {},
   "source": [
    "# <ins>Question 1 [14] </ins>"
   ]
  },
  {
   "cell_type": "markdown",
   "metadata": {},
   "source": [
    "Consider the following reversible elementary liquid phase reaction:\n",
    "    $$A \\rightleftharpoons B$$\n",
    "Rate and thermodynamic data of the reaction is given in the table below"
   ]
  },
  {
   "cell_type": "markdown",
   "metadata": {},
   "source": [
    "<img src=\"CRO410Supp2020a.JPG\" width=\"350\" />"
   ]
  },
  {
   "cell_type": "markdown",
   "metadata": {},
   "source": [
    "Pure A at $C_{A_{0}} = 100~mol/m^{3}$ with a volumetric flow rate of $ Q = 10 \\times 10^{-3}~m{3}/s$ is converted in a reactor set-up consisting of two adiabatic CSTR’s in series. The same type of solid catalyst is used in each reactor. The inlet temperature to the first reactor is $T_{0} = 310~K$ and the conversion of A achieved in this reactor is $x_{A} = 40~\\%$."
   ]
  },
  {
   "cell_type": "markdown",
   "metadata": {},
   "source": [
    "After the first reactor, the formed product $B$ is separated from the product stream, so that the resultant feed stream to the second reactor contains only pure $A$ again. The second reactor must be operated in such a way that an *overall conversion* of A of $85~\\%$ is achieved. After separation, the inlet stream to $Reactor 2$ can be cooled or heated in a heat exchanger before processing in $Reactor 2$."
   ]
  },
  {
   "cell_type": "markdown",
   "metadata": {},
   "source": [
    "**Assumptions:**\n",
    "\n",
    "- Densities of all liquids are equal and $\\rho_{l} = 950~kg/m^{3}$\n",
    "- All mass transfer effects are negligible\n",
    "- The separation process does not result in a change in temperature"
   ]
  },
  {
   "cell_type": "code",
   "execution_count": 120,
   "metadata": {},
   "outputs": [],
   "source": [
    "R     =  8.314\n",
    "Kcref =   2000 #at 300K\n",
    "dHrx  = -30000 #J/mol\n",
    "CpA   =     80 # J/mol\n",
    "CpB   =    CpA\n",
    "kopr  =    193 #m3/kg/s\n",
    "Ea    =  60000 #J/mol\n",
    "rholiq=    950 #kg/m3 \n",
    "n     =      1\n",
    "CAo   =    100 #mol/m3\n",
    "Q     =  10e-3 #m3/s\n",
    "To    =    310 #K"
   ]
  },
  {
   "cell_type": "markdown",
   "metadata": {},
   "source": [
    "*a) What is the concentration of component $A$ in the second reactor?  give in units of $mol/m^{3}$. [2]*"
   ]
  },
  {
   "cell_type": "markdown",
   "metadata": {},
   "source": [
    "\\begin{align}\n",
    "(1 - X) &= (1 - X_{1})(1 - X_{2})\\nonumber \\\\\n",
    "\\dfrac{(1 - X)}{(1 - X_{1})} &= (1 - X_{2}) \\nonumber \\\\\n",
    "X_{2} &= 1 - \\dfrac{(1 - X)}{(1 - X_{1})} \\nonumber\n",
    "\\end{align}"
   ]
  },
  {
   "cell_type": "code",
   "execution_count": 121,
   "metadata": {},
   "outputs": [
    {
     "data": {
      "text/plain": [
       "0.75"
      ]
     },
     "execution_count": 121,
     "metadata": {},
     "output_type": "execute_result"
    }
   ],
   "source": [
    "Xt = 0.85\n",
    "X1 = 0.40\n",
    "X2 = 1 - (1 - Xt)/(1- X1)\n",
    "X2"
   ]
  },
  {
   "cell_type": "code",
   "execution_count": 122,
   "metadata": {},
   "outputs": [
    {
     "data": {
      "text/plain": [
       "60.0"
      ]
     },
     "execution_count": 122,
     "metadata": {},
     "output_type": "execute_result"
    }
   ],
   "source": [
    "CAin = CAo*(1 - X1)\n",
    "CAin"
   ]
  },
  {
   "cell_type": "markdown",
   "metadata": {},
   "source": [
    "*b) What is the concentration of component B in the second reactor? give in units of $mol/m3$ [2]*"
   ]
  },
  {
   "cell_type": "code",
   "execution_count": 123,
   "metadata": {},
   "outputs": [
    {
     "name": "stdout",
     "output_type": "stream",
     "text": [
      "15.0\n",
      "45.0\n"
     ]
    }
   ],
   "source": [
    "CA = CAin*(1 - X2)\n",
    "CB = CAin * X2\n",
    "print(CA)\n",
    "print(CB)"
   ]
  },
  {
   "cell_type": "markdown",
   "metadata": {},
   "source": [
    "*c) Specify the amount of inter-cooling (give in $kW$, round to 3 significant numbers) necessary to minimize the mass of catalyst required in the second reactor to achieve the required conversion. [10]*"
   ]
  },
  {
   "cell_type": "markdown",
   "metadata": {},
   "source": [
    "CSTR design equation:\n",
    "\\begin{align}\n",
    "F_{A_{0}} - F_{A} + r_{A}^{'}W &= 0 \\nonumber \\\\\n",
    "F_{A_{0}}X_{A} &= -r_{A}^{'}W \\nonumber \\\\\n",
    "W &= \\dfrac{F_{A_{0}}X_{A}}{-r_{A}^{'}} \\nonumber\n",
    "\\end{align}"
   ]
  },
  {
   "cell_type": "markdown",
   "metadata": {},
   "source": [
    "Rate equation:\n",
    "\\begin{align}\n",
    "r_{A} &= r_{A}^{'}\\rho_{l} \\nonumber \\\\\n",
    "r_{A}^{'}\\rho_{l} &= -k_{1}\\left( C_{A} - \\dfrac{C_{B}}{K_{c}} \\right) \\nonumber \\\\\n",
    "\\dfrac{-F_{A_{0}}X\\rho_{l}}{W} &= -k_{1}\\left( C_{A} - \\dfrac{C_{B}}{K_{c}} \\right)  \\nonumber \\\\\n",
    "\\dfrac{F_{A_{0}}X\\rho_{l}}{k_{1}} &= W\\left( C_{A} - \\dfrac{C_{B}}{K_{c}} \\right)  \\nonumber \\\\\n",
    "W &= \\dfrac{F_{A_{0}}X\\rho_{l}}{k_{1}}\\left( C_{A} - \\dfrac{C_{B}}{K_{c}} \\right) ^{-1} \\nonumber\n",
    "\\end{align}"
   ]
  },
  {
   "cell_type": "code",
   "execution_count": 124,
   "metadata": {},
   "outputs": [
    {
     "data": {
      "text/plain": [
       "460.0"
      ]
     },
     "execution_count": 124,
     "metadata": {},
     "output_type": "execute_result"
    }
   ],
   "source": [
    "T1 = To + (-dHrx/CpA)*X1\n",
    "T1"
   ]
  },
  {
   "cell_type": "markdown",
   "metadata": {},
   "source": [
    "From the rate at equilibrium $= 0$ (-r_{A} = 0):\n",
    "\\begin{align}\n",
    "X_{eq} &= \\dfrac{K_{eq}}{1 + K_{eq}} \\nonumber \\\\\n",
    "X_{eq}(1 + K_{eq}) &= K_{eq} \\nonumber \\\\\n",
    "X_{eq} &= K_{eq}(1 - X_{eq}) \\nonumber \\\\\n",
    "K_{eq} &= \\dfrac{X_{eq}}{1 - X_{eq}} \\nonumber\n",
    "\\end{align}"
   ]
  },
  {
   "cell_type": "code",
   "execution_count": 125,
   "metadata": {},
   "outputs": [
    {
     "data": {
      "text/plain": [
       "3.0"
      ]
     },
     "execution_count": 125,
     "metadata": {},
     "output_type": "execute_result"
    }
   ],
   "source": [
    "Kc = X2/(1 - X2)\n",
    "Kc"
   ]
  },
  {
   "cell_type": "markdown",
   "metadata": {},
   "source": [
    "From Van't Hoff's equation:\n",
    "\\begin{align}\n",
    "K_{eq} &= K_{eq,ref}e^{\\left[ \\dfrac{-\\Delta H_{A}}{R}\\left(\\dfrac{1}{T} - \\dfrac{1}{T_{ref}} \\right) \\right]}\\nonumber \\\\\n",
    "ln\\left(\\dfrac{K_{eq}}{K_{eq,ref}}\\right) &= {\\left[ \\dfrac{-\\Delta H_{A}}{R}\\left(\\dfrac{1}{T} - \\dfrac{1}{T_{ref}} \\right) \\right]}\\nonumber \\\\\n",
    "\\left(\\dfrac{1}{T} - \\dfrac{1}{T_{ref}} \\right) &= \\dfrac{R}{-\\Delta H_{A}}ln\\left(\\dfrac{K_{eq}}{K_{eq,ref}}\\right) \\nonumber \\\\\n",
    "\\dfrac{1}{T} &= \\dfrac{1}{T_{ref}} -  \\dfrac{R}{\\Delta H_{A}}ln\\left(\\dfrac{K_{eq}}{K_{eq,ref}}\\right) \\nonumber \\\\\n",
    "T &= \\left[ \\dfrac{1}{T_{ref}} -  \\dfrac{R}{\\Delta H_{A}}ln\\left(\\dfrac{K_{eq}}{K_{eq,ref}}\\right)\\right]^{-1} \\nonumber\n",
    "\\end{align}"
   ]
  },
  {
   "cell_type": "code",
   "execution_count": 126,
   "metadata": {},
   "outputs": [
    {
     "data": {
      "text/plain": [
       "653.0262610998047"
      ]
     },
     "execution_count": 126,
     "metadata": {},
     "output_type": "execute_result"
    }
   ],
   "source": [
    "a = 1/300\n",
    "b = R/dHrx\n",
    "c = log(Kc/Kcref)\n",
    "Tout = (a - b*c)**(-1)\n",
    "Tout"
   ]
  },
  {
   "cell_type": "code",
   "execution_count": 127,
   "metadata": {},
   "outputs": [
    {
     "data": {
      "text/plain": [
       "371.77626109980474"
      ]
     },
     "execution_count": 127,
     "metadata": {},
     "output_type": "execute_result"
    }
   ],
   "source": [
    "Tin = Tout + (dHrx/CpA)*X2\n",
    "Tin"
   ]
  },
  {
   "cell_type": "code",
   "execution_count": 128,
   "metadata": {},
   "outputs": [
    {
     "name": "stdout",
     "output_type": "stream",
     "text": [
      "Min Cat Weight= 7.144037812469448e+18 kg\n"
     ]
    }
   ],
   "source": [
    "kiref   =  kopr*exp(-Ea/(R*To))\n",
    "ki      =  kiref*exp((-Ea/R)*((1/Tout)-(1/To)))\n",
    "Kc      =  Kcref*exp((-dHrx/R)*((1/Tout)-(1/300)))\n",
    "r       =  ki*(CA - CB/Kc)\n",
    "FAin    =  CAin*Q\n",
    "W       =  FAin*X2*rholiq/r\n",
    "print('Min Cat Weight= '+str(W)+' kg')"
   ]
  },
  {
   "cell_type": "code",
   "execution_count": 129,
   "metadata": {},
   "outputs": [
    {
     "name": "stdout",
     "output_type": "stream",
     "text": [
      "Cooling required=88.22373890019526K\n"
     ]
    }
   ],
   "source": [
    "Cooling = T1 - Tin\n",
    "print('Cooling required=' + str(Cooling)+'K')"
   ]
  },
  {
   "cell_type": "code",
   "execution_count": 130,
   "metadata": {},
   "outputs": [
    {
     "data": {
      "text/plain": [
       "-7057.899112015621"
      ]
     },
     "execution_count": 130,
     "metadata": {},
     "output_type": "execute_result"
    }
   ],
   "source": [
    "EnergyLoss = CpA*(Tin - T1)\n",
    "EnergyLoss"
   ]
  },
  {
   "cell_type": "code",
   "execution_count": 131,
   "metadata": {},
   "outputs": [
    {
     "name": "stdout",
     "output_type": "stream",
     "text": [
      "Inter-cooling required= -7.057899112015621 kW\n"
     ]
    }
   ],
   "source": [
    "print('Inter-cooling required= '+str(EnergyLoss/1000)+' kW')"
   ]
  },
  {
   "cell_type": "markdown",
   "metadata": {},
   "source": [
    "---------------------------------------------------------"
   ]
  },
  {
   "cell_type": "markdown",
   "metadata": {},
   "source": [
    "# <ins>Question 2 [16] </ins>"
   ]
  },
  {
   "cell_type": "markdown",
   "metadata": {},
   "source": [
    "<img src=\"CRO410Supp2020b.JPG\" width=\"750\" />"
   ]
  },
  {
   "cell_type": "markdown",
   "metadata": {},
   "source": [
    "The first order reaction where $A$ is converted to $B$ is carried out in a laboratory scale CSTR at different stirrer speeds (in rpm), at different temperatures and catalyst particle sizes. The results at a fixed concentration of $A$, $C_{A} = 16.9 x 10^{3}~mol/m3$, is shown on the attached figure. The catalyst is porous and $\\rho_{cat} = 1200~kg/m^{3}$. It is also known that the total catalyst surface area ($S_{i}$) is $100~m^{2}/g$."
   ]
  },
  {
   "cell_type": "markdown",
   "metadata": {},
   "source": [
    "*a) Quantify the mass based intrinsic rate constant for this reaction (i.e. calculate the pre-exponential constant and the activation energy)* [4]"
   ]
  },
  {
   "cell_type": "code",
   "execution_count": 132,
   "metadata": {},
   "outputs": [],
   "source": [
    "CAb    = 16.9e3 #mol/m3\n",
    "rhocat =   1200 #kg/m3\n",
    "R      =  8.314 #J/kg.K\n",
    "Si     =    100 #m2/g"
   ]
  },
  {
   "cell_type": "markdown",
   "metadata": {},
   "source": [
    "For $d_{p} = 0.1~mm$ and $d_{p} = 0.3~mm$, $-r_{A}^{'} = 0.1355~mol/(kg.s)$ where $rpm > 400$  (*read off the graph*) Different particle sizes and the same reaction rate implies negligible external mass transfer and $\\eta = 1$, therefore, $C_{A_{b}} = C_{A_{s}}$"
   ]
  },
  {
   "cell_type": "markdown",
   "metadata": {},
   "source": [
    "Rate equation:\n",
    "\\begin{align}\n",
    "r_{A}^{'} &= k_{i}^{'}C_{A_{b}} \\nonumber\n",
    "\\end{align}"
   ]
  },
  {
   "cell_type": "code",
   "execution_count": 133,
   "metadata": {},
   "outputs": [
    {
     "data": {
      "text/plain": [
       "8.017751479289941e-06"
      ]
     },
     "execution_count": 133,
     "metadata": {},
     "output_type": "execute_result"
    }
   ],
   "source": [
    "kprm400 = 0.1355/CAb\n",
    "kprm400   #m3/(kg.s)"
   ]
  },
  {
   "cell_type": "markdown",
   "metadata": {},
   "source": [
    "The intrinsic rate constant above is for $400~K$, which means it is also valid for $d_{p} = 5~mm$"
   ]
  },
  {
   "cell_type": "markdown",
   "metadata": {},
   "source": [
    "1) We know at higher stirrer speeds, $k_{i}^{'}$ does not depend on particle diameter for the same temperature. And is NOT proportional to $d_{p}$ when porous catalysts are used and internal mass transfer dominates."
   ]
  },
  {
   "cell_type": "markdown",
   "metadata": {},
   "source": [
    "2) We also know, because both $d_{p} = 0.3~mm$ and $d_{p} = 0.1~mm$ converge at high stirrer speeds (i.e. both have the same $-r_{A}$), that $\\eta = 1$ at $400~K$ for those two. Since $d_{p} = 5~mm$ has a lower $-r_{A}$ at higher stirrer speeds, it's $\\eta$ must be less than $1$"
   ]
  },
  {
   "cell_type": "markdown",
   "metadata": {},
   "source": [
    "3) Using the intrinsic rate equation, $-r_{A} = \\eta k_{i}^{'}C_{A_{b}}$, we have two equations:\n",
    "\\begin{align}\n",
    "0.1355 &= k_{1}^{'}C_{A_{b}} \\nonumber \\\\\n",
    "0.1000 &= \\eta k_{2}^{'}C_{A_{b}} \\nonumber \\\\\n",
    "k_{1}^{'} &= k_{2}^{'} \\nonumber\n",
    "\\end{align}"
   ]
  },
  {
   "cell_type": "code",
   "execution_count": 134,
   "metadata": {},
   "outputs": [
    {
     "data": {
      "text/plain": [
       "0.7380073800738007"
      ]
     },
     "execution_count": 134,
     "metadata": {},
     "output_type": "execute_result"
    }
   ],
   "source": [
    "# therefore, eta for dp=5mm:\n",
    "eta400 = 0.1/0.1355\n",
    "eta400"
   ]
  },
  {
   "cell_type": "markdown",
   "metadata": {},
   "source": [
    "The pre-exponential mass-based rate constant, $k_{0}^{'}$ is the same for all $d_{p}$ in this reaction. Therefore, to calculate the activation energy, we need two mass-based intrinsic rate constants:\n",
    "\\begin{align}\n",
    "k_{1}^{'} &= k_{0}^{'}e^{\\dfrac{-E_{a}}{RT_{1}}} \\nonumber \\\\\n",
    "k_{2}^{'} &= k_{0}^{'}e^{\\dfrac{-E_{a}}{RT_{2}}} \\nonumber \\\\\n",
    "ln\\left(\\dfrac{k_{1}^{'}}{k_{2}^{'}}\\right) &= \\dfrac{E_{a}}{R}\\left[\\dfrac{1}{T_{2}} - \\dfrac{1}{T_{1}} \\right] \\nonumber \\\\\n",
    "\\therefore E_{a} &= R\\left[\\dfrac{1}{T_{2}} - \\dfrac{1}{T_{1}} \\right]^{-1}ln\\left(\\dfrac{k_{1}^{'}}{k_{2}^{'}}\\right) \\nonumber\n",
    "\\end{align}"
   ]
  },
  {
   "cell_type": "code",
   "execution_count": 135,
   "metadata": {},
   "outputs": [
    {
     "data": {
      "text/plain": [
       "1.0650887573964497e-06"
      ]
     },
     "execution_count": 135,
     "metadata": {},
     "output_type": "execute_result"
    }
   ],
   "source": [
    "kprm300 = 0.018/CAb #for dp=0.5mm and dp=1mm at high rpms\n",
    "kprm300"
   ]
  },
  {
   "cell_type": "code",
   "execution_count": 136,
   "metadata": {},
   "outputs": [
    {
     "data": {
      "text/plain": [
       "20139.167306963678"
      ]
     },
     "execution_count": 136,
     "metadata": {},
     "output_type": "execute_result"
    }
   ],
   "source": [
    "Ea = R*log(kprm400/kprm300)/((1/300)-(1/400))\n",
    "Ea #J/mol"
   ]
  },
  {
   "cell_type": "code",
   "execution_count": 137,
   "metadata": {},
   "outputs": [
    {
     "data": {
      "text/plain": [
       "0.003420211484307145"
      ]
     },
     "execution_count": 137,
     "metadata": {},
     "output_type": "execute_result"
    }
   ],
   "source": [
    "koprm = kprm400*exp(Ea/(R*400))\n",
    "koprm"
   ]
  },
  {
   "cell_type": "code",
   "execution_count": 138,
   "metadata": {},
   "outputs": [
    {
     "name": "stdout",
     "output_type": "stream",
     "text": [
      "The pre-exponential rate constant= 3.420211484307145e-3 m3/kg/s \n"
     ]
    }
   ],
   "source": [
    "print('The pre-exponential rate constant= '+str(koprm*1000)+'e-3 m3/kg/s ')"
   ]
  },
  {
   "cell_type": "code",
   "execution_count": 139,
   "metadata": {},
   "outputs": [
    {
     "name": "stdout",
     "output_type": "stream",
     "text": [
      "The activation energy= 20.139167306963678 kJ/mol\n"
     ]
    }
   ],
   "source": [
    "print('The activation energy= '+str(Ea/1000)+' kJ/mol')"
   ]
  },
  {
   "cell_type": "markdown",
   "metadata": {},
   "source": [
    "*b) In addition to its dependence on particle diameter, it is known that the specific mass transfer coefficient, ($k_{c}$), in the CSTR where the studies were done, is related to the stirrer speed such that $k_{c} \\propto (rpm)^{n}$. Determine the value of $n$* [6]"
   ]
  },
  {
   "cell_type": "code",
   "execution_count": 140,
   "metadata": {},
   "outputs": [],
   "source": [
    "dp       = array([0.1/1000, 0.3/1000, 5.0/1000, 0.5/1000, 1.0])\n",
    "rAprm100 = array([0.132, 0.119, 0.013, 0.0175, 0.0129])\n",
    "rAprm200 = array([0.135, 0.133, 0.0545, 0.018, 0.0175])"
   ]
  },
  {
   "cell_type": "markdown",
   "metadata": {},
   "source": [
    "\\begin{align}\n",
    "a_{m} &= \\dfrac{6}{d_{p}}\\dfrac{1}{\\rho_{cat}} \\nonumber \n",
    "\\end{align}"
   ]
  },
  {
   "cell_type": "code",
   "execution_count": 141,
   "metadata": {},
   "outputs": [
    {
     "data": {
      "text/plain": [
       "array([5.00000000e+01, 1.66666667e+01, 1.00000000e+00, 1.00000000e+01,\n",
       "       5.00000000e-03])"
      ]
     },
     "execution_count": 141,
     "metadata": {},
     "output_type": "execute_result"
    }
   ],
   "source": [
    "am = 6/(dp*rhocat)\n",
    "am"
   ]
  },
  {
   "cell_type": "markdown",
   "metadata": {},
   "source": [
    "For first order reactions:\n",
    "\\begin{align}\n",
    "\\dfrac{1}{k_{eff}^{'}} &= \\dfrac{1}{k_{c}a_{m}} + \\dfrac{1}{\\eta k_{i}^{'}} \\nonumber \\\\\n",
    "\\dfrac{1}{k_{c}a_{m}} &=\\left[ \\dfrac{1}{k_{eff}^{'}} - \\dfrac{1}{\\eta k_{i}^{'}} \\right] \\nonumber \\\\\n",
    "k_{c} &= \\dfrac{1}{a_{m}}\\left[ \\dfrac{1}{k_{eff}^{'}} - \\dfrac{1}{\\eta k_{i}^{'}} \\right]^{-1} \\nonumber \n",
    "\\end{align}"
   ]
  },
  {
   "cell_type": "code",
   "execution_count": 142,
   "metadata": {},
   "outputs": [
    {
     "data": {
      "text/plain": [
       "array([7.81065089e-06, 7.04142012e-06, 7.69230769e-07, 1.03550296e-06,\n",
       "       7.63313609e-07])"
      ]
     },
     "execution_count": 142,
     "metadata": {},
     "output_type": "execute_result"
    }
   ],
   "source": [
    "kprmeff100 = rAprm100/CAb\n",
    "kprmeff100"
   ]
  },
  {
   "cell_type": "code",
   "execution_count": 143,
   "metadata": {},
   "outputs": [
    {
     "data": {
      "text/plain": [
       "array([7.98816568e-06, 7.86982249e-06, 3.22485207e-06, 1.06508876e-06,\n",
       "       1.03550296e-06])"
      ]
     },
     "execution_count": 143,
     "metadata": {},
     "output_type": "execute_result"
    }
   ],
   "source": [
    "kprmeff200 = rAprm200/CAb\n",
    "kprmeff200"
   ]
  },
  {
   "cell_type": "markdown",
   "metadata": {},
   "source": [
    "Approach: will take $d_{p}=0.1~mm$ and $d_{p} = 0.3~mm$ at $rpm = 100$ and $rpm = 200$ respectively, to calculate $k_{c}$ at each point. Both these particle sizes have the same temperature, the same intrinsic rate constant and both have $\\eta = 1$"
   ]
  },
  {
   "cell_type": "markdown",
   "metadata": {},
   "source": [
    "Therefore:\n",
    "\\begin{align}\n",
    "\\dfrac{k_{c2}}{k_{c1}} &= \\left( \\dfrac{rpm_{2}}{rpm_{1}} \\right)^{n} \\nonumber \\\\\n",
    "ln\\left(\\dfrac{k_{c2}}{k_{c1}}\\right) &= n.ln\\left( \\dfrac{rpm_{2}}{rpm_{1}} \\right) \\nonumber \\\\\n",
    "n &= \\dfrac{ln\\left(\\dfrac{k_{c2}}{k_{c1}}\\right)}{ln\\left( \\dfrac{rpm_{2}}{rpm_{1}} \\right)} \\nonumber\n",
    "\\end{align}"
   ]
  },
  {
   "cell_type": "code",
   "execution_count": 144,
   "metadata": {},
   "outputs": [],
   "source": [
    "rpm1 = 100\n",
    "rpm2 = 200"
   ]
  },
  {
   "cell_type": "markdown",
   "metadata": {},
   "source": [
    "Using data for $d_{p}=0.1~mm$:"
   ]
  },
  {
   "cell_type": "code",
   "execution_count": 145,
   "metadata": {},
   "outputs": [],
   "source": [
    "kc1 = (am[0]*((1/kprmeff100[0])-(1/kprm400)))**(-1)\n",
    "kc2 = (am[0]*((1/kprmeff200[0])-(1/kprm400)))**(-1)"
   ]
  },
  {
   "cell_type": "code",
   "execution_count": 157,
   "metadata": {},
   "outputs": [
    {
     "data": {
      "text/plain": [
       "2.839776399749976"
      ]
     },
     "execution_count": 157,
     "metadata": {},
     "output_type": "execute_result"
    }
   ],
   "source": [
    "d1 = log(kc2/kc1)\n",
    "e1 = log(rpm2/rpm1)\n",
    "n1 = d1/e1\n",
    "n1"
   ]
  },
  {
   "cell_type": "markdown",
   "metadata": {},
   "source": [
    "Using data for $d_{p}=0.3~mm$ to check:"
   ]
  },
  {
   "cell_type": "code",
   "execution_count": 147,
   "metadata": {},
   "outputs": [],
   "source": [
    "kc3 = (am[1]*((1/kprmeff100[1])-(1/kprm400)))**(-1)\n",
    "kc4 = (am[1]*((1/kprmeff200[1])-(1/kprm400)))**(-1)"
   ]
  },
  {
   "cell_type": "code",
   "execution_count": 158,
   "metadata": {},
   "outputs": [
    {
     "data": {
      "text/plain": [
       "2.8829306966643498"
      ]
     },
     "execution_count": 158,
     "metadata": {},
     "output_type": "execute_result"
    }
   ],
   "source": [
    "d2 = log(kc4/kc3)\n",
    "e2 = log(rpm2/rpm1)\n",
    "n2 = d2/e2\n",
    "n2"
   ]
  },
  {
   "cell_type": "markdown",
   "metadata": {},
   "source": [
    "Using data for $d_{p}=5~mm$ to check:"
   ]
  },
  {
   "cell_type": "code",
   "execution_count": 159,
   "metadata": {},
   "outputs": [],
   "source": [
    "kc5 = (am[2]*((1/kprmeff100[2])-(1/(eta400*kprm400))))**(-1)\n",
    "kc6 = (am[2]*((1/kprmeff200[2])-(1/(eta400*kprm400))))**(-1)"
   ]
  },
  {
   "cell_type": "code",
   "execution_count": 160,
   "metadata": {},
   "outputs": [
    {
     "data": {
      "text/plain": [
       "3.0028934622858663"
      ]
     },
     "execution_count": 160,
     "metadata": {},
     "output_type": "execute_result"
    }
   ],
   "source": [
    "d3 = log(kc6/kc5)\n",
    "e3 = log(rpm2/rpm1)\n",
    "n3 = d3/e3\n",
    "n3"
   ]
  },
  {
   "cell_type": "code",
   "execution_count": 149,
   "metadata": {},
   "outputs": [
    {
     "name": "stdout",
     "output_type": "stream",
     "text": [
      "Therefore, n = 2.84\n"
     ]
    }
   ],
   "source": [
    "print('Therefore, n = 2.85')"
   ]
  },
  {
   "cell_type": "markdown",
   "metadata": {},
   "source": [
    "*c) Calculate the temperature above which it can be assumed that the apparent rate is in the internal mass transfer limited regime for the $5~mm$ catalyst particles. (Assume $D_{e}$ to be independent of temperature)* [6]"
   ]
  },
  {
   "cell_type": "code",
   "execution_count": 150,
   "metadata": {},
   "outputs": [],
   "source": [
    "dp5 = dp[2]\n",
    "R5  = dp5/2"
   ]
  },
  {
   "cell_type": "markdown",
   "metadata": {},
   "source": [
    "In question a) we worked out the effectiveness factor where $\\eta = 0.738$. In order to calculate $\\phi$, we use:\n",
    "\\begin{align}\n",
    "\\eta = \\dfrac{3}{\\phi_{1}^{2}}(\\phi_{1}coth\\phi_{1} - 1) \\nonumber\n",
    "\\end{align}"
   ]
  },
  {
   "cell_type": "code",
   "execution_count": 151,
   "metadata": {},
   "outputs": [],
   "source": [
    "phi = 3/eta400 #1st guess\n",
    "error = 0.1"
   ]
  },
  {
   "cell_type": "code",
   "execution_count": 152,
   "metadata": {},
   "outputs": [],
   "source": [
    "while error >= 0.0000000001:\n",
    "    phinew  = ((3/eta400)*((phi/tanh(phi)) - 1))**0.5\n",
    "    error    = abs(phi - phinew)\n",
    "    phi      = phinew"
   ]
  },
  {
   "cell_type": "code",
   "execution_count": 153,
   "metadata": {},
   "outputs": [
    {
     "name": "stdout",
     "output_type": "stream",
     "text": [
      "2.48725078247475\n"
     ]
    }
   ],
   "source": [
    "phi400 = phi\n",
    "print(str(phi400))"
   ]
  },
  {
   "cell_type": "markdown",
   "metadata": {},
   "source": [
    "We know that where $\\phi_{1} > 20$, the reaction is in the internal diffusion limited regime. We use this knowledge to calculate the temperature. Both real and apparent rates will share that same temperature."
   ]
  },
  {
   "cell_type": "markdown",
   "metadata": {},
   "source": [
    "From the Thiele equation:\n",
    "\\begin{align}\n",
    "\\dfrac{\\phi_{1}^{2})_{1}}{\\phi_{1}^{2})_{2}} &= \\dfrac{k_{1}^{'})}{k_{2}^{'})} \\nonumber\n",
    "\\end{align}"
   ]
  },
  {
   "cell_type": "code",
   "execution_count": 154,
   "metadata": {},
   "outputs": [
    {
     "data": {
      "text/plain": [
       "0.0005184100706903991"
      ]
     },
     "execution_count": 154,
     "metadata": {},
     "output_type": "execute_result"
    }
   ],
   "source": [
    "phi20  = 20\n",
    "kprm20 = kprm400*(phi20/phi400)**2\n",
    "kprm20"
   ]
  },
  {
   "cell_type": "markdown",
   "metadata": {},
   "source": [
    "From the Arrhenius equation:\n",
    "\\begin{align}\n",
    "k_{i}^{'} &= k_{0}^{'}e^{\\left(\\dfrac{-E_{a}}{RT} \\right)} \\nonumber \\\\\n",
    "ln\\left(\\dfrac{k_{0}^{'}}{k_{i}^{'}}\\right) &= \\left(\\dfrac{E_{a}}{RT} \\right) \\nonumber \\\\\n",
    "T &= ln\\left(\\dfrac{k_{0}^{'}}{k_{i}^{'}}\\right)^{-1}\\left(\\dfrac{E_{a}}{R} \\right) \\nonumber\n",
    "\\end{align}"
   ]
  },
  {
   "cell_type": "code",
   "execution_count": 155,
   "metadata": {},
   "outputs": [
    {
     "data": {
      "text/plain": [
       "1283.8984962578809"
      ]
     },
     "execution_count": 155,
     "metadata": {},
     "output_type": "execute_result"
    }
   ],
   "source": [
    "y = 1/log(koprm/kprm20)\n",
    "z = Ea/R\n",
    "T = y*z\n",
    "T"
   ]
  },
  {
   "cell_type": "code",
   "execution_count": 156,
   "metadata": {},
   "outputs": [
    {
     "name": "stdout",
     "output_type": "stream",
     "text": [
      "IMLR is assumed above 1283.8984962578809 K\n"
     ]
    }
   ],
   "source": [
    "print('IMLR is assumed above '+str(T)+' K')"
   ]
  }
 ],
 "metadata": {
  "kernelspec": {
   "display_name": "Python 3",
   "language": "python",
   "name": "python3"
  },
  "language_info": {
   "codemirror_mode": {
    "name": "ipython",
    "version": 3
   },
   "file_extension": ".py",
   "mimetype": "text/x-python",
   "name": "python",
   "nbconvert_exporter": "python",
   "pygments_lexer": "ipython3",
   "version": "3.7.3"
  }
 },
 "nbformat": 4,
 "nbformat_minor": 2
}
