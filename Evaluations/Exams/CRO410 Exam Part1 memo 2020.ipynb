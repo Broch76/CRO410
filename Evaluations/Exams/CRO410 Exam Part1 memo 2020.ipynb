{
 "cells": [
  {
   "cell_type": "code",
   "execution_count": 32,
   "metadata": {},
   "outputs": [],
   "source": [
    "from numpy import *\n",
    "from scipy.optimize import fsolve\n",
    "from scipy.integrate import odeint\n",
    "from matplotlib import pyplot as plt\n",
    "from scipy.interpolate import interp1d\n",
    "%matplotlib inline"
   ]
  },
  {
   "cell_type": "markdown",
   "metadata": {},
   "source": [
    "**Scenario Description**"
   ]
  },
  {
   "cell_type": "markdown",
   "metadata": {},
   "source": [
    "The elementary reversible liquid phase isomerisation reaction is studied. Pure A, at the inlet conditions as specified in the table below, must be processed in a steady state flow reactor:\n",
    "$$A \\leftrightharpoons B$$\n",
    "Some kinetic and thermodynamic data on the reaction are also given in the table below:"
   ]
  },
  {
   "cell_type": "markdown",
   "metadata": {},
   "source": [
    "<img src=\"CRO410Exam1a.JPG\" width=\"550\" />"
   ]
  },
  {
   "cell_type": "code",
   "execution_count": 33,
   "metadata": {},
   "outputs": [],
   "source": [
    "Q     =    1e-3 #m3/s\n",
    "FAo   =     0.1 #mol/s\n",
    "CAo   =   FAo/Q #mol/m3\n",
    "CBo   =       0 #mol/m3 \n",
    "To    =     400 #K\n",
    "k1    = 1.67e-3 #1/s at 400K\n",
    "Ea    =   80000 #J/mol\n",
    "CpA   =     120 #J/mol.K\n",
    "CpB   =     CpA\n",
    "dHref = -100000 #J/mol\n",
    "kcref =     100 #at 400K\n",
    "k2    =k1/kcref #at 400K\n",
    "R     =   8.314"
   ]
  },
  {
   "cell_type": "markdown",
   "metadata": {},
   "source": [
    "1. NBNBNB Declare that this is your own work. Please read the declaration provided in the test canvas and confirm whether it is TRUE/FALSE "
   ]
  },
  {
   "cell_type": "markdown",
   "metadata": {},
   "source": [
    "**2. What is the maximum possible conversion that can be achieved in any type of adiabatic reactor given the inlet conditions of this system? Give answer as a percentage and round to three significant numbers (e.g. 12.3)** [5]"
   ]
  },
  {
   "cell_type": "markdown",
   "metadata": {},
   "source": [
    "**For $A \\rightleftharpoons B$, the rate equation:**\n",
    "\\begin{align}\n",
    "r_{A} &= -k_{i}C_{A} + k_{j}C_{B} \\nonumber \\\\\n",
    "0 &= -k_{i}C_{A_{eq}} + k_{j}C_{B_{eq}}\\nonumber \\\\\n",
    "k_{i}C_{A_{eq}} &= k_{j}C_{B_{eq}}\\nonumber \\\\\n",
    "\\therefore K_{c} &= \\dfrac{k_{i}}{k_{j}} = \\dfrac{C_{B_{eq}}}{C_{A_{eq}}} \\nonumber \\\\\n",
    "and\\ k_{j} &= \\dfrac{k_{i}}{K_{c}} \\nonumber \\\\\n",
    "\\therefore -r_{A} &= k_{i}\\left( C_{A} - \\dfrac{C_{B}}{K_{c}} \\right) \\nonumber \\\\\n",
    "C_{A} &= C_{A_{0}}(1 - X_{eq})  \\nonumber \\\\\n",
    "C_{B} &= C_{A_{0}}X_{eq}  \\nonumber \n",
    "\\end{align}\n",
    "**At equilibrium**:\n",
    "\\begin{align}\n",
    "0 &= C_{A_{0}}(1 - X_{eq}) - \\dfrac{C_{A_{0}}X_{eq}}{K_{c}} \\nonumber \\\\\n",
    "1 - X_{eq} &=  \\dfrac{X_{eq}}{K_{c}} \\nonumber \\\\\n",
    "1 &= X_{eq}\\left(\\dfrac{1 + K_{c}}{K_{c}} \\right) \\nonumber \\\\\n",
    "X_{eq} = \\dfrac{K_{c}}{1 + K_{c}} \\nonumber\n",
    "\\end{align}"
   ]
  },
  {
   "cell_type": "markdown",
   "metadata": {},
   "source": [
    "**For equilibrium:**\n",
    "\\begin{align}\n",
    "K_{c} &= \\dfrac{C_{B_{eq}}}{C_{A_{eq}}} \\nonumber \n",
    "\\end{align}\n",
    "**Gibbs free energy:**\n",
    "\\begin{align}\n",
    "\\Delta G^{\\Theta} &= \\Delta H^{\\Theta} - T\\Delta S^{\\Theta} \\nonumber \\\\\n",
    "\\Delta G^{\\Theta} &= -RTln(K_{c}) \\nonumber \\\\\n",
    "\\therefore ln(K_{c}) &= \\Delta H^{\\Theta} - T\\Delta S^{\\Theta} \\nonumber \\\\\n",
    "ln(K_{c}) &= \\dfrac{-\\Delta H^{\\Theta}}{RT} + \\dfrac{S^{\\Theta}}{R} \\nonumber\n",
    "\\end{align}\n",
    "**Van't Hoff Equation can thus be defined from above:**\n",
    "\\begin{align}\n",
    "ln(K_{c_{2}}) - ln(K_{c_{1}})&= \\dfrac{-\\Delta H^{\\Theta}}{RT_{2}} + \\dfrac{S^{\\Theta}}{R} - \\dfrac{-\\Delta H^{\\Theta}}{RT_{1}} - \\dfrac{S^{\\Theta}}{R} \\nonumber \\\\\n",
    "ln(\\dfrac{K_{c_{2}}}{K_{c_{1}}})&= \\dfrac{-\\Delta H^{\\Theta}}{R}\\left(\\dfrac{1}{T_{2}} - \\dfrac{1}{T_{1}} \\right)  \\nonumber\n",
    "\\end{align}\n",
    "**Therefore, for this problem:**\n",
    "\\begin{align}\n",
    "ln(\\dfrac{K_{c}}{K_{c_{ref}}})&= \\dfrac{-\\Delta H_{RX}}{R}\\left(\\dfrac{1}{T} - \\dfrac{1}{T_{ref}} \\right)  \\nonumber \\\\\n",
    "K_{c} &= K_{c_{ref}}e^{\\dfrac{-\\Delta H_{RX}}{R}\\left(\\dfrac{1}{T} - \\dfrac{1}{T_{ref}} \\right)}  \\nonumber \n",
    "\\end{align}"
   ]
  },
  {
   "cell_type": "markdown",
   "metadata": {},
   "source": [
    "**Energy balance equation:**\n",
    "\\begin{align}\n",
    "T &= T_{0} + \\dfrac{-\\Delta H_{RX}}{C_{p_{A}}}X_{eq} \\nonumber \n",
    "\\end{align}"
   ]
  },
  {
   "cell_type": "code",
   "execution_count": 34,
   "metadata": {},
   "outputs": [],
   "source": [
    "def Q2(Xeq):\n",
    "    T = To + (-dHref/CpA)*Xeq\n",
    "    Kc = kcref*exp((-dHref/R)*((1/T)-(1/To))) #Van't Hoff\n",
    "    eq1 = Xeq - Kc/(1 + Kc)\n",
    "    return (eq1)"
   ]
  },
  {
   "cell_type": "code",
   "execution_count": 35,
   "metadata": {},
   "outputs": [
    {
     "data": {
      "text/plain": [
       "array([0.1320619])"
      ]
     },
     "execution_count": 35,
     "metadata": {},
     "output_type": "execute_result"
    }
   ],
   "source": [
    "guess = [0.5]\n",
    "\n",
    "ans = fsolve(Q2,guess)\n",
    "ans"
   ]
  },
  {
   "cell_type": "code",
   "execution_count": 36,
   "metadata": {},
   "outputs": [
    {
     "name": "stdout",
     "output_type": "stream",
     "text": [
      "Max Conversion= 13.206189529419332 %\n"
     ]
    }
   ],
   "source": [
    "print('Max Conversion= '+str(ans[0]*100)+' %')"
   ]
  },
  {
   "cell_type": "markdown",
   "metadata": {},
   "source": [
    "**3. A CSTR with a volume of $V_{CSTR} = 0.01~m^{3}$ is available. What is the maximum possible conversion of A that can be achieved in this CSTR? (operating temperature can be selected – so not restricted to adiabatic operation). Give answer as a percentage and round to three significant numbers (e.g. 12.3)** [5]"
   ]
  },
  {
   "cell_type": "code",
   "execution_count": 37,
   "metadata": {},
   "outputs": [],
   "source": [
    "V3 = 0.01 #m3 "
   ]
  },
  {
   "cell_type": "markdown",
   "metadata": {},
   "source": [
    "CSTR mole balance:\n",
    "\\begin{align}\n",
    "F_{A_{0}} - F_{A} + r_{A}V &= 0 \\nonumber \\\\\n",
    "F_{A_{0}} - F_{A_{0}}(1 - X_{A}) &= -r_{A}V \\nonumber \\\\\n",
    "F_{A_{0}}X_{A} &= -r_{A}V \\nonumber \\\\\n",
    "r_{A} &= \\dfrac{-F_{A_{0}}X_{A}}{V} \\nonumber \n",
    "\\end{align}\n",
    "Rate equation:\n",
    "\\begin{align}\n",
    "r_{A} &= -k_{1}\\left( C_{A} - \\dfrac{C_{B}}{K_{c}} \\right) \\nonumber \\\\\n",
    "r_{A} &= -k_{1}\\left[ C_{A_{0}}(1 - X) - \\dfrac{C_{A_{0}}X}{K_{c}} \\right] \\nonumber \\\\\n",
    "\\dfrac{-F_{A_{0}}X}{V} &= -k_{1}\\left[ C_{A_{0}}(1 - X) - \\dfrac{C_{A_{0}}X}{K_{c}} \\right] \\nonumber \\\\\n",
    "\\dfrac{C_{A_{0}}QX}{V} &= k_{1}C_{A_{0}}\\left[1 - X - \\dfrac{X}{K_{c}} \\right] \\nonumber \\\\\n",
    "\\dfrac{QX}{V} &= k_{1}\\left[1 - \\dfrac{X(K_{c} + 1)}{K_{c}} \\right] \\nonumber \\\\\n",
    "X\\left[\\dfrac{Q}{V} + \\dfrac{k_{1}(K_{c} + 1)}{K_{c}} \\right] &= K_{1} \\nonumber \\\\\n",
    "X\\left[\\dfrac{QK_{c} + k_{1}V(K_{c} + 1)}{K_{c}V} \\right] &= K_{1} \\nonumber \\\\\n",
    "X &= k_{1}\\left[\\dfrac{K_{c}V}{QK_{c} + k_{1}V(K_{c} + 1)} \\right] \\nonumber \\\\\n",
    "X &= \\left[\\dfrac{k_{1}K_{c}V}{QK_{c} + k_{1}VK_{c} + k_{1}V} \\right] \\times \\dfrac{1/(QK_{c})}{1/(QK_{c})} \\nonumber \\\\\n",
    "X &= \\left[\\dfrac{k_{1}\\dfrac{V}{Q}}{1 + k_{1}\\dfrac{V}{Q} + \\dfrac{k_{1}}{K_{c}}\\dfrac{V}{Q}} \\right] \\nonumber \n",
    "\\end{align}\n"
   ]
  },
  {
   "cell_type": "markdown",
   "metadata": {},
   "source": [
    "*The temperature is now varied (different operating temperatures, and the conversion is set as a function of temperature. This will show if there is an optimal temperature where the conversion is at it's maximum. Van't Hoff is again used to vary the equilibrium constant, $K_{c}$*"
   ]
  },
  {
   "cell_type": "code",
   "execution_count": 38,
   "metadata": {},
   "outputs": [
    {
     "data": {
      "text/plain": [
       "1233.3333333333335"
      ]
     },
     "execution_count": 38,
     "metadata": {},
     "output_type": "execute_result"
    }
   ],
   "source": [
    "Tmax = To + (-dHref/CpA)\n",
    "Tmax"
   ]
  },
  {
   "cell_type": "code",
   "execution_count": 39,
   "metadata": {},
   "outputs": [],
   "source": [
    "tspan = linspace(To, Tmax, 1000)\n",
    "ko = k1*exp(Ea/(R*To))\n",
    "kt = ko*exp(-Ea/(R*tspan))\n",
    "Kc = kcref*exp((-dHref/R)*((1/tspan)-(1/To)))"
   ]
  },
  {
   "cell_type": "code",
   "execution_count": 40,
   "metadata": {},
   "outputs": [],
   "source": [
    "a = kt*V3/Q\n",
    "b = 1 + kt*V3/Q + kt*V3/(Kc*Q)\n",
    "X3 = a/b"
   ]
  },
  {
   "cell_type": "code",
   "execution_count": 41,
   "metadata": {},
   "outputs": [
    {
     "data": {
      "image/png": "[encoded data removed]",
      "text/plain": [
       "<Figure size 432x288 with 1 Axes>"
      ]
     },
     "metadata": {
      "needs_background": "light"
     },
     "output_type": "display_data"
    }
   ],
   "source": [
    "plt.figure(1)\n",
    "plt.plot(tspan, X3, color='blue')\n",
    "plt.title('Equilibrium Conversion vs Temperature')\n",
    "plt.ylabel('Conversion [Xeq]') \n",
    "plt.xlabel('Temperature [K]') \n",
    "plt.show()"
   ]
  },
  {
   "cell_type": "code",
   "execution_count": 42,
   "metadata": {},
   "outputs": [
    {
     "name": "stdout",
     "output_type": "stream",
     "text": [
      "Max conversion= 28.62340423653133%\n"
     ]
    }
   ],
   "source": [
    "Xmax = max(X3)\n",
    "print('Max conversion= '+str(Xmax*100)+'%')"
   ]
  },
  {
   "cell_type": "markdown",
   "metadata": {},
   "source": [
    "________________________________________________________"
   ]
  },
  {
   "cell_type": "markdown",
   "metadata": {},
   "source": [
    "**4. Would it be possible to achieve this conversion (calculated in 3), if the CSTR is operated adiabatically and you have the option of increasing or decreasing the reactor inlet temperature? Comment on the practicality of this  approach. Submit your answer (YES/NO) as WELL as your explanation and comments in the essay block provided. You may support your answer by illustrations or images in your pdf document uploaded in 6 and/or 7 – refer to them in the text box** [4]"
   ]
  },
  {
   "cell_type": "markdown",
   "metadata": {},
   "source": [
    "*From theory we know that an adiabatic reactor (without any utility power) provides a straight line relationship between conversion and temperature. In the previous question, we already produced a graph to show the conversion as a function of temperature where the reactor operating temperature is allowed to vary. So now, if we superimpose both graphs - if the intersect, then we know that the same conversion is possible in both cases, viz-a-viz, adiabatic or non-adiabatic conditions *"
   ]
  },
  {
   "cell_type": "markdown",
   "metadata": {},
   "source": [
    "The adiabatic energy balance equation\n",
    "\\begin{align}\n",
    "T &= T_{0} + \\dfrac{(-\\Delta H_{RX_{j}})(F_{A_{0}}/a)}{\\Sigma_{i}F_{i_{0}}C_{p_{i}}}X_{eq} \\nonumber\n",
    "\\end{align}\n",
    "is expressed now in terms of conversion:\n",
    "\\begin{align}\n",
    "X_{eq} &= -\\dfrac{\\Sigma_{i}F_{i_{0}}C_{p_{i}}}{\\Delta H_{RX_{j}}(F_{A_{0}}/a)}T + \\dfrac{\\Sigma_{i}F_{i_{0}}C_{p_{i}}T_{0}}{\\Delta H_{RX_{j}}(F_{A_{0}}/a)} \\nonumber \\\\\n",
    "X_{eq} &= -\\dfrac{C_{p_{A}}}{\\Delta H_{RX}}T + \\dfrac{C_{p_{A}}T_{0}}{\\Delta H_{RX}} \\nonumber \\\\\n",
    "y &= mx + c \\nonumber\n",
    "\\end{align}"
   ]
  },
  {
   "cell_type": "code",
   "execution_count": 43,
   "metadata": {},
   "outputs": [],
   "source": [
    "m = -CpA/dHref\n",
    "c =  CpA*To/dHref\n",
    "X4 = m*tspan + c"
   ]
  },
  {
   "cell_type": "code",
   "execution_count": 44,
   "metadata": {},
   "outputs": [
    {
     "data": {
      "image/png": "[encoded data removed]",
      "text/plain": [
       "<Figure size 432x288 with 1 Axes>"
      ]
     },
     "metadata": {
      "needs_background": "light"
     },
     "output_type": "display_data"
    }
   ],
   "source": [
    "plt.figure(2)\n",
    "plt.plot(tspan, X3, color='blue')\n",
    "plt.plot(tspan, X4, color='red')\n",
    "plt.axis([350, 600,0.0,0.4])\n",
    "plt.title('Equilibrium Conversion vs Temperature')\n",
    "plt.ylabel('Conversion [Xeq]') \n",
    "plt.xlabel('Temperature [K]') \n",
    "plt.show()"
   ]
  },
  {
   "cell_type": "markdown",
   "metadata": {},
   "source": [
    "The above graph shows that with the inlet temperature, it is not possible to get the same maximum conversion where operating temperature is allowes to be chosen. This would be possible if the inlet temperature is cooled, thereby shifting the straight line left."
   ]
  },
  {
   "cell_type": "code",
   "execution_count": 45,
   "metadata": {},
   "outputs": [],
   "source": [
    "Tin = 235 #vary this to shift the straight line\n",
    "tspan1 = linspace(200, 600, 1000)\n",
    "d =  CpA*Tin/dHref\n",
    "X4cooled = m*tspan1 + d"
   ]
  },
  {
   "cell_type": "code",
   "execution_count": 46,
   "metadata": {},
   "outputs": [
    {
     "data": {
      "image/png": "[encoded data removed]",
      "text/plain": [
       "<Figure size 432x288 with 1 Axes>"
      ]
     },
     "metadata": {
      "needs_background": "light"
     },
     "output_type": "display_data"
    }
   ],
   "source": [
    "plt.figure(3)\n",
    "plt.plot(tspan, X3, color='blue')\n",
    "plt.plot(tspan1, X4cooled, color='red')\n",
    "plt.axis([200, 600,0.0,0.4])\n",
    "plt.title('Equilibrium Conversion vs Temperature')\n",
    "plt.ylabel('Conversion [Xeq]') \n",
    "plt.xlabel('Temperature [K]') \n",
    "plt.show()"
   ]
  },
  {
   "cell_type": "markdown",
   "metadata": {},
   "source": [
    "-------------------------------------------------------------------"
   ]
  },
  {
   "cell_type": "markdown",
   "metadata": {},
   "source": [
    "**5. The CSTR is now supplied with a heating/cooling jacket such that $UA = 240~W/K$. Specify the utility temperature $T_{U}$ that must be used in order to achieve the maximum possible conversion you calculated in the reactor if the inlet temperature is kept at $T_{0} = 400~K$. Give answer in $K$ and round to a whole number (i.e. 321)** [4]"
   ]
  },
  {
   "cell_type": "markdown",
   "metadata": {},
   "source": [
    "From the CSTR mole balance and rate equation in Q3:\n",
    "\\begin{align}\n",
    "X_{eq} &= \\left[\\dfrac{k_{1}\\dfrac{V}{Q}}{1 + k_{1}\\dfrac{V}{Q} + \\dfrac{k_{1}}{K_{c}}\\dfrac{V}{Q}} \\right] \\nonumber \n",
    "\\end{align}\n",
    "where \n",
    "\n",
    "\\begin{align}\n",
    "k_{1} &= k_{0}e^{-Ea/RT} \\nonumber\n",
    "\\end{align}\n",
    "\n",
    "and \n",
    "\n",
    "\\begin{align}\n",
    "K_{c} &= K_{c_{ref}}e^{\\dfrac{-\\Delta H_{RX}}{R}\\left(\\dfrac{1}{T} - \\dfrac{1}{T_{ref}} \\right)}  \\nonumber \n",
    "\\end{align}"
   ]
  },
  {
   "cell_type": "markdown",
   "metadata": {},
   "source": [
    "The energy balance for a non-adiabatic CSTR:\n",
    "\\begin{align}\n",
    "T = -\\dfrac{F_{A_{0}}\\Delta H_{RX_{j}}^{\\circ}}{F_{A_{0}}C_{p_{A}} + UA}X_{eq} + \\dfrac{UAT_{U} + F_{A_{0}}C_{p_{A}}T_{0}}{F_{A_{0}}C_{p_{A}} + UA} \\nonumber \\\\\n",
    "\\end{align}"
   ]
  },
  {
   "cell_type": "code",
   "execution_count": 47,
   "metadata": {},
   "outputs": [],
   "source": [
    "UA         = 240 #W/K\n",
    "Tuspan     = linspace(200, 700, 100)\n",
    "Conversion = []\n",
    "Topt       = []"
   ]
  },
  {
   "cell_type": "code",
   "execution_count": 48,
   "metadata": {},
   "outputs": [],
   "source": [
    "for vals in Tuspan:\n",
    "    Tu    = vals\n",
    "    X5    = 0.5 #guess\n",
    "    error = 0.1\n",
    "    \n",
    "    while error >= 0.0000000001:\n",
    "        M    = -FAo*dHref/(FAo*CpA + UA)\n",
    "        C    = (UA*Tu + FAo*CpA*To )/(FAo*CpA + UA)\n",
    "        Tnew = M*X5 + C\n",
    "        knew = ko*exp(-Ea/(R*Tnew))\n",
    "        Kc   = kcref*exp((-dHref/R)*((1/Tnew)-(1/To)))\n",
    "        a    = knew*V3/Q\n",
    "        b    = 1 + knew*V3/Q + knew*V3/(Kc*Q)\n",
    "        Xnew = a/b\n",
    "        error= abs(X5 - Xnew)\n",
    "        X5   = Xnew\n",
    "        \n",
    "    Conversion.append(X5)\n",
    "    Topt.append(Tnew)"
   ]
  },
  {
   "cell_type": "code",
   "execution_count": 49,
   "metadata": {},
   "outputs": [
    {
     "data": {
      "image/png": "[encoded data removed]",
      "text/plain": [
       "<Figure size 432x288 with 1 Axes>"
      ]
     },
     "metadata": {
      "needs_background": "light"
     },
     "output_type": "display_data"
    }
   ],
   "source": [
    "plt.figure(4)\n",
    "plt.plot(Tuspan, Conversion, color='blue')\n",
    "#plt.axis([200, 600,0.0,0.4])\n",
    "plt.title('Equilibrium Conversion vs Utility Temperature')\n",
    "plt.ylabel('Conversion [%]') \n",
    "plt.xlabel('Utility Temperature [K]') \n",
    "plt.show()"
   ]
  },
  {
   "cell_type": "code",
   "execution_count": 50,
   "metadata": {},
   "outputs": [
    {
     "data": {
      "text/plain": [
       "0.2862340423653133"
      ]
     },
     "execution_count": 50,
     "metadata": {},
     "output_type": "execute_result"
    }
   ],
   "source": [
    "Xmax5 = max(Conversion)\n",
    "Xmax"
   ]
  },
  {
   "cell_type": "code",
   "execution_count": 51,
   "metadata": {},
   "outputs": [
    {
     "data": {
      "text/plain": [
       "467.67676767676767"
      ]
     },
     "execution_count": 51,
     "metadata": {},
     "output_type": "execute_result"
    }
   ],
   "source": [
    "i  = argmax(Conversion==max(Conversion))\n",
    "Tu_opt = Tuspan[i]\n",
    "Tu_opt"
   ]
  },
  {
   "cell_type": "code",
   "execution_count": 52,
   "metadata": {},
   "outputs": [
    {
     "data": {
      "image/png": "[encoded data removed]",
      "text/plain": [
       "<Figure size 432x288 with 1 Axes>"
      ]
     },
     "metadata": {
      "needs_background": "light"
     },
     "output_type": "display_data"
    }
   ],
   "source": [
    "plt.figure(5)\n",
    "plt.plot(Topt, Conversion, color='red')\n",
    "#plt.axis([200, 600,0.0,0.4])\n",
    "plt.title('Equilibrium Conversion vs Operating Temperature')\n",
    "plt.ylabel('Conversion [%]') \n",
    "plt.xlabel('Operating Temperature [K]') \n",
    "plt.show()"
   ]
  },
  {
   "cell_type": "code",
   "execution_count": 53,
   "metadata": {},
   "outputs": [
    {
     "data": {
      "text/plain": [
       "475.7906919590619"
      ]
     },
     "execution_count": 53,
     "metadata": {},
     "output_type": "execute_result"
    }
   ],
   "source": [
    "Tbest = Topt[i]\n",
    "Tbest"
   ]
  },
  {
   "cell_type": "markdown",
   "metadata": {},
   "source": [
    "The maximum conversion is $28.6~\\%$ at the optimal utility temperature of $467.7~K$ and an operating temperature of $475.8~K$"
   ]
  },
  {
   "cell_type": "markdown",
   "metadata": {},
   "source": [
    "-------------------------------------------------------------------"
   ]
  },
  {
   "cell_type": "markdown",
   "metadata": {},
   "source": [
    "**6. Assume that $32~\\%$ conversion of A is achieved in the CSTR reactor (not the correct answer but use this value for calculations in Question 6 and Question 7) The outlet from the CSTR is now cooled to a temperature of $350~K$ in a heat exchanger where no reaction takes place. This cooled stream is fed to an adiabatic PFR. Specify the volume of that PFR if the\n",
    "OVERALL conversion of A that must be achieved in this two-reactor system must be $45~\\%$. Give answer in units of $m^{3}$ and round to 3 significant numbers (i.e. 0.123 or 1.23)** [5]"
   ]
  },
  {
   "cell_type": "code",
   "execution_count": 54,
   "metadata": {},
   "outputs": [],
   "source": [
    "Xcstr  = 0.32 #X6 = 0.45 overall\n",
    "Topfr  = 350 #K\n",
    "CAcstr = CAo*(1 - Xcstr)\n",
    "CAopfr = CAcstr\n",
    "CApfr  = CAo*(1 - 0.45)\n",
    "CBopfr = CAo*Xcstr"
   ]
  },
  {
   "cell_type": "code",
   "execution_count": 55,
   "metadata": {},
   "outputs": [
    {
     "data": {
      "text/plain": [
       "0.1911764705882352"
      ]
     },
     "execution_count": 55,
     "metadata": {},
     "output_type": "execute_result"
    }
   ],
   "source": [
    "Xpfr = (CAopfr - CApfr)/CAopfr\n",
    "Xpfr"
   ]
  },
  {
   "cell_type": "code",
   "execution_count": 56,
   "metadata": {},
   "outputs": [],
   "source": [
    "FAin = CAopfr*Q\n",
    "FBin = CBopfr*Q"
   ]
  },
  {
   "cell_type": "markdown",
   "metadata": {},
   "source": [
    "From the PFR mole balance and rate equation:\n",
    "\\begin{align}\n",
    "\\dfrac{dF_{A}}{dV} &= r_{A} \\nonumber \\\\\n",
    "-F_{A_{0}}\\dfrac{dX}{dV} &= -k_{1}\\left[ C_{A_{0}}(1 - X) - \\dfrac{C_{A_{0}}X}{K_{c}} \\right] \\nonumber \\\\\n",
    "-QC_{A_{0}}\\dfrac{dX}{dV} &= -k_{1}C_{A_{0}}\\left[1 - \\dfrac{X(K_{c} + 1)}{K_{c}} \\right] \\nonumber \\\\\n",
    "let\\ a&= \\dfrac{(K_{c} + 1)}{K_{c}} \\nonumber \\\\\n",
    "\\therefore \\dfrac{Q}{k_{1}}\\dfrac{dX}{dV} &= 1 - aX \\nonumber \\\\\n",
    "\\dfrac{Q}{k_{1}}\\int^{X_{PFR}}_{0}\\dfrac{dX}{1-aX}&= V \\nonumber \\\\\n",
    "V &= -\\dfrac{Q}{k_{1}}\\dfrac{1}{a}\\ln(1-aX_{PFR}) \\nonumber\n",
    "\\end{align}"
   ]
  },
  {
   "cell_type": "markdown",
   "metadata": {},
   "source": [
    "The above is incorrect because $K_{c}$ varies with temperature. So an odeint route needs to be taken."
   ]
  },
  {
   "cell_type": "markdown",
   "metadata": {},
   "source": [
    "Approach: and odeint command will be used whereby the maximum volume will be changed until the conversion equals what was calculated above."
   ]
  },
  {
   "cell_type": "code",
   "execution_count": 57,
   "metadata": {},
   "outputs": [],
   "source": [
    "def Q6(var,V):\n",
    "    FA, FB, T = var\n",
    "    CA = FA/Q\n",
    "    CB = FB/Q\n",
    "    #X6    = (CAopfr - CA)/CAopfr\n",
    "    #T6    = Topfr + (-dHref/CpA)*X6\n",
    "    ki    = ko*exp(-Ea/(R*T))\n",
    "    Kc6   = kcref*exp((-dHref/R)*((1/T)-(1/To)))\n",
    "    rA    = -ki*(CA - CB/Kc6)\n",
    "    rB    = -rA\n",
    "    dFAdV = rA\n",
    "    dFBdV = rB\n",
    "    #dTdV  = rA*dHref/(FAo*CpA) #USE THE VERY INITIAL FAo, BUT WHY? See explanation below\n",
    "    dTdV  = rA*dHref/(FAin*CpA + FBin*CpB)\n",
    "    return dFAdV,dFBdV,dTdV    "
   ]
  },
  {
   "cell_type": "code",
   "execution_count": 58,
   "metadata": {},
   "outputs": [
    {
     "data": {
      "text/plain": [
       "0.1911764705882352"
      ]
     },
     "execution_count": 58,
     "metadata": {},
     "output_type": "execute_result"
    }
   ],
   "source": [
    "Xpfr\n",
    "#Topfr"
   ]
  },
  {
   "cell_type": "code",
   "execution_count": 59,
   "metadata": {},
   "outputs": [
    {
     "data": {
      "text/plain": [
       "0.19113051932103167"
      ]
     },
     "execution_count": 59,
     "metadata": {},
     "output_type": "execute_result"
    }
   ],
   "source": [
    "V = 0.46483 #m3  Keep changing until conversion for PFR = Xpfr\n",
    "vspan6 = linspace(0,V,1000)\n",
    "init = [FAin,FBin,Topfr]\n",
    "sols = odeint(Q6,init,vspan6)\n",
    "\n",
    "FA,FB,T6 = sols.T\n",
    "\n",
    "Xpfr6 = (FAin - FA[-1])/FAin\n",
    "Xpfr6"
   ]
  },
  {
   "cell_type": "markdown",
   "metadata": {},
   "source": [
    "For an adiabatic PFR, doing an energy balance over $dV$ without using $X_{eq}$\n",
    "\\begin{align}\n",
    "0 &= \\Sigma_{i} F_{i,0}C_{p_{i}}\\dfrac{dT}{dV} + \\dfrac{d\\dot{\\epsilon}}{dV}\\Delta H_{RX_{j}} \\nonumber \n",
    "\\end{align}\n",
    "where\n",
    "\\begin{align}\n",
    "\\dfrac{d\\dot{\\epsilon}}{dV} &= -\\dfrac{\\dfrac{1}{\\nu_{A}}dF_{A}}{dV} \\nonumber \\\\\n",
    "&= -\\dfrac{1}{\\nu_{A}}\\dfrac{dF_{A}}{dV} \\nonumber \\\\\n",
    "&= -\\dfrac{dF_{A}}{dV} \\nonumber \\\\\n",
    "&= -rA\n",
    "\\end{align}\n",
    "$\\nu_{A}=1$ in this reaction, and negative sign to indicate depletion"
   ]
  },
  {
   "cell_type": "markdown",
   "metadata": {},
   "source": [
    "So the energy balance for this reversible, adiabatic PFR reaction becomes\n",
    "\\begin{align}\n",
    "0 &= (FA_{in}C_{p_{A}} + FB_{in}C_{p_{B}})\\dfrac{dT}{dV} - r_{A}\\Delta H_{RX} \\nonumber \\\\\n",
    "\\dfrac{dT}{dV} &= \\dfrac{r_{A}\\Delta H_{RX}}{(FA_{in}C_{p_{A}} + FB_{in}C_{p_{B}})} \\nonumber\n",
    "\\end{align}\n",
    "This is equivalent in this case to\n",
    "\\begin{align}\n",
    "\\dfrac{dT}{dV} &= \\dfrac{r_{A}\\Delta H_{RX}}{(FA_{0}C_{p_{A}})} \\nonumber\n",
    "\\end{align}\n",
    "as we are interested to include the entire energy-carrying capacity of the reactants into the reactors"
   ]
  },
  {
   "cell_type": "markdown",
   "metadata": {},
   "source": [
    "--------------------------------------------------------------------"
   ]
  },
  {
   "cell_type": "markdown",
   "metadata": {},
   "source": [
    "**7. What is the outlet temperature from this PFR reactor? Give answer in K and round to a whole number (e.g. 432)** [2]"
   ]
  },
  {
   "cell_type": "code",
   "execution_count": 61,
   "metadata": {},
   "outputs": [
    {
     "name": "stdout",
     "output_type": "stream",
     "text": [
      "PFR outlet Temp= 458.3072942819178K\n"
     ]
    }
   ],
   "source": [
    "print('PFR outlet Temp= '+str(T6[-1])+'K')"
   ]
  },
  {
   "cell_type": "code",
   "execution_count": null,
   "metadata": {},
   "outputs": [],
   "source": []
  }
 ],
 "metadata": {
  "kernelspec": {
   "display_name": "Python 3",
   "language": "python",
   "name": "python3"
  },
  "language_info": {
   "codemirror_mode": {
    "name": "ipython",
    "version": 3
   },
   "file_extension": ".py",
   "mimetype": "text/x-python",
   "name": "python",
   "nbconvert_exporter": "python",
   "pygments_lexer": "ipython3",
   "version": "3.7.3"
  }
 },
 "nbformat": 4,
 "nbformat_minor": 2
}
