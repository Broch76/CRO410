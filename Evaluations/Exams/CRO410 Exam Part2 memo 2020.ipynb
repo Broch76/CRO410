{
 "cells": [
  {
   "cell_type": "code",
   "execution_count": 3,
   "metadata": {},
   "outputs": [],
   "source": [
    "from numpy import *\n",
    "from scipy.optimize import fsolve\n",
    "from scipy.integrate import odeint\n",
    "from matplotlib import pyplot as plt\n",
    "from scipy.interpolate import interp1d\n",
    "%matplotlib inline"
   ]
  },
  {
   "cell_type": "markdown",
   "metadata": {},
   "source": [
    "**Scenario Description:**"
   ]
  },
  {
   "cell_type": "markdown",
   "metadata": {},
   "source": [
    "The catalysed $2^{nd}$ order irreversible liquid phase where $2A \\rightarrow B$, is studied in a CSTR reactor with a volume of $V = 8~m^{3}$. The concentration of the porous catalyst particles in the reactor is kept constant at $C_{cat} = 19.4~kg/m^{3}$ for all the different runs. The reactor is operated adiabatically. Other variables than may be assumed constant between the different runs are summarised in the table below:"
   ]
  },
  {
   "cell_type": "markdown",
   "metadata": {},
   "source": [
    "<img src=\"CRO410Exam2a.JPG\" width=\"550\" />"
   ]
  },
  {
   "cell_type": "markdown",
   "metadata": {},
   "source": [
    "Results on the steady state operating temperature $(T)$ of the reactor as well as the conversion of A $X_{A}$ are reported for different catalyst particle sizes and different stirrer speeds in the reactor:"
   ]
  },
  {
   "cell_type": "markdown",
   "metadata": {},
   "source": [
    "<img src=\"CRO410Exam2b.JPG\" width=\"550\" />"
   ]
  },
  {
   "cell_type": "markdown",
   "metadata": {},
   "source": [
    "1.NBNBNB Declare that this is your own work. Please read the declaration provided in the test canvas and confirm whether it is TRUE/FALSE"
   ]
  },
  {
   "cell_type": "code",
   "execution_count": 9,
   "metadata": {},
   "outputs": [],
   "source": [
    "V      =      8 #m3\n",
    "Ccat   =   19.4 #kg/m3\n",
    "Q      =   0.03 #m3/s\n",
    "CAo    =     25 #kmol/m3\n",
    "CBo    =      0 #kmol/m3\n",
    "To     =    350 #K\n",
    "CpA    =    140 #kJ/(kmol.K)\n",
    "rhocat =   2300 #kg/m3\n",
    "De     = 4.5e-9 #m2/s\n",
    "R      = 8.341 "
   ]
  },
  {
   "cell_type": "markdown",
   "metadata": {},
   "source": [
    "**2.Based on the results, can you conclude that all the runs are free of any external mass transfer effects? Explain your answer. Give your answer (Yes/No) followed by your explanation in the text box provided.** [3]"
   ]
  },
  {
   "cell_type": "markdown",
   "metadata": {},
   "source": [
    "NO - temperature effect must be taken into account. At smaller dps reactor operates at higher T's. At larger dp where mass transfer proven to be eliminated, operating T was lower. Not enough evidence for runs at higher T's and lower dps."
   ]
  },
  {
   "cell_type": "markdown",
   "metadata": {},
   "source": [
    "---------------------------------------------------------------------"
   ]
  },
  {
   "cell_type": "markdown",
   "metadata": {},
   "source": [
    "*Regardless of your answer in number 2, you may now assume that all the runs are free of\n",
    "external diffusion effects for Questions 3 and 4.*"
   ]
  },
  {
   "cell_type": "markdown",
   "metadata": {},
   "source": [
    "Above statement implies that $C_{A_{b}} = C_{A_{s}}$"
   ]
  },
  {
   "cell_type": "markdown",
   "metadata": {},
   "source": [
    "**3.What is the heat of reaction $\\Delta H_{RX}$ in units of $J/mol_{RX}$? Round to a whole number, accuracy $\\pm100~J/mol$** [4]"
   ]
  },
  {
   "cell_type": "markdown",
   "metadata": {},
   "source": [
    "The given reaction is $2A \\rightarrow B$, therefore $a=2$ (stoichiometric coefficient used in energy balance that follows)"
   ]
  },
  {
   "cell_type": "markdown",
   "metadata": {},
   "source": [
    "The energy balance for an adiabatic CSTR:\n",
    "\\begin{align}\n",
    "T &= T_{0} + \\dfrac{(-\\Delta H_{RX_{i}})(F_{A_{0}}/a)}{\\Sigma_{i}F_{i_{0}}C_{p_{i}}}X_{A} \\nonumber \\\\\n",
    "&= T_{0} + \\dfrac{(-\\Delta H_{RX_{i}})(QC_{A_{0}}/2)}{QC_{A_{0}}C_{p_{A}}}X_{A} \\nonumber \\\\\n",
    "&= T_{0} - \\dfrac{(\\Delta H_{RX})}{2C_{p_{A}}}X_{A} \\nonumber \\\\\n",
    "-\\dfrac{(\\Delta H_{RX})}{2C_{p_{A}}}X_{A} &= T - T_{0} \\nonumber \\\\\n",
    "\\Delta H_{RX} &= \\dfrac{2C_{p_{A}}}{X_{A}}(T_{0} - T) \\nonumber\n",
    "\\end{align}"
   ]
  },
  {
   "cell_type": "code",
   "execution_count": 7,
   "metadata": {},
   "outputs": [
    {
     "data": {
      "text/plain": [
       "-28000.000000000007"
      ]
     },
     "execution_count": 7,
     "metadata": {},
     "output_type": "execute_result"
    }
   ],
   "source": [
    "dHrx = 2*CpA*(To - 393.8)/0.438 #T and XA read of the 4th run on the table\n",
    "dHrx"
   ]
  },
  {
   "cell_type": "code",
   "execution_count": 8,
   "metadata": {},
   "outputs": [
    {
     "name": "stdout",
     "output_type": "stream",
     "text": [
      "The heat of reaction= -28000.000000000007 J.mol\n"
     ]
    }
   ],
   "source": [
    "print('The heat of reaction= '+str(dHrx)+' J.mol')"
   ]
  },
  {
   "cell_type": "markdown",
   "metadata": {},
   "source": [
    "---------------------------------------------------"
   ]
  },
  {
   "cell_type": "markdown",
   "metadata": {},
   "source": [
    "**4.What is the true activation energy of this reaction $(E)$ in units of $J/mol$? Round to a whole number (accuracy $ \\pm 500~J/mol$)**[8]"
   ]
  },
  {
   "cell_type": "code",
   "execution_count": 10,
   "metadata": {},
   "outputs": [],
   "source": [
    "from scipy.stats import linregress "
   ]
  },
  {
   "cell_type": "code",
   "execution_count": 16,
   "metadata": {},
   "outputs": [],
   "source": [
    "X4  = array([0.7, 0.568, 0.438])\n",
    "T4  = array([420.0, 406.8, 393.8]) #Kelvin\n",
    "dp4 = array([1/1000, 1.5/1000, 2/1000]) #m\n",
    "Rp4 = dp4/2\n",
    "CA  = CAo*(1 - X4)"
   ]
  },
  {
   "cell_type": "markdown",
   "metadata": {},
   "source": [
    "Mole balance:\n",
    "\\begin{align}\n",
    "F_{A_{0}} - F_{A} + r_{A}^{'}W &= 0 \\nonumber \\\\\n",
    "-r_{A}^{'}W &= F_{A_{0}}X_{A} \\nonumber \\\\\n",
    "r_{A}^{'} &= -\\dfrac{F_{A_{0}}X_{A}}{W}\\nonumber \n",
    "\\end{align}"
   ]
  },
  {
   "cell_type": "markdown",
   "metadata": {},
   "source": [
    "Where $W = VC_{cat}$"
   ]
  },
  {
   "cell_type": "code",
   "execution_count": 18,
   "metadata": {},
   "outputs": [
    {
     "data": {
      "text/plain": [
       "155.2"
      ]
     },
     "execution_count": 18,
     "metadata": {},
     "output_type": "execute_result"
    }
   ],
   "source": [
    "W = V*Ccat\n",
    "W"
   ]
  },
  {
   "cell_type": "code",
   "execution_count": 19,
   "metadata": {},
   "outputs": [
    {
     "data": {
      "text/plain": [
       "0.75"
      ]
     },
     "execution_count": 19,
     "metadata": {},
     "output_type": "execute_result"
    }
   ],
   "source": [
    "FAo = Q*CAo\n",
    "FAo"
   ]
  },
  {
   "cell_type": "code",
   "execution_count": 20,
   "metadata": {},
   "outputs": [
    {
     "data": {
      "text/plain": [
       "array([-0.00338273, -0.00274485, -0.00211662])"
      ]
     },
     "execution_count": 20,
     "metadata": {},
     "output_type": "execute_result"
    }
   ],
   "source": [
    "rAprime = -FAo*X4/W\n",
    "rAprime"
   ]
  },
  {
   "cell_type": "markdown",
   "metadata": {},
   "source": [
    "Before beginning the anaylsis, the operating regime for each run needs to be determined using the Weisz-Prater parameter:\n",
    "\\begin{align}\n",
    "C_{WP} &= \\dfrac{-r_{A_{measured}}^{'}\\rho_{c}R^{2}}{D_{e}C_{A_{s}}} \\nonumber\n",
    "\\end{align}"
   ]
  },
  {
   "cell_type": "markdown",
   "metadata": {},
   "source": [
    "$C_{A_{s}} = C_{A_{b}} = C_{A}$ (from the criteria set for Q3 and Q4"
   ]
  },
  {
   "cell_type": "code",
   "execution_count": 21,
   "metadata": {},
   "outputs": [
    {
     "data": {
      "text/plain": [
       "array([57.63172967, 73.06880011, 76.99856917])"
      ]
     },
     "execution_count": 21,
     "metadata": {},
     "output_type": "execute_result"
    }
   ],
   "source": [
    "Cwp = -rAprime*rhocat*Rp4**2/(De*CA)\n",
    "Cwp"
   ]
  },
  {
   "cell_type": "markdown",
   "metadata": {},
   "source": [
    "All three runs provide $C_{WP} > 50$, which means they are in the internal diffusion regime, therefore falsified kinetics may be employed"
   ]
  },
  {
   "cell_type": "markdown",
   "metadata": {},
   "source": [
    "Therefore, the following rate equation may be used:\n",
    "\\begin{align}\n",
    "-r_{A}^{'} &= \\dfrac{1}{\\rho_{c}^{0.5}}\\left(\\dfrac{3}{R}\\right)\\left(\\dfrac{2D_{e}}{(n + 1)}\\right)^{\\dfrac{1}{2}}(k^{'})^{\\dfrac{1}{2}}C_{A_{s}}^{\\dfrac{n + 1}{2}} \\nonumber\n",
    "\\end{align}\n",
    "where the order $n = 2$"
   ]
  },
  {
   "cell_type": "markdown",
   "metadata": {},
   "source": [
    "Therefore\n",
    "\\begin{align}\n",
    "k^{'} &= \\left[ -r_{A}^{'}\\rho_{c}^{0.5}\\left(\\dfrac{R}{3}\\right)\\left(\\dfrac{3}{2D_{e}}\\right)^{\\dfrac{1}{2}}C_{A_{s}}^{-\\dfrac{3}{2}}  \\right]^{2}\\nonumber\n",
    "\\end{align}"
   ]
  },
  {
   "cell_type": "code",
   "execution_count": 23,
   "metadata": {},
   "outputs": [
    {
     "data": {
      "text/plain": [
       "array([0.00057764, 0.00028658, 0.0001376 ])"
      ]
     },
     "execution_count": 23,
     "metadata": {},
     "output_type": "execute_result"
    }
   ],
   "source": [
    "a = -rAprime*(rhocat**0.5)*Rp4/3\n",
    "b = (3/(2*De))**0.5\n",
    "c = CA**(-3/2)\n",
    "k4prime = (a*b*c)**2\n",
    "k4prime"
   ]
  },
  {
   "cell_type": "code",
   "execution_count": 26,
   "metadata": {},
   "outputs": [
    {
     "name": "stdout",
     "output_type": "stream",
     "text": [
      "ko= 1336156.4401969244 1/s, EA= 75292.95310909339 J/mol, r^2= 0.9999989954242448\n"
     ]
    },
    {
     "data": {
      "text/plain": [
       "<matplotlib.legend.Legend at 0x20a4f41ae80>"
      ]
     },
     "execution_count": 26,
     "metadata": {},
     "output_type": "execute_result"
    },
    {
     "data": {
      "image/png": "[encoded data removed]",
      "text/plain": [
       "<Figure size 432x288 with 1 Axes>"
      ]
     },
     "metadata": {
      "needs_background": "light"
     },
     "output_type": "display_data"
    }
   ],
   "source": [
    "lnk = log(k4prime)\n",
    "\n",
    "slope, intercept, r_value, p_value, std_err = linregress(1/T4, lnk)\n",
    "\n",
    "ko = exp(intercept)\n",
    "EA = -slope*8.314\n",
    "print('ko=', ko, '1/s,', 'EA=', EA, 'J/mol,', 'r^2=', r_value**2)\n",
    "\n",
    "Tspan = linspace(T4[2], T4[0])\n",
    "k = ko*exp(-EA/(8.314*Tspan))\n",
    "\n",
    "plt.plot(1/T4, lnk, 'o', 1/Tspan, log(k))\n",
    "plt.legend(['Fitted points', 'Model'])"
   ]
  },
  {
   "cell_type": "code",
   "execution_count": 28,
   "metadata": {},
   "outputs": [
    {
     "name": "stdout",
     "output_type": "stream",
     "text": [
      "The true activation energy= 75292.95310909339 J/mol\n"
     ]
    }
   ],
   "source": [
    "print('The true activation energy= '+str(EA)+' J/mol')"
   ]
  },
  {
   "cell_type": "markdown",
   "metadata": {},
   "source": [
    "_______________________________________________________________________"
   ]
  },
  {
   "cell_type": "markdown",
   "metadata": {},
   "source": [
    "*NBNB – Ignore your answers in 3 and 4 and use an activation energy of $E = 78000~J/mol$ and a heat of reaction of $\\Delta H = -35000~J/mol_{RX}$ for Question 5 (Note that these are not necessarily the correct answers – but will be used in the memo for Question 5)*"
   ]
  },
  {
   "cell_type": "markdown",
   "metadata": {},
   "source": [
    "**5.The stirrer speed in the reactor with $d_{p} = 1.5~mm$ catalyst particles is now halved to $400~rpm$ and a conversion of $X_{A} = 40~\\%$ is measured when steady state is reached. If you may still assume that the run at $800~rpm$ is free of any mass transfer effects, determine the external mass transfer coefficient, $k_{c}(m/s)$ for this particle diameter at $400~rpm$. (Round to three significant numbers e.g. 0.00123 or 0.000123)** [7]"
   ]
  },
  {
   "cell_type": "code",
   "execution_count": 52,
   "metadata": {},
   "outputs": [],
   "source": [
    "Ea2  =  78000 #J/mol\n",
    "dH1  = -35000 #J/molRX\n",
    "X1   =  X4[1]\n",
    "X2   =    0.4\n",
    "rpm1 =    800\n",
    "rpm2 = rpm1/2\n",
    "dp2  = dp4[1]\n",
    "Rp2  = dp2/2"
   ]
  },
  {
   "cell_type": "code",
   "execution_count": 59,
   "metadata": {},
   "outputs": [
    {
     "data": {
      "text/plain": [
       "406.8"
      ]
     },
     "execution_count": 59,
     "metadata": {},
     "output_type": "execute_result"
    }
   ],
   "source": [
    "T1 = T4[1]\n",
    "T1 "
   ]
  },
  {
   "cell_type": "code",
   "execution_count": 54,
   "metadata": {},
   "outputs": [
    {
     "data": {
      "text/plain": [
       "400.0"
      ]
     },
     "execution_count": 54,
     "metadata": {},
     "output_type": "execute_result"
    }
   ],
   "source": [
    "T2 = To - dH1*X2/(2*CpA)\n",
    "T2"
   ]
  },
  {
   "cell_type": "code",
   "execution_count": 56,
   "metadata": {},
   "outputs": [
    {
     "data": {
      "text/plain": [
       "15.0"
      ]
     },
     "execution_count": 56,
     "metadata": {},
     "output_type": "execute_result"
    }
   ],
   "source": [
    "CAb2 = CAo*(1 - X2)\n",
    "CAb2"
   ]
  },
  {
   "cell_type": "code",
   "execution_count": 48,
   "metadata": {},
   "outputs": [
    {
     "data": {
      "text/plain": [
       "1.7391304347826086"
      ]
     },
     "execution_count": 48,
     "metadata": {},
     "output_type": "execute_result"
    }
   ],
   "source": [
    "am2 = 6/(dp2*rhocat)\n",
    "am2"
   ]
  },
  {
   "cell_type": "code",
   "execution_count": 50,
   "metadata": {},
   "outputs": [
    {
     "data": {
      "text/plain": [
       "-0.002744845360824742"
      ]
     },
     "execution_count": 50,
     "metadata": {},
     "output_type": "execute_result"
    }
   ],
   "source": [
    "rAprime1 = rAprime[1]\n",
    "rAprime1"
   ]
  },
  {
   "cell_type": "code",
   "execution_count": 49,
   "metadata": {},
   "outputs": [
    {
     "data": {
      "text/plain": [
       "-0.00193298969072165"
      ]
     },
     "execution_count": 49,
     "metadata": {},
     "output_type": "execute_result"
    }
   ],
   "source": [
    "rAprime2 = -FAo*X2/W\n",
    "rAprime2"
   ]
  },
  {
   "cell_type": "code",
   "execution_count": 57,
   "metadata": {},
   "outputs": [],
   "source": [
    "napp = 3/2"
   ]
  },
  {
   "cell_type": "code",
   "execution_count": 58,
   "metadata": {},
   "outputs": [
    {
     "data": {
      "text/plain": [
       "7.733609675859661e-05"
      ]
     },
     "execution_count": 58,
     "metadata": {},
     "output_type": "execute_result"
    }
   ],
   "source": [
    "kapp1 = -rAprime1/(CA[1]**napp)\n",
    "kapp1"
   ]
  },
  {
   "cell_type": "code",
   "execution_count": 61,
   "metadata": {},
   "outputs": [
    {
     "data": {
      "text/plain": [
       "7.587488909487196"
      ]
     },
     "execution_count": 61,
     "metadata": {},
     "output_type": "execute_result"
    }
   ],
   "source": [
    "koapp = kapp1*exp(Ea2/(2*R*T1))\n",
    "koapp"
   ]
  },
  {
   "cell_type": "code",
   "execution_count": 62,
   "metadata": {},
   "outputs": [
    {
     "data": {
      "text/plain": [
       "6.360966084499812e-05"
      ]
     },
     "execution_count": 62,
     "metadata": {},
     "output_type": "execute_result"
    }
   ],
   "source": [
    "kapp2 = koapp*exp(-Ea2/(2*R*T2))\n",
    "kapp2"
   ]
  },
  {
   "cell_type": "markdown",
   "metadata": {},
   "source": [
    "Using this equation:\n",
    "\\begin{align}\n",
    "-r_{A}^{'} &= K_{app}^{'}C_{A_{S}}^{n_{app}} \\nonumber\n",
    "\\end{align}\n",
    "we can calculate $C_{A_{S}}$"
   ]
  },
  {
   "cell_type": "code",
   "execution_count": 65,
   "metadata": {},
   "outputs": [
    {
     "data": {
      "text/plain": [
       "9.738026944170771"
      ]
     },
     "execution_count": 65,
     "metadata": {},
     "output_type": "execute_result"
    }
   ],
   "source": [
    "CAs2 = (-rAprime2/kapp2)**(1/napp)\n",
    "CAs2"
   ]
  },
  {
   "cell_type": "markdown",
   "metadata": {},
   "source": [
    "At steady state\n",
    "\\begin{align}\n",
    "-r_{A}^{'} &= k_{C}am(C_{A_{b}} - C_{A_{S}}) \\nonumber\n",
    "\\end{align}\n",
    "to calculate $K_{C}$"
   ]
  },
  {
   "cell_type": "code",
   "execution_count": 66,
   "metadata": {},
   "outputs": [
    {
     "data": {
      "text/plain": [
       "0.0002112266749320695"
      ]
     },
     "execution_count": 66,
     "metadata": {},
     "output_type": "execute_result"
    }
   ],
   "source": [
    "kc = -rAprime2/(am2*(CAb2 - CAs2))\n",
    "kc"
   ]
  },
  {
   "cell_type": "code",
   "execution_count": 67,
   "metadata": {},
   "outputs": [
    {
     "data": {
      "text/plain": [
       "57.06849439507248"
      ]
     },
     "execution_count": 67,
     "metadata": {},
     "output_type": "execute_result"
    }
   ],
   "source": [
    "Cwp2 = -rAprime2*rhocat*Rp2**2/(De*CAs2)\n",
    "Cwp2"
   ]
  },
  {
   "cell_type": "markdown",
   "metadata": {},
   "source": [
    "So $k_{c} = 0.0002~m/s$, and the reaction remains in the internal diffusion regime with $C_{WP} = 57.07$"
   ]
  },
  {
   "cell_type": "code",
   "execution_count": null,
   "metadata": {},
   "outputs": [],
   "source": []
  }
 ],
 "metadata": {
  "kernelspec": {
   "display_name": "Python 3",
   "language": "python",
   "name": "python3"
  },
  "language_info": {
   "codemirror_mode": {
    "name": "ipython",
    "version": 3
   },
   "file_extension": ".py",
   "mimetype": "text/x-python",
   "name": "python",
   "nbconvert_exporter": "python",
   "pygments_lexer": "ipython3",
   "version": "3.7.3"
  }
 },
 "nbformat": 4,
 "nbformat_minor": 2
}
