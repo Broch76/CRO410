{
 "cells": [
  {
   "cell_type": "code",
   "execution_count": 1,
   "metadata": {},
   "outputs": [],
   "source": [
    "from numpy import *\n",
    "from scipy.optimize import fsolve\n",
    "from scipy.integrate import odeint\n",
    "from matplotlib import pyplot as plt\n",
    "from scipy.interpolate import interp1d\n",
    "%matplotlib inline"
   ]
  },
  {
   "cell_type": "markdown",
   "metadata": {},
   "source": [
    "**Scenario Description:**"
   ]
  },
  {
   "cell_type": "markdown",
   "metadata": {},
   "source": [
    "The first order catalysed gas phase reaction where: $A \\rightarrow B + C$ is allowed to take place in an *adiabatically* operated PACKED BED reactor where spherical, porous catalyst particles are used. "
   ]
  },
  {
   "cell_type": "markdown",
   "metadata": {},
   "source": [
    "A feed stream that consists out of PURE gas A is fed to the reactor. The state variables of this stream at the inlet to the reactor are given in Table 1"
   ]
  },
  {
   "cell_type": "markdown",
   "metadata": {},
   "source": [
    "<img src=\"CRO410ST2020a.JPG\" width=\"850\" />"
   ]
  },
  {
   "cell_type": "markdown",
   "metadata": {},
   "source": [
    "Parameters relevant to the chemical reaction and components are given in Table 2"
   ]
  },
  {
   "cell_type": "markdown",
   "metadata": {},
   "source": [
    "<img src=\"CRO410ST2020b.JPG\" width=\"850\" />"
   ]
  },
  {
   "cell_type": "markdown",
   "metadata": {},
   "source": [
    "Some details on the porous catalyst are given in Table 3"
   ]
  },
  {
   "cell_type": "markdown",
   "metadata": {},
   "source": [
    "<img src=\"CRO410ST2020c.JPG\" width=\"850\" />"
   ]
  },
  {
   "cell_type": "markdown",
   "metadata": {},
   "source": [
    "The reactor is packed with **$W = 110~kg$** of catalyst. In the following questions you will be required to evaluate the effect of catalyst particle size on the performance of the reactor by\n",
    "considering a particle size range $0.4~mm \\leq d_{p} \\leq 1~mm$. "
   ]
  },
  {
   "cell_type": "markdown",
   "metadata": {},
   "source": [
    "It is known that the Ergun constant for catalyst particles with $d_{p} = 1~mm$ is: $K_{Ergun} = 0.75~\\dfrac{kPa}{kg}$. Turbulent flow may be assumed."
   ]
  },
  {
   "cell_type": "code",
   "execution_count": 2,
   "metadata": {},
   "outputs": [],
   "source": [
    "# 1st order reaction\n",
    "# Adiabatic\n",
    "# PBR\n",
    "# spherical and porous catalyst\n",
    "# Pure gas A is fed into the reactor"
   ]
  },
  {
   "cell_type": "code",
   "execution_count": 3,
   "metadata": {},
   "outputs": [],
   "source": [
    "Po      = 1000 #kPa\n",
    "To      =  450 #K\n",
    "Qo      = 0.02 #m3/s"
   ]
  },
  {
   "cell_type": "code",
   "execution_count": 4,
   "metadata": {},
   "outputs": [],
   "source": [
    "koprime = 0.2936 #kg/m3.s\n",
    "Etrue   =  31400 #J/mol\n",
    "CpA     =     40 #J/mol.K\n",
    "CpB     =     25 #J/mol.K\n",
    "CpC     =     15 #J/mol.K\n",
    "dHrx    = -20000 #J/mol"
   ]
  },
  {
   "cell_type": "code",
   "execution_count": 5,
   "metadata": {},
   "outputs": [],
   "source": [
    "De      = 7.5e-8 #m2/s\n",
    "rhocat  =   1800 #kg/m3\n",
    "epsilon =    0.4"
   ]
  },
  {
   "cell_type": "code",
   "execution_count": 6,
   "metadata": {},
   "outputs": [],
   "source": [
    "W     = 110 #kg\n",
    "Kerg  = 0.75 #kpa/kg - when dp = 1mm\n",
    "dperg = 1/1000 #m #particle diameter to range from 0.4mm to 1mm\n",
    "# TURBULENT FLOW ASSUMED!"
   ]
  },
  {
   "cell_type": "markdown",
   "metadata": {},
   "source": [
    "**1. Declare that the answers and code provided are your own work by answering the first true or false question**"
   ]
  },
  {
   "cell_type": "markdown",
   "metadata": {},
   "source": [
    "I do hereby declare that all the python code and handwritten answers submitted are my own original work"
   ]
  },
  {
   "cell_type": "markdown",
   "metadata": {},
   "source": [
    "**2. What is the conversion of reactant A in a reactor with $W = 110~kg$ of catalyst if the reactor is *free* of any internal or external mass transfer effects and catalyst particles with $d_{p} = 1~mm$ are used? Give answer as a $\\%$ and round to 3 significant numbers(i.e $12.3~\\%$)** [5 points]"
   ]
  },
  {
   "cell_type": "code",
   "execution_count": 7,
   "metadata": {},
   "outputs": [],
   "source": [
    "#no internal or external mass transfer effects assumed."
   ]
  },
  {
   "cell_type": "code",
   "execution_count": 8,
   "metadata": {},
   "outputs": [],
   "source": [
    "#dp=1mm"
   ]
  },
  {
   "cell_type": "code",
   "execution_count": 9,
   "metadata": {},
   "outputs": [
    {
     "data": {
      "text/plain": [
       "1080.0"
      ]
     },
     "execution_count": 9,
     "metadata": {},
     "output_type": "execute_result"
    }
   ],
   "source": [
    "rhobed = rhocat*(1-epsilon)\n",
    "rhobed"
   ]
  },
  {
   "cell_type": "code",
   "execution_count": 10,
   "metadata": {},
   "outputs": [
    {
     "data": {
      "text/plain": [
       "0.005345735439553096"
      ]
     },
     "execution_count": 10,
     "metadata": {},
     "output_type": "execute_result"
    }
   ],
   "source": [
    "R   = 8.314 #kJ/(kmol.K)\n",
    "Fto = Qo*Po/(R*To)\n",
    "Fto"
   ]
  },
  {
   "cell_type": "code",
   "execution_count": 11,
   "metadata": {},
   "outputs": [],
   "source": [
    "FAo = Fto #Pure A is fed\n",
    "FBo = 0\n",
    "FCo = 0"
   ]
  },
  {
   "cell_type": "code",
   "execution_count": 12,
   "metadata": {},
   "outputs": [],
   "source": [
    "M = -dHrx/CpA #gradient for energy balance\n",
    "def Q2(var,w):\n",
    "    FA, FB, FC, P   = var\n",
    "    Ftot   = FA + FB + FC\n",
    "    X      = (FAo - FA)/FAo\n",
    "    T      = To + M*X\n",
    "    kprime = koprime*exp(-Etrue/(R*T))\n",
    "    Q      = Ftot*R*T/P\n",
    "    rA     = -kprime*FA/Q #raprime\n",
    "    rB     = -rA\n",
    "    rC     = -rA\n",
    "    dFAdW  = rA\n",
    "    dFBdW  = rB\n",
    "    dFCdW  = rC\n",
    "    dPdW   = -Kerg*(Po/P)*(Ftot/FAo)*(T/To)\n",
    "    return[dFAdW,dFBdW,dFCdW,dPdW] "
   ]
  },
  {
   "cell_type": "code",
   "execution_count": 13,
   "metadata": {},
   "outputs": [],
   "source": [
    "wspan = linspace(0,W,100)\n",
    "init = (FAo,0,0,Po)\n",
    "sols = odeint(Q2,init,wspan)"
   ]
  },
  {
   "cell_type": "code",
   "execution_count": 14,
   "metadata": {},
   "outputs": [
    {
     "name": "stdout",
     "output_type": "stream",
     "text": [
      "conversion= 91.71620252265576 %\n",
      "W =  110 kg catalyst\n",
      "P = 800.7360819391638 kPa\n"
     ]
    }
   ],
   "source": [
    "FA,FB,FC,P = sols.T\n",
    "\n",
    "XA = (FAo - FA[-1])/FAo\n",
    "\n",
    "print('conversion=', XA*100,'%')\n",
    "print('W = ',W,'kg catalyst')  \n",
    "print('P =',P[-1],'kPa')"
   ]
  },
  {
   "cell_type": "markdown",
   "metadata": {},
   "source": [
    "**Q2 Answer: $91.7~\\%$**"
   ]
  },
  {
   "cell_type": "markdown",
   "metadata": {},
   "source": [
    "----------------------------------------------------------------"
   ]
  },
  {
   "cell_type": "markdown",
   "metadata": {},
   "source": [
    "**3. What is the conversion of reactant $A$ in the same reactor if internal diffusion is considered? You may still assume that external diffusion effects are negligible. Give answer as a $\\%$ and round to 3 significant numbers (i.e $12.3\\%$)** [5 points]"
   ]
  },
  {
   "cell_type": "code",
   "execution_count": 15,
   "metadata": {},
   "outputs": [],
   "source": [
    "def Q3(var,w):\n",
    "    FA, FB, FC, P   = var\n",
    "    Ftot   = FA + FB + FC\n",
    "    X      = (FAo - FA)/FAo\n",
    "    T      = To + M*X\n",
    "    kprime = koprime*exp(-Etrue/(R*T))\n",
    "    Rp     = dperg/2\n",
    "    phi    = (kprime*rhocat*(Rp**2)/De)**0.5\n",
    "    eta    = (3/(phi**2))*((phi/tanh(phi))-1)\n",
    "    Q      = Ftot*R*T/P\n",
    "    rA     = -eta*kprime*FA/Q #raprime\n",
    "    rB     = -rA\n",
    "    rC     = -rA\n",
    "    dFAdW  = rA\n",
    "    dFBdW  = rB\n",
    "    dFCdW  = rC\n",
    "    dPdW   = -Kerg*(Po/P)*(Ftot/FAo)*(T/To)\n",
    "    return[dFAdW,dFBdW,dFCdW,dPdW] "
   ]
  },
  {
   "cell_type": "code",
   "execution_count": 16,
   "metadata": {},
   "outputs": [],
   "source": [
    "W3 = 110 #kg\n",
    "wspan3 = linspace(0,W3,100)\n",
    "init3 = (FAo,0,0,Po)\n",
    "sols3 = odeint(Q3,init3,wspan3)"
   ]
  },
  {
   "cell_type": "code",
   "execution_count": 17,
   "metadata": {},
   "outputs": [
    {
     "name": "stdout",
     "output_type": "stream",
     "text": [
      "conversion= 75.4174992546479 %\n",
      "W =  110 kg catalyst\n",
      "P = 826.3286151499691 kPa\n"
     ]
    }
   ],
   "source": [
    "FA3,FB3,FC3,P3 = sols3.T\n",
    "\n",
    "XA3 = (FAo - FA3[-1])/FAo\n",
    "\n",
    "print('conversion=', XA3*100,'%')\n",
    "print('W = ',W3,'kg catalyst')  \n",
    "print('P =',P3[-1],'kPa')"
   ]
  },
  {
   "cell_type": "markdown",
   "metadata": {},
   "source": [
    "**Q3 Answer: $75.4~\\%$**"
   ]
  },
  {
   "cell_type": "markdown",
   "metadata": {},
   "source": [
    "--------------------------------------------------------------"
   ]
  },
  {
   "cell_type": "markdown",
   "metadata": {},
   "source": [
    "**4. The catalyst particle diameter is now reduced to $d_{p} = 0.5~mm$. What is the conversion of A in the reactor with the new catalyst size? You may still assume external diffusion effects to be negligible and $W = 110~kg$. Give answer as a $\\%$ and round to $3$ significant numbers (i.e $12.3\\%$)** [5 points]"
   ]
  },
  {
   "cell_type": "markdown",
   "metadata": {},
   "source": [
    "For Turbulent flow assumed as given in the description:\n",
    "\\begin{equation}\n",
    "\t\t\t\\frac{dP}{dz} = -\\dfrac{1.75G^{2}}{\\rho_{\\circ}d_{p}}\\left(\\frac{1 - \\epsilon}{\\epsilon}\\right)\\left(\\dfrac{P_{\\circ}}{P}\\frac{F_{T}}{F_{T_{\\circ}}}\\frac{T}{T_{\\circ}}\\right)\n",
    "\\end{equation}"
   ]
  },
  {
   "cell_type": "markdown",
   "metadata": {},
   "source": [
    "But $K_{Ergun}$ units are in $\\dfrac{Pressure}{m}$, therefore:\n",
    "$$\n",
    "\\begin{equation}\n",
    "\t\t\\frac{dP}{dW} = -\\dfrac{1.75}{\\rho_{\\circ}d_{p}}\\left(\\frac{1 - \\epsilon}{\\epsilon}\\right)\\dfrac{G^{2}}{\\rho_{B}A_{across}}\\left(\\dfrac{P_{\\circ}}{P}\\frac{F_{T}}{F_{T_{\\circ}}}\\frac{T}{T_{\\circ}}\\right)\n",
    "\\end{equation}\n",
    "$$\t\n",
    "Where:\n",
    "$$\n",
    "\\begin{equation}\n",
    "\t\tK_{Ergun} = -\\dfrac{1.75}{\\rho_{\\circ}d_{p}}\\left(\\frac{1 - \\epsilon}{\\epsilon}\\right)\\dfrac{G^{2}}{\\rho_{B}A_{across}}\n",
    "\\end{equation}\n",
    "$$"
   ]
  },
  {
   "cell_type": "markdown",
   "metadata": {},
   "source": [
    "so: \n",
    "$$\n",
    "\\begin{align}\n",
    " K_{Ergun}'  &\\propto \\dfrac{1}{d_{p}} \\nonumber\n",
    "\\end{align}\n",
    "$$"
   ]
  },
  {
   "cell_type": "markdown",
   "metadata": {},
   "source": [
    "Where $d_{p1} = 1~mm$:\n",
    "\\begin{align}\n",
    " K_{Ergun_{NEW}}^{'} &= -\\dfrac{1.75}{\\rho_{\\circ}d_{p2}}\\left(\\frac{1 - \\epsilon}{\\epsilon}\\right)\\dfrac{G^{2}}{\\rho_{B}A_{across}} \\nonumber \\\\\n",
    "  K_{Ergun_{NEW}}^{'} &= -\\dfrac{1.75}{\\rho_{\\circ}(0.5d_{p1})}\\left(\\frac{1 - \\epsilon}{\\epsilon}\\right)\\dfrac{G^{2}}{\\rho_{B}A_{across}} \\nonumber \\\\\n",
    "   K_{Ergun_{NEW}}^{'} &= 2 \\times K_{Ergun}^{'}  \\nonumber \n",
    "\\end{align}"
   ]
  },
  {
   "cell_type": "code",
   "execution_count": 18,
   "metadata": {},
   "outputs": [
    {
     "data": {
      "text/plain": [
       "1.5"
      ]
     },
     "execution_count": 18,
     "metadata": {},
     "output_type": "execute_result"
    }
   ],
   "source": [
    "KergNEW = 2*Kerg\n",
    "KergNEW"
   ]
  },
  {
   "cell_type": "code",
   "execution_count": 19,
   "metadata": {},
   "outputs": [],
   "source": [
    "dp2 = 0.5/1000 #m - new particle diameter"
   ]
  },
  {
   "cell_type": "code",
   "execution_count": 20,
   "metadata": {},
   "outputs": [],
   "source": [
    "def Q4(var,w):\n",
    "    FA, FB, FC, P   = var\n",
    "    Ftot   = FA + FB + FC\n",
    "    X      = (FAo - FA)/FAo\n",
    "    T      = To + M*X\n",
    "    kprime = koprime*exp(-Etrue/(R*T))\n",
    "    Rp     = dp2/2\n",
    "    phi    = (kprime*rhocat*(Rp**2)/De)**0.5\n",
    "    eta    = (3/(phi**2))*((phi/tanh(phi))-1)\n",
    "    Q      = Ftot*R*T/P\n",
    "    rA     = -eta*kprime*FA/Q #raprime\n",
    "    rB     = -rA\n",
    "    rC     = -rA\n",
    "    dFAdW  = rA\n",
    "    dFBdW  = rB\n",
    "    dFCdW  = rC\n",
    "    dPdW   = -KergNEW*(Po/P)*(Ftot/FAo)*(T/To)\n",
    "    return[dFAdW,dFBdW,dFCdW,dPdW] "
   ]
  },
  {
   "cell_type": "code",
   "execution_count": 21,
   "metadata": {},
   "outputs": [],
   "source": [
    "W4 = 110 #kg\n",
    "wspan4 = linspace(0,W4,100)\n",
    "init4 = (FAo,0,0,Po)\n",
    "sols4 = odeint(Q4,init4,wspan4)"
   ]
  },
  {
   "cell_type": "code",
   "execution_count": 22,
   "metadata": {},
   "outputs": [
    {
     "name": "stdout",
     "output_type": "stream",
     "text": [
      "conversion= 80.38065705417198 %\n",
      "W =  110 kg catalyst\n",
      "P = 582.035955120558 kPa\n"
     ]
    }
   ],
   "source": [
    "FA4,FB4,FC4,P4 = sols4.T\n",
    "\n",
    "XA4 = (FAo - FA4[-1])/FAo\n",
    "\n",
    "print('conversion=', XA4*100,'%')\n",
    "print('W = ',W4,'kg catalyst')  \n",
    "print('P =',P4[-1],'kPa')"
   ]
  },
  {
   "cell_type": "markdown",
   "metadata": {},
   "source": [
    "**Q4 Answer: $80.4~\\%$**"
   ]
  },
  {
   "cell_type": "markdown",
   "metadata": {},
   "source": [
    "--------------------------------------------------------------"
   ]
  },
  {
   "cell_type": "markdown",
   "metadata": {},
   "source": [
    "**5. In the particle range given in the problem scenario description above (i.e $0.4~mm \\leq d_{p} \\leq 1~mm$, what is the optimum particle diameter that should be used in the reactor in order to maximise conversion of reactant $A$? (External diffusion effects negligible) Give answer in units of mm and round to 3 significant numbers, i.e. $0.123~mm$** [8 points]"
   ]
  },
  {
   "cell_type": "markdown",
   "metadata": {},
   "source": [
    "Required: I need a conversion profile for each diameter in the given range. "
   ]
  },
  {
   "cell_type": "markdown",
   "metadata": {},
   "source": [
    "Approach: \n",
    "1) I'll need a main function that will input discrete steps of particle diameters from $0.4~mm$ to $1~mm$. For each discrete step, another function needs to be called that will take the new particle diameter, calculate the new $K_{Ergun}$ value and return the related conversion."
   ]
  },
  {
   "cell_type": "markdown",
   "metadata": {},
   "source": [
    "2) Produce a diagram of the conversion profile within the particle diameter range"
   ]
  },
  {
   "cell_type": "markdown",
   "metadata": {},
   "source": [
    "3) See where the maximum lies and use the argmax command with the particle size range as an index to return the maximum conversion with it's corresponding particle diameter."
   ]
  },
  {
   "cell_type": "code",
   "execution_count": 23,
   "metadata": {},
   "outputs": [],
   "source": [
    "dpspan = linspace(0.4e-3,1.0e-3,60)\n",
    "#Conversion = dprange(dpspan)\n",
    "Conversion = []\n",
    "for vals in dpspan:\n",
    "    dp = vals\n",
    "    \n",
    "    def Q5(var,w):\n",
    "        FA, FB, FC, P   = var\n",
    "        Ftot   = FA + FB + FC\n",
    "        X      = (FAo - FA)/FAo\n",
    "        T      = To + M*X\n",
    "        kprime = koprime*exp(-Etrue/(R*T))\n",
    "        Rp     = dp/2\n",
    "        phi    = (kprime*rhocat*(Rp**2)/De)**0.5\n",
    "        eta    = (3/(phi**2))*((phi/tanh(phi))-1)\n",
    "        Q      = Ftot*R*T/P\n",
    "        rA     = -eta*kprime*FA/Q #raprime\n",
    "        rB     = -rA\n",
    "        rC     = -rA\n",
    "        dFAdW  = rA\n",
    "        dFBdW  = rB\n",
    "        dFCdW  = rC\n",
    "        Kerg5  = dperg/dp*Kerg\n",
    "        dPdW   = -Kerg5*(Po/P)*(Ftot/FAo)*(T/To)\n",
    "        return[dFAdW,dFBdW,dFCdW,dPdW]\n",
    "    \n",
    "    W5 = 110 #kg\n",
    "    wspan5 = linspace(0,W5,100)\n",
    "    init5 = (FAo,0,0,Po)\n",
    "    sols5 = odeint(Q5,init5,wspan5)\n",
    "    \n",
    "    FA5,FB5,FC5,P5 = sols5.T\n",
    "\n",
    "    XA5 = (FAo - FA5[-1])/FAo\n",
    "    \n",
    "    Conversion.append(XA5)\n",
    "    "
   ]
  },
  {
   "cell_type": "code",
   "execution_count": 24,
   "metadata": {},
   "outputs": [
    {
     "data": {
      "image/png": "[encoded data removed]",
      "text/plain": [
       "<Figure size 432x288 with 1 Axes>"
      ]
     },
     "metadata": {
      "needs_background": "light"
     },
     "output_type": "display_data"
    }
   ],
   "source": [
    "plt.figure(1)\n",
    "plt.plot(dpspan*1000, Conversion, color='blue', label='XA')\n",
    "plt.ylabel('Conversion A') \n",
    "plt.xlabel('Particle Diameter [mm]') \n",
    "plt.show()"
   ]
  },
  {
   "cell_type": "code",
   "execution_count": 25,
   "metadata": {},
   "outputs": [
    {
     "data": {
      "text/plain": [
       "0.8057659735927656"
      ]
     },
     "execution_count": 25,
     "metadata": {},
     "output_type": "execute_result"
    }
   ],
   "source": [
    "Xmax = max(Conversion)\n",
    "Xmax"
   ]
  },
  {
   "cell_type": "code",
   "execution_count": 26,
   "metadata": {},
   "outputs": [
    {
     "data": {
      "text/plain": [
       "0.7541749925464789"
      ]
     },
     "execution_count": 26,
     "metadata": {},
     "output_type": "execute_result"
    }
   ],
   "source": [
    "#values check:\n",
    "Xmin = min(Conversion)\n",
    "Xmin"
   ]
  },
  {
   "cell_type": "markdown",
   "metadata": {},
   "source": [
    "$75.4~\\%$ is the same as answer for Q3 so code should be correct."
   ]
  },
  {
   "cell_type": "code",
   "execution_count": 27,
   "metadata": {},
   "outputs": [
    {
     "data": {
      "text/plain": [
       "0.8037938675000731"
      ]
     },
     "execution_count": 27,
     "metadata": {},
     "output_type": "execute_result"
    }
   ],
   "source": [
    "#Values check2:\n",
    "Q4 = interp(0.0005, dpspan, Conversion)\n",
    "Q4"
   ]
  },
  {
   "cell_type": "markdown",
   "metadata": {},
   "source": [
    "$80.4\\%$ is the same answer as for Q4. I am now confident that the answer for Q5 is correct."
   ]
  },
  {
   "cell_type": "markdown",
   "metadata": {},
   "source": [
    "**Maximum conversion = $80.6\\%$**"
   ]
  },
  {
   "cell_type": "code",
   "execution_count": 28,
   "metadata": {},
   "outputs": [
    {
     "name": "stdout",
     "output_type": "stream",
     "text": [
      "Optimum dp= 0.552542372881356mm\n"
     ]
    }
   ],
   "source": [
    "i = argmax(Conversion==max(Conversion))\n",
    "dp_opt = dpspan[i]\n",
    "print('Optimum dp= '+str(dp_opt*1000)+'mm')"
   ]
  },
  {
   "cell_type": "markdown",
   "metadata": {},
   "source": [
    "**Q5 answer: $0.553~mm$**"
   ]
  },
  {
   "cell_type": "markdown",
   "metadata": {},
   "source": [
    "----------------------------------------------------------------------"
   ]
  },
  {
   "cell_type": "markdown",
   "metadata": {},
   "source": [
    "**6. What is the conversion of the reactant at the given optimum particle diameter? Give as $\\%$ and round to $3$ significant numbers i.e. $12.3\\%$.** [3 points]"
   ]
  },
  {
   "cell_type": "markdown",
   "metadata": {},
   "source": [
    "*This was calculated already in Q5*"
   ]
  },
  {
   "cell_type": "markdown",
   "metadata": {},
   "source": [
    "**Q6 answer: $80.6\\%$**"
   ]
  },
  {
   "cell_type": "markdown",
   "metadata": {},
   "source": [
    "**7. Explain in a short paragraph why this optimum exists.** [4 points]"
   ]
  },
  {
   "cell_type": "markdown",
   "metadata": {},
   "source": [
    "When changing the particle diameter of the catalyst, all else being equal, there are two things acting opposite to each other, viz-a-viz, the total available area of the catalyst for the reaction to take place, and the effectiveness factor for the rate of reaction."
   ]
  },
  {
   "cell_type": "markdown",
   "metadata": {},
   "source": [
    "The effectivenes factor, $\\eta$, is inversely proportional to the catalyst particle diameter, $d_{p}$, in first order reactions. In other words, the small the diameter of the catalyst particle, the better the effectiveness factor, the greater the conversion."
   ]
  },
  {
   "cell_type": "markdown",
   "metadata": {},
   "source": [
    "But, the smaller the diameter of the catalyst particle, the less the total available catalyst area for the reaction to take place therefore the lower the conversion (which is illustration in the rendered diagram for Q5). So, there must be an optimum catalyst particle diameter where the conversion is at it's maximum."
   ]
  },
  {
   "cell_type": "code",
   "execution_count": null,
   "metadata": {},
   "outputs": [],
   "source": []
  }
 ],
 "metadata": {
  "kernelspec": {
   "display_name": "Python 3",
   "language": "python",
   "name": "python3"
  },
  "language_info": {
   "codemirror_mode": {
    "name": "ipython",
    "version": 3
   },
   "file_extension": ".py",
   "mimetype": "text/x-python",
   "name": "python",
   "nbconvert_exporter": "python",
   "pygments_lexer": "ipython3",
   "version": "3.7.3"
  }
 },
 "nbformat": 4,
 "nbformat_minor": 2
}
