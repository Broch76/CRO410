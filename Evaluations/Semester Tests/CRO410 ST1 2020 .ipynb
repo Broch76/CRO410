{
 "cells": [
  {
   "cell_type": "code",
   "execution_count": 81,
   "metadata": {},
   "outputs": [],
   "source": [
    "from numpy import *\n",
    "from scipy.optimize import fsolve\n",
    "from scipy.integrate import odeint\n",
    "from matplotlib import pyplot as plt\n",
    "from scipy.interpolate import interp1d\n",
    "%matplotlib inline"
   ]
  },
  {
   "cell_type": "markdown",
   "metadata": {},
   "source": [
    "**Question 1 [16]**"
   ]
  },
  {
   "cell_type": "markdown",
   "metadata": {},
   "source": [
    "A liquid phase reaction where component $A$ is converted to products is studied for *ADIABATIC* operation. The inlet temperature of a stream of pure $A$ (with $Q = 2~L.s^{-1}$ and $C_{A_{0}} = 0.1~mol.L^{-1}$ is $T_{0} = 300~K$"
   ]
  },
  {
   "cell_type": "markdown",
   "metadata": {},
   "source": [
    "In figure 1 below, $-r_{A} (\\dfrac{mol}{L.s})$ is given as a function of the conversion of $A$. Answer the following questions:"
   ]
  },
  {
   "cell_type": "code",
   "execution_count": 82,
   "metadata": {},
   "outputs": [],
   "source": [
    "Q   = 2/1000 #m3/s\n",
    "CAo =  0.1e3 #mol/m3\n",
    "FAo =  Q*CAo\n",
    "To  =    300 #K"
   ]
  },
  {
   "cell_type": "markdown",
   "metadata": {},
   "source": [
    "**a) What is the maximum conversion of $A$ that can be obtained in an adiabatic plug flow reactor (PFR)? Explain your answer**"
   ]
  },
  {
   "cell_type": "markdown",
   "metadata": {},
   "source": [
    "81% When the rate gets to zero, this is the maximum conversion at that equilibrium point. Although there are values past that for a reversible reaction, the reactor is adiabatic and exothermic (from the shape of the graph) and reaction is pushed to the right. "
   ]
  },
  {
   "cell_type": "markdown",
   "metadata": {},
   "source": [
    "**b) What is the maximum conversion that can be obtained in an adiabatic CSTR? Explain your answer**"
   ]
  },
  {
   "cell_type": "markdown",
   "metadata": {},
   "source": [
    "Also 81%. Only difference is that more catalyst will need to be used for the CSTR"
   ]
  },
  {
   "cell_type": "markdown",
   "metadata": {},
   "source": [
    "Additional comments: although graph shows possibility of reverse reaction (rate goes lower than zero), it doesn't happen because this reaction happens adiabatically."
   ]
  },
  {
   "cell_type": "markdown",
   "metadata": {},
   "source": [
    "------------------------------------------------------------"
   ]
  },
  {
   "cell_type": "markdown",
   "metadata": {},
   "source": [
    "*An adiabatic PFR is sized to convert $70\\%$ of component $A$. The outlet temperature from this reactor is $T = 477~K$*"
   ]
  },
  {
   "cell_type": "markdown",
   "metadata": {},
   "source": [
    "**c) Draw a semi-qualitative sketch of conversion of $A$ (y-axis) vs reactor volume (x-axis) profile in this reactor. Clearly motivate the shape of your plot. Give as much quantitative information as possible. (no integration required!)**"
   ]
  },
  {
   "cell_type": "markdown",
   "metadata": {},
   "source": [
    "<img src=\"Qc.JPG\" width=\"850\" />"
   ]
  },
  {
   "cell_type": "markdown",
   "metadata": {},
   "source": [
    "Increasing slope to X at $-r_{A_{max}}$ inflection point at X =$54\\%$, decreasing slope to $70\\%$ (not zero slope at $70\\%$)."
   ]
  },
  {
   "cell_type": "markdown",
   "metadata": {},
   "source": [
    "Basic principles is that the rate will be quicker and the final max conversion will be lower. The point of inflection will happen at a lower spot than the inflection for the $80\\%$ conversion graph."
   ]
  },
  {
   "cell_type": "markdown",
   "metadata": {},
   "source": [
    "--------------------------------------------------------------"
   ]
  },
  {
   "cell_type": "markdown",
   "metadata": {},
   "source": [
    "*Two adiabatic CSTRs in series must be used to achieve a conversion of $70\\%$ while minimizing the total volume of the reactor system (i.e. minimize $V_{CSTR1} + V_{CSTR2}$).*"
   ]
  },
  {
   "cell_type": "markdown",
   "metadata": {},
   "source": [
    "**d) Specify the respective volumes of the two CSTRs. (Still overall adiabatic operation, so no cooling or heating between the two reactors)**"
   ]
  },
  {
   "cell_type": "markdown",
   "metadata": {},
   "source": [
    "<img src=\"Qd.JPG\" width=\"850\" />"
   ]
  },
  {
   "cell_type": "markdown",
   "metadata": {},
   "source": [
    "CSTR design equation:\n",
    "\\begin{align}\n",
    "-r_{A} &= \\dfrac{F_{A_{0}} - F_{A}}{V} \\nonumber \\\\\n",
    "&= \\dfrac{F_{A_{0}} - F_{A_{0}}(1 - \\text{X})}{V} \\nonumber \\\\\n",
    "-r_{A} &= \\dfrac{F_{A_{0}}\\text{X}}{V} \\nonumber \\\\\n",
    " V &= \\dfrac{F_{A_{0}}\\text{X}}{-r_{A}} \\nonumber \n",
    "\\end{align}"
   ]
  },
  {
   "cell_type": "markdown",
   "metadata": {},
   "source": [
    "From the graph, the maximum rate, $-r_{A}= 0.0054$ is at X$=0.54$"
   ]
  },
  {
   "cell_type": "code",
   "execution_count": 83,
   "metadata": {},
   "outputs": [
    {
     "data": {
      "text/plain": [
       "20.0"
      ]
     },
     "execution_count": 83,
     "metadata": {},
     "output_type": "execute_result"
    }
   ],
   "source": [
    "V1cstr = FAo*0.54/0.0054\n",
    "V1cstr"
   ]
  },
  {
   "cell_type": "code",
   "execution_count": 84,
   "metadata": {},
   "outputs": [
    {
     "data": {
      "text/plain": [
       "0.092"
      ]
     },
     "execution_count": 84,
     "metadata": {},
     "output_type": "execute_result"
    }
   ],
   "source": [
    "#FA out of CSTR1 = FAo into CSTR2\n",
    "FAo1 = FAo*(1 - 0.54)\n",
    "FAo1"
   ]
  },
  {
   "cell_type": "markdown",
   "metadata": {},
   "source": [
    "From the graph, at $70\\%$ conversion, the rate is $0.0037$"
   ]
  },
  {
   "cell_type": "code",
   "execution_count": 85,
   "metadata": {},
   "outputs": [
    {
     "data": {
      "text/plain": [
       "0.06000000000000001"
      ]
     },
     "execution_count": 85,
     "metadata": {},
     "output_type": "execute_result"
    }
   ],
   "source": [
    "FA = FAo*(1-.7)\n",
    "FA"
   ]
  },
  {
   "cell_type": "code",
   "execution_count": 86,
   "metadata": {},
   "outputs": [
    {
     "data": {
      "text/plain": [
       "8.648648648648646"
      ]
     },
     "execution_count": 86,
     "metadata": {},
     "output_type": "execute_result"
    }
   ],
   "source": [
    "V2cstr = (FAo1 - FA)/0.0037\n",
    "V2cstr"
   ]
  },
  {
   "cell_type": "markdown",
   "metadata": {},
   "source": [
    "----------------------------------------"
   ]
  },
  {
   "cell_type": "markdown",
   "metadata": {},
   "source": [
    "**e) What is the inlet temperature to the second CSTR in this sequence?**"
   ]
  },
  {
   "cell_type": "markdown",
   "metadata": {},
   "source": [
    "We know that the reaction is non-isothermal and adiabatic, so we can assume a constant mass based $C_{p}^{'}$. We therefore have the following straight line relationship between $T_{out}$ and $X_{A}$:\n",
    "\\begin{equation}\n",
    "T_{out} = T_{in} + \\dfrac{-\\Delta H_{RX_{j}}^{\\circ}}{C_{p_{A}}}X_{A} \\nonumber\n",
    "\\end{equation}"
   ]
  },
  {
   "cell_type": "markdown",
   "metadata": {},
   "source": [
    "We don't need the individual enthalpy and Cp but we can calculate the gradient and make use of that."
   ]
  },
  {
   "cell_type": "code",
   "execution_count": 87,
   "metadata": {},
   "outputs": [],
   "source": [
    "T = 477 #given exit temperature at equilibrium conversion of \n",
    "        # 70% for PFR"
   ]
  },
  {
   "cell_type": "code",
   "execution_count": 88,
   "metadata": {},
   "outputs": [
    {
     "data": {
      "text/plain": [
       "252.85714285714286"
      ]
     },
     "execution_count": 88,
     "metadata": {},
     "output_type": "execute_result"
    }
   ],
   "source": [
    "Mcstr = (T - To)/0.7 \n",
    "Mcstr"
   ]
  },
  {
   "cell_type": "markdown",
   "metadata": {},
   "source": [
    "Now that we have the gradient, we can calculate the exit temperature for the first CSTR at $X=54\\%$"
   ]
  },
  {
   "cell_type": "code",
   "execution_count": 89,
   "metadata": {},
   "outputs": [
    {
     "data": {
      "text/plain": [
       "436.54285714285714"
      ]
     },
     "execution_count": 89,
     "metadata": {},
     "output_type": "execute_result"
    }
   ],
   "source": [
    "T1 = To + Mcstr*0.54\n",
    "T1 #which will be the same as the inlet Temperature for CSTR2"
   ]
  },
  {
   "cell_type": "markdown",
   "metadata": {},
   "source": [
    "<img src=\"Fig.1 Rate of Disappearance.JPG\" width=\"850\" />"
   ]
  },
  {
   "cell_type": "markdown",
   "metadata": {},
   "source": [
    "-------------------------------------------------------------"
   ]
  },
  {
   "cell_type": "markdown",
   "metadata": {},
   "source": [
    "**Question 2 [18]**"
   ]
  },
  {
   "cell_type": "markdown",
   "metadata": {},
   "source": [
    "The irreversible gas phase reaction given below is allowed to take place in an *adiabatically* operated packed bed reactor (PBR).\n",
    "$$\n",
    "\\begin{equation}\n",
    "A \\rightarrow B + C\n",
    "\\end{equation}\n",
    "$$\n"
   ]
  },
  {
   "cell_type": "markdown",
   "metadata": {},
   "source": [
    "Some of the information on the reaction and the reactor is given in the table below:"
   ]
  },
  {
   "cell_type": "markdown",
   "metadata": {},
   "source": [
    "<img src=\"Q2 Table.JPG\" width=\"850\" />"
   ]
  },
  {
   "cell_type": "code",
   "execution_count": 90,
   "metadata": {},
   "outputs": [],
   "source": [
    "FAo     =       0.11 #kmol.s\n",
    "FBo     =          0\n",
    "FCo     =          0\n",
    "Po      =        300 #kPa abs (kJ/m3)\n",
    "To      = 150+273.15 #K\n",
    "dHrx    =     -30000 #kJ/Kmol\n",
    "Kerg    =        0.4 #kPa/kg\n",
    "koprime =       1000 #m3/kg.s\n",
    "Ea      =      45000 #kJ/kmol\n",
    "CpA     =        200 #kJ/(kmol.K)\n",
    "dCprx   =          0 #kJ/(kmol.K)\n",
    "R       =      8.314 #kJ/(kmol.K)\n"
   ]
  },
  {
   "cell_type": "markdown",
   "metadata": {},
   "source": [
    "*Due to downstream processing requirements, the pressure at the outlet of the reactor may not be less than $150~kPa_{abs}$*"
   ]
  },
  {
   "cell_type": "markdown",
   "metadata": {},
   "source": [
    "**a) What is the *maximum conversion* that can be achieved in this reactor? Also give the corresponding amount of catalyst (𝑾) in the reactor to achieve this conversion. [11]**"
   ]
  },
  {
   "cell_type": "code",
   "execution_count": 91,
   "metadata": {},
   "outputs": [],
   "source": [
    "#P = 150 #kPa abs"
   ]
  },
  {
   "cell_type": "code",
   "execution_count": 110,
   "metadata": {},
   "outputs": [],
   "source": [
    "W = 203.2 #kg - the amount varied until P = 150kPa\n",
    "M = -dHrx/CpA #gradient for energy balance\n",
    "def Q2a(var,w):\n",
    "    FA, FB, FC, P   = var\n",
    "    Ftot   = FA + FB + FC\n",
    "    X      = (FAo - FA)/FAo\n",
    "    T      = To + M*X\n",
    "    kprime = koprime*exp(-Ea/(R*T))\n",
    "    Q      = Ftot*R*T/P\n",
    "    rA     = -kprime*FA/Q\n",
    "    rB     = -rA\n",
    "    rC     = -rA\n",
    "    dFAdW  = rA\n",
    "    dFBdW  = rB\n",
    "    dFCdW  = rC\n",
    "    dPdW   = -Kerg*(Po/P)*(Ftot/FAo)*(T/To)\n",
    "    return[dFAdW,dFBdW,dFCdW,dPdW]       "
   ]
  },
  {
   "cell_type": "code",
   "execution_count": 111,
   "metadata": {},
   "outputs": [],
   "source": [
    "wspan = linspace(0,W,100)\n",
    "init = (FAo,0,0,Po)\n",
    "sols = odeint(Q2a,init,wspan)"
   ]
  },
  {
   "cell_type": "code",
   "execution_count": 112,
   "metadata": {},
   "outputs": [
    {
     "name": "stdout",
     "output_type": "stream",
     "text": [
      "conversion= 52.50556543291963 %\n",
      "W =  203.2 kg catalyst\n",
      "P = 150.1250426613858 kPa\n"
     ]
    }
   ],
   "source": [
    "FA,FB,FC,P = sols.T\n",
    "\n",
    "XA = (FAo - FA[-1])/FAo\n",
    "\n",
    "print('conversion=', XA*100,'%')\n",
    "print('W = ',W,'kg catalyst')  \n",
    "print('P =',P[-1],'kPa')"
   ]
  },
  {
   "cell_type": "markdown",
   "metadata": {},
   "source": [
    "**b) The tube diameter of the reactor is increased by 10%. Determine the maximum conversion that can be obtained in this new reactor. Once again give the corresponding catalyst mass.[7]**"
   ]
  },
  {
   "cell_type": "markdown",
   "metadata": {},
   "source": [
    "Assuming Turbulent flow for the Ergun equation:"
   ]
  },
  {
   "cell_type": "markdown",
   "metadata": {},
   "source": [
    "\\begin{equation}\n",
    "\t\t\t\\frac{dP}{dz} = -\\dfrac{1.75G^{2}}{\\rho_{\\circ}d_{p}}\\left(\\frac{1 - \\epsilon}{\\epsilon}\\right)\\left(\\dfrac{P_{\\circ}}{P}\\frac{F_{T}}{F_{T_{\\circ}}}\\frac{T}{T_{\\circ}}\\right)\n",
    "\\end{equation}\n"
   ]
  },
  {
   "cell_type": "markdown",
   "metadata": {},
   "source": [
    "$K_{Ergun}$ units are in $\\dfrac{Pressure}{m}$\n",
    "\n",
    "\t\t"
   ]
  },
  {
   "cell_type": "markdown",
   "metadata": {},
   "source": [
    "From $ \\dfrac{dP}{dz} $, $ dz = \\dfrac{dW}{\\rho_{B}*A_{across}} $\n",
    "\t\t"
   ]
  },
  {
   "cell_type": "markdown",
   "metadata": {},
   "source": [
    "Where $ A_{across} = \\pi\\frac{D_{tube}^{2}}{4}$ therefore substituting $dz$ into equation (1) above in terms of $\\frac{dP}{dW}  $:\n",
    "$$\n",
    "\\begin{equation}\n",
    "\t\t\\frac{dP}{dW} = -\\dfrac{1.75}{\\rho_{\\circ}d_{p}}\\left(\\frac{1 - \\epsilon}{\\epsilon}\\right)\\dfrac{G^{2}}{\\rho_{B}A_{across}}\\left(\\dfrac{P_{\\circ}}{P}\\frac{F_{T}}{F_{T_{\\circ}}}\\frac{T}{T_{\\circ}}\\right)\n",
    "\\end{equation}\n",
    "$$\t\t"
   ]
  },
  {
   "cell_type": "markdown",
   "metadata": {},
   "source": [
    "$K_{Ergun}'$ units are in $\\dfrac{Pressure}{kg}$ as given, So: \n",
    "$ $\n",
    "\\begin{align}\n",
    " K_{Ergun}'  &\\propto \\dfrac{G^{2}}{\\rho_{B}A_{across}} \\nonumber\\\\\n",
    "\t\t\t  &\\propto \\dfrac{\\dot{m^{2}}/A_{across}^{2}}{\\rho_{B}A_{across}} \\nonumber \\\\\n",
    "\t\t\t  &\\propto \\dfrac{\\dot{m^{2}}}{\\rho_{B}A_{across}^{3}} \\nonumber \\\\\n",
    "\t\t\t K_{Ergun}'  &\\propto \\dfrac{\\dot{m^{2}}}{\\rho_{B}D_{Tube}^{6}} \\nonumber \\nonumber \n",
    "\\end{align}"
   ]
  },
  {
   "cell_type": "markdown",
   "metadata": {},
   "source": [
    "Therefore:\n",
    "\\begin{align}\n",
    "K_{Ergun_{NEW}}^{'} &= \\dfrac{\\dot{m^{2}}}{\\rho_{B}(1.1D_{Tube})^{6}} \\nonumber \\\\\n",
    "K_{Ergun_{NEW}}^{'} &= \\dfrac{\\dot{m^{2}}}{1.772\\rho_{B}(D_{Tube})^{6}} \\nonumber \\\\\n",
    "K_{Ergun_{NEW}}^{'} &= 1.772K_{Ergun}^{'} \\nonumber\n",
    "\\end{align}\n"
   ]
  },
  {
   "cell_type": "code",
   "execution_count": 120,
   "metadata": {},
   "outputs": [
    {
     "data": {
      "text/plain": [
       "0.22578957202151087"
      ]
     },
     "execution_count": 120,
     "metadata": {},
     "output_type": "execute_result"
    }
   ],
   "source": [
    "KergNEW = Kerg/1.1**6\n",
    "KergNEW"
   ]
  },
  {
   "cell_type": "code",
   "execution_count": 119,
   "metadata": {},
   "outputs": [
    {
     "data": {
      "text/plain": [
       "1.7715610000000008"
      ]
     },
     "execution_count": 119,
     "metadata": {},
     "output_type": "execute_result"
    }
   ],
   "source": [
    "1.1**6"
   ]
  },
  {
   "cell_type": "code",
   "execution_count": 121,
   "metadata": {},
   "outputs": [],
   "source": [
    "def Q2b(var,w):\n",
    "    FA, FB, FC, P   = var\n",
    "    Ftot   = FA + FB + FC\n",
    "    X      = (FAo - FA)/FAo\n",
    "    T      = To + M*X\n",
    "    kprime = koprime*exp(-Ea/(R*T))\n",
    "    Q      = Ftot*R*T/P\n",
    "    rA     = -kprime*FA/Q\n",
    "    rB     = -rA\n",
    "    rC     = -rA\n",
    "    dFAdW  = rA\n",
    "    dFBdW  = rB\n",
    "    dFCdW  = rC\n",
    "    dPdW   = -KergNEW*(Po/P)*(Ftot/FAo)*(T/To)\n",
    "    return[dFAdW,dFBdW,dFCdW,dPdW] "
   ]
  },
  {
   "cell_type": "code",
   "execution_count": 129,
   "metadata": {},
   "outputs": [],
   "source": [
    "W1 = 299 #keep changing this one\n",
    "wspan1 = linspace(0,W1,100)\n",
    "init1 = (FAo,0,0,Po)\n",
    "sols1 = odeint(Q2b,init1,wspan1)"
   ]
  },
  {
   "cell_type": "code",
   "execution_count": 130,
   "metadata": {},
   "outputs": [
    {
     "name": "stdout",
     "output_type": "stream",
     "text": [
      "conversion= 82.91040603743926 %\n",
      "W =  299 kg catalyst\n",
      "P = 150.33114399917594 kPa\n"
     ]
    }
   ],
   "source": [
    "FA1,FB1,FC1,P1 = sols1.T\n",
    "\n",
    "XA1 = (FAo - FA1[-1])/FAo\n",
    "\n",
    "print('conversion=', XA1*100,'%')\n",
    "print('W = ',W1,'kg catalyst')  \n",
    "print('P =',P1[-1],'kPa')"
   ]
  },
  {
   "cell_type": "code",
   "execution_count": null,
   "metadata": {},
   "outputs": [],
   "source": []
  }
 ],
 "metadata": {
  "kernelspec": {
   "display_name": "Python 3",
   "language": "python",
   "name": "python3"
  },
  "language_info": {
   "codemirror_mode": {
    "name": "ipython",
    "version": 3
   },
   "file_extension": ".py",
   "mimetype": "text/x-python",
   "name": "python",
   "nbconvert_exporter": "python",
   "pygments_lexer": "ipython3",
   "version": "3.7.3"
  }
 },
 "nbformat": 4,
 "nbformat_minor": 2
}
