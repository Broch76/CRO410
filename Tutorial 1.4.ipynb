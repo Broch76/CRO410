{
 "cells": [
  {
   "cell_type": "markdown",
   "metadata": {},
   "source": [
    "<img src=\"Tut 1.4 Fogler 4.17.jpg\" width=\"900\" />"
   ]
  },
  {
   "cell_type": "markdown",
   "metadata": {},
   "source": [
    "<img src=\"Tut 1.4.jpg\" width=\"900\" />"
   ]
  },
  {
   "cell_type": "code",
   "execution_count": 33,
   "metadata": {},
   "outputs": [],
   "source": [
    "from numpy import log, array, exp, linspace, asarray\n",
    "from scipy.integrate import odeint\n",
    "from scipy.stats import linregress \n",
    "import matplotlib.pyplot as plt\n",
    "%matplotlib inline"
   ]
  },
  {
   "cell_type": "code",
   "execution_count": 34,
   "metadata": {},
   "outputs": [],
   "source": [
    "from scipy.optimize import fsolve"
   ]
  },
  {
   "cell_type": "code",
   "execution_count": 35,
   "metadata": {},
   "outputs": [],
   "source": [
    "#delta T=0 (isothermal)\n",
    "W = 1 #kg\n",
    "#Xpbr = 0.3\n",
    "Po = 20 # kpa\n",
    "P = Po/4 # kpa\n",
    "FAo = 1 #kmol basis\n",
    "FBo = 0 #kmol - pure A was fed\n",
    "Fto = FAo + FBo"
   ]
  },
  {
   "cell_type": "code",
   "execution_count": 36,
   "metadata": {},
   "outputs": [
    {
     "name": "stdout",
     "output_type": "stream",
     "text": [
      "Conversion= 30.010169166593244 %\n",
      "Final Pressure= 5.012631601489443 atm\n"
     ]
    }
   ],
   "source": [
    "kprime = 0.695 #keep changing until final results are P=5atm and X=0.3\n",
    "K = 10.431#keep changing until final results are P=5atm and X=0.3\n",
    "\n",
    "def PBR_K(var,W):\n",
    "    [X, P] = var\n",
    "    dXdW = kprime*(((1-X)*P/(1-0.5*X)/Po)**2)\n",
    "    dPdW = -K*(1-0.5*X)*(Po/P)\n",
    "    return(dXdW, dPdW)\n",
    "\n",
    "wspan = linspace(0, W, 100)\n",
    "ans = odeint(PBR_K,[0,Po],wspan)\n",
    "\n",
    "X1,P1 = ans.T\n",
    "\n",
    "print('Conversion=', X1[-1]*100, '%')\n",
    "print('Final Pressure=', P1[-1], 'atm')\n",
    "    "
   ]
  },
  {
   "cell_type": "code",
   "execution_count": 37,
   "metadata": {},
   "outputs": [],
   "source": [
    "# Question a)"
   ]
  },
  {
   "cell_type": "code",
   "execution_count": 46,
   "metadata": {},
   "outputs": [
    {
     "name": "stdout",
     "output_type": "stream",
     "text": [
      "Conversion=  [39.50042007] %\n"
     ]
    }
   ],
   "source": [
    "def CSTR(X):\n",
    "    return(X-kprime*((1-X)/(1-0.5*X))**2)\n",
    "\n",
    "\n",
    "Conv = fsolve(CSTR,0.2)\n",
    "\n",
    "print('Conversion= ',Conv*100, '%')"
   ]
  },
  {
   "cell_type": "code",
   "execution_count": 47,
   "metadata": {},
   "outputs": [],
   "source": [
    "# Question b)"
   ]
  },
  {
   "cell_type": "code",
   "execution_count": 48,
   "metadata": {},
   "outputs": [],
   "source": [
    "kprime2 = 4*kprime\n",
    "K2 = K/4"
   ]
  },
  {
   "cell_type": "code",
   "execution_count": 50,
   "metadata": {},
   "outputs": [
    {
     "name": "stdout",
     "output_type": "stream",
     "text": [
      "New Conversion= 84.49752165006595 %\n",
      "Final Pressure= 18.09552241570655 atm\n"
     ]
    }
   ],
   "source": [
    "def PBR_b(var,W):\n",
    "    [X, P] = var\n",
    "    dXdW = kprime2*(((1-X)*P/(1-0.5*X)/Po)**2)\n",
    "    dPdW = -K2*(1-0.5*X)*(Po/P)\n",
    "    return(dXdW, dPdW)\n",
    "\n",
    "wspan = linspace(0, W, 100)\n",
    "sol = odeint(PBR_b,[0,Po],wspan)\n",
    "\n",
    "X2,P2 = sol.T\n",
    "\n",
    "print('New Conversion=', X2[-1]*100, '%')\n",
    "print('Final Pressure=', P2[-1], 'atm')"
   ]
  },
  {
   "cell_type": "code",
   "execution_count": null,
   "metadata": {},
   "outputs": [],
   "source": []
  }
 ],
 "metadata": {
  "kernelspec": {
   "display_name": "Python 3",
   "language": "python",
   "name": "python3"
  },
  "language_info": {
   "codemirror_mode": {
    "name": "ipython",
    "version": 3
   },
   "file_extension": ".py",
   "mimetype": "text/x-python",
   "name": "python",
   "nbconvert_exporter": "python",
   "pygments_lexer": "ipython3",
   "version": "3.6.4"
  }
 },
 "nbformat": 4,
 "nbformat_minor": 2
}
