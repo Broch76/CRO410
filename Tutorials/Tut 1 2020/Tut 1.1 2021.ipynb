{
 "cells": [
  {
   "cell_type": "code",
   "execution_count": 695,
   "metadata": {},
   "outputs": [],
   "source": [
    "from numpy import *\n",
    "from scipy.optimize import fsolve\n",
    "from scipy.integrate import odeint\n",
    "from matplotlib import pyplot as plt\n",
    "from scipy.interpolate import interp1d\n",
    "from scipy.integrate import solve_ivp\n",
    "%matplotlib inline"
   ]
  },
  {
   "cell_type": "markdown",
   "metadata": {},
   "source": [
    "*A liquid phase reaction (stoichiometry given below) needs to be processed in a continuous reactor system (operated isothermally)*\n",
    "$$\n",
    "A + P \\rightarrow 2P\n",
    "$$"
   ]
  },
  {
   "cell_type": "markdown",
   "metadata": {},
   "source": [
    "Details on the reaction rate (based on component A) are given below:\n",
    "\n",
    " $\\qquad \\qquad \\qquad$$-r_{A} =kC_{A}C_{B} \\qquad $$ k = 1\\dfrac{1L}{mol.min} \\qquad $"
   ]
  },
  {
   "cell_type": "markdown",
   "metadata": {},
   "source": [
    "A feed with $C_{A_{0}} = 1~\\dfrac{mol}{L}$ and $C_{P_{0}} = 0.02~\\dfrac{mol}{L}$ is fed to the reactor at a flow rate of $Q = 2.5~\\dfrac{L}{min}$. A conversion of $A$ of $85\\%$ is required.|"
   ]
  },
  {
   "cell_type": "markdown",
   "metadata": {},
   "source": [
    "**a) Determine the volume of a single CSTR that will be required to achieve the desired conversion.**"
   ]
  },
  {
   "cell_type": "code",
   "execution_count": 696,
   "metadata": {},
   "outputs": [],
   "source": [
    "k   =    1 #L/mol.min\n",
    "CAo =    1 #mol/L\n",
    "CPo = 0.02 #mol/L\n",
    "Q   =  2.5 #L/min\n",
    "X   = 0.85"
   ]
  },
  {
   "cell_type": "markdown",
   "metadata": {},
   "source": [
    "CSTR design equation:\n",
    "\\begin{align}\n",
    "F_{A_{0}} - F_{A} + r_{A}V &= 0 \\nonumber \\\\\n",
    "QC_{A_{0}} - QC_{A} &= -r_{A}V \\nonumber \\\\\n",
    "Q(C_{A_{0}} - C_{A_{0}}(1 - X)) &= -r_{A}V \\nonumber \\\\\n",
    "-r_{A} &= \\dfrac{QC_{A_{0}}X}{V} \\nonumber\n",
    "\\end{align}"
   ]
  },
  {
   "cell_type": "markdown",
   "metadata": {},
   "source": [
    "Rate equation:\n",
    "\\begin{align}\n",
    "r_{A} &= -kC_{A}C_{P} \\nonumber \\\\\n",
    "&= -kC_{A_{0}}(1 - X_{A})(C_{P_{0}} + CA_{0}X_{A}) \\nonumber\n",
    "\\end{align}"
   ]
  },
  {
   "cell_type": "code",
   "execution_count": 697,
   "metadata": {},
   "outputs": [
    {
     "data": {
      "text/plain": [
       "-0.1305"
      ]
     },
     "execution_count": 697,
     "metadata": {},
     "output_type": "execute_result"
    }
   ],
   "source": [
    "rA = -k*CAo*(1 - X)*(CPo + CAo*X)\n",
    "rA"
   ]
  },
  {
   "cell_type": "code",
   "execution_count": 698,
   "metadata": {},
   "outputs": [
    {
     "name": "stdout",
     "output_type": "stream",
     "text": [
      "CSTR Volume = 16.28352490421456 L\n"
     ]
    }
   ],
   "source": [
    "V = Q*CAo*X/(-rA)\n",
    "print('CSTR Volume = '+str(V)+' L')"
   ]
  },
  {
   "cell_type": "markdown",
   "metadata": {},
   "source": [
    "**b) Determine the volume of a single PFR that will be required to achieve the desired conversion**"
   ]
  },
  {
   "cell_type": "markdown",
   "metadata": {},
   "source": [
    "PFR design equation:\n",
    "\\begin{align}\n",
    "\\dfrac{dF_{j}}{dV} &= r_{j} \\nonumber \\\\\n",
    "Q\\dfrac{dC_{j}}{dV} &= r_{j} \\nonumber\n",
    "\\end{align}"
   ]
  },
  {
   "cell_type": "code",
   "execution_count": 699,
   "metadata": {},
   "outputs": [],
   "source": [
    "def PFR (C,V):\n",
    "    CA, CP = C\n",
    "    rA     = -k*CA*CP\n",
    "    rP     = -rA\n",
    "    dCAdV  = rA/Q\n",
    "    dCPdV  = rP/Q\n",
    "    return[dCAdV, dCPdV]"
   ]
  },
  {
   "cell_type": "code",
   "execution_count": 700,
   "metadata": {},
   "outputs": [
    {
     "name": "stdout",
     "output_type": "stream",
     "text": [
      "Conversion = 85.00903455748961% \n"
     ]
    }
   ],
   "source": [
    "V = 13.8985\n",
    "Vspan = linspace(0,V, 100) #keep changing volume until X=85%\n",
    "init = [CAo, CPo]\n",
    "sols = odeint(PFR, init, Vspan)\n",
    "\n",
    "CA, CP = sols.T\n",
    "X1 = (CAo - CA[-1])/CAo\n",
    "print('Conversion = '+str(X1*100)+'% ')"
   ]
  },
  {
   "cell_type": "markdown",
   "metadata": {},
   "source": [
    "So the Volume required for a PFR to achieve $85\\%$ conversion is $13.9~L$"
   ]
  },
  {
   "cell_type": "markdown",
   "metadata": {},
   "source": [
    "**c) Determine the conversion of A that can be achieved in two $8 𝐿$ CSTR reactors that are operated in series**"
   ]
  },
  {
   "cell_type": "code",
   "execution_count": 701,
   "metadata": {},
   "outputs": [],
   "source": [
    "V1 = V2 = 8 #L each"
   ]
  },
  {
   "cell_type": "markdown",
   "metadata": {},
   "source": [
    "Overall conversion for the two CSTRs:\n",
    "\\begin{align}\n",
    "X_{T} &= \\dfrac{CA_{in} - CA_{out}}{CA_{in}} \\nonumber \\\\\n",
    " &= \\dfrac{CA_{0} - CA_{2}}{CA_{0}} \\nonumber\n",
    "\\end{align}"
   ]
  },
  {
   "cell_type": "markdown",
   "metadata": {},
   "source": [
    "Equations for CSTR1:\n",
    "\\begin{align}\n",
    "CA_{1} &= CA_{0}(1 - X_{1}) \\nonumber \\\\\n",
    "X_{1} &= \\dfrac{CA_{0} - CA_{1}}{CA_{0}} \\nonumber\n",
    "\\end{align}"
   ]
  },
  {
   "cell_type": "markdown",
   "metadata": {},
   "source": [
    "Equations for CSTR2:\n",
    "\\begin{align}\n",
    "CA_{1} &= CA_{0,2} \\nonumber \\\\\n",
    "CA &= CA_{0,2}(1 - X_{2}) \\nonumber \\\\\n",
    " &= CA_{0}(1 - X_{1})(1 - X_{2}) \\nonumber \\\\\n",
    "X_{2} &= \\dfrac{CA_{0,2} - CA_{2}}{CA_{0,2}} \\nonumber\n",
    "\\end{align}"
   ]
  },
  {
   "cell_type": "markdown",
   "metadata": {},
   "source": [
    "Overall conversion:\n",
    "\\begin{align}\n",
    "CA &= CA_{0,2}(1 - X_{2}) \\nonumber \\\\\n",
    "CA_{0}(1 - X_{T}) &= CA_{0}(1 - X_{1})(1 - X_{2}) \\nonumber \\\\\n",
    "(1 - X_{T}) &= (1 - X_{1})(1 - X_{2})\\nonumber \\\\\n",
    "X_{T} &= 1 - (1 - X_{1})(1 - X_{2})\\nonumber\n",
    "\\end{align}"
   ]
  },
  {
   "cell_type": "markdown",
   "metadata": {},
   "source": [
    "Rate equations:\n",
    "    \\begin{align}\n",
    "        rA_{1} &= \\dfrac{-CA_{0}QX_{1}}{V_{1}} \\nonumber \\\\\n",
    "        rA_{1} &= -kCA_{0}(1 - X_{1})(CP_{0} + CA_{0}X_{1}) \\nonumber \\\\\n",
    "        rA_{2} &= \\dfrac{-CA_{0}(1 - X_{1})QX_{2}}{V_{2}} \\nonumber \\\\\n",
    "        rA_{2} &= -kCA_{0}(1 - X_{1})(1 - X_{2})(CP_{0} + CA_{0}X_{1} + CA_{0}(1 - X_{1})X_{2}) \\nonumber\n",
    "    \\end{align}"
   ]
  },
  {
   "cell_type": "code",
   "execution_count": 702,
   "metadata": {},
   "outputs": [],
   "source": [
    "def CSTRc(var):  \n",
    "    X11, X22 = var\n",
    "    rA1 = -k*CAo*(1 - X11)*(CPo + CAo*X11)\n",
    "    rA2 = -k*CAo*(1 - X11)*(1 - X22)*(CPo + CAo*X11 + CAo*(1 - X11)*X22)\n",
    "    eq1 = rA1 - (-CAo*Q*X11/V1)\n",
    "    eq2 = rA2 - (-CAo*(1 - X11)*Q*X22/V2)\n",
    "    return [eq1,eq2]"
   ]
  },
  {
   "cell_type": "code",
   "execution_count": 703,
   "metadata": {},
   "outputs": [
    {
     "data": {
      "text/plain": [
       "array([0.69622629, 0.75138789])"
      ]
     },
     "execution_count": 703,
     "metadata": {},
     "output_type": "execute_result"
    }
   ],
   "source": [
    "guess = [0.6, 0.5]\n",
    "\n",
    "ans = fsolve(CSTRc,guess)\n",
    "ans"
   ]
  },
  {
   "cell_type": "code",
   "execution_count": 704,
   "metadata": {},
   "outputs": [
    {
     "name": "stdout",
     "output_type": "stream",
     "text": [
      "Total Conversion = 92.44781767890908%\n",
      "Conversion after Rx1 = 69.6226292328201 %\n",
      "Conversion after Rx2 = 75.13878874188018 %\n"
     ]
    }
   ],
   "source": [
    "Xtot = 1 - (1 - ans[0])*(1 - ans[1])\n",
    "print('Total Conversion = '+str(Xtot*100)+'%')\n",
    "print('Conversion after Rx1 = '+str(ans[0]*100)+' %')\n",
    "print('Conversion after Rx2 = '+str(ans[1]*100)+' %')"
   ]
  },
  {
   "cell_type": "markdown",
   "metadata": {},
   "source": [
    "**d) Determine the conversion of A that can be achieved in two $8 𝐿$ PFR reactors operated in series**"
   ]
  },
  {
   "cell_type": "markdown",
   "metadata": {},
   "source": [
    "Two PFRs of 8L each would be the same as a single PFR of 16L."
   ]
  },
  {
   "cell_type": "code",
   "execution_count": 705,
   "metadata": {},
   "outputs": [
    {
     "name": "stdout",
     "output_type": "stream",
     "text": [
      "Total Conversion = 93.05203950621741%\n"
     ]
    }
   ],
   "source": [
    "Vd = 16\n",
    "Vspan = linspace(0,Vd, 100) #keep changing volume until X=85%\n",
    "init = [CAo, CPo]\n",
    "sols = odeint(PFR, init, Vspan)\n",
    "\n",
    "CA, CP = sols.T\n",
    "Xd = (CAo - CA[-1])/CAo\n",
    "print('Total Conversion = '+str(Xd*100)+'%')"
   ]
  },
  {
   "cell_type": "markdown",
   "metadata": {},
   "source": [
    "**e) Determine the minimum total reactor volume required that will result in the desired $85$% conversion if you are allowed to use more than one reactor in series. Also specify the type of reactors used, the volume of each individual reactor and the sequence of the reactors that you suggest. Provide proof – in the form of a graph – that your design satisfies the conditions set out in this question**"
   ]
  },
  {
   "cell_type": "code",
   "execution_count": 706,
   "metadata": {},
   "outputs": [],
   "source": [
    "xspan = linspace(0, 0.9999, 101)\n",
    "rA1 = k*CAo*(1 - xspan)*(CPo + CAo*xspan)\n",
    "rate = 1/rA1"
   ]
  },
  {
   "cell_type": "code",
   "execution_count": 707,
   "metadata": {},
   "outputs": [
    {
     "data": {
      "image/png": "[encoded data removed]",
      "text/plain": [
       "<Figure size 432x288 with 1 Axes>"
      ]
     },
     "metadata": {
      "needs_background": "light"
     },
     "output_type": "display_data"
    }
   ],
   "source": [
    "plt.figure(1)\n",
    "plt.plot(xspan, rate, color='blue', label='-1/rA')\n",
    "plt.ylabel('Depletion rate') \n",
    "plt.xlabel('Conversion') \n",
    "plt.show()"
   ]
  },
  {
   "cell_type": "markdown",
   "metadata": {},
   "source": [
    "From the above Levenspiel diagram, the best series reactors is a CSTR is fit so that it fits on the minimum of the graph, followed by a PFR to $85~\\%$ conversion. This will minimise the total volume required."
   ]
  },
  {
   "cell_type": "code",
   "execution_count": 708,
   "metadata": {},
   "outputs": [
    {
     "data": {
      "text/plain": [
       "3.844675160442388"
      ]
     },
     "execution_count": 708,
     "metadata": {},
     "output_type": "execute_result"
    }
   ],
   "source": [
    "MaxRate = min(rate)\n",
    "MaxRate"
   ]
  },
  {
   "cell_type": "code",
   "execution_count": 709,
   "metadata": {},
   "outputs": [
    {
     "name": "stdout",
     "output_type": "stream",
     "text": [
      "CSTR Conversion = 48.9951%\n"
     ]
    }
   ],
   "source": [
    "i = argmax(-rate==max(-rate))\n",
    "Xmin = xspan[i]\n",
    "print('CSTR Conversion = '+str(Xmin*100)+'%')"
   ]
  },
  {
   "cell_type": "markdown",
   "metadata": {},
   "source": [
    "Now that we have the conversion rate of the CSTR, we can use this to calculate rA to apply to the CSTR design equation to calculate the volume of this CSTR."
   ]
  },
  {
   "cell_type": "code",
   "execution_count": 710,
   "metadata": {},
   "outputs": [
    {
     "data": {
      "text/plain": [
       "-0.260099997599"
      ]
     },
     "execution_count": 710,
     "metadata": {},
     "output_type": "execute_result"
    }
   ],
   "source": [
    "Xcstr  = Xmin\n",
    "rAcstr = -k*CAo*(1 - Xcstr)*(CPo + CAo*Xcstr)\n",
    "rAcstr"
   ]
  },
  {
   "cell_type": "code",
   "execution_count": 711,
   "metadata": {},
   "outputs": [
    {
     "name": "stdout",
     "output_type": "stream",
     "text": [
      "CSTR Volume = 4.709256098834771 L\n"
     ]
    }
   ],
   "source": [
    "Vcstr = Q*CAo*Xcstr/(-rAcstr)\n",
    "print('CSTR Volume = '+str(Vcstr)+' L')"
   ]
  },
  {
   "cell_type": "markdown",
   "metadata": {},
   "source": [
    "Next, the inlet concentration for the PFR will be the same as the outlet concentration of the CSTR:"
   ]
  },
  {
   "cell_type": "code",
   "execution_count": 712,
   "metadata": {},
   "outputs": [
    {
     "name": "stdout",
     "output_type": "stream",
     "text": [
      "CSTR outlet concentration A = 0.510049 molA/L\n",
      "CSTR outlet concentration P = 0.509951 molP/L\n"
     ]
    }
   ],
   "source": [
    "CAo1 = CAo*(1 - Xcstr)\n",
    "CPo1 = (CPo + CAo*Xcstr)\n",
    "print('CSTR outlet concentration A = '+str(CAo1)+' molA/L')\n",
    "print('CSTR outlet concentration P = '+str(CPo1)+' molP/L')"
   ]
  },
  {
   "cell_type": "markdown",
   "metadata": {},
   "source": [
    "The above outlet will be pumped into the PFR."
   ]
  },
  {
   "cell_type": "markdown",
   "metadata": {},
   "source": [
    "Since the total conversion is given, and we now know the conversion of the CSTR, we can calculate what the conversion of the PFR needs to be:"
   ]
  },
  {
   "cell_type": "code",
   "execution_count": 713,
   "metadata": {},
   "outputs": [
    {
     "data": {
      "text/plain": [
       "0.7058823529411764"
      ]
     },
     "execution_count": 713,
     "metadata": {},
     "output_type": "execute_result"
    }
   ],
   "source": [
    "(0.51-0.15)/0.51"
   ]
  },
  {
   "cell_type": "markdown",
   "metadata": {},
   "source": [
    "For $85\\%$ overall conversion we know that $C_{A_{out}} = 0.15~mol/L$ therefore:\n",
    "\\begin{align}\n",
    "X_{2} &= \\dfrac{C_{A1_{0}} - C_{A_{out}}}{C_{A1_{0}}} \\nonumber \\\\\n",
    "&= \\dfrac{0.51 - 0.15}{0.51} \\nonumber \\\\\n",
    "&= 0.71 \\nonumber\n",
    "\\end{align}"
   ]
  },
  {
   "cell_type": "code",
   "execution_count": 714,
   "metadata": {},
   "outputs": [
    {
     "data": {
      "text/plain": [
       "0.7060183941932023"
      ]
     },
     "execution_count": 714,
     "metadata": {},
     "output_type": "execute_result"
    }
   ],
   "source": [
    "Vpfr = 4.31\n",
    "Vspan1 = linspace(0,Vpfr, 100) #keep changing volume until X=85%\n",
    "init1 = [CAo1, CPo1]\n",
    "sols1 = odeint(PFR, init1, Vspan1)\n",
    "\n",
    "CA1, CP1 = sols1.T\n",
    "X2 = (CAo1 - CA1[-1])/CAo1\n",
    "X2"
   ]
  },
  {
   "cell_type": "code",
   "execution_count": 715,
   "metadata": {},
   "outputs": [
    {
     "name": "stdout",
     "output_type": "stream",
     "text": [
      "PFR Volume = 4.31 L\n"
     ]
    }
   ],
   "source": [
    "print('PFR Volume = '+str(Vpfr)+' L')"
   ]
  },
  {
   "cell_type": "code",
   "execution_count": 716,
   "metadata": {},
   "outputs": [
    {
     "data": {
      "text/plain": [
       "9.01925609883477"
      ]
     },
     "execution_count": 716,
     "metadata": {},
     "output_type": "execute_result"
    }
   ],
   "source": [
    "# Total volume therefore:\n",
    "Vtotal = Vcstr + Vpfr\n",
    "Vtotal"
   ]
  },
  {
   "cell_type": "markdown",
   "metadata": {},
   "source": [
    "Volume of the CSTR is $4.71~L$, volume of the PFR is $4.31~L$."
   ]
  },
  {
   "cell_type": "markdown",
   "metadata": {},
   "source": [
    "Total reactor volume required is $9.02~L$"
   ]
  },
  {
   "cell_type": "markdown",
   "metadata": {},
   "source": [
    "**f) Test your skills: Determine the reactor volume for which both a CSTR and a PFR will give the same conversion. Report the conversion as well as that reactor volume.**"
   ]
  },
  {
   "cell_type": "markdown",
   "metadata": {},
   "source": [
    "So, what I understand from this question, it is asking what V = Vcstr = Vpfr, which will give the same conversion, i.e. X = Xcstr = Xpfr"
   ]
  },
  {
   "cell_type": "code",
   "execution_count": 717,
   "metadata": {},
   "outputs": [],
   "source": [
    "Xfspan  = linspace(0.1, 0.9, 100)\n",
    "Volume  = []\n",
    "PFRconv = []\n",
    "\n",
    "for vals in Xfspan:\n",
    "    Xcstr = vals\n",
    "    rAcstr  = -k*CAo*(1 - Xcstr)*(CPo + CAo*Xcstr)\n",
    "    V2       = Q*CAo*Xcstr/(-rAcstr)\n",
    "    \n",
    "    def PFR2 (C,V):\n",
    "        CA, CP = C\n",
    "        rA     = -k*CA*CP\n",
    "        rP     = -rA\n",
    "        dCAdV  = rA/Q\n",
    "        dCPdV  = rP/Q\n",
    "        return[dCAdV, dCPdV]\n",
    "    \n",
    "    \n",
    "    vspan   = linspace(0, V2, 100)\n",
    "    init2   = [CAo, CPo]\n",
    "    ans2    = odeint(PFR2, init2, vspan)\n",
    "    \n",
    "    CA2, CP2  = ans2.T\n",
    "    Xpfr    = (CAo - CA2[-1])/CAo\n",
    "    \n",
    "    Volume.append(V2)\n",
    "    PFRconv.append(Xpfr)\n",
    "    \n",
    "    \n",
    "    \n",
    "    "
   ]
  },
  {
   "cell_type": "markdown",
   "metadata": {},
   "source": [
    "The initial conversion spread was done from 0 to 0.999. I managed to get a figure and seeing where the two conversion curves for the CSTR and PFR intersected, I changed the conversion spread to narrow down the graph. I probably could've added the scale to the plot but it was easier just fiddling with the spread, Xfspan until the graph focussed on the intersection."
   ]
  },
  {
   "cell_type": "code",
   "execution_count": 718,
   "metadata": {},
   "outputs": [
    {
     "data": {
      "image/png": "[encoded data removed]",
      "text/plain": [
       "<Figure size 432x288 with 1 Axes>"
      ]
     },
     "metadata": {
      "needs_background": "light"
     },
     "output_type": "display_data"
    }
   ],
   "source": [
    "plt.figure(2)\n",
    "plt.plot(Volume, Xfspan, color='blue', label='XAcstr')\n",
    "plt.plot(Volume, PFRconv, color='green', label='XApfr')\n",
    "plt.ylabel('Conversion A') \n",
    "plt.xlabel('Volume [L]') \n",
    "plt.show()"
   ]
  },
  {
   "cell_type": "markdown",
   "metadata": {},
   "source": [
    "Visualising with a graph is sometimes easier, so I decided to make another graph of the difference between the two reactor conversions. Obviously, I would now want the volume where the new curve equals to zero, but since there are two zeroes, one in the beginning and one I am interested in, I changed the spread on Xfspan to start at 0.1. Then I can simply used the numpy interp command to get the volume at the zero."
   ]
  },
  {
   "cell_type": "code",
   "execution_count": 719,
   "metadata": {},
   "outputs": [
    {
     "data": {
      "image/png": "[encoded data removed]",
      "text/plain": [
       "<Figure size 432x288 with 1 Axes>"
      ]
     },
     "metadata": {
      "needs_background": "light"
     },
     "output_type": "display_data"
    }
   ],
   "source": [
    "plt.figure(3)\n",
    "diff = Xfspan-PFRconv\n",
    "plt.plot(Volume, diff , color='red')\n",
    "plt.ylabel('Conversion diff') \n",
    "plt.xlabel('Volume [L]') \n",
    "plt.show()"
   ]
  },
  {
   "cell_type": "code",
   "execution_count": 720,
   "metadata": {},
   "outputs": [
    {
     "name": "stdout",
     "output_type": "stream",
     "text": [
      "The volume of each reactor = 13.319371863312087L\n"
     ]
    }
   ],
   "source": [
    "Vf = interp(0.00,diff[::-1],Volume[::-1])\n",
    "print ('The volume of each reactor = ' +str(Vf) + 'L')"
   ]
  },
  {
   "cell_type": "code",
   "execution_count": 721,
   "metadata": {},
   "outputs": [],
   "source": [
    "# detect intersection by change in sign of difference\n",
    "#d = Xfspan - PFRconv\n",
    "#for i in range(len(d) - 1 ):\n",
    "#    if d[i] == 0. or d[i] * d[i + 1] < 0.:\n",
    "        # crossover at i\n",
    "#        Vf = Volume[i]"
   ]
  },
  {
   "cell_type": "code",
   "execution_count": 722,
   "metadata": {},
   "outputs": [],
   "source": [
    "#Vf  I didn't get the correct answer. It was a bit low. Didn't feel like exploring this path further. Opted for an easier method"
   ]
  },
  {
   "cell_type": "markdown",
   "metadata": {},
   "source": [
    "Now that I have the volume, lets test the overall conversion for the CSTR and PFR respectively. If I get the same conversion, then I know I have the correct answer."
   ]
  },
  {
   "cell_type": "code",
   "execution_count": 723,
   "metadata": {},
   "outputs": [
    {
     "name": "stdout",
     "output_type": "stream",
     "text": [
      "The PFR conversion = 81.72914326939019% \n"
     ]
    }
   ],
   "source": [
    "Vrx = linspace(0, Vf, 100)\n",
    "init = [CAo, CPo]\n",
    "\n",
    "PFRans = odeint(PFR, init, Vrx)\n",
    "CA, CP = PFRans.T\n",
    "\n",
    "Xpfr = (CAo - CA[-1])/CAo\n",
    "print('The PFR conversion = '+str(Xpfr*100)+'% ')"
   ]
  },
  {
   "cell_type": "markdown",
   "metadata": {},
   "source": [
    "Now plug this in to the CSTR rate and design formulae to see if we get the same volume."
   ]
  },
  {
   "cell_type": "code",
   "execution_count": 724,
   "metadata": {},
   "outputs": [
    {
     "name": "stdout",
     "output_type": "stream",
     "text": [
      "The CSTR volume= 13.356153309847153L\n"
     ]
    }
   ],
   "source": [
    "rAcstrf  = -k*CAo*(1 - Xpfr)*(CPo + CAo*Xpfr)\n",
    "Vnew     = Q*CAo*Xpfr/(-rAcstrf)\n",
    "print('The CSTR volume= '+str(Vnew)+'L')"
   ]
  },
  {
   "cell_type": "markdown",
   "metadata": {},
   "source": [
    "$Vf = 13.32L \\approx 13.36L = Vnew$"
   ]
  },
  {
   "cell_type": "markdown",
   "metadata": {},
   "source": [
    "So lets say the common Volume is $13.34L$ for each of the reactors respectively to have an equal conversion of $X_{A} = 81.73\\%$"
   ]
  },
  {
   "cell_type": "markdown",
   "metadata": {},
   "source": [
    "--------------------------------------------------------------------------------------------------"
   ]
  },
  {
   "cell_type": "markdown",
   "metadata": {},
   "source": [
    "Notes:\n",
    "\n",
    "- Use scipy.integrate.solve_ivp (or import solve_ivp from scipy.integrate) to solve for the volume of the PFR reactor. Use an event function to find the volume where the conversion reaches the specified value.\n",
    "- To find the maximum value in an array of values – like rates calculated at different conversion (𝑥𝑥) values, use maxrate = numpy.max(rates). To find the corresponding 𝑥𝑥-value at that maximum rate, use indexing: x_at_max = x[rates==maxrate]\n",
    "- Be careful of “confusion of variables” if you choose to have one single notebook file for your entire problem. Re-using the same variable name in different sections can result in “unexplainable errors” if you are not diligent.\n"
   ]
  },
  {
   "cell_type": "markdown",
   "metadata": {},
   "source": [
    "**What follows is Elizbe's suggested method using solve_ivp for the PFR**"
   ]
  },
  {
   "cell_type": "code",
   "execution_count": 725,
   "metadata": {},
   "outputs": [
    {
     "data": {
      "text/plain": [
       "  message: 'A termination event occurred.'\n",
       "     nfev: 56\n",
       "     njev: 0\n",
       "      nlu: 0\n",
       "      sol: <scipy.integrate._ivp.common.OdeSolution object at 0x000002BDE25BEDD8>\n",
       "   status: 1\n",
       "  success: True\n",
       "        t: array([ 0.        ,  0.12923882,  1.42162701,  4.40302253,  8.18995302,\n",
       "       12.65969089, 14.70585249, 15.02164668])\n",
       " t_events: [array([13.89094149]), array([15.02164668])]\n",
       "        y: array([[2.5       , 2.49734868, 2.46205132, 2.2756072 , 1.62800815,\n",
       "        0.56548839, 0.28061043, 0.25      ],\n",
       "       [0.05      , 0.05265132, 0.08794868, 0.2743928 , 0.92199185,\n",
       "        1.98451161, 2.26938957, 2.3       ]])"
      ]
     },
     "execution_count": 725,
     "metadata": {},
     "output_type": "execute_result"
    }
   ],
   "source": [
    "fao = Q*CAo\n",
    "fpo = Q*CPo\n",
    "def DEs(v,var):\n",
    "    fa, fp = var\n",
    "    ca = fa/Q\n",
    "    cp = fp/Q\n",
    "    ra = -k*ca*cp\n",
    "    rp = -ra\n",
    "    dfadv = ra\n",
    "    dfpdv = rp\n",
    "    return [dfadv, dfpdv]\n",
    "\n",
    "def event_85(v,var):\n",
    "    fa, fp = var\n",
    "    fatarget = fao*(1-X)\n",
    "    return fa - fatarget\n",
    "\n",
    "def stop_at_90(v,var):\n",
    "    fa, fp = var\n",
    "    xfin = 0.9 #I want the integration to stop when conversion is 90%\n",
    "    fafin = fao*(1-xfin)\n",
    "    return fa - fafin\n",
    "\n",
    "stop_at_90.terminal = True\n",
    "\n",
    "vrange = [0,20]\n",
    "init = [fao,fpo]\n",
    "answer = solve_ivp(DEs, vrange, init, events = [event_85, stop_at_90], dense_output = True)\n",
    "answer"
   ]
  },
  {
   "cell_type": "code",
   "execution_count": 726,
   "metadata": {},
   "outputs": [
    {
     "name": "stdout",
     "output_type": "stream",
     "text": [
      " The volume of a PFR to convert 0.85 of A = 13.9 L\n"
     ]
    }
   ],
   "source": [
    "v_pfr = float(answer.t_events[0])\n",
    "print(f' The volume of a PFR to convert {X} of A = {round(v_pfr,1)} L')"
   ]
  },
  {
   "cell_type": "code",
   "execution_count": 727,
   "metadata": {},
   "outputs": [
    {
     "data": {
      "text/plain": [
       "Text(0.5, 0, 'V in $L$')"
      ]
     },
     "execution_count": 727,
     "metadata": {},
     "output_type": "execute_result"
    },
    {
     "data": {
      "image/png": "[encoded data removed]",
      "text/plain": [
       "<Figure size 432x288 with 1 Axes>"
      ]
     },
     "metadata": {
      "needs_background": "light"
     },
     "output_type": "display_data"
    }
   ],
   "source": [
    "#show how to get values for fa and fp from solve_ivp: ask it to interpolate at a range of v\n",
    "#values. dense_output = True must be an option in the function\n",
    "#use the .sol attribute to get the y values (in this case fa and fp) at the specified t values\n",
    "#in this case the specified vspan\n",
    "vtot   = float(answer.t_events[1])\n",
    "vspan  = linspace(0,vtot)\n",
    "fa, fp = answer.sol(vspan)\n",
    "plt.plot(vspan, fa, vspan, fp)\n",
    "plt.scatter(v_pfr, fao*(1-X))\n",
    "plt.ylabel('F$_{A}$, F$_{P}$')\n",
    "plt.vlines(x = v_pfr, ymin = 0, ymax = fao, color = 'green')\n",
    "plt.xlabel('V in $L$')\n",
    "#note the inflection in the Fa and Fp slopes where the rate is at a maximum"
   ]
  },
  {
   "cell_type": "code",
   "execution_count": null,
   "metadata": {},
   "outputs": [],
   "source": []
  }
 ],
 "metadata": {
  "kernelspec": {
   "display_name": "Python 3",
   "language": "python",
   "name": "python3"
  },
  "language_info": {
   "codemirror_mode": {
    "name": "ipython",
    "version": 3
   },
   "file_extension": ".py",
   "mimetype": "text/x-python",
   "name": "python",
   "nbconvert_exporter": "python",
   "pygments_lexer": "ipython3",
   "version": "3.7.3"
  }
 },
 "nbformat": 4,
 "nbformat_minor": 2
}
