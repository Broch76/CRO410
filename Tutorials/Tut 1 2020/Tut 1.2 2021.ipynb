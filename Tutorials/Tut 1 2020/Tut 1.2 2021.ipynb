{
 "cells": [
  {
   "cell_type": "code",
   "execution_count": 34,
   "metadata": {},
   "outputs": [],
   "source": [
    "from numpy import *\n",
    "from scipy.optimize import fsolve\n",
    "from scipy.integrate import odeint\n",
    "from matplotlib import pyplot as plt\n",
    "from scipy.interpolate import interp1d\n",
    "from scipy.integrate import solve_ivp\n",
    "%matplotlib inline"
   ]
  },
  {
   "cell_type": "markdown",
   "metadata": {},
   "source": [
    "2. The following catalyzed gas phase reaction is studied in a packed bed reactor:\n",
    "\\begin{equation}\n",
    "A + 2B \\rightarrow C\n",
    "\\end{equation}\n"
   ]
  },
  {
   "cell_type": "markdown",
   "metadata": {},
   "source": [
    "The reaction is zero order with respect to $A$ and first order with respect to the partial pressure of $B$. The specific rate constant ($k^{'}$) at $170^{\\circ}C$ (the reactor temperature) is given as $0.05~\\dfrac{mol~A}{kg.minute.atm_{B}}$. The total molar feed flow rate is $40~mol/min$ ($33\\%~A$ and $67\\%~B$). The inlet pressure is $5~atm$."
   ]
  },
  {
   "cell_type": "markdown",
   "metadata": {},
   "source": [
    "**Additional information:**\n",
    "\n",
    "- Average molecular weight of inlet – $30 g/mol$\n",
    "- Bed porosity – $0.4$\n",
    "- Reactor diameter – $0.085~m$\n",
    "- Catalyst diameter – $3~mm$\n",
    "- Gas viscosity – $2e-5~kg/ms$\n",
    "- Packed bed density – $1000~kg/m3$\n"
   ]
  },
  {
   "cell_type": "markdown",
   "metadata": {},
   "source": [
    "**Note:** PLEASE do not confuse the bed density $\\rho_{B}$ with the GAS density at the inlet $\\rho_{0}$. The bed density is needed to convert the units of the Ergun equation from $\\dfrac{P_{a}}{m}$ to $\\dfrac{P_{a}}{kg}$  while the gas density is one of the parameters in the Ergun equation."
   ]
  },
  {
   "cell_type": "markdown",
   "metadata": {},
   "source": [
    "**Hints:**\n",
    "- Rate expressions of gas phase reactions are often expressed in terms of the partial pressures of the reactants instead of the concentration.–of course there is a direct link. This is true in this case. In addition the rate of depletion of $A$ is first order in terms of the partial pressure of $B$: $-r_{a}^{’} = k^{’}p_{B} = -k^{’}y_{B}P= -k^{’}( F_{B}/F_{T})P$, with variables $F_{B}$, $P$, and $F_{T} = F_{A} + F_{B} + F_{C}$\n",
    "- It is a good exercise to reduce the number of variables to two ($X_{A}$ and $P$) AND to see if you can solve it if you keep the number of variables ($4$) as specified above. In each case the number of differential equations needs to match the number of variables.\n",
    "- Note that the Ergun equations for **isothermal gas phase flow** in a packed bed can be written as $\\dfrac{dP}{dW} = -K\\dfrac{P_{0}}{P} \\dfrac{F_{T}}{F_{T_{0}}} $. This is true if we use the ideal gas law to get the gas density in terms of the dependent variables $𝑃$,$𝑇$,$𝐹_{T}$ Careful with the units!!! In the rate expression P must be in $atm$ in the given rate equation, while the $P$ in the Ergun equation is in $P_{a}$ if all the parameters in $K$ are substituted in SI units. In SI units I get a value of: $K = 3184.4~P_{a}.kg^{-1}$ if I DO NOT apply the turbulent flow simplification.\n",
    "- Use a termination event in solve_ivp to make sure the pressure does not fall below zero – this will give you CRAZY profiles. In fact, you can specify more than one termination event. Add one that stops the integration as soon as the conversion reaches $60\\%$."
   ]
  },
  {
   "cell_type": "markdown",
   "metadata": {},
   "source": [
    "-----------------------------------------------------------"
   ]
  },
  {
   "cell_type": "code",
   "execution_count": 35,
   "metadata": {},
   "outputs": [],
   "source": [
    "Fto     =                40/60 #mol/s\n",
    "FAo     =             0.33*Fto #mol/s\n",
    "FBo     =             0.67*Fto #mol/s\n",
    "FCo     =                    0 #mol/s\n",
    "Po      =            5*101.325 #kpa"
   ]
  },
  {
   "cell_type": "code",
   "execution_count": 36,
   "metadata": {},
   "outputs": [],
   "source": [
    "#given:\n",
    "T       =         170 + 273.15 #Kelvin\n",
    "R       =           8.314/1000 #kpa.m3/mol.K\n",
    "MMav    =                0.030 #kg/mol\n",
    "epsilon =                  0.4 #m3/m3 bed porosity(Vopen/Vtot)\n",
    "Dreact  =                0.085 #m reactor diameter\n",
    "Aacross = (22/7)*(Dreact**2)/4 #m2 cross-sectional area\n",
    "dcat    =                0.003 #m\n",
    "mu      =                 2e-5 #kg/m/s fluid viscosity \n",
    "rhobed  =                 1000 #kg/m^3 packed bed density\n",
    "rhocat  =   rhobed/(1-epsilon)\n",
    "rhoinit =      (Po*MMav)/(R*T)\n",
    "Kprime  =     0.05/(60*101325) #molA/kg/s/pascalB"
   ]
  },
  {
   "cell_type": "code",
   "execution_count": 37,
   "metadata": {},
   "outputs": [
    {
     "name": "stdout",
     "output_type": "stream",
     "text": [
      "3.5231204781377783\n",
      "3180.718993486767\n"
     ]
    }
   ],
   "source": [
    "G = (MMav*Fto)/Aacross #kg/m2.s\n",
    "K = (G/(rhoinit*dcat))*((1-epsilon)/(epsilon**3))*(150*mu*(1-epsilon)/dcat + 1.75*G)/(Aacross*rhocat*(1-epsilon))\n",
    "print(G)\n",
    "print(K)"
   ]
  },
  {
   "cell_type": "markdown",
   "metadata": {},
   "source": [
    "**a) Neglecting pressure drop, obtain the concentration- and reaction rate profiles as a function of catalyst mass. Give all the relevant values at a conversion of $A$ of $60$%. Also give the mass of catalyst required to give a conversion of $60$%.**"
   ]
  },
  {
   "cell_type": "code",
   "execution_count": 38,
   "metadata": {},
   "outputs": [],
   "source": [
    "#a) assuming constant pressure Ptot = 5atm\n",
    "#Xa = 1\n",
    "#FA = FAo*(1-Xa)\n",
    "#FB = FBo - 2*FAo*Xa\n",
    "#FC = FCo + FAo*Xa\n",
    "#Ftot = FA + FB + FC"
   ]
  },
  {
   "cell_type": "code",
   "execution_count": 39,
   "metadata": {},
   "outputs": [],
   "source": [
    "def alg(F):\n",
    "    FA, FB, FC = F    \n",
    "    Ftot = F[0] + F[1] + F[2]\n",
    "    Q = Ftot*R*T/Po\n",
    "    CA = FA*Po/(Ftot*R*T)\n",
    "    CB = FB*Po/(Ftot*R*T)\n",
    "    CC = FC*Po/(Ftot*R*T)\n",
    "    rAprime = -Kprime*FB*Po*1000/Ftot #remember to change P to pascals\n",
    "    rBprime = 2*rAprime\n",
    "    rCprime = -rAprime\n",
    "    \n",
    "    return[rAprime,rBprime,rCprime,Q,CA,CB,CC,Ftot] "
   ]
  },
  {
   "cell_type": "code",
   "execution_count": 40,
   "metadata": {},
   "outputs": [],
   "source": [
    "def diffs(F,W):\n",
    "    FA, FB, FC = F[0], F[1], F[2]\n",
    "    var = alg([FA,FB,FC])\n",
    "    dFAdW = var[0]\n",
    "    dFBdW = var[1]\n",
    "    dFCdW = var[2]\n",
    "    return[dFAdW,dFBdW,dFCdW]"
   ]
  },
  {
   "cell_type": "code",
   "execution_count": 41,
   "metadata": {},
   "outputs": [
    {
     "name": "stdout",
     "output_type": "stream",
     "text": [
      "0.600982748204946\n",
      "W=  55.4 kg catalyst\n",
      "Pressure is kept constant at  5.0 atm\n"
     ]
    }
   ],
   "source": [
    "Fo = [FAo,FBo,FCo]\n",
    "W = 55.4 #in Kg. Keep changing until XA=0.6\n",
    "wspan = linspace(0,W,100)\n",
    "F = odeint(diffs,Fo,wspan)\n",
    "FA,FB,FC = F.T\n",
    "\n",
    "XA = (FAo - FA[-1])/FAo\n",
    "\n",
    "print(XA)\n",
    "print('W= ',W,'kg catalyst')\n",
    "print('Pressure is kept constant at ',Po/101.325,'atm')"
   ]
  },
  {
   "cell_type": "code",
   "execution_count": 42,
   "metadata": {},
   "outputs": [],
   "source": [
    "var = asarray([alg(F) for F in F]) # F is results from odeint\n",
    "rA = var[:,0]\n",
    "rB = var[:,1]\n",
    "rC = var[:,2]\n",
    "CA = var[:,4]\n",
    "CB = var[:,5]\n",
    "CC = var[:,6]"
   ]
  },
  {
   "cell_type": "code",
   "execution_count": 43,
   "metadata": {},
   "outputs": [
    {
     "data": {
      "image/png": "[encoded data removed]",
      "text/plain": [
       "<Figure size 432x288 with 1 Axes>"
      ]
     },
     "metadata": {
      "needs_background": "light"
     },
     "output_type": "display_data"
    }
   ],
   "source": [
    "plt.figure(1)\n",
    "plt.plot(wspan, CA, color='orange', label='CA')\n",
    "plt.plot(wspan, CB, color='red',label='CB')\n",
    "plt.plot(wspan, CC, color='green',label='CC')\n",
    "plt.legend(loc='best')\n",
    "plt.ylabel('Concentration [mole/V]') \n",
    "plt.xlabel('W [kg]') \n",
    "plt.show()"
   ]
  },
  {
   "cell_type": "code",
   "execution_count": 44,
   "metadata": {},
   "outputs": [
    {
     "data": {
      "image/png": "[encoded data removed]",
      "text/plain": [
       "<Figure size 432x288 with 1 Axes>"
      ]
     },
     "metadata": {
      "needs_background": "light"
     },
     "output_type": "display_data"
    }
   ],
   "source": [
    "plt.figure(2)\n",
    "plt.plot(wspan, rA, color='black', label='rA')\n",
    "plt.plot(wspan, rB, color='blue',label='rB')\n",
    "plt.plot(wspan, rC, color='brown',label='rC')\n",
    "plt.legend(loc='best')\n",
    "plt.ylabel('rate profiles [mole/min.kgcat]') \n",
    "plt.xlabel('W (kg)') \n",
    "plt.show()"
   ]
  },
  {
   "cell_type": "markdown",
   "metadata": {},
   "source": [
    "**b) What is the effect of pressure drop on the results in (a)? Add a plot of the pressure in the reactor as a function of catalyst mass to your results. Compare the values of the independent variables with the scenario in a) at a conversion (of A) of $60$% Once again determine the catalyst mass at this point. Explain the differences.**"
   ]
  },
  {
   "cell_type": "code",
   "execution_count": 45,
   "metadata": {},
   "outputs": [],
   "source": [
    "def diffs_pdrop(X,W):\n",
    "    FA, FB, FC, P = X\n",
    "    Ftot          = FA + FB + FC\n",
    "    rAprime       = -Kprime*FB*P/Ftot\n",
    "    rBprime       = 2*rAprime\n",
    "    rCprime       = -rAprime\n",
    "    dFAdW         = rAprime\n",
    "    dFBdW         = rBprime\n",
    "    dFCdW         = rCprime\n",
    "    dPdW          = -K*(Po*1000/P)*(Ftot/Fto)\n",
    "    return[dFAdW,dFBdW,dFCdW,dPdW]"
   ]
  },
  {
   "cell_type": "code",
   "execution_count": 46,
   "metadata": {},
   "outputs": [
    {
     "name": "stdout",
     "output_type": "stream",
     "text": [
      "conversion= 60.00482939415116 %\n",
      "W=  70.6 kg catalyst\n",
      "P@60%conv= 2.8113957452497913 atm\n"
     ]
    }
   ],
   "source": [
    "Vals           = [FAo,FBo,FCo,Po*1000]\n",
    "Wa             = 70.6#in Kg. Keep changing until XA=0.6\n",
    "waspan         = linspace(0,Wa,100)\n",
    "sol            = odeint(diffs_pdrop,Vals,waspan)\n",
    "FA1,FB1,FC1,P1 = sol.T\n",
    "\n",
    "XA1 = (FAo - FA1[-1])/FAo\n",
    "\n",
    "print('conversion=', XA1*100,'%')\n",
    "print('W= ',Wa,'kg catalyst')  \n",
    "print('P@60%conv=',P1[-1]/101325,'atm')"
   ]
  },
  {
   "cell_type": "code",
   "execution_count": 47,
   "metadata": {},
   "outputs": [
    {
     "data": {
      "image/png": "[encoded data removed]",
      "text/plain": [
       "<Figure size 432x288 with 1 Axes>"
      ]
     },
     "metadata": {
      "needs_background": "light"
     },
     "output_type": "display_data"
    }
   ],
   "source": [
    "plt.figure(3)\n",
    "plt.plot(waspan, P1/101325, color = 'green', label = 'Pdrop')\n",
    "plt.xlabel('W (kg)')\n",
    "plt.ylabel('Pressure (atm)')\n",
    "plt.legend(loc='best')\n",
    "#plt.grid()\n",
    "plt.show()"
   ]
  },
  {
   "cell_type": "code",
   "execution_count": null,
   "metadata": {},
   "outputs": [],
   "source": []
  }
 ],
 "metadata": {
  "kernelspec": {
   "display_name": "Python 3",
   "language": "python",
   "name": "python3"
  },
  "language_info": {
   "codemirror_mode": {
    "name": "ipython",
    "version": 3
   },
   "file_extension": ".py",
   "mimetype": "text/x-python",
   "name": "python",
   "nbconvert_exporter": "python",
   "pygments_lexer": "ipython3",
   "version": "3.7.3"
  }
 },
 "nbformat": 4,
 "nbformat_minor": 2
}
