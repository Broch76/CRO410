{
 "cells": [
  {
   "cell_type": "code",
   "execution_count": 1,
   "metadata": {},
   "outputs": [],
   "source": [
    "from numpy import *\n",
    "from scipy.optimize import fsolve\n",
    "from scipy.integrate import odeint\n",
    "from matplotlib import pyplot as plt\n",
    "from scipy.interpolate import interp1d\n",
    "%matplotlib inline"
   ]
  },
  {
   "cell_type": "markdown",
   "metadata": {},
   "source": [
    "*A liquid phase reaction (stoichiometry given below) needs to be processed in a continuous reactor system (operated isothermally)*\n",
    "$$\n",
    "A + P \\rightarrow 2P\n",
    "$$"
   ]
  },
  {
   "cell_type": "markdown",
   "metadata": {},
   "source": [
    "Details on the reaction rate (based on component A) are given below:\n",
    "\n",
    " $\\qquad \\qquad \\qquad$$-r_{A} =kC_{A}C_{B} \\qquad $$ k = 1\\dfrac{1L}{mol.min} \\qquad $"
   ]
  },
  {
   "cell_type": "markdown",
   "metadata": {},
   "source": [
    "A feed with $C_{A_{0}} = 1~\\dfrac{mol}{L}$ and $C_{P_{0}} = 0.02~\\dfrac{mol}{L}$ is fed to the reactor at a flow rate of $Q = 2.5~\\dfrac{L}{min}$. A conversion of $A$ of $85\\%$ is required.|"
   ]
  },
  {
   "cell_type": "markdown",
   "metadata": {},
   "source": [
    "**a) Determine the volume of a single CSTR that will be required to achieve the desired conversion.**"
   ]
  },
  {
   "cell_type": "code",
   "execution_count": 2,
   "metadata": {},
   "outputs": [],
   "source": [
    "k   =    1 #L/mol.min\n",
    "CAo =    1 #mol/L\n",
    "CPo = 0.02 #mol/L\n",
    "Q   =  2.5 #L/min\n",
    "X   = 0.85"
   ]
  },
  {
   "cell_type": "markdown",
   "metadata": {},
   "source": [
    "CSTR design equation:\n",
    "\\begin{align}\n",
    "F_{A_{0}} - F_{A} + r_{A}V &= 0 \\nonumber \\\\\n",
    "QC_{A_{0}} - QC_{A} &= -r_{A}V \\nonumber \\\\\n",
    "Q(C_{A_{0}} - C_{A_{0}}(1 - X)) &= -r_{A}V \\nonumber \\\\\n",
    "-r_{A} &= \\dfrac{QC_{A_{0}}X}{V} \\nonumber\n",
    "\\end{align}"
   ]
  },
  {
   "cell_type": "markdown",
   "metadata": {},
   "source": [
    "Rate equation:\n",
    "\\begin{align}\n",
    "r_{A} &= -kC_{A}C_{P} \\nonumber \\\\\n",
    "&= -kC_{A_{0}}(1 - X_{A})(C_{P_{0}} + CA_{0}X_{A}) \\nonumber\n",
    "\\end{align}"
   ]
  },
  {
   "cell_type": "code",
   "execution_count": 3,
   "metadata": {},
   "outputs": [
    {
     "data": {
      "text/plain": [
       "-0.1305"
      ]
     },
     "execution_count": 3,
     "metadata": {},
     "output_type": "execute_result"
    }
   ],
   "source": [
    "rA = -k*CAo*(1 - X)*(CPo + CAo*X)\n",
    "rA"
   ]
  },
  {
   "cell_type": "code",
   "execution_count": 4,
   "metadata": {},
   "outputs": [
    {
     "name": "stdout",
     "output_type": "stream",
     "text": [
      "CSTR Volume = 16.28352490421456 L\n"
     ]
    }
   ],
   "source": [
    "V = Q*CAo*X/(-rA)\n",
    "print('CSTR Volume = '+str(V)+' L')"
   ]
  },
  {
   "cell_type": "markdown",
   "metadata": {},
   "source": [
    "**b) Determine the volume of a single PFR that will be required to achieve the desired conversion**"
   ]
  },
  {
   "cell_type": "markdown",
   "metadata": {},
   "source": [
    "PFR design equation:\n",
    "\\begin{align}\n",
    "\\dfrac{dF_{j}}{dV} &= r_{j} \\nonumber \\\\\n",
    "Q\\dfrac{dC_{j}}{dV} &= r_{j} \\nonumber\n",
    "\\end{align}"
   ]
  },
  {
   "cell_type": "code",
   "execution_count": 5,
   "metadata": {},
   "outputs": [],
   "source": [
    "def PFR (C,V):\n",
    "    CA, CP = C\n",
    "    rA     = -k*CA*CP\n",
    "    rP     = -rA\n",
    "    dCAdV  = rA/Q\n",
    "    dCPdV  = rP/Q\n",
    "    return[dCAdV, dCPdV]"
   ]
  },
  {
   "cell_type": "code",
   "execution_count": 6,
   "metadata": {},
   "outputs": [
    {
     "data": {
      "text/plain": [
       "0.8500903455748962"
      ]
     },
     "execution_count": 6,
     "metadata": {},
     "output_type": "execute_result"
    }
   ],
   "source": [
    "V = 13.8985\n",
    "Vspan = linspace(0,V, 100) #keep changing volume until X=85%\n",
    "init = [CAo, CPo]\n",
    "sols = odeint(PFR, init, Vspan)\n",
    "\n",
    "CA, CP = sols.T\n",
    "X1 = (CAo - CA[-1])/CAo\n",
    "X1"
   ]
  },
  {
   "cell_type": "markdown",
   "metadata": {},
   "source": [
    "So the Volume required for a PFR to achieve $85\\%$ conversion is $13.9~L$"
   ]
  },
  {
   "cell_type": "markdown",
   "metadata": {},
   "source": [
    "------------------------------------------------------------"
   ]
  },
  {
   "cell_type": "markdown",
   "metadata": {},
   "source": [
    "**c) Determine the minimum total reactor volume required that will result in the desired conversion if you are allowed to use more than one reactor in series. Also specify the type of reactors used, the volume of each individual reactor and the sequence of the reactors that you suggest.**"
   ]
  },
  {
   "cell_type": "code",
   "execution_count": 7,
   "metadata": {},
   "outputs": [],
   "source": [
    "xspan = linspace(0, 0.9999, 101)\n",
    "rA1 = k*CAo*(1 - xspan)*(CPo + CAo*xspan)\n",
    "rate = 1/rA1"
   ]
  },
  {
   "cell_type": "code",
   "execution_count": 8,
   "metadata": {},
   "outputs": [
    {
     "data": {
      "image/png": "[encoded data removed]",
      "text/plain": [
       "<Figure size 432x288 with 1 Axes>"
      ]
     },
     "metadata": {
      "needs_background": "light"
     },
     "output_type": "display_data"
    }
   ],
   "source": [
    "plt.figure(1)\n",
    "plt.plot(xspan, rate, color='blue', label='-1/rA')\n",
    "plt.ylabel('Depletion rate') \n",
    "plt.xlabel('Conversion') \n",
    "plt.show()"
   ]
  },
  {
   "cell_type": "code",
   "execution_count": 9,
   "metadata": {},
   "outputs": [
    {
     "data": {
      "text/plain": [
       "3.844675160442388"
      ]
     },
     "execution_count": 9,
     "metadata": {},
     "output_type": "execute_result"
    }
   ],
   "source": [
    "MaxRate = min(rate)\n",
    "MaxRate"
   ]
  },
  {
   "cell_type": "code",
   "execution_count": 10,
   "metadata": {},
   "outputs": [
    {
     "data": {
      "text/plain": [
       "0.489951"
      ]
     },
     "execution_count": 10,
     "metadata": {},
     "output_type": "execute_result"
    }
   ],
   "source": [
    "i = argmax(-rate==max(-rate))\n",
    "Xmin = xspan[i]\n",
    "Xmin"
   ]
  },
  {
   "cell_type": "markdown",
   "metadata": {},
   "source": [
    "From the above Levenspiel diagram, the best series reactors is a CSTR where the conversion is $48.51~\\%$, followed by a PFR to $85~\\%$ conversion. This will minimise the total volume required."
   ]
  },
  {
   "cell_type": "code",
   "execution_count": 11,
   "metadata": {},
   "outputs": [
    {
     "data": {
      "text/plain": [
       "-0.260099997599"
      ]
     },
     "execution_count": 11,
     "metadata": {},
     "output_type": "execute_result"
    }
   ],
   "source": [
    "Xcstr  = Xmin\n",
    "rAcstr = -k*CAo*(1 - Xcstr)*(CPo + CAo*Xcstr)\n",
    "rAcstr"
   ]
  },
  {
   "cell_type": "code",
   "execution_count": 12,
   "metadata": {},
   "outputs": [
    {
     "name": "stdout",
     "output_type": "stream",
     "text": [
      "CSTR Volume = 4.709256098834771 L\n"
     ]
    }
   ],
   "source": [
    "Vcstr = Q*CAo*Xcstr/(-rAcstr)\n",
    "print('CSTR Volume = '+str(Vcstr)+' L')"
   ]
  },
  {
   "cell_type": "code",
   "execution_count": 16,
   "metadata": {},
   "outputs": [
    {
     "data": {
      "text/plain": [
       "0.510049"
      ]
     },
     "execution_count": 16,
     "metadata": {},
     "output_type": "execute_result"
    }
   ],
   "source": [
    "CAo1 = CAo*(1 - Xcstr)\n",
    "CPo1 = (CPo + CAo*Xcstr)\n",
    "CAo1"
   ]
  },
  {
   "cell_type": "code",
   "execution_count": 17,
   "metadata": {},
   "outputs": [
    {
     "data": {
      "text/plain": [
       "0.5098039215686274"
      ]
     },
     "execution_count": 17,
     "metadata": {},
     "output_type": "execute_result"
    }
   ],
   "source": [
    "(0.51-0.15)/0.51"
   ]
  },
  {
   "cell_type": "markdown",
   "metadata": {},
   "source": [
    "For $85\\%$ overall conversion we know that $C_{A_{out}} = 0.15~mol/L$ therefore:\n",
    "\\begin{align}\n",
    "X_{2} &= \\dfrac{C_{A1_{0}} - C_{A_{out}}}{C_{A1_{0}}} \\nonumber \\\\\n",
    "&= \\dfrac{0.51 - 0.15}{0.51} \\nonumber \\\\\n",
    "&= 0.51 \\nonumber\n",
    "\\end{align}"
   ]
  },
  {
   "cell_type": "code",
   "execution_count": 23,
   "metadata": {},
   "outputs": [
    {
     "data": {
      "text/plain": [
       "0.5086948593924991"
      ]
     },
     "execution_count": 23,
     "metadata": {},
     "output_type": "execute_result"
    }
   ],
   "source": [
    "Vpfr = 2.75\n",
    "Vspan1 = linspace(0,Vpfr, 100) #keep changing volume until X=85%\n",
    "init1 = [CAo1, CPo1]\n",
    "sols1 = odeint(PFR, init1, Vspan1)\n",
    "\n",
    "CA1, CP1 = sols1.T\n",
    "X2 = (CAo1 - CA1[-1])/CAo1\n",
    "X2"
   ]
  },
  {
   "cell_type": "code",
   "execution_count": 24,
   "metadata": {},
   "outputs": [
    {
     "data": {
      "text/plain": [
       "7.459256098834771"
      ]
     },
     "execution_count": 24,
     "metadata": {},
     "output_type": "execute_result"
    }
   ],
   "source": [
    "# Total volume therefore:\n",
    "Vtotal = Vcstr + Vpfr\n",
    "Vtotal"
   ]
  },
  {
   "cell_type": "markdown",
   "metadata": {},
   "source": [
    "Volume of the CSTR is $4.66~L$, volume of the PFR is $2.75~L$."
   ]
  },
  {
   "cell_type": "markdown",
   "metadata": {},
   "source": [
    "Total reactor volume required is $7.46~L$"
   ]
  },
  {
   "cell_type": "code",
   "execution_count": null,
   "metadata": {},
   "outputs": [],
   "source": []
  }
 ],
 "metadata": {
  "kernelspec": {
   "display_name": "Python 3",
   "language": "python",
   "name": "python3"
  },
  "language_info": {
   "codemirror_mode": {
    "name": "ipython",
    "version": 3
   },
   "file_extension": ".py",
   "mimetype": "text/x-python",
   "name": "python",
   "nbconvert_exporter": "python",
   "pygments_lexer": "ipython3",
   "version": "3.7.3"
  }
 },
 "nbformat": 4,
 "nbformat_minor": 2
}
