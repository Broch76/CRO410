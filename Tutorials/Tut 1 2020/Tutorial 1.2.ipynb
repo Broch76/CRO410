{
 "cells": [
  {
   "cell_type": "code",
   "execution_count": 2,
   "metadata": {},
   "outputs": [],
   "source": [
    "from numpy import *\n",
    "from scipy.optimize import fsolve\n",
    "from scipy.integrate import odeint\n",
    "from matplotlib import pyplot as plt\n",
    "from scipy.interpolate import interp1d\n",
    "%matplotlib inline"
   ]
  },
  {
   "cell_type": "markdown",
   "metadata": {},
   "source": [
    "Fogler Problem 4.13: Rate your engineering expertise"
   ]
  },
  {
   "cell_type": "markdown",
   "metadata": {},
   "source": [
    "*Hint: In this case an analytical solution procedure wins the numerical, hands down. i.e. instead of 'fitting' parameters to get the given $X$, the unknown constants in the system can be grouped and solved as one 'group constant'. You can then evaluate changes in this 'constant' as a function of flow rate and reactor size. Remember:*\n",
    "\n",
    "$$\n",
    "\\begin{equation}\n",
    "\\int_0^x \\dfrac{dx}{(1 - ax)} = -\\dfrac{1}{a}ln(1 - ax) \\nonumber\n",
    "\\end{equation}\n",
    "$$"
   ]
  },
  {
   "cell_type": "markdown",
   "metadata": {},
   "source": [
    "**Compound $A$ undergoes a reversible isomerization reaction, $A \\rightleftharpoons B$, over a supported metal catalyst. Under pertinent conditions, $A$ and $B$ are liquid, miscible, and of nearly identical density; the equilibrium constant for the reaction (in concentration units) is 5.8. In a *fixed-bed isothermal flow reactor* in which backmixing is negligible (i.e., plug flow), a feed of pure $A$ under-goes a net conversion to $B$ of $55\\%$. The reaction is elementary. If a second, identical flow reactor at the same temperature is placed downstream from the first, what overall conversion of A would you expect if:** "
   ]
  },
  {
   "cell_type": "markdown",
   "metadata": {},
   "source": [
    "**(a) The reactors are directly connected in series?** ($X_{2} = 0.74$) "
   ]
  },
  {
   "cell_type": "markdown",
   "metadata": {},
   "source": [
    "Given: The metal catalyzed isomerization $A \\leftrightharpoons B$, liquid phase reaction\n",
    "$$\n",
    "\\begin{align}\n",
    "-r_{A} &= k_{1}\\left( C_{A} - \\dfrac{C_{B}}{K_{eq}} \\right) \\nonumber \n",
    "\\end{align}\n",
    "$$\n",
    "with $K_{eq}=5.8$"
   ]
  },
  {
   "cell_type": "markdown",
   "metadata": {},
   "source": [
    "For a PFR with $y_{A}=1$ (mole fraction), $X_{1}=0.55$"
   ]
  },
  {
   "cell_type": "markdown",
   "metadata": {},
   "source": [
    "Case1: an identical PFR connected in series with the original reactor."
   ]
  },
  {
   "cell_type": "markdown",
   "metadata": {},
   "source": [
    "<img src=\"tut1.2a.JPG\" width=\"400\" />"
   ]
  },
  {
   "cell_type": "markdown",
   "metadata": {},
   "source": [
    "Since $y_{A}=1$, $\\theta_{B}=0$ $\\left(where\\ \\theta_{i} = \\dfrac{N_{i_{0}}}{N_{A_{0}}} = \\dfrac{C_{i_{0}}Q_{0}}{C_{A_{0}}Q_{0}} = \\dfrac{C_{i_{0}}}{C_{A_{0}}} = \\dfrac{y_{i_{0}}}{y_{A_{0}}}\\right)$"
   ]
  },
  {
   "cell_type": "markdown",
   "metadata": {},
   "source": [
    "For a liquid phase reaction $C_{A} = C_{A_{0}}(1 - X)$ and $C_{B} = C_{A_{0}}X$"
   ]
  },
  {
   "cell_type": "markdown",
   "metadata": {},
   "source": [
    "The reaction equation now becomes:\n",
    "$$\n",
    "\\begin{equation}\n",
    "-r_{A} = kC_{A_{0}}\\left( (1 - X) - \\dfrac{X}{K_{eq}} \\right)\\nonumber\n",
    "\\end{equation}\n",
    "$$"
   ]
  },
  {
   "cell_type": "markdown",
   "metadata": {},
   "source": [
    "For the first reactor:\n",
    "\\begin{align}\n",
    "V_{1} &= F_{A_{0}} \\int_0^{x_{1}}\\dfrac{dX}{-r_{A}} \\nonumber \\\\\n",
    "&= F_{A_{0}} \\int_0^{x_{1}}\\dfrac{dX}{kC_{A_{0}}\\left((1 - X)-\\dfrac{X}{K_{eq}} \\right)} \\nonumber \\\\\n",
    "\\dfrac{kC_{A_{0}}V_{1}}{F_{A_{0}}} &= \\int_0^{x_{1}}\\dfrac{dX}{1 - \\left(1 +\\dfrac{1}{K_{eq}} \\right)X} \\nonumber \\\\\n",
    "&= -\\dfrac{1}{1 + \\dfrac{1}{k_{eq}}}ln\\left[1 - \\left(1 + \\dfrac{1}{K_{eq}} \\right)X \\right]\\Bigg\\rvert^{x_{1}}_0 \\nonumber \\\\\n",
    "&= -\\dfrac{1}{1 + \\dfrac{1}{k_{eq}}}ln\\left[1 - \\left(1 + \\dfrac{1}{K_{eq}} \\right)X_{1} \\right] \\nonumber \\\\\n",
    "&= -0.853~ln(0.355) \\nonumber \\\\\n",
    "&= 0.883\n",
    "\\end{align}\n"
   ]
  },
  {
   "cell_type": "markdown",
   "metadata": {},
   "source": [
    "Taking advantage of the fact that two PFR's in series is the same as one PFR with the volume of the two combined."
   ]
  },
  {
   "cell_type": "markdown",
   "metadata": {},
   "source": [
    "$V_{F} = V_{1} + V_{2} = 2V_{1}$ and at $V_{F}$, $X = X_{2}$"
   ]
  },
  {
   "cell_type": "markdown",
   "metadata": {},
   "source": [
    "\\begin{align}\n",
    "\\dfrac{kC_{A_{0}}V_{F}}{F_{A_{0}}} &= \\int_0^{x_{F}}\\dfrac{dX}{1 - \\left(1 +\\dfrac{1}{K_{eq}} \\right)X} \\nonumber \\\\\n",
    "&= -\\dfrac{1}{1 + \\dfrac{1}{k_{eq}}}ln\\left[1 - \\left(1 + \\dfrac{1}{K_{eq}} \\right)X \\right]\\Bigg\\rvert^{x_{F}}_0 \\nonumber \\\\\n",
    "&= -\\dfrac{1}{1 + \\dfrac{1}{k_{eq}}}ln\\left[1 - \\left(1 + \\dfrac{1}{K_{eq}} \\right)X_{F} \\right] \\nonumber\n",
    "\\end{align}"
   ]
  },
  {
   "cell_type": "markdown",
   "metadata": {},
   "source": [
    "\\begin{align}\n",
    "\\dfrac{kC_{A_{0}}V_{F}}{F_{A_{0}}} &= 2\\dfrac{kC_{A_{0}}V_{1}}{F_{A_{0}}} =2(0.883) \\nonumber \\\\\n",
    "&= -\\dfrac{1}{1 + \\dfrac{1}{k_{eq}}}ln\\left[1 - \\left(1 + \\dfrac{1}{K_{eq}} \\right)X_{2} \\right] \\nonumber \\\\\n",
    "1.766 &= -\\dfrac{1}{1 + \\dfrac{1}{5.8}}ln\\left[1 - \\left(1 + \\dfrac{1}{5.8} \\right)X_{2} \\right] \\nonumber \\\\\n",
    "X_{2} &= 0.74\n",
    "\\end{align}"
   ]
  },
  {
   "cell_type": "markdown",
   "metadata": {},
   "source": [
    "**(b) The products from the first reactor are separated by appropriate processing and only the unconverted A is fed to the second reactor?**($X_{2} = 0.895$)"
   ]
  },
  {
   "cell_type": "markdown",
   "metadata": {},
   "source": [
    "Case 2: Products from $1^{st}$ reactor are separated and pure $A$ is fed to the $2^{nd}$ reactor,"
   ]
  },
  {
   "cell_type": "markdown",
   "metadata": {},
   "source": [
    "<img src=\"tut1.2b.JPG\" width=\"400\" />"
   ]
  },
  {
   "cell_type": "markdown",
   "metadata": {},
   "source": [
    "The analysis for the first reactor is the same as for case 1."
   ]
  },
  {
   "cell_type": "markdown",
   "metadata": {},
   "source": [
    "For the first reactor:\n",
    "\\begin{align}\n",
    "\\dfrac{kC_{A_{0}}V_{1}}{F_{A_{0}}} &= -\\dfrac{1}{1 + \\dfrac{1}{k_{eq}}}ln\\left[1 - \\left(1 + \\dfrac{1}{K_{eq}} \\right)X_{1} \\right] \\nonumber \n",
    "\\end{align}"
   ]
  },
  {
   "cell_type": "markdown",
   "metadata": {},
   "source": [
    "By performing a material balance on the separator, $F_{A_{0,2}} = F_{A_{0}}(1 - X_{1})$"
   ]
  },
  {
   "cell_type": "markdown",
   "metadata": {},
   "source": [
    "Since pure $A$ enters both the first and second reactor:\n",
    "$$\n",
    "\\begin{align}\n",
    "C_{A_{0,2}} &= C_{A_{0}} \\nonumber \\\\\n",
    "C_{B_{0,2}} &= 0 \\nonumber \\\\\n",
    "\\Theta_{B} &= 0 \\nonumber\n",
    "\\end{align}\n",
    "$$"
   ]
  },
  {
   "cell_type": "markdown",
   "metadata": {},
   "source": [
    "For the second reactor:\n",
    "$$\n",
    "\\begin{align}\n",
    "C_{A} &= C_{A_{0}}(1 - X) \\nonumber \\\\\n",
    "C_{B} &= C_{A_{0}}X \\nonumber \n",
    "\\end{align}\n",
    "$$"
   ]
  },
  {
   "cell_type": "markdown",
   "metadata": {},
   "source": [
    "\\begin{align}\n",
    "V_{2} &= F_{A_{0,2}} \\int_0^{x_{2}}\\dfrac{dX}{-r_{A}} \\nonumber \\\\\n",
    "&= \\dfrac{F_{A_{0}}(1 - X)}{kC_{A_{0}}} \\int_0^{x_{2}}\\dfrac{dX}{\\left((1 - X)-\\dfrac{X}{K_{eq}} \\right)} \\nonumber \\\\\n",
    "\\dfrac{kC_{A_{0}}V_{2}}{F_{A_{0}}(1 - X_{1})} &= -\\dfrac{1}{1 + \\dfrac{1}{k_{eq}}}ln\\left[1 - \\left(1 + \\dfrac{1}{K_{eq}} \\right)X_{2} \\right] \\nonumber \\\\\n",
    "\\dfrac{kC_{A_{0}}V_{2}}{F_{A_{0}}} &= -\\dfrac{(1 - X_{1})}{1 + \\dfrac{1}{k_{eq}}}ln\\left[1 - \\left(1 + \\dfrac{1}{K_{eq}} \\right)X_{2} \\right] \\nonumber\n",
    "\\end{align}"
   ]
  },
  {
   "cell_type": "markdown",
   "metadata": {},
   "source": [
    "and since $V_{1} = V_{2}$"
   ]
  },
  {
   "cell_type": "markdown",
   "metadata": {},
   "source": [
    "\\begin{align}\n",
    "\\dfrac{kC_{A_{0}}V_{1}}{F_{A_{0}}} &= \\dfrac{kC_{A_{0}}V_{2}}{F_{A_{0}}} \\nonumber \\\\\n",
    "-\\dfrac{1}{1 + \\dfrac{1}{k_{eq}}}ln\\left[1 - \\left(1 + \\dfrac{1}{K_{eq}} \\right)X_{1} \\right] &= -\\dfrac{(1 - X_{1})}{1 + \\dfrac{1}{k_{eq}}}ln\\left[1 - \\left(1 + \\dfrac{1}{K_{eq}} \\right)X_{2} \\right] \\nonumber \\\\\n",
    "1 - \\left(1 + \\dfrac{1}{K_{eq}} \\right)X_{2} &= \\left[1 - \\left(1 + \\dfrac{1}{K_{eq}} \\right)X_{1} \\right]^{\\dfrac{1}{1 - X_{1}}} \\nonumber \\\\\n",
    "X_{2} &= \\dfrac{1 - \\left[1 - \\left(1 + \\dfrac{1}{K_{eq}} \\right)X_{1} \\right]^{\\dfrac{1}{1 - X_{1}}}}{1 + \\dfrac{1}{K_{eq}}} \\nonumber \\\\\n",
    "&= \\dfrac{1 - (0.356)^{\\dfrac{1}{0.45}}}{1.174} \\nonumber \\\\\n",
    "&= 0.766\n",
    "\\end{align}"
   ]
  },
  {
   "cell_type": "markdown",
   "metadata": {},
   "source": [
    "Overall conversion for case 2:"
   ]
  },
  {
   "cell_type": "markdown",
   "metadata": {},
   "source": [
    "\\begin{align}\n",
    "\\overline{X} &= \\dfrac{F_{A_{0}} - F_{A_{0,2}}(1 - X_{2})}{F_{A_{0}}} \\nonumber \\\\\n",
    "&= \\dfrac{F_{A_{0}} - F_{A_{0}}(1 - X_{1})(1 - X_{2})}{F_{A_{0}}} \\nonumber \\\\\n",
    "&= 1 - (1 - X_{1})(1 - X_{2}) \\nonumber \\\\\n",
    "\\overline{X} &= 0.895 \\nonumber\n",
    "\\end{align}\n"
   ]
  },
  {
   "cell_type": "code",
   "execution_count": null,
   "metadata": {},
   "outputs": [],
   "source": []
  }
 ],
 "metadata": {
  "kernelspec": {
   "display_name": "Python 3",
   "language": "python",
   "name": "python3"
  },
  "language_info": {
   "codemirror_mode": {
    "name": "ipython",
    "version": 3
   },
   "file_extension": ".py",
   "mimetype": "text/x-python",
   "name": "python",
   "nbconvert_exporter": "python",
   "pygments_lexer": "ipython3",
   "version": "3.7.3"
  }
 },
 "nbformat": 4,
 "nbformat_minor": 2
}
