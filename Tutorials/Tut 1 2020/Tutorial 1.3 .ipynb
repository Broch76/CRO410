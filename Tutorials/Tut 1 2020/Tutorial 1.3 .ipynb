{
 "cells": [
  {
   "cell_type": "markdown",
   "metadata": {},
   "source": [
    "<img src=\"Tut 1.3.jpg\" width=\"900\" />"
   ]
  },
  {
   "cell_type": "markdown",
   "metadata": {},
   "source": [
    "<img src=\"Tut 1.3 Hints.jpg\" width=\"900\" />"
   ]
  },
  {
   "cell_type": "code",
   "execution_count": 3,
   "metadata": {
    "collapsed": true
   },
   "outputs": [],
   "source": [
    "from numpy import log, array, exp, linspace, asarray\n",
    "from scipy.integrate import odeint\n",
    "from scipy.stats import linregress \n",
    "import matplotlib.pyplot as plt\n",
    "%matplotlib inline"
   ]
  },
  {
   "cell_type": "code",
   "execution_count": 4,
   "metadata": {
    "collapsed": true
   },
   "outputs": [],
   "source": [
    "Fto = 40/60 #mol/s\n",
    "FAo = 0.33*Fto #mol/s\n",
    "FBo = 0.67*Fto #mol/s\n",
    "FCo = 0 #mol/s\n",
    "Po  = 5*101.325 #kpa"
   ]
  },
  {
   "cell_type": "code",
   "execution_count": 5,
   "metadata": {
    "collapsed": true
   },
   "outputs": [],
   "source": [
    "#given:\n",
    "T = 170 + 273.15 #Kelvin\n",
    "R = 8.314/1000 #kpa.m3/mol.K\n",
    "MMav = 0.030 #kg/kmol\n",
    "epsilon = 0.4 #m3/m3 bed porosity(Vopen/Vtot)\n",
    "Dreact = 0.085 #m reactor diameter\n",
    "Aacross = (22/7)*(Dreact**2)/4 #m2 cross-sectional area\n",
    "dcat = 0.003 #m\n",
    "mu = 2e-5 #kg/m/s fluid viscosity \n",
    "rhobed = 1000 #kg/m^3 packed bed density\n",
    "rhocat = rhobed/(1-epsilon)\n",
    "rhoinit = (Po*MMav)/(R*T)\n",
    "Kprime = 0.05/(60*101325) #molA/kg/s/pascalB"
   ]
  },
  {
   "cell_type": "code",
   "execution_count": 6,
   "metadata": {},
   "outputs": [
    {
     "name": "stdout",
     "output_type": "stream",
     "text": [
      "3.5231204781377783\n",
      "3180.718993486767\n"
     ]
    }
   ],
   "source": [
    "G = (MMav*Fto)/Aacross #kg/m2.s\n",
    "K = (G/(rhoinit*dcat))*((1-epsilon)/(epsilon**3))*(150*mu*(1-epsilon)/dcat + 1.75*G)/(Aacross*rhocat*(1-epsilon))\n",
    "print(G)\n",
    "print(K)"
   ]
  },
  {
   "cell_type": "code",
   "execution_count": 7,
   "metadata": {
    "collapsed": true
   },
   "outputs": [],
   "source": [
    "#a) assuming constant pressure Ptot = 5atm"
   ]
  },
  {
   "cell_type": "code",
   "execution_count": 8,
   "metadata": {
    "collapsed": true
   },
   "outputs": [],
   "source": [
    "#Xa = 1\n",
    "#FA = FAo*(1-Xa)\n",
    "#FB = FBo - 2*FAo*Xa\n",
    "#FC = FCo + FAo*Xa\n",
    "#Ftot = FA + FB + FC"
   ]
  },
  {
   "cell_type": "code",
   "execution_count": 9,
   "metadata": {
    "collapsed": true
   },
   "outputs": [],
   "source": [
    "def alg(F):\n",
    "    FA, FB, FC = F    \n",
    "    Ftot = F[0] + F[1] + F[2]\n",
    "    Q = Ftot*R*T/Po\n",
    "    CA = FA*Po/(Ftot*R*T)\n",
    "    CB = FB*Po/(Ftot*R*T)\n",
    "    CC = FC*Po/(Ftot*R*T)\n",
    "    rAprime = -Kprime*FB*Po*1000/Ftot #remember to change P to pascals\n",
    "    rBprime = 2*rAprime\n",
    "    rCprime = -rAprime\n",
    "    \n",
    "    return[rAprime,rBprime,rCprime,Q,CA,CB,CC,Ftot]\n",
    "\n",
    "\n",
    "    "
   ]
  },
  {
   "cell_type": "code",
   "execution_count": 10,
   "metadata": {
    "collapsed": true
   },
   "outputs": [],
   "source": [
    "def diffs(F,W):\n",
    "    FA, FB, FC = F[0], F[1], F[2]\n",
    "    var = alg([FA,FB,FC])\n",
    "    dFAdW = var[0]\n",
    "    dFBdW = var[1]\n",
    "    dFCdW = var[2]\n",
    "    return[dFAdW,dFBdW,dFCdW]\n"
   ]
  },
  {
   "cell_type": "code",
   "execution_count": 11,
   "metadata": {},
   "outputs": [
    {
     "name": "stdout",
     "output_type": "stream",
     "text": [
      "0.500000375333\n",
      "W=  44.308 kg catalyst\n"
     ]
    }
   ],
   "source": [
    "Fo = [FAo,FBo,FCo]\n",
    "W = 44.308 #in Kg. Keep changing until XA=0.5\n",
    "wspan = linspace(0,W,100)\n",
    "F = odeint(diffs,Fo,wspan)\n",
    "FA,FB,FC = F.T\n",
    "\n",
    "XA = (FAo - FA[-1])/FAo\n",
    "\n",
    "print(XA)\n",
    "print('W= ',W,'kg catalyst')"
   ]
  },
  {
   "cell_type": "code",
   "execution_count": 12,
   "metadata": {
    "collapsed": true
   },
   "outputs": [],
   "source": [
    "var = asarray([alg(F) for F in F]) # F is results from odeint\n",
    "rA = var[:,0]\n",
    "rB = var[:,1]\n",
    "rC = var[:,2]\n",
    "CA = var[:,4]\n",
    "CB = var[:,5]\n",
    "CC = var[:,6]"
   ]
  },
  {
   "cell_type": "code",
   "execution_count": 13,
   "metadata": {},
   "outputs": [
    {
     "data": {
      "image/png": "[encoded data removed]",
      "text/plain": [
       "<matplotlib.figure.Figure at 0x1e44612fb70>"
      ]
     },
     "metadata": {},
     "output_type": "display_data"
    }
   ],
   "source": [
    "plt.figure(1)\n",
    "plt.plot(wspan, CA, color='orange', label='CA')\n",
    "plt.plot(wspan, CB, color='red',label='CB')\n",
    "plt.plot(wspan, CC, color='green',label='CC')\n",
    "plt.legend(loc='best')\n",
    "plt.ylabel('Concentration [mole/V]') \n",
    "plt.xlabel('W [kg]') \n",
    "plt.show()"
   ]
  },
  {
   "cell_type": "code",
   "execution_count": 14,
   "metadata": {},
   "outputs": [
    {
     "data": {
      "image/png": "[encoded data removed]",
      "text/plain": [
       "<matplotlib.figure.Figure at 0x1e446225ac8>"
      ]
     },
     "metadata": {},
     "output_type": "display_data"
    }
   ],
   "source": [
    "plt.figure(2)\n",
    "plt.plot(wspan, rA, color='black', label='rA')\n",
    "plt.plot(wspan, rB, color='blue',label='rB')\n",
    "plt.plot(wspan, rC, color='brown',label='rC')\n",
    "plt.legend(loc='best')\n",
    "plt.ylabel('rate profiles [mole/min.kgcat]') \n",
    "plt.xlabel('W (kg)') \n",
    "plt.show()"
   ]
  },
  {
   "cell_type": "code",
   "execution_count": 15,
   "metadata": {
    "collapsed": true
   },
   "outputs": [],
   "source": [
    "#b) now allowing pressure drop using ergun equation"
   ]
  },
  {
   "cell_type": "code",
   "execution_count": 30,
   "metadata": {
    "collapsed": true
   },
   "outputs": [],
   "source": [
    "def diffs_pdrop(X,W):\n",
    "    FA, FB, FC, P = X\n",
    "    Ftot = FA + FB + FC\n",
    "    rAprime = -Kprime*FB*P/Ftot\n",
    "    rBprime = 2*rAprime\n",
    "    rCprime = -rAprime\n",
    "    dFAdW = rAprime\n",
    "    dFBdW = rBprime\n",
    "    dFCdW = rCprime\n",
    "    dPdW  = -K*(Po*1000/P)*(Ftot/Fto)\n",
    "    return[dFAdW,dFBdW,dFCdW,dPdW]"
   ]
  },
  {
   "cell_type": "code",
   "execution_count": 50,
   "metadata": {},
   "outputs": [
    {
     "name": "stdout",
     "output_type": "stream",
     "text": [
      "conversion= 50.0008408109 %\n",
      "W=  52.8889 kg catalyst\n",
      "P@50%conv= 3.38176797696 atm\n"
     ]
    }
   ],
   "source": [
    "Vals = [FAo,FBo,FCo,Po*1000]\n",
    "Wa = 52.8889#in Kg. Keep changing until XA=0.5\n",
    "waspan = linspace(0,Wa,100)\n",
    "sol = odeint(diffs_pdrop,Vals,waspan)\n",
    "FA1,FB1,FC1,P1 = sol.T\n",
    "\n",
    "XA1 = (FAo - FA1[-1])/FAo\n",
    "\n",
    "print('conversion=', XA1*100,'%')\n",
    "print('W= ',Wa,'kg catalyst')  \n",
    "print('P@50%conv=',P1[-1]/101325,'atm')"
   ]
  },
  {
   "cell_type": "code",
   "execution_count": 51,
   "metadata": {},
   "outputs": [
    {
     "data": {
      "image/png": "[encoded data removed]",
      "text/plain": [
       "<matplotlib.figure.Figure at 0x1e4463d3710>"
      ]
     },
     "metadata": {},
     "output_type": "display_data"
    }
   ],
   "source": [
    "plt.figure(3)\n",
    "plt.plot(waspan, P1/101325, color = 'green', label = 'Pdrop')\n",
    "plt.xlabel('W (kg)')\n",
    "plt.ylabel('Pressure (atm)')\n",
    "plt.legend(loc='best')\n",
    "#plt.grid()\n",
    "plt.show()"
   ]
  },
  {
   "cell_type": "code",
   "execution_count": null,
   "metadata": {
    "collapsed": true
   },
   "outputs": [],
   "source": []
  }
 ],
 "metadata": {
  "kernelspec": {
   "display_name": "Python 3",
   "language": "python",
   "name": "python3"
  },
  "language_info": {
   "codemirror_mode": {
    "name": "ipython",
    "version": 3
   },
   "file_extension": ".py",
   "mimetype": "text/x-python",
   "name": "python",
   "nbconvert_exporter": "python",
   "pygments_lexer": "ipython3",
   "version": "3.7.4"
  }
 },
 "nbformat": 4,
 "nbformat_minor": 2
}
