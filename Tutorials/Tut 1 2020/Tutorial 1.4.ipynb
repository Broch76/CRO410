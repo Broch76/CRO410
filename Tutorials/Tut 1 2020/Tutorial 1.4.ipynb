{
 "cells": [
  {
   "cell_type": "markdown",
   "metadata": {},
   "source": [
    "<img src=\"Tut 1.4 Fogler 4.17.jpg\" width=\"900\" />"
   ]
  },
  {
   "cell_type": "markdown",
   "metadata": {},
   "source": [
    "<img src=\"Tut 1.4.jpg\" width=\"900\" />"
   ]
  },
  {
   "cell_type": "code",
   "execution_count": 35,
   "metadata": {},
   "outputs": [],
   "source": [
    "from numpy import log, array, exp, linspace, asarray\n",
    "from scipy.integrate import odeint\n",
    "from scipy.stats import linregress \n",
    "import matplotlib.pyplot as plt\n",
    "%matplotlib inline"
   ]
  },
  {
   "cell_type": "code",
   "execution_count": 36,
   "metadata": {},
   "outputs": [],
   "source": [
    "from scipy.optimize import fsolve"
   ]
  },
  {
   "cell_type": "code",
   "execution_count": 37,
   "metadata": {},
   "outputs": [],
   "source": [
    "#delta T=0 (isothermal)\n",
    "#Elementary reaction\n",
    "#Feed is pure A\n",
    "W      = 1 #kg\n",
    "Xpbr   = 0.3\n",
    "Po     = 20*101.325 # kpa\n",
    "P      = Po/4 # kpa\n",
    "FAo    = 1 #kmol basis\n",
    "FBo    = 0 #kmol - pure A was fed\n",
    "Fto    = FAo + FBo"
   ]
  },
  {
   "cell_type": "markdown",
   "metadata": {},
   "source": [
    "**Basis:** $1~\\dfrac{kmol}{s}$ Feed"
   ]
  },
  {
   "cell_type": "markdown",
   "metadata": {},
   "source": [
    "|$Species \\qquad $|$Initial \\qquad $|$\\Delta X \\qquad$|$Final \\qquad$\n",
    "|----|-|-|----\n",
    "|$A$|$1$|$-X$|$(1-X)$\n",
    "|$B$|$0$|$0.5X$|$0.5X$\n",
    "|$F_{T}$|$1$|$-0.5X$|$(1 - 0.5X)$"
   ]
  },
  {
   "cell_type": "markdown",
   "metadata": {},
   "source": [
    "So:\n",
    "\\begin{align}\n",
    "F_{A_{0}} &= 1 \\nonumber \\\\\n",
    "F_{B_{0}} &= 0 \\nonumber \\\\\n",
    "F_{T_{0}} &= 1 \\nonumber \\\\\n",
    "F_{A} &= 1 - X \\nonumber \\\\\n",
    "F_{B} &= 0.5X \\nonumber \\\\\n",
    "F_{T} &= 1 - 0.5X \\nonumber \\\\\n",
    "Q_{0} &= 1 \\nonumber \n",
    "\\end{align}"
   ]
  },
  {
   "cell_type": "markdown",
   "metadata": {},
   "source": [
    "The intrinsic rate equation:\n",
    "\\begin{align}\n",
    "r_{A}^{'} &= -K_{i}^{'}C_{A}^{2} \\nonumber \\\\\n",
    "&= -K_{i}^{'}\\left(\\dfrac{F_{A}}{Q}\\right)^{2} \\nonumber\n",
    "\\end{align}"
   ]
  },
  {
   "cell_type": "markdown",
   "metadata": {},
   "source": [
    "But:\n",
    "\\begin{align}\n",
    "Q &= Q_{0} \\dfrac{F_{T}}{F_{T_{0}}}\\dfrac{T}{T_{0}}\\dfrac{P_{0}}{P} \\nonumber \\\\\n",
    "&= F_{T}\\dfrac{P_{0}}{P} \\nonumber\n",
    "\\end{align}"
   ]
  },
  {
   "cell_type": "markdown",
   "metadata": {},
   "source": [
    "Therefore:\n",
    "\\begin{align}\n",
    "r_{A}^{'} &= -k_{i}^{'}\\left(\\dfrac{F_{A}P}{F_{T}P_{0}}\\right)^{2} \\nonumber \\\\\n",
    "&= -k_{i}^{'}\\left(\\dfrac{(1 - X)}{(1 - 0.5X)}\\right)^{2}\\left(\\dfrac{P}{P_{0}} \\right)^{2} \\nonumber\n",
    "\\end{align}"
   ]
  },
  {
   "cell_type": "markdown",
   "metadata": {},
   "source": [
    "Isothermal PBR with pressure drop:"
   ]
  },
  {
   "cell_type": "markdown",
   "metadata": {},
   "source": [
    "Mole balance:\n",
    "\\begin{align}\n",
    "\\dfrac{dF_{A}}{dW} &= r_{A}^{'} \\nonumber \\\\\n",
    "-F_{A_{0}}\\dfrac{dX}{dW} &= r_{A}^{'} \\nonumber \\\\\n",
    "\\dfrac{dX}{dW} &= -r_{A}^{'} \\nonumber \\\\\n",
    "\\dfrac{dX}{dW} &= k_{i}^{'}\\left(\\dfrac{(1 - X)}{(1 - 0.5X)}\\right)^{2}\\left(\\dfrac{P}{P_{0}} \\right)^{2} \\nonumber \\\\\n",
    "\\end{align}"
   ]
  },
  {
   "cell_type": "markdown",
   "metadata": {},
   "source": [
    "Ergun equation with turbulent flow:\n",
    "\\begin{align}\n",
    "\\dfrac{dP}{dW} &= -K_{Ergun}\\left(\\dfrac{F_{T}}{F_{T_{0}}}\\right)\\left(\\dfrac{P_{0}}{P}\\right) \\nonumber \\\\\n",
    "\\dfrac{dP}{dW} &= -K_{Ergun}(1 - 0.5X)\\left(\\dfrac{P_{0}}{P}\\right) \\nonumber \\\\\n",
    "\\end{align}"
   ]
  },
  {
   "cell_type": "code",
   "execution_count": 38,
   "metadata": {},
   "outputs": [
    {
     "name": "stdout",
     "output_type": "stream",
     "text": [
      "Conversion= 48.65173737178527 %\n",
      "Final Pressure= 2017.482038120818 atm\n"
     ]
    }
   ],
   "source": [
    "kprime = 0.695  #keep changing until final results are P=5atm and X=0.3\n",
    "K      = 10.431 #keep changing until final results are P=5atm and X=0.3 (this is from ergun eq)\n",
    "\n",
    "def PBR_K(var,W):\n",
    "    [X, P] = var\n",
    "    dXdW = kprime*(((1-X)*P/(1-0.5*X)/Po)**2)\n",
    "    dPdW = -K*(1-0.5*X)*(Po/P)\n",
    "    return(dXdW, dPdW)\n",
    "\n",
    "wspan = linspace(0, W, 100)\n",
    "ans = odeint(PBR_K,[0,Po],wspan)\n",
    "\n",
    "X1,P1 = ans.T\n",
    "\n",
    "print('Conversion=', X1[-1]*100, '%')\n",
    "print('Final Pressure=', P1[-1], 'atm')"
   ]
  },
  {
   "cell_type": "markdown",
   "metadata": {},
   "source": [
    "**Question a)**"
   ]
  },
  {
   "cell_type": "markdown",
   "metadata": {},
   "source": [
    "The intrinsic rate equation with no pressure drop:\n",
    "\\begin{align}\n",
    "r_{A}^{'} &=-K_{i}^{'}\\left(\\dfrac{(1 - X)}{(1 - 0.5X)}\\right)^{2} \\nonumber\n",
    "\\end{align}"
   ]
  },
  {
   "cell_type": "markdown",
   "metadata": {},
   "source": [
    "CSTR design equation:\n",
    "\\begin{align}\n",
    "F_{A_{0}} - F_{A} + r_{A}^{'}W &= 0 \\nonumber \\\\\n",
    "F_{A_{0}}X &= k_{i}^{'}C_{A}^{2}.1 \\nonumber \\\\\n",
    "X &= k_{i}^{'}\\left(\\dfrac{(1 - X)}{(1 - 0.5X)}\\right)^{2} \\nonumber\n",
    "\\end{align}"
   ]
  },
  {
   "cell_type": "code",
   "execution_count": 46,
   "metadata": {},
   "outputs": [
    {
     "name": "stdout",
     "output_type": "stream",
     "text": [
      "Conversion=  [39.50042007] %\n"
     ]
    }
   ],
   "source": [
    "def CSTR(X):\n",
    "    return(X-kprime*((1-X)/(1-0.5*X))**2)\n",
    "\n",
    "\n",
    "Conv = fsolve(CSTR,0.2)\n",
    "\n",
    "print('Conversion= ',Conv*100, '%')"
   ]
  },
  {
   "cell_type": "markdown",
   "metadata": {},
   "source": [
    "# Question b)"
   ]
  },
  {
   "cell_type": "markdown",
   "metadata": {},
   "source": [
    "The Ergun equation for turbulent flow:\n",
    "\\begin{equation}\n",
    "\t\t\t\\frac{dP}{dz} = -\\dfrac{1.75G^{2}}{\\rho_{\\circ}d_{p}}\\left(\\frac{1 - \\epsilon}{\\epsilon}\\right)\\left(\\dfrac{P_{\\circ}}{P}\\frac{F_{T}}{F_{T_{\\circ}}}\\frac{T}{T_{\\circ}}\\right)\n",
    "\\end{equation}"
   ]
  },
  {
   "cell_type": "markdown",
   "metadata": {},
   "source": [
    "For turbulent flow:\n",
    "\\begin{align}\n",
    "K_{Ergun} = -\\dfrac{1.75G^{2}}{\\rho_{\\circ}d_{p}}\\left(\\frac{1 - \\epsilon}{\\epsilon}\\right) \\nonumber \\\\\n",
    "K_{Ergun_{NEW}} = -\\dfrac{1.75(G/4)^{2}}{\\rho_{\\circ}(2d_{p})}\\left(\\frac{1 - \\epsilon}{\\epsilon}\\right) \\nonumber \\\\\n",
    "K_{Ergun_{NEW}} = -\\dfrac{K_{Ergun}}{(16 \\times 2)} \\nonumber \n",
    "\\end{align}"
   ]
  },
  {
   "cell_type": "markdown",
   "metadata": {},
   "source": [
    "If $\\dot{m}$ doubles, then $F_{A_{0}}$ also doubles, consequently:\n",
    "$$\n",
    "\\begin{align}\n",
    "r_{A1}^{'} &= -k_{1}^{'}\\left(\\dfrac{F_{A}}{Q} \\right)^{2} \\nonumber \\\\\n",
    "r_{A2}^{'} &= -k_{1}^{'}\\left(\\dfrac{2F_{A}}{Q} \\right)^{2} \\nonumber \\\\\n",
    "r_{A2}^{'} &= -4k_{1}^{'}\\left(\\dfrac{F_{A}}{Q} \\right)^{2} \\nonumber \\\\\n",
    "\\therefore k_{2}^{'} &= 4k_{1}^{'} \\nonumber\n",
    "\\end{align}\n",
    "$$"
   ]
  },
  {
   "cell_type": "code",
   "execution_count": 47,
   "metadata": {},
   "outputs": [],
   "source": [
    "kprime2 = 4*kprime\n",
    "K2 = K/32"
   ]
  },
  {
   "cell_type": "code",
   "execution_count": 48,
   "metadata": {},
   "outputs": [
    {
     "name": "stdout",
     "output_type": "stream",
     "text": [
      "New Conversion= 86.27213051038598 %\n",
      "Final Pressure= 2026.2754133072347 atm\n"
     ]
    }
   ],
   "source": [
    "def PBR_b(var,W):\n",
    "    [X, P] = var\n",
    "    dXdW = kprime2*(((1-X)*P/(1-0.5*X)/Po)**2) #multiplied by 4 for increase in mass flow rate\n",
    "    dPdW = -K2*(1-0.5*X)*(Po/P)\n",
    "    return(dXdW, dPdW)\n",
    "\n",
    "wspan = linspace(0, W, 100)\n",
    "sol = odeint(PBR_b,[0,Po],wspan)\n",
    "\n",
    "X2,P2 = sol.T\n",
    "\n",
    "print('New Conversion=', X2[-1]*100, '%')\n",
    "print('Final Pressure=', P2[-1], 'atm')"
   ]
  }
 ],
 "metadata": {
  "kernelspec": {
   "display_name": "Python 3",
   "language": "python",
   "name": "python3"
  },
  "language_info": {
   "codemirror_mode": {
    "name": "ipython",
    "version": 3
   },
   "file_extension": ".py",
   "mimetype": "text/x-python",
   "name": "python",
   "nbconvert_exporter": "python",
   "pygments_lexer": "ipython3",
   "version": "3.7.3"
  }
 },
 "nbformat": 4,
 "nbformat_minor": 2
}
