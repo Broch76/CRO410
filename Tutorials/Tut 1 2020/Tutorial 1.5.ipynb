{
 "cells": [
  {
   "cell_type": "markdown",
   "metadata": {},
   "source": [
    "<img src=\"Tut 1.5.jpg\" width=\"900\" />"
   ]
  },
  {
   "cell_type": "code",
   "execution_count": 116,
   "metadata": {
    "collapsed": true
   },
   "outputs": [],
   "source": [
    "from numpy import log, array, exp, linspace, asarray, argmax, interp\n",
    "from scipy.integrate import odeint\n",
    "from scipy.stats import linregress \n",
    "import matplotlib.pyplot as plt\n",
    "%matplotlib inline"
   ]
  },
  {
   "cell_type": "code",
   "execution_count": 117,
   "metadata": {
    "collapsed": true
   },
   "outputs": [],
   "source": [
    "#The system is in the batch:\n",
    "K = 0.25 #L/mol.min\n",
    "Vo = 1 #L\n",
    "CAo = 5 #mol/L\n",
    "CBo = 0 #mol/L\n",
    "CBin = 5 #mol/L\n",
    "Q = 0.05 #L/min\n"
   ]
  },
  {
   "cell_type": "code",
   "execution_count": 132,
   "metadata": {},
   "outputs": [],
   "source": [
    "def sembatch(C,t):\n",
    "    CA, CB, V= C[0], C[1], C[2]\n",
    "    dCAdt = -K*CA*CB - Q*CA/V\n",
    "    dCBdt = K*CA*CB + (Q/V)*(CBin - CB)\n",
    "    dVdt = Q\n",
    "    return [dCAdt, dCBdt, dVdt]\n",
    "\n",
    "tspan = linspace(0, 20, 100)\n",
    "\n",
    "ans = odeint(sembatch,[CAo,CBo,Vo],tspan) #in the reactor, initial concentration is 0\n",
    "\n",
    "CA, CB, V = ans.T\n",
    "rA = -K*CA*CB"
   ]
  },
  {
   "cell_type": "code",
   "execution_count": 133,
   "metadata": {},
   "outputs": [],
   "source": [
    "#var = asarray([sembatch[y,tspan] for y in ans]) # C is results from odeint\n",
    "#rA = -K*var[:,0]*var[:,1]\n",
    "#CA = var[:,0]\n",
    "#CB = var[:,1]\n",
    "#V = var[:,2]\n"
   ]
  },
  {
   "cell_type": "code",
   "execution_count": 134,
   "metadata": {},
   "outputs": [
    {
     "data": {
      "image/png": "[encoded data removed]",
      "text/plain": [
       "<matplotlib.figure.Figure at 0x2242d4a6ba8>"
      ]
     },
     "metadata": {},
     "output_type": "display_data"
    }
   ],
   "source": [
    "plt.figure(1)\n",
    "plt.plot(tspan, CB, color='blue', label='CB')\n",
    "plt.plot(tspan, rA, color='red',label='rA')\n",
    "plt.legend(loc='best')\n",
    "plt.ylabel('CB, rA vs Time') \n",
    "plt.xlabel('t [mins]') \n",
    "plt.show()"
   ]
  },
  {
   "cell_type": "code",
   "execution_count": 136,
   "metadata": {},
   "outputs": [
    {
     "name": "stdout",
     "output_type": "stream",
     "text": [
      "rAmax= -1.55981572628 molA/L.min\n"
     ]
    }
   ],
   "source": [
    "i = argmax(rA == min(rA))\n",
    "rAmax = rA[i]\n",
    "print('rAmax=',rAmax,'molA/L.min')"
   ]
  },
  {
   "cell_type": "code",
   "execution_count": 137,
   "metadata": {},
   "outputs": [],
   "source": [
    "#t_rAmax = interp(rAmax,rA[::-1],tspan[::-1])\n",
    "#print ('Time max rA observed: ', t_rAmax, 'mins')"
   ]
  },
  {
   "cell_type": "code",
   "execution_count": 138,
   "metadata": {},
   "outputs": [
    {
     "name": "stdout",
     "output_type": "stream",
     "text": [
      "Time max rA is observed:  2.62626262626 mins\n"
     ]
    }
   ],
   "source": [
    "print('Time max rA is observed: ',tspan[i], 'mins')"
   ]
  },
  {
   "cell_type": "code",
   "execution_count": null,
   "metadata": {
    "collapsed": true
   },
   "outputs": [],
   "source": []
  }
 ],
 "metadata": {
  "kernelspec": {
   "display_name": "Python 3",
   "language": "python",
   "name": "python3"
  },
  "language_info": {
   "codemirror_mode": {
    "name": "ipython",
    "version": 3
   },
   "file_extension": ".py",
   "mimetype": "text/x-python",
   "name": "python",
   "nbconvert_exporter": "python",
   "pygments_lexer": "ipython3",
   "version": "3.7.4"
  }
 },
 "nbformat": 4,
 "nbformat_minor": 2
}
