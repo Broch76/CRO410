{
 "cells": [
  {
   "cell_type": "markdown",
   "metadata": {},
   "source": [
    "<img src=\"Tut 1.5.JPG\" width=\"900\" />"
   ]
  },
  {
   "cell_type": "code",
   "execution_count": 11,
   "metadata": {},
   "outputs": [],
   "source": [
    "from numpy import log, array, exp, linspace, asarray, argmax, interp\n",
    "from scipy.integrate import odeint\n",
    "from scipy.stats import linregress \n",
    "import matplotlib.pyplot as plt\n",
    "%matplotlib inline"
   ]
  },
  {
   "cell_type": "code",
   "execution_count": 12,
   "metadata": {},
   "outputs": [],
   "source": [
    "#The system is in the batch:\n",
    "K    = 0.25 #L/mol.min\n",
    "Vo   =    1 #L\n",
    "CAo  =    5 #mol/L\n",
    "CBo  =    0 #mol/L\n",
    "CBin =    5 #mol/L\n",
    "Q    = 0.05 #L/min"
   ]
  },
  {
   "cell_type": "markdown",
   "metadata": {},
   "source": [
    "Intrinsic rate equations:\n",
    "\\begin{align}\n",
    "r_{A} &= -k_{i}C_{A}C_{B} \\\\\n",
    "r_{B} &= -r_{A}\n",
    "\\end{align}"
   ]
  },
  {
   "cell_type": "markdown",
   "metadata": {},
   "source": [
    "Mole balance for species $A$:\n",
    "\\begin{align}\n",
    "F_{A_{0}} - F_{A} + r_{A}V &= \\dfrac{dN_{A}}{dt} \\nonumber \\\\\n",
    "r_{A}V &= \\dfrac{d(C_{A}V)}{dt} \\nonumber \\\\\n",
    "r_{A}V &= V\\dfrac{d(C_{A})}{dt} + C_{A}\\dfrac{d(V)}{dt} \\\\\n",
    "\\end{align}"
   ]
  },
  {
   "cell_type": "markdown",
   "metadata": {},
   "source": [
    "Overall mass balance for the semi-batch reactor:\n",
    "\\begin{align}\n",
    "\\rho_{0}Q_{0} -0 +0 &= \\dfrac{d(\\rho V)}{dt} \\nonumber\n",
    "\\end{align}\n",
    "Assume a constant density system:\n",
    "\\begin{align}\n",
    "\\rho_{0} &= \\rho \\nonumber \\\\\n",
    "\\therefore \\dfrac{dV}{dt} &= Q_{0} \\\\\n",
    "\\int_{v_{0}}^{v} dV &= Q_{0}\\int_{0}^{t}dt \\nonumber \\\\\n",
    "\\therefore v &= v_{0} + Q_{0}t\n",
    "\\end{align}"
   ]
  },
  {
   "cell_type": "markdown",
   "metadata": {},
   "source": [
    "Substituting eq.$4$ into eq.$3$ :\n",
    "\\begin{align}\n",
    "\\therefore r_{A}V &= V\\dfrac{dC_{A}}{dt} + C_{A}Q_{0} \\nonumber \\\\\n",
    "\\dfrac{dC_{A}}{dt} &= r_{A} - \\dfrac{Q_{0}C_{A}}{V} \\\\\n",
    "\\dfrac{dC_{A}}{dt} &= -k_{i}C_{A}C_{B} - \\dfrac{Q_{0}C_{A}}{V}\n",
    "\\end{align}"
   ]
  },
  {
   "cell_type": "markdown",
   "metadata": {},
   "source": [
    "Mole balance for species $B$:\n",
    "\\begin{align}\n",
    "F_{B_{0}} - F_{B} + r_{B}V &= \\dfrac{dN_{B}}{dt} \\nonumber \\\\\n",
    "Q_{0}C_{B_{0}} - 0 + r_{B}V &= \\dfrac{d(C_{B}V)}{dt} \\nonumber \\\\\n",
    "Q_{0}C_{B_{0}} + r_{B}V &= V\\dfrac{d(C_{B})}{dt} + C_{B}\\dfrac{d(V)}{dt} \\nonumber \\\\\n",
    "But\\ \\dfrac{dV}{dt} &= Q_{0} \\nonumber \\\\\n",
    "\\therefore Q_{0}C_{B_{0}} + r_{B}V &= V\\dfrac{d(C_{B})}{dt} + C_{B}Q_{0} \\nonumber \\\\\n",
    "r_{B}V &= V\\dfrac{d(C_{B})}{dt} + Q_{0}(C_{B} - C_{B_{0}})\\nonumber \\\\\n",
    "\\dfrac{d(C_{B})}{dt} &= -r_{A} - \\dfrac{Q_{0}(C_{B} - C_{B_{0}})}{V} \\nonumber \\\\\n",
    "\\dfrac{d(C_{B})}{dt} &= k_{i}C_{A}C_{B} + \\dfrac{Q_{0}(C_{B_{0}} - C_{B})}{V}\n",
    "\\end{align}"
   ]
  },
  {
   "cell_type": "markdown",
   "metadata": {},
   "source": [
    "Time to completion:\n",
    "\\begin{align}\n",
    "N_{A_{0}} &= C_{A_{0}}V_{0} \\nonumber \\\\\n",
    "&= 5\\dfrac{mol}{L} \\times 1L \\nonumber \\\\\n",
    "&= 5mol \\nonumber\n",
    "\\end{align}\n",
    "Therefore $5~mol$ of $B$ is required."
   ]
  },
  {
   "cell_type": "markdown",
   "metadata": {},
   "source": [
    "Rate of $B$ added:\n",
    "\\begin{align}\n",
    "C_{B}Q_{0} &= 5\\dfrac{mol}{L} \\times 0.05\\dfrac{L}{min} \\nonumber \\\\\n",
    "&= 0.25\\dfrac{mol}{min}\n",
    "\\end{align}"
   ]
  },
  {
   "cell_type": "markdown",
   "metadata": {},
   "source": [
    "Time to completion:\n",
    "\\begin{align}\n",
    "5.molB \\times \\dfrac{min}{0.25molB}&= 20min \\nonumber\n",
    "\\end{align}"
   ]
  },
  {
   "cell_type": "code",
   "execution_count": 13,
   "metadata": {},
   "outputs": [],
   "source": [
    "def sembatch(C,t):\n",
    "    CA, CB, V= C[0], C[1], C[2]\n",
    "    dCAdt    = -K*CA*CB - Q*CA/V\n",
    "    dCBdt    = K*CA*CB + (Q/V)*(CBin - CB)\n",
    "    dVdt     = Q\n",
    "    return [dCAdt, dCBdt, dVdt]\n",
    "\n",
    "tspan = linspace(0, 20, 100)\n",
    "\n",
    "ans = odeint(sembatch,[CAo,CBo,Vo],tspan) #in the reactor, initial concentration is 0\n",
    "\n",
    "CA, CB, V = ans.T\n",
    "rA = -K*CA*CB"
   ]
  },
  {
   "cell_type": "code",
   "execution_count": 14,
   "metadata": {},
   "outputs": [],
   "source": [
    "#var = asarray([sembatch[y,tspan] for y in ans]) # C is results from odeint\n",
    "#rA = -K*var[:,0]*var[:,1]\n",
    "#CA = var[:,0]\n",
    "#CB = var[:,1]\n",
    "#V = var[:,2]\n"
   ]
  },
  {
   "cell_type": "code",
   "execution_count": 15,
   "metadata": {},
   "outputs": [
    {
     "data": {
      "image/png": "[encoded data removed]",
      "text/plain": [
       "<Figure size 432x288 with 1 Axes>"
      ]
     },
     "metadata": {
      "needs_background": "light"
     },
     "output_type": "display_data"
    }
   ],
   "source": [
    "plt.figure(1)\n",
    "plt.plot(tspan, CB, color='blue', label='CB')\n",
    "plt.plot(tspan, rA, color='red',label='rA')\n",
    "plt.legend(loc='best')\n",
    "plt.ylabel('CB, rA vs Time') \n",
    "plt.xlabel('t [mins]') \n",
    "plt.show()"
   ]
  },
  {
   "cell_type": "code",
   "execution_count": 16,
   "metadata": {},
   "outputs": [
    {
     "name": "stdout",
     "output_type": "stream",
     "text": [
      "rAmax= -1.559815726276219 molA/L.min\n"
     ]
    }
   ],
   "source": [
    "i = argmax(rA == min(rA))\n",
    "rAmax = rA[i]\n",
    "print('rAmax=',rAmax,'molA/L.min')"
   ]
  },
  {
   "cell_type": "code",
   "execution_count": 17,
   "metadata": {},
   "outputs": [],
   "source": [
    "#t_rAmax = interp(rAmax,rA[::-1],tspan[::-1])\n",
    "#print ('Time max rA observed: ', t_rAmax, 'mins')"
   ]
  },
  {
   "cell_type": "code",
   "execution_count": 18,
   "metadata": {},
   "outputs": [
    {
     "name": "stdout",
     "output_type": "stream",
     "text": [
      "Time max rA is observed:  2.6262626262626263 mins\n"
     ]
    }
   ],
   "source": [
    "print('Time max rA is observed: ',tspan[i], 'mins')"
   ]
  },
  {
   "cell_type": "code",
   "execution_count": null,
   "metadata": {},
   "outputs": [],
   "source": []
  }
 ],
 "metadata": {
  "kernelspec": {
   "display_name": "Python 3",
   "language": "python",
   "name": "python3"
  },
  "language_info": {
   "codemirror_mode": {
    "name": "ipython",
    "version": 3
   },
   "file_extension": ".py",
   "mimetype": "text/x-python",
   "name": "python",
   "nbconvert_exporter": "python",
   "pygments_lexer": "ipython3",
   "version": "3.7.3"
  }
 },
 "nbformat": 4,
 "nbformat_minor": 2
}
