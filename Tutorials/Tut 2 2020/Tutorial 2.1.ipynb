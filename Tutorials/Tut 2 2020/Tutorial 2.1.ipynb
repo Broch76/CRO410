{
 "cells": [
  {
   "cell_type": "markdown",
   "metadata": {},
   "source": [
    "<img src=\"Tut 2.1.png\" width=\"900\" />"
   ]
  },
  {
   "cell_type": "code",
   "execution_count": 69,
   "metadata": {},
   "outputs": [],
   "source": [
    "from numpy import log, array, exp, linspace, asarray, argmax, interp, append\n",
    "from scipy.integrate import odeint\n",
    "from scipy.stats import linregress \n",
    "import matplotlib.pyplot as plt\n",
    "%matplotlib inline"
   ]
  },
  {
   "cell_type": "code",
   "execution_count": 70,
   "metadata": {},
   "outputs": [],
   "source": [
    "#elementary\n",
    "#irreversible\n",
    "#liquid\n",
    "#adiabatic\n",
    "#equimolar feed at 27°C"
   ]
  },
  {
   "cell_type": "code",
   "execution_count": 112,
   "metadata": {},
   "outputs": [],
   "source": [
    "R      =       8.314 #kPa.m3/kmol.K\n",
    "CpA    =    15*4.187 #J/mol.K\n",
    "CpB    =         CpA\n",
    "CpC    =       2*CpA\n",
    "delHrx = -6000*4.187 #J/mol\n",
    "K300   =        0.01 #L/mol.s at 300K\n",
    "Ea     = 10000*4.187 #J/mol\n",
    "Q      =           2 #L/s\n",
    "CAo    =         0.1 #mol/s\n",
    "CBo    =         CAo\n",
    "FAo    =       CAo*Q\n",
    "FBo    =       CBo*Q\n",
    "To     = 27 + 273.15 #Kelvin"
   ]
  },
  {
   "cell_type": "code",
   "execution_count": 113,
   "metadata": {},
   "outputs": [],
   "source": [
    "Ko     = K300*exp(Ea/(8.314*300)) #L/mol/s"
   ]
  },
  {
   "cell_type": "markdown",
   "metadata": {},
   "source": [
    "**Question a)**"
   ]
  },
  {
   "cell_type": "markdown",
   "metadata": {},
   "source": [
    "Mole Balance for the PFR:\n",
    "\\begin{align}\n",
    "\\dfrac{dF_{A}}{dV} &= r_{A} \\nonumber \\\\\n",
    "-F{A_{o}}\\dfrac{dX}{dV} &= k_{i}C_{A}C_{B} \\nonumber \\\\\n",
    "-QC{A_{o}}\\dfrac{dX}{dV} &= -k_{i}C_{A}^{2} \\nonumber \\\\\n",
    "\\dfrac{dX}{dV} &= -k_{i}\\dfrac{(C_{A_{0}}(1 - X))^{2}}{-QC{A_{o}}} \\nonumber \\\\\n",
    "\\dfrac{dX}{dV} &= k_{0}e^{\\left(-\\dfrac{E_{a}}{RT}\\right)}\\dfrac{C_{A_{0}}(1 - X)^{2}}{Q} \\nonumber \\\\\n",
    "\\end{align}"
   ]
  },
  {
   "cell_type": "markdown",
   "metadata": {},
   "source": [
    "Energy balance for PFR:\n",
    "\\begin{align}\n",
    "T_{out} &= T_{in} +  \\dfrac{(-\\Delta H_{RX_{j}})(F_{A_{0}}/a)}{\\Sigma_{i}F_{i_{0}}C_{p_{i}}}X_{A} \\nonumber \\\\\n",
    "T_{out} &= T_{in} +  \\dfrac{(-\\Delta H_{RX_{j}})(F_{A_{0}}/1)}{F_{A_{0}}C_{p_{A}} + F_{B_{0}}C_{p_{B}}}X_{A} \\nonumber \\\\\n",
    "T_{out} &= T_{in} +  \\dfrac{(-\\Delta H_{RX_{j}})(QC_{A_{0}})}{QC_{A_{0}}C_{p_{A}} + QC_{A_{0}}C_{p_{A}}}X_{A} \\nonumber \\\\\n",
    "T_{out} &= T_{in} +  \\dfrac{(-\\Delta H_{RX_{j}})}{2C_{p_{A}}} \\nonumber \n",
    "\\end{align}"
   ]
  },
  {
   "cell_type": "code",
   "execution_count": 114,
   "metadata": {},
   "outputs": [],
   "source": [
    "def aPFR(X1,V):\n",
    "    X = X1[0]\n",
    "    T = To - delHrx*X/(2*CpA)\n",
    "    dXdV = (Ko/Q)*exp(-Ea/(R*T))*CAo*(1-X)**2\n",
    "    return [dXdV]"
   ]
  },
  {
   "cell_type": "code",
   "execution_count": 115,
   "metadata": {},
   "outputs": [],
   "source": [
    "Xo = [0]\n",
    "\n",
    "Vspan = linspace(0,500,100)\n",
    "\n",
    "Xi = odeint(aPFR,Xo,Vspan)\n",
    "\n",
    "X = Xi[:,0]\n",
    "T = To - delHrx*X/(2*CpA)\n"
   ]
  },
  {
   "cell_type": "code",
   "execution_count": 116,
   "metadata": {},
   "outputs": [
    {
     "data": {
      "image/png": "[encoded data removed]",
      "text/plain": [
       "<Figure size 432x288 with 1 Axes>"
      ]
     },
     "metadata": {
      "needs_background": "light"
     },
     "output_type": "display_data"
    }
   ],
   "source": [
    "plt.figure(1)\n",
    "plt.plot(Vspan, X, color='blue', label='Xi')\n",
    "plt.legend(loc='best')\n",
    "plt.ylabel('Conversion') \n",
    "plt.xlabel('Volume') \n",
    "plt.show()"
   ]
  },
  {
   "cell_type": "code",
   "execution_count": 91,
   "metadata": {},
   "outputs": [
    {
     "name": "stdout",
     "output_type": "stream",
     "text": [
      "PFR Volume required for 85% conversion=  302.21795898708683 L\n"
     ]
    }
   ],
   "source": [
    "Conv85 = interp(-0.85,-X[::-1],Vspan[::-1])\n",
    "print('PFR Volume required for 85% conversion= ',Conv85,'L')"
   ]
  },
  {
   "cell_type": "markdown",
   "metadata": {},
   "source": [
    "Mole balance for CSTR:\n",
    "\\begin{align}\n",
    "F_{A_{0}} - F_{A} + r_{A}V &= 0 \\nonumber \\\\\n",
    "F_{A_{0}}X - k_{i}C_{A}C_{B}V &= 0 \\nonumber \\\\\n",
    "QC_{A_{0}}X - k_{0}e^{\\left(-\\dfrac{E_{a}}{RT}\\right)}C_{A}C_{B}V &= 0 \\nonumber \\\\\n",
    "QC_{A_{0}}X - k_{0}e^{\\left(-\\dfrac{E_{a}}{RT}\\right)}(C_{A_{0}}(1 - X))^{2}V &= 0 \\nonumber \\\\\n",
    "QX &= k_{0}e^{\\left(-\\dfrac{E_{a}}{RT}\\right)}C_{A_{0}}(1 - X)^{2}V \\nonumber \\\\\n",
    "V &= \\dfrac{QXe^{\\left(\\dfrac{E_{a}}{RT}\\right)}}{k_{0}C_{A_{0}}(1 - X)^{2}} \\nonumber \\\\\n",
    "\\end{align}"
   ]
  },
  {
   "cell_type": "code",
   "execution_count": 117,
   "metadata": {},
   "outputs": [
    {
     "name": "stdout",
     "output_type": "stream",
     "text": [
      "CSTR Volume required for 85% conversion=  173.70021403174118 L\n"
     ]
    }
   ],
   "source": [
    "X2=0.85\n",
    "Tcstr = To - delHrx*X2/(2*CpA)\n",
    "Vcstr = X2*Q*exp(Ea/(R*Tcstr))/(CAo*(1-X2)**2*Ko)\n",
    "print('CSTR Volume required for 85% conversion= ',Vcstr,'L')"
   ]
  },
  {
   "cell_type": "markdown",
   "metadata": {
    "collapsed": true
   },
   "source": [
    "**Question b)**"
   ]
  },
  {
   "cell_type": "code",
   "execution_count": 118,
   "metadata": {},
   "outputs": [
    {
     "name": "stdout",
     "output_type": "stream",
     "text": [
      "Max inlet T to avoid bp exceeded= 350.0 Kelvin\n"
     ]
    }
   ],
   "source": [
    "Tb = 550 #K\n",
    "Xb = 1 #reaction to completion\n",
    "Tob = Tb + delHrx*Xb/(2*CpA)\n",
    "print('Max inlet T to avoid bp exceeded=',Tob,'Kelvin')"
   ]
  },
  {
   "cell_type": "markdown",
   "metadata": {
    "collapsed": true
   },
   "source": [
    "**Question c)**"
   ]
  },
  {
   "cell_type": "code",
   "execution_count": 119,
   "metadata": {},
   "outputs": [
    {
     "data": {
      "image/png": "[encoded data removed]",
      "text/plain": [
       "<Figure size 432x288 with 1 Axes>"
      ]
     },
     "metadata": {
      "needs_background": "light"
     },
     "output_type": "display_data"
    }
   ],
   "source": [
    "plt.figure(2)\n",
    "plt.plot(Vspan, T-273.15, color = 'green', label = 'T')\n",
    "plt.plot(Vspan, X*100, color = 'blue', label = 'X')\n",
    "plt.xlabel('V (L)')\n",
    "plt.ylabel('T(°C) and Conversion(%)')\n",
    "plt.legend(loc='best')\n",
    "#plt.grid()\n",
    "plt.show()"
   ]
  },
  {
   "cell_type": "markdown",
   "metadata": {
    "collapsed": true
   },
   "source": [
    "**Question d)**"
   ]
  },
  {
   "cell_type": "code",
   "execution_count": 123,
   "metadata": {},
   "outputs": [],
   "source": [
    "Vcstr = 500 #L\n",
    "def CSTR500(var):\n",
    "    X = var[0]\n",
    "    Te = To - delHrx*X/(2*CpA)\n",
    "    return[X - (Ko/Q)*exp(-Ea/(R*Te))*(CAo*(1-X)**2)*Vcstr]"
   ]
  },
  {
   "cell_type": "code",
   "execution_count": 124,
   "metadata": {},
   "outputs": [],
   "source": [
    "from scipy.optimize import fsolve"
   ]
  },
  {
   "cell_type": "code",
   "execution_count": 125,
   "metadata": {},
   "outputs": [
    {
     "name": "stdout",
     "output_type": "stream",
     "text": [
      "Max conversion for 500CSTR= 92.13932367502295 %\n"
     ]
    }
   ],
   "source": [
    "Xcstr = fsolve(CSTR500,0.9)\n",
    "Xf = Xcstr[-1]\n",
    "print('Max conversion for 500CSTR=', Xf*100,'%')"
   ]
  },
  {
   "cell_type": "code",
   "execution_count": 126,
   "metadata": {},
   "outputs": [
    {
     "name": "stdout",
     "output_type": "stream",
     "text": [
      "Max conversion for 250CSTR= 88.13477351900197 %\n",
      "Tout of 250CSTR= 476.4195470380039 K\n"
     ]
    }
   ],
   "source": [
    "Vcstr1 = 250 #L\n",
    "def CSTR1(var1):\n",
    "    X1 = var1[0]\n",
    "    Te1 = To - delHrx*X1/(2*CpA)\n",
    "    return[X1 - (Ko/Q)*exp(-Ea/(R*Te1))*(CAo*(1-X1)**2)*Vcstr1]\n",
    "           \n",
    "Xcstr1 = fsolve(CSTR1,0.9)\n",
    "Xf1 = Xcstr1[-1]\n",
    "Tf1 = To - delHrx*Xf1/(2*CpA)\n",
    "print('Max conversion for 250CSTR=', Xf1*100,'%')\n",
    "print('Tout of 250CSTR=', Tf1,'K')           "
   ]
  },
  {
   "cell_type": "code",
   "execution_count": 127,
   "metadata": {},
   "outputs": [],
   "source": [
    "To1 = 350 #max feed temperature is 350K, therefore CSTR1 need be cooled before CSTR2\n",
    "CAo1 = CAo*(1-Xf1)"
   ]
  },
  {
   "cell_type": "code",
   "execution_count": 130,
   "metadata": {},
   "outputs": [
    {
     "name": "stdout",
     "output_type": "stream",
     "text": [
      "Max conversion for 2nd 250CSTR= 75.35183548379064 %\n",
      "Tout of 250CSTR= 500.7036709675813 K\n"
     ]
    }
   ],
   "source": [
    "Vcstr2 = 250 #L\n",
    "def CSTR2(var2):\n",
    "    X2 = var2[0]\n",
    "    Te2 = To1 - delHrx*X2/(2*CpA)    \n",
    "    return[X2 - (Ko/Q)*exp(-Ea/(R*Te2))*(CAo1*(1-X2)**2)*Vcstr2]\n",
    "           \n",
    "Xcstr2 = fsolve(CSTR2,0.9)\n",
    "Xf2 = Xcstr2[-1]\n",
    "Tf2 = To1 - delHrx*Xf2/(2*CpA)\n",
    "print('Max conversion for 2nd 250CSTR=', Xf2*100,'%')\n",
    "print('Tout of 250CSTR=', Tf2,'K') "
   ]
  },
  {
   "cell_type": "code",
   "execution_count": 131,
   "metadata": {},
   "outputs": [
    {
     "data": {
      "text/plain": [
       "0.9707543945674276"
      ]
     },
     "execution_count": 131,
     "metadata": {},
     "output_type": "execute_result"
    }
   ],
   "source": [
    "CAout = CAo1*(1-Xf2)\n",
    "Tconv = -(CAout-CAo)/CAo\n",
    "Tconv"
   ]
  },
  {
   "cell_type": "code",
   "execution_count": 143,
   "metadata": {},
   "outputs": [],
   "source": [
    "Xdspan = linspace(0,0.985, 1000)\n",
    "Td = To - delHrx*Xdspan/(2*CpA)\n",
    "kd = Ko*exp(-Ea/(R*Td)) \n",
    "ra = -kd*(CAo*(1-Xdspan))**2\n",
    "rate = -1/ra"
   ]
  },
  {
   "cell_type": "code",
   "execution_count": 150,
   "metadata": {},
   "outputs": [
    {
     "data": {
      "image/png": "[encoded data removed]",
      "text/plain": [
       "<Figure size 432x288 with 1 Axes>"
      ]
     },
     "metadata": {
      "needs_background": "light"
     },
     "output_type": "display_data"
    }
   ],
   "source": [
    "plt.figure(3)\n",
    "plt.plot(Xdspan, rate, color='blue', label='Xi')\n",
    "plt.legend(loc='best')\n",
    "plt.axis([0, 1,0,15000])\n",
    "plt.title('Levenspiel Plot')\n",
    "plt.ylabel('Depletion rate') \n",
    "plt.xlabel('Conversion') \n",
    "plt.show()"
   ]
  },
  {
   "cell_type": "code",
   "execution_count": null,
   "metadata": {},
   "outputs": [],
   "source": []
  }
 ],
 "metadata": {
  "kernelspec": {
   "display_name": "Python 3",
   "language": "python",
   "name": "python3"
  },
  "language_info": {
   "codemirror_mode": {
    "name": "ipython",
    "version": 3
   },
   "file_extension": ".py",
   "mimetype": "text/x-python",
   "name": "python",
   "nbconvert_exporter": "python",
   "pygments_lexer": "ipython3",
   "version": "3.7.3"
  }
 },
 "nbformat": 4,
 "nbformat_minor": 2
}
