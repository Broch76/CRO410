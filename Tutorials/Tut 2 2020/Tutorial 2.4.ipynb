{
 "cells": [
  {
   "cell_type": "code",
   "execution_count": 224,
   "metadata": {},
   "outputs": [],
   "source": [
    "from numpy import *\n",
    "from scipy.optimize import fsolve\n",
    "from scipy.integrate import odeint\n",
    "from matplotlib import pyplot as plt\n",
    "from scipy.interpolate import interp1d\n",
    "%matplotlib inline"
   ]
  },
  {
   "cell_type": "markdown",
   "metadata": {},
   "source": [
    "An elementary exothermic liquid phase reaction, where $A \\rightarrow B$, takes place in two identical adiabatic CSTR's in series. Both reactors have a volume of $200~L$. Details on reaction kinetics and some operating parameters are summarized in the Table below:"
   ]
  },
  {
   "cell_type": "markdown",
   "metadata": {},
   "source": [
    "<img src=\"2.4a.PNG\" width=\"350\" />"
   ]
  },
  {
   "cell_type": "markdown",
   "metadata": {},
   "source": [
    "*The overall conversion of $A(X_{A})$ measured at the outlet of CSTR2 (based on the inlet to CSTR1) is only $30~\\%$*"
   ]
  },
  {
   "cell_type": "code",
   "execution_count": 225,
   "metadata": {},
   "outputs": [],
   "source": [
    "#Elementary\n",
    "#liquid\n",
    "#exothermic"
   ]
  },
  {
   "cell_type": "code",
   "execution_count": 226,
   "metadata": {},
   "outputs": [],
   "source": [
    "Q    = 2.5 #L/s\n",
    "CA1o = 0.1 #mol/L\n",
    "T1o  = 450 #K\n",
    "V1   = 200 #L\n",
    "V2   = V1\n",
    "ko   = 8000 #1/s\n",
    "Ea   = 60000 #J/mol\n",
    "CpA  = 100 #J/(mol.K)\n",
    "CpB  = CpA\n",
    "R    = 8.314\n",
    "Xt   = 0.3"
   ]
  },
  {
   "cell_type": "markdown",
   "metadata": {},
   "source": [
    "<img src=\"2.4b.JPG\" width=\"650\" />"
   ]
  },
  {
   "cell_type": "markdown",
   "metadata": {},
   "source": [
    "Rate equations:\n",
    "\\begin{align}\n",
    "r_{A_{1}} &= -k_{1}C_{A1_{0}}(1 - X_{1}) \\nonumber \\\\\n",
    "r_{A_{2}} &= -k_{2}C_{A2_{0}}(1 - X_{2}) \\nonumber \\\\\n",
    "k_{1} &= k_{0}e^{-E_{a}/RT} \\nonumber \\\\\n",
    "k_{2} &= k_{0}e^{-E_{a}/RT} \\nonumber \\\\\n",
    "r_{B_{1}} &= -r_{A_{1}} \\nonumber \\\\\n",
    "r_{B_{2}} &= -r_{A_{2}} \\nonumber\n",
    "\\end{align}"
   ]
  },
  {
   "cell_type": "markdown",
   "metadata": {},
   "source": [
    "Mass balance equations:\n",
    "\\begin{align}\n",
    "F_{A1_{0}} - F_{A_{1}} + r_{A_{1}}V_{1} &= 0 \\nonumber \\\\\n",
    "F_{A1_{0}}X_{1} + r_{A_{1}}V_{1} &= 0 \\nonumber \\\\\n",
    "r_{A_{1}} &= \\dfrac{-F_{A1_{0}}X_{1}}{V_{1}} \\nonumber \\\\\n",
    "-k_{0}e^{-E_{a}/RT_{1}}C_{A1_{0}}(1 - X_{1}) &= \\dfrac{-C_{A1_{0}}QX_{1}}{V_{1}} \\nonumber \\\\\n",
    "X_{1} &= \\dfrac{1}{Q} V_{1}k_{0}e^{-E_{a}/RT_{1}}(1 - X_{1})\\nonumber \\\\\n",
    "X_{2} &= \\dfrac{1}{Q} V_{2}k_{0}e^{-E_{a}/RT_{2}}(1 - X_{2})\\nonumber\n",
    "\\end{align}"
   ]
  },
  {
   "cell_type": "markdown",
   "metadata": {},
   "source": [
    "\\begin{align}\n",
    "V_{1} &= V_{2} \\nonumber\n",
    "\\end{align}"
   ]
  },
  {
   "cell_type": "markdown",
   "metadata": {},
   "source": [
    "Energy Balance:\n",
    "\\begin{align}\n",
    "T &= T_{0} + \\dfrac{(-\\Delta H_{RX_{j}})(F_{A_{0}}/a)}{\\Sigma_{i}C_{p_{i}}}X_{A} \\nonumber \\\\\n",
    "T_{1} &= T_{0} + \\dfrac{(-\\Delta H_{RX1})}{C_{p_{A}}}X_{1} \\nonumber \\\\\n",
    "T_{2} &= T_{1} + \\dfrac{(-\\Delta H_{RX2})F_{A2_{0}}}{F_{A2_{0}}C_{p_{A}} + F_{B2_{0}}C_{p_{B}}}X_{2} \\nonumber \\\\\n",
    "T_{2} &= T_{1} + \\dfrac{(-\\Delta H_{RX2})F_{A1_{0}}(1 - X_{1})}{F_{A1_{0}}(1 - X_{1})C_{p_{A}} + F_{A1_{0}}X_{1}C_{p_{A}}}X_{2} \\nonumber \\\\\n",
    "T_{2} &= T_{1} + \\dfrac{(-\\Delta H_{RX2})F_{A1_{0}}(1 - X_{1})}{F_{A1_{0}}C_{p_{A}}}X_{2} \\nonumber \\\\\n",
    "T_{2} &= T_{1} + \\dfrac{(-\\Delta H_{RX2})(1 - X_{1})}{C_{p_{A}}}X_{2} \\nonumber \\\\\n",
    "and\\ -\\Delta H_{RX1} &= -\\Delta H_{RX2} \\nonumber\n",
    "\\end{align}"
   ]
  },
  {
   "cell_type": "markdown",
   "metadata": {},
   "source": [
    "Extra equations:\n",
    "\\begin{align}\n",
    "C_{A_{1}} &= C_{A1_{0}}(1 - X_{1}) \\nonumber \\\\\n",
    "C_{A2_{0}} &= C_{A_{1}} \\nonumber \\\\\n",
    "C_{A_{2}} &= C_{A2_{0}}(1 - X_{2}) \\nonumber \\\\\n",
    "\\end{align}"
   ]
  },
  {
   "cell_type": "markdown",
   "metadata": {},
   "source": [
    "\\begin{align}\n",
    "F_{A_{1}} &= F_{A1_{0}}(1 - X_{1}) \\nonumber \\\\\n",
    "F_{A2_{0}} &= F_{A_{1}} \\nonumber \\\\\n",
    "F_{A_{2}} &= F_{A2_{0}}(1 - X_{2}) \\nonumber \\\\\n",
    "\\end{align}"
   ]
  },
  {
   "cell_type": "markdown",
   "metadata": {},
   "source": [
    "From the above three equations we know that:\n",
    "\\begin{align}\n",
    "(1 - X) &= (1 - X_{1})(1 - X_{2}) \\nonumber \\\\\n",
    "\\therefore 0.7 &= (1 - X_{1})(1 - X_{2}) \\nonumber \\\\\n",
    "X_{2} &= 1 - \\dfrac{0.7}{1 - X_{1}} \\nonumber \\\\\n",
    "X_{2} &= \\dfrac{0.3 - X_{1}}{1 - X_{1}} \\nonumber\n",
    "\\end{align}"
   ]
  },
  {
   "cell_type": "markdown",
   "metadata": {},
   "source": [
    "\\begin{align}\n",
    "Q_{0} &= Q_{1} = Q_{2} = Q \\nonumber \\\\\n",
    "\\end{align}"
   ]
  },
  {
   "cell_type": "markdown",
   "metadata": {},
   "source": [
    "For the overall conversion:\n",
    "\\begin{align}\n",
    "X &= \\dfrac{C_{A1_{0}} - C_{A_{2}}}{C_{A1_{0}}} \\nonumber \\\\\n",
    "\\end{align}"
   ]
  },
  {
   "cell_type": "markdown",
   "metadata": {},
   "source": [
    "**a) What is $\\Delta H_{A_{RX}}$ for this reaction?** **Hint:** *$(-25000~\\dfrac{J}{mol} < \\Delta H < -10000~\\dfrac{J}{mol} )$. Unstable operation (multiple steady states) is NOT an issue in this system under the current operating conditions.* [$T_{RX1}=465~K$, $T_{RX2}=493~K$, $X_{RX1}=0.103$, $\\Delta H=-14303~\\dfrac{J}{mol}$]"
   ]
  },
  {
   "cell_type": "code",
   "execution_count": 227,
   "metadata": {},
   "outputs": [
    {
     "data": {
      "text/plain": [
       "0.06999999999999999"
      ]
     },
     "execution_count": 227,
     "metadata": {},
     "output_type": "execute_result"
    }
   ],
   "source": [
    "CA2 = CA1o*(1 - Xt)\n",
    "CA2"
   ]
  },
  {
   "cell_type": "code",
   "execution_count": 228,
   "metadata": {},
   "outputs": [
    {
     "data": {
      "text/plain": [
       "0.25"
      ]
     },
     "execution_count": 228,
     "metadata": {},
     "output_type": "execute_result"
    }
   ],
   "source": [
    "FA1o = Q*CA1o\n",
    "FA1o"
   ]
  },
  {
   "cell_type": "code",
   "execution_count": 229,
   "metadata": {},
   "outputs": [
    {
     "data": {
      "text/plain": [
       "0.175"
      ]
     },
     "execution_count": 229,
     "metadata": {},
     "output_type": "execute_result"
    }
   ],
   "source": [
    "FA2 = FA1o*(1 - Xt)\n",
    "FA2"
   ]
  },
  {
   "cell_type": "code",
   "execution_count": 230,
   "metadata": {},
   "outputs": [],
   "source": [
    "def EB(var):\n",
    "    delH, X1 = var\n",
    "    X2 = (0.3-X1)/(1 - X1)\n",
    "    T1 = T1o + (-delH)*X1/CpA\n",
    "    T2 = T1 + (-delH)*(1 - X1)*X2/CpA\n",
    "    eq3 = X1 - V1*ko*exp(-Ea/(R*T1))*(1 - X1)/Q\n",
    "    eq4 = X2 - V2*ko*exp(-Ea/(R*T2))*(1 - X2)/Q\n",
    "    return [eq3,eq4]"
   ]
  },
  {
   "cell_type": "code",
   "execution_count": 231,
   "metadata": {},
   "outputs": [
    {
     "data": {
      "text/plain": [
       "array([-1.43032152e+04,  1.03787781e-01])"
      ]
     },
     "execution_count": 231,
     "metadata": {},
     "output_type": "execute_result"
    }
   ],
   "source": [
    "guess = [-17000, 0.5]\n",
    "\n",
    "ans = fsolve(EB,guess)\n",
    "ans"
   ]
  },
  {
   "cell_type": "code",
   "execution_count": 232,
   "metadata": {},
   "outputs": [
    {
     "data": {
      "text/plain": [
       "-14303.215152952964"
      ]
     },
     "execution_count": 232,
     "metadata": {},
     "output_type": "execute_result"
    }
   ],
   "source": [
    "delHrx = ans[0]\n",
    "delHrx"
   ]
  },
  {
   "cell_type": "code",
   "execution_count": 233,
   "metadata": {},
   "outputs": [
    {
     "data": {
      "text/plain": [
       "0.10378778068822078"
      ]
     },
     "execution_count": 233,
     "metadata": {},
     "output_type": "execute_result"
    }
   ],
   "source": [
    "X1 = ans[1]\n",
    "X1"
   ]
  },
  {
   "cell_type": "code",
   "execution_count": 234,
   "metadata": {},
   "outputs": [
    {
     "data": {
      "text/plain": [
       "0.21893499673822214"
      ]
     },
     "execution_count": 234,
     "metadata": {},
     "output_type": "execute_result"
    }
   ],
   "source": [
    "X2 = (0.3 - X1)/(1 - X1)\n",
    "X2"
   ]
  },
  {
   "cell_type": "code",
   "execution_count": 235,
   "metadata": {},
   "outputs": [
    {
     "data": {
      "text/plain": [
       "464.84498957431117"
      ]
     },
     "execution_count": 235,
     "metadata": {},
     "output_type": "execute_result"
    }
   ],
   "source": [
    "T1 = T1o + (-delHrx)*X1/CpA\n",
    "T1"
   ]
  },
  {
   "cell_type": "code",
   "execution_count": 236,
   "metadata": {},
   "outputs": [
    {
     "data": {
      "text/plain": [
       "492.9096454588589"
      ]
     },
     "execution_count": 236,
     "metadata": {},
     "output_type": "execute_result"
    }
   ],
   "source": [
    "T2 = T1 + (-delHrx)*(1 - X1)*X2/CpA\n",
    "T2"
   ]
  },
  {
   "cell_type": "markdown",
   "metadata": {},
   "source": [
    "**b) The plant engineer suggests that by increasing the inlet temperature to $RX1(T_{0})$, a conversion in excess of $X_{A}>80~\\%$ may actually be achieved in only a single $200~L$ reactor. Explain why this suggestion has merit. Use graphs and equations to support your arguments.**"
   ]
  },
  {
   "cell_type": "code",
   "execution_count": 237,
   "metadata": {},
   "outputs": [],
   "source": [
    "V = 200 #L\n",
    "Tob = 490 #K\n"
   ]
  },
  {
   "cell_type": "code",
   "execution_count": 238,
   "metadata": {},
   "outputs": [],
   "source": [
    "def hypo(var1):\n",
    "    X   = var1\n",
    "    Tb  = Tob + (-delHrx)*X/CpA\n",
    "    eq3 = X - V*ko*exp(-Ea/(R*Tb))*(1 - X)/Q\n",
    "    return(eq3)"
   ]
  },
  {
   "cell_type": "code",
   "execution_count": 239,
   "metadata": {},
   "outputs": [
    {
     "data": {
      "text/plain": [
       "array([0.81203754])"
      ]
     },
     "execution_count": 239,
     "metadata": {},
     "output_type": "execute_result"
    }
   ],
   "source": [
    "sol = fsolve(hypo,(0.9)) #there's multiplicity issues here\n",
    "sol"
   ]
  },
  {
   "cell_type": "code",
   "execution_count": 256,
   "metadata": {},
   "outputs": [],
   "source": [
    "xspan = linspace(0, 1, 100)\n",
    "T3 = Tob + (-delHrx)*xspan/CpA\n",
    "k = ko*exp(-Ea/(R*(T3)))\n",
    "ra = -k*CA1o\n",
    "rate = -1/ra"
   ]
  },
  {
   "cell_type": "code",
   "execution_count": 257,
   "metadata": {},
   "outputs": [],
   "source": [
    "k1 = ko*exp(-Ea/(R*(T3+40)))\n",
    "ra1 = -k1*CA1o\n",
    "rate1 = -1/ra1"
   ]
  },
  {
   "cell_type": "code",
   "execution_count": 258,
   "metadata": {},
   "outputs": [],
   "source": [
    "k2 = ko*exp(-Ea/(R*(T3-40)))\n",
    "ra2 = -k2*CA1o\n",
    "rate2 = -1/ra2"
   ]
  },
  {
   "cell_type": "code",
   "execution_count": 260,
   "metadata": {},
   "outputs": [
    {
     "data": {
      "image/png": "[encoded data removed]",
      "text/plain": [
       "<Figure size 432x288 with 1 Axes>"
      ]
     },
     "metadata": {
      "needs_background": "light"
     },
     "output_type": "display_data"
    }
   ],
   "source": [
    "plt.figure(1)\n",
    "plt.plot(xspan, rate, color='blue', label='Xi')\n",
    "plt.plot(xspan, rate1, color='red', label='Xi1')\n",
    "plt.plot(xspan, rate2, color='green', label='Xi2')\n",
    "plt.legend(loc='best')\n",
    "plt.axis([0, 1,0,4000])\n",
    "plt.title('Levenspiel Plot')\n",
    "plt.ylabel('Depletion rate [-1/rA]') \n",
    "plt.xlabel('Conversion [XA]') \n",
    "plt.show()"
   ]
  },
  {
   "cell_type": "markdown",
   "metadata": {},
   "source": [
    "The green is the depletion rate with $T_{0}= 450~K$. As the inlet temperature is increased, one can see on the graph above that the volume below the line reduces, therefore, less volume required from a single reactor to achieve the same conversion."
   ]
  },
  {
   "cell_type": "code",
   "execution_count": 254,
   "metadata": {},
   "outputs": [
    {
     "data": {
      "image/png": "[encoded data removed]",
      "text/plain": [
       "<Figure size 432x288 with 1 Axes>"
      ]
     },
     "metadata": {
      "needs_background": "light"
     },
     "output_type": "display_data"
    }
   ],
   "source": [
    "plt.figure(2)\n",
    "plt.plot(xspan, T3, color='blue', label='Temp')\n",
    "plt.plot(xspan, Tob + (-delHrx)*xspan/CpA + 40, color='red', label='To + 40')\n",
    "plt.plot(xspan, Tob + (-delHrx)*xspan/CpA - 40, color='green', label='To - 40')\n",
    "plt.legend(loc='best')\n",
    "plt.axis([0, 1,400,700])\n",
    "plt.title('Temperature Plot')\n",
    "plt.ylabel('Temperature [K]') \n",
    "plt.xlabel('Conversion [XA]') \n",
    "plt.show()"
   ]
  },
  {
   "cell_type": "code",
   "execution_count": null,
   "metadata": {},
   "outputs": [],
   "source": []
  }
 ],
 "metadata": {
  "kernelspec": {
   "display_name": "Python 3",
   "language": "python",
   "name": "python3"
  },
  "language_info": {
   "codemirror_mode": {
    "name": "ipython",
    "version": 3
   },
   "file_extension": ".py",
   "mimetype": "text/x-python",
   "name": "python",
   "nbconvert_exporter": "python",
   "pygments_lexer": "ipython3",
   "version": "3.7.3"
  }
 },
 "nbformat": 4,
 "nbformat_minor": 2
}
