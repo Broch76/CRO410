{
 "cells": [
  {
   "cell_type": "code",
   "execution_count": 97,
   "metadata": {},
   "outputs": [],
   "source": [
    "from numpy import log, array, exp, linspace, asarray, argmax, interp, append\n",
    "from scipy.integrate import odeint\n",
    "from scipy.stats import linregress \n",
    "from scipy.optimize import fsolve\n",
    "import matplotlib.pyplot as plt\n",
    "%matplotlib inline\n",
    "#%matplotlib notebook"
   ]
  },
  {
   "cell_type": "markdown",
   "metadata": {},
   "source": [
    "For the first order liquid phase reaction ${A \\rightarrow B}$ occurring in an adiabatic CSTR, the following information is available"
   ]
  },
  {
   "cell_type": "markdown",
   "metadata": {},
   "source": [
    "**Additional information:**\n",
    "\n",
    "- $C_{A_{0}}$ = $0.1~mol.L^{-1}$\n",
    "- $Q_{0}$ = $2~L.s^{-1}$\n",
    "- $V$ = $500~L$\n",
    "- $k_{0}$ = $20000~s^{-1}$\n",
    "- $E_{a}$ = $55000~J.mol^{-1}$\n",
    "- $\\Delta H_{RX_{298}}$ = $-30~kJ.mol^{-1}$\n",
    "- $C_{p_{A}}$ = $157.9~J.mol^{-1}.K^{-1}$\n",
    "- $C_{p_{B}}$ = $157.9~J.mol^{-1}.K^{-1}$"
   ]
  },
  {
   "cell_type": "markdown",
   "metadata": {},
   "source": [
    "**<em>Suggestion: If you have time, use interact from ipywidgets in Python and change $Q, Q_{0}, \\Delta{H}, E_{a}$ and $T_{0}$ in order to see how each of the parameters will affect the plots! Not compulsory, but really cool.</em>**"
   ]
  },
  {
   "cell_type": "code",
   "execution_count": 98,
   "metadata": {},
   "outputs": [],
   "source": [
    "#1st order\n",
    "#liquid phase\n",
    "#Adiabatic\n",
    "R      =  8.314 #Kpa.m3/(kmol.K)\n",
    "CAo    =    0.1 # mol/L\n",
    "V      =    500 #L\n",
    "Ko     =  20000 #1/s\n",
    "Ea     =  55000 #J/mol\n",
    "delHrx = -30000 #J/mol (exothermic)\n",
    "CpA    =  157.9 #J/(mol.K)\n",
    "CpB    =    CpA\n",
    "Q      =      2 #L/s"
   ]
  },
  {
   "cell_type": "markdown",
   "metadata": {},
   "source": [
    "**Question a)**"
   ]
  },
  {
   "cell_type": "markdown",
   "metadata": {},
   "source": [
    "Given an inlet temperature of $340~K$, what is the conversion in the reactor? <em>(hint: Plot the two equations that you have to solve simultaneously as a function of the two variables, T on x-axis and x on y-axis to “see” the solution. Then fine tune by using fsolve!)</em>"
   ]
  },
  {
   "cell_type": "markdown",
   "metadata": {},
   "source": [
    "Rate equations:\n",
    "\\begin{align}\n",
    "r_{A} &= -k_{0}e^{-\\dfrac{E_{a}}{RT}}C_{A_{0}}(1 - X) \\nonumber \\\\\n",
    "r_{B} &= -r_{A} \\nonumber\n",
    "\\end{align}"
   ]
  },
  {
   "cell_type": "markdown",
   "metadata": {},
   "source": [
    "Mole balance for CSTR:\n",
    "\\begin{align}\n",
    "F_{A_{0}} - F_{A} + r_{A}V &= 0 \\nonumber \\\\\n",
    "QC_{A_{0}}X &= k_{0}e^{(-E_{a}/RT)}C_{A_{0}}(1 - X)V \\nonumber \\\\\n",
    "X &= \\dfrac{k_{0}}{Q}e^{(-E_{a}/RT)}(1 - X)V\n",
    "\\end{align}"
   ]
  },
  {
   "cell_type": "markdown",
   "metadata": {},
   "source": [
    "Energy balance:\n",
    "\\begin{align}\n",
    "T_{out} &= T_{in} +  \\dfrac{(-\\Delta H_{RX})}{C_{p_{A}}}X_{A}\n",
    "\\end{align}"
   ]
  },
  {
   "cell_type": "code",
   "execution_count": 99,
   "metadata": {},
   "outputs": [
    {
     "name": "stdout",
     "output_type": "stream",
     "text": [
      "Max conversion for CSTR= 93.319 %\n",
      "Outlet temperature for CSTR= 517.3 K\n"
     ]
    }
   ],
   "source": [
    "To = 340 #K\n",
    "\n",
    "def CSTR(var):\n",
    "    X = var[0]\n",
    "    T = To - delHrx*X/(CpA)\n",
    "    return[X - (Ko/Q)*exp(-Ea/(R*T))*(1-X)*V]   \n",
    "\n",
    "Xcstr = fsolve(CSTR,0.9) #test both 0.1 and 0.9 as different guess\n",
    "X     = Xcstr[-1]\n",
    "T     = To - delHrx*X/(CpA)\n",
    "print('Max conversion for CSTR=', (X*100).round(3),'%')\n",
    "print('Outlet temperature for CSTR=', (T).round(3),'K')\n",
    "#NOTE: depending on first guess for fsolve, X=93.2% or X=2.2% - MULTIPLICITY!"
   ]
  },
  {
   "cell_type": "markdown",
   "metadata": {},
   "source": [
    "Rearranging the mole balance:\n",
    "\\begin{align}\n",
    "X &= \\dfrac{k_{0}}{Q}e^{(-E_{a}/RT)}(1 - X)V \\nonumber \\\\\n",
    "X - \\dfrac{k_{i}}{Q}(1 - X)V &= 0 \\nonumber \\\\\n",
    "let\\ \\dfrac{k_{i}}{Q} &= k_{1} \\nonumber \\\\\n",
    "\\therefore X - k_{1}V + k_{1}XV &= 0 \\nonumber \\\\\n",
    "X_{1} &= \\dfrac{k_{1}V}{(1 + k_{1}V)}\n",
    "\\end{align}"
   ]
  },
  {
   "cell_type": "markdown",
   "metadata": {},
   "source": [
    "Rearranging the energy balance:\n",
    "Energy balance:\n",
    "\\begin{align}\n",
    "T_{out} &= T_{in} +  \\dfrac{(-\\Delta H_{RX})}{C_{p_{A}}}X_{A} \\nonumber \\\\\n",
    "X_{2} &= \\dfrac{C_{p_{A}}(T - T_{0})}{-\\Delta H_{RX}}\n",
    "\\end{align}"
   ]
  },
  {
   "cell_type": "code",
   "execution_count": 100,
   "metadata": {},
   "outputs": [],
   "source": [
    "tspan = linspace(To,T,1000)\n",
    "k1    = (Ko/Q)*exp(-Ea/(R*tspan))\n",
    "X1    = k1*V/(1+k1*V)\n",
    "X2    = (CpA*(tspan-To))/-delHrx"
   ]
  },
  {
   "cell_type": "code",
   "execution_count": 101,
   "metadata": {},
   "outputs": [
    {
     "data": {
      "image/png": "[encoded data removed]",
      "text/plain": [
       "<Figure size 432x288 with 1 Axes>"
      ]
     },
     "metadata": {
      "needs_background": "light"
     },
     "output_type": "display_data"
    }
   ],
   "source": [
    "plt.figure(1)\n",
    "plt.plot(tspan, X1, color='navy', label='XAmol')\n",
    "plt.plot(tspan, X2, color='red', label='XAenergy')\n",
    "plt.legend(loc='best')\n",
    "plt.ylabel('Conversion') \n",
    "plt.xlabel('Temp[K]') \n",
    "plt.show()"
   ]
  },
  {
   "cell_type": "markdown",
   "metadata": {},
   "source": [
    "So we either have to increase the energy-carrying capacity or increase the inlet temperature\n"
   ]
  },
  {
   "cell_type": "markdown",
   "metadata": {},
   "source": [
    "**Question b)**"
   ]
  },
  {
   "cell_type": "markdown",
   "metadata": {},
   "source": [
    "If the inlet flow rate is changed to $0.8~L/s$, how will the conversion change? Are there any additional advantages to doing this? <em>(Now you can use your plots in a) to see the effect of a change in $Q$ on your mole balance)</em>."
   ]
  },
  {
   "cell_type": "code",
   "execution_count": 102,
   "metadata": {},
   "outputs": [
    {
     "name": "stdout",
     "output_type": "stream",
     "text": [
      "Max conversion for CSTR= 97.72 %\n",
      "Outlet temperature for CSTR= 525.65 K\n"
     ]
    }
   ],
   "source": [
    "Qb = 0.8 #L/s\n",
    "\n",
    "def CSTR1(varb):\n",
    "    Xb = varb[0]\n",
    "    Tb = To - delHrx*Xb/(CpA)\n",
    "    return[Xb - (Ko/Qb)*exp(-Ea/(R*Tb))*(1-Xb)*V]   \n",
    "\n",
    "Xcstrb = fsolve(CSTR1,0.9) #test both 0.1 and 0.9 as different guess\n",
    "Xb     = Xcstrb[-1]\n",
    "Tb     = To - delHrx*Xb/(CpA)\n",
    "print('Max conversion for CSTR=', (Xb*100).round(2),'%')\n",
    "print('Outlet temperature for CSTR=', (Tb).round(2),'K')"
   ]
  },
  {
   "cell_type": "markdown",
   "metadata": {},
   "source": [
    "So reducing the inlet flowrate has increased both the conversion and the outlet temperature"
   ]
  },
  {
   "cell_type": "code",
   "execution_count": 103,
   "metadata": {},
   "outputs": [],
   "source": [
    "tspanb = linspace(To,Tb,1000)\n",
    "kb     = (Ko/Qb)*exp(-Ea/(R*tspanb))\n",
    "Xb1    = kb*V/(1+kb*V)\n",
    "Xb2    = (CpA*(tspanb-To))/-delHrx"
   ]
  },
  {
   "cell_type": "code",
   "execution_count": 104,
   "metadata": {},
   "outputs": [
    {
     "data": {
      "image/png": "[encoded data removed]",
      "text/plain": [
       "<Figure size 432x288 with 1 Axes>"
      ]
     },
     "metadata": {
      "needs_background": "light"
     },
     "output_type": "display_data"
    }
   ],
   "source": [
    "plt.figure(2)\n",
    "plt.plot(tspanb, Xb1, color='blue', label='XAmol')\n",
    "plt.plot(tspanb, Xb2, color='red', label='XAenergy')\n",
    "plt.legend(loc='best')\n",
    "plt.ylabel('Conversion') \n",
    "plt.xlabel('Temp[K]') \n",
    "plt.show()"
   ]
  },
  {
   "cell_type": "markdown",
   "metadata": {},
   "source": [
    "**Question c)**"
   ]
  },
  {
   "cell_type": "markdown",
   "metadata": {},
   "source": [
    "By how much should the inlet temperature be altered to improve the controllability of the design in (a)? <em>(I will be OK with an approximate answer here – do not try to “design” a fancy solver. Use the figures you constructed in a))</em>"
   ]
  },
  {
   "cell_type": "code",
   "execution_count": 105,
   "metadata": {},
   "outputs": [
    {
     "name": "stdout",
     "output_type": "stream",
     "text": [
      "Max conversion for CSTR= 96.125 %\n"
     ]
    }
   ],
   "source": [
    "Toc = 359 #K keep increasing the inlet temperature until graph below\n",
    "#only has one intersecting point\n",
    "\n",
    "def CSTRc(varc):\n",
    "    Xc = varc[0]\n",
    "    Tc = Toc - delHrx*Xc/(CpA)\n",
    "    return[Xc - (Ko/Q)*exp(-Ea/(R*Tc))*(1-Xc)*V]   \n",
    "\n",
    "Xcstrc = fsolve(CSTRc,0.9) \n",
    "Xc     = Xcstrc[-1]\n",
    "Tc     = Toc - delHrx*Xc/(CpA)\n",
    "\n",
    "print('Max conversion for CSTR=', (Xc*100).round(3),'%')"
   ]
  },
  {
   "cell_type": "code",
   "execution_count": 106,
   "metadata": {},
   "outputs": [],
   "source": [
    "tspanc = linspace(Toc,Tc,1000)\n",
    "k1c = (Ko/Q)*exp(-Ea/(R*tspanc))\n",
    "X1c = k1c*V/(1+k1c*V)\n",
    "X2c = (CpA*(tspanc-Toc))/-delHrx"
   ]
  },
  {
   "cell_type": "code",
   "execution_count": 107,
   "metadata": {},
   "outputs": [
    {
     "data": {
      "image/png": "[encoded data removed]",
      "text/plain": [
       "<Figure size 432x288 with 1 Axes>"
      ]
     },
     "metadata": {
      "needs_background": "light"
     },
     "output_type": "display_data"
    }
   ],
   "source": [
    "plt.figure(3)\n",
    "plt.plot(tspanc, X1c, color='blue', label='XAmol')\n",
    "plt.plot(tspanc, X2c, color='red', label='XAenergy')\n",
    "plt.legend(loc='best')\n",
    "plt.ylabel('Conversion') \n",
    "plt.xlabel('Temp[K]') \n",
    "plt.show()"
   ]
  },
  {
   "cell_type": "code",
   "execution_count": 108,
   "metadata": {},
   "outputs": [
    {
     "name": "stdout",
     "output_type": "stream",
     "text": [
      "Increase in inlet temp = 19 K\n"
     ]
    }
   ],
   "source": [
    "print('Increase in inlet temp =', (Toc-To),'K')"
   ]
  },
  {
   "cell_type": "markdown",
   "metadata": {},
   "source": [
    "**Question d)**"
   ]
  },
  {
   "cell_type": "markdown",
   "metadata": {},
   "source": [
    "The student who determined the activation energy of the reaction did not work accurately enough. The real value is closer to $E_{a} =60000~𝐽.𝑚ol^{-1}$. How will this affect the design in (a)? <em>(Spare a thought for the responsibility you have if you are the one shaping the rate equation of a specific reaction from laboratory data…)</em>"
   ]
  },
  {
   "cell_type": "code",
   "execution_count": 109,
   "metadata": {},
   "outputs": [
    {
     "name": "stdout",
     "output_type": "stream",
     "text": [
      "Max conversion for CSTR= 0.31 %\n",
      "Outlet temperature for CSTR= 340.59 K\n"
     ]
    }
   ],
   "source": [
    "Eanew = 60000 #J/mol\n",
    "\n",
    "def CSTRd(vard):\n",
    "    Xd = vard[0]\n",
    "    Td = To - delHrx*Xd/(CpA)\n",
    "    return[Xd - (Ko/Q)*exp(-Eanew/(R*Td))*(1-Xd)*V]   \n",
    "\n",
    "Xcstrd = fsolve(CSTRd,0.9) \n",
    "Xd = Xcstrd[-1]\n",
    "Td = To - delHrx*Xd/(CpA)\n",
    "print('Max conversion for CSTR=', (Xd*100).round(2),'%')\n",
    "print('Outlet temperature for CSTR=', (Td).round(2),'K')"
   ]
  },
  {
   "cell_type": "markdown",
   "metadata": {},
   "source": [
    "Raising the activation energy essentially stalls the reaction. Very, very little gets converted."
   ]
  },
  {
   "cell_type": "code",
   "execution_count": 110,
   "metadata": {},
   "outputs": [],
   "source": [
    "tspand = linspace(To,Td,1000)\n",
    "k1d = (Ko/Q)*exp(-Eanew/(R*tspand))\n",
    "X1d = k1d*V/(1+k1d*V)\n",
    "X2d = (CpA*(tspand-To))/-delHrx"
   ]
  },
  {
   "cell_type": "code",
   "execution_count": 111,
   "metadata": {},
   "outputs": [
    {
     "data": {
      "image/png": "[encoded data removed]",
      "text/plain": [
       "<Figure size 432x288 with 1 Axes>"
      ]
     },
     "metadata": {
      "needs_background": "light"
     },
     "output_type": "display_data"
    }
   ],
   "source": [
    "plt.figure(4)\n",
    "plt.plot(tspand, X1d, color='blue', label='XAmol')\n",
    "plt.plot(tspand, X2d, color='red', label='XAenergy')\n",
    "plt.legend(loc='best')\n",
    "plt.ylabel('Conversion') \n",
    "plt.xlabel('Temp[K]') \n",
    "plt.show()"
   ]
  },
  {
   "cell_type": "markdown",
   "metadata": {},
   "source": [
    "Essentially no conversion"
   ]
  },
  {
   "cell_type": "markdown",
   "metadata": {},
   "source": [
    "**Question e)**"
   ]
  },
  {
   "cell_type": "markdown",
   "metadata": {},
   "source": [
    "If additional heat was added to the reactor) in (a) by means of a constant temperature utility, what must the utility temperature be to obtain $95\\%$ conversion? Are multiple steady states a problem in this case? (Use $UA=31.6~W/K$)"
   ]
  },
  {
   "cell_type": "markdown",
   "metadata": {},
   "source": [
    "The energy balance now no longer equals zero:\n",
    "$$\n",
    "\\begin{align}\n",
    "\\Sigma_{i} F_{i_{0}}C_{p_{i}}(T - T_{0}) + (-\\Delta F_{A})\\Delta H^{\\circ}_{RX_{A}} &= UA(T_{U} - T) \\nonumber \\\\\n",
    "F_{A_{0}}C_{p_{A}}(T - T_{0}) + (F_{A_{0}}X_{A})\\Delta H^{\\circ}_{RX_{A}} &= UAT_{U} - UAT \\nonumber \\\\\n",
    "T(F_{A_{0}}C_{p_{A}} + UA) - F_{A_{0}}C_{p_{A}}T_{0} + F_{A_{0}}X_{A}\\Delta H^{\\circ}_{RX_{A}} &= UAT_{U} \\nonumber \\\\\n",
    "T(F_{A_{0}}C_{p_{A}} + UA) &= - F_{A_{0}}X_{A}\\Delta H^{\\circ}_{RX_{A}} +  UAT_{U} + F_{A_{0}}C_{p_{A}}T_{0}  \\nonumber \\\\\n",
    "T &= \\dfrac{- F_{A_{0}}\\Delta H^{\\circ}_{RX_{A}}}{F_{A_{0}}C_{p_{A}} + UA}X_{A} + \\dfrac{UAT_{U} + F_{A_{0}}C_{p_{A}}T_{0}}{F_{A_{0}}C_{p_{A}} + UA}\n",
    "\\end{align}\n",
    "$$"
   ]
  },
  {
   "cell_type": "code",
   "execution_count": 112,
   "metadata": {},
   "outputs": [
    {
     "name": "stdout",
     "output_type": "stream",
     "text": [
      "Max conversion for CSTR= 95.0 %\n",
      "Outlet temperature for CSTR= 530.01 K\n",
      "Utility temperature for CSTR= 539.53 K\n"
     ]
    }
   ],
   "source": [
    "UA  = 31.6 #J/(s.K)\n",
    "Eae = 55000 #J/mol\n",
    "\n",
    "Tu  = 539.53 #keep changing until X=0.95\n",
    "\n",
    "def CSTRe(vare):\n",
    "    Xe = vare[0]\n",
    "    a  = CAo*Q*CpA + UA\n",
    "    Te = (UA*Tu+CAo*Q*CpA*To)/a - CAo*Q*delHrx*Xe/a\n",
    "    return[Xe - (Ko/Q)*exp(-Eae/(R*Te))*(1-Xe)*V]   \n",
    "\n",
    "Xcstre = fsolve(CSTRe,0.9) \n",
    "Xe     = Xcstre[-1]\n",
    "a      = CAo*Q*CpA + UA\n",
    "Te     = (UA*Tu+CAo*Q*CpA*To)/a - CAo*Q*delHrx*Xe/a\n",
    "\n",
    "print('Max conversion for CSTR=', (Xe*100).round(2),'%')\n",
    "print('Outlet temperature for CSTR=', (Te).round(2),'K')\n",
    "print('Utility temperature for CSTR=', (Tu),'K')"
   ]
  },
  {
   "cell_type": "code",
   "execution_count": 113,
   "metadata": {},
   "outputs": [],
   "source": [
    "tspane = linspace(To,600,1000)\n",
    "\n",
    "ke     = (Ko/Q)*exp(-Eae/(R*tspane))\n",
    "Xmb    = ke*V/(1+ke*V)\n",
    "a      = CAo*Q*CpA + UA\n",
    "Xeb    = CpA*To/delHrx + (UA*Tu - a*tspane)/(CAo*Q*delHrx)\n",
    "Xad    = CpA*(tspane-To)/(-delHrx)"
   ]
  },
  {
   "cell_type": "code",
   "execution_count": 116,
   "metadata": {},
   "outputs": [
    {
     "data": {
      "image/png": "[encoded data removed]",
      "text/plain": [
       "<Figure size 432x288 with 1 Axes>"
      ]
     },
     "metadata": {
      "needs_background": "light"
     },
     "output_type": "display_data"
    }
   ],
   "source": [
    "plt.figure(5)\n",
    "plt.plot(tspane, Xmb, color='blue', label='Xmb')\n",
    "plt.plot(tspane, Xeb, color='red', label='Xeb')\n",
    "plt.plot(tspane, Xad, color='Orange', label='Xad')\n",
    "plt.legend(loc='best')\n",
    "plt.ylabel('Conversion') \n",
    "plt.xlabel('Temp[K]') \n",
    "plt.show()"
   ]
  },
  {
   "cell_type": "markdown",
   "metadata": {},
   "source": [
    "- The energy balances are a straight line as expected from an adiabatic, non-isothermal reactor. \n",
    "- The blue line is the curve from the mole balance.\n",
    "- The orange line shows the energy balance without any utility temperature added. Clearly it causes multiplicity issues.\n",
    "- The red line shows the energy balance WITH a utility temperature added. We can conclude that adding a utility temperature is one way to solve for the multiplicity issue with adiabatic and non-isothermal reactors."
   ]
  },
  {
   "cell_type": "code",
   "execution_count": null,
   "metadata": {},
   "outputs": [],
   "source": []
  }
 ],
 "metadata": {
  "kernelspec": {
   "display_name": "Python 3",
   "language": "python",
   "name": "python3"
  },
  "language_info": {
   "codemirror_mode": {
    "name": "ipython",
    "version": 3
   },
   "file_extension": ".py",
   "mimetype": "text/x-python",
   "name": "python",
   "nbconvert_exporter": "python",
   "pygments_lexer": "ipython3",
   "version": "3.7.3"
  }
 },
 "nbformat": 4,
 "nbformat_minor": 2
}
