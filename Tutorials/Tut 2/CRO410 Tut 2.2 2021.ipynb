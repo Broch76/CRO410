{
 "cells": [
  {
   "cell_type": "code",
   "execution_count": 46,
   "metadata": {},
   "outputs": [],
   "source": [
    "import numpy\n",
    "from numpy import log, array, exp, linspace, asarray, argmax, interp, append\n",
    "from scipy.integrate import odeint\n",
    "from scipy.stats import linregress \n",
    "from scipy.optimize import fsolve\n",
    "import matplotlib.pyplot as plt\n",
    "from matplotlib.patches import Polygon\n",
    "%matplotlib inline\n",
    "#%matplotlib notebook"
   ]
  },
  {
   "cell_type": "markdown",
   "metadata": {},
   "source": [
    "<img src=\"CRO410 Tut 2.2a 2021 diagram.JPG\" width=\"700\" />"
   ]
  },
  {
   "cell_type": "markdown",
   "metadata": {},
   "source": [
    "The irreversible liquid phase oligomerization reaction where:"
   ]
  },
  {
   "cell_type": "markdown",
   "metadata": {},
   "source": [
    "$$2A \\rightarrow B$$"
   ]
  },
  {
   "cell_type": "markdown",
   "metadata": {},
   "source": [
    "takes place in two adiabatic CSTR reactors operated in series (See Figure). The volumetric flow rate to the first reactor is $Q_{0} = 5~L.min^{-1}$. It contains pure $A$ at a concentration of $C_{A_{0}} = 2~mol.L^{-1}$. The inlet temperature to this first reactor is $T_{0} = 325~K$ and its volume is: $V_{1} = 150~L$. An elementary rate expression may be assumed for the reaction rate of component $A$, i.e. $r_{A} = -kC^{2}_{A}$."
   ]
  },
  {
   "cell_type": "markdown",
   "metadata": {},
   "source": [
    "Additional data is as follows:\n",
    "- $k_{300K} = 6.69 \\times 10^{-4}~L.mol^{-1}_{A}.min^{-1}$\n",
    "- $E_{a} = 55000~J.mol^{-1} $\n",
    "- $\\Delta{H^{\\circ}_{RX_{298}}} = -8500~J.mol^{-1}_{RX}$\n",
    "- $C_{p_{A}} = 55~J.mol^{-1}.K^{-1}$\n",
    "- $C_{p_{B}} = 110~J.mol^{-1}.K^{-1}$\n",
    "\n",
    "*Note the units of $\\Delta{H_{RX}}$!"
   ]
  },
  {
   "cell_type": "markdown",
   "metadata": {},
   "source": [
    "The products from the first reactor are separated by appropriate processing and only the unconverted A is fed to the second reactor. You may assume the separation process to be isothermal (see the illustration). Also $\\rho_{A} \\approx \\rho_{B}~kg.m^{-3}$."
   ]
  },
  {
   "cell_type": "code",
   "execution_count": 47,
   "metadata": {},
   "outputs": [],
   "source": [
    "V1   = 150 #L\n",
    "CAo1 = 2 #mol/L\n",
    "CBo1 = 0\n",
    "Qo1  = 5 #L/min\n",
    "FAo1 = CAo1*Qo1 #mol/min\n",
    "FBo1 = CBo1*Qo1 #mol/min\n",
    "To1  = 325 #K\n",
    "Tref = 298 #K\n",
    "R    = 8.314 #kpa.m3/(kmol.K)"
   ]
  },
  {
   "cell_type": "code",
   "execution_count": 48,
   "metadata": {},
   "outputs": [],
   "source": [
    "k300      = 6.69e-4 #L/(molA.min)\n",
    "Ea        = 55000 # J/mol\n",
    "delHref   = -8500 #J/molrx\n",
    "CpA       = 55 #J/(mol.K)\n",
    "CpB       = 110 #J/(mol.K)"
   ]
  },
  {
   "cell_type": "code",
   "execution_count": 49,
   "metadata": {},
   "outputs": [
    {
     "data": {
      "text/plain": [
       "2524193.567119365"
      ]
     },
     "execution_count": 49,
     "metadata": {},
     "output_type": "execute_result"
    }
   ],
   "source": [
    "ko        = k300*exp(Ea/(R*300))\n",
    "ko"
   ]
  },
  {
   "cell_type": "markdown",
   "metadata": {},
   "source": [
    "Rate equations:\n",
    "\\begin{align}\n",
    "r_{A_{1}} &= -k_{1}C^{2}_{A1_{0}}(1 - X_{1})^{2} \\nonumber \\\\\n",
    "r_{A_{2}} &= -k_{2}C^{2}_{A2_{0}}(1 - X_{2})^{2} \\nonumber \\\\\n",
    "k_{1} &= k_{0}e^{-E_{a}/RT} \\nonumber \\\\\n",
    "k_{2} &= k_{0}e^{-E_{a}/RT} \\nonumber \\\\\n",
    "r_{B_{1}} &= -0.5r_{A_{1}} \\nonumber \\\\\n",
    "r_{B_{2}} &= -0.5r_{A_{2}} \\nonumber\n",
    "\\end{align}"
   ]
  },
  {
   "cell_type": "markdown",
   "metadata": {},
   "source": [
    "Mole balance equations:\n",
    "\\begin{align}\n",
    "F_{A1_{0}} - F_{A_{1}} + r_{A_{1}}V_{1} &= 0 \\nonumber \\\\\n",
    "F_{A1_{0}}X_{1} + r_{A_{1}}V_{1} &= 0 \\nonumber \\\\\n",
    "r_{A_{1}} &= \\dfrac{-F_{A1_{0}}X_{1}}{V_{1}} \\nonumber \\\\\n",
    "-k_{0}e^{-E_{a}/RT_{1}}C^{2}_{A1_{0}}(1 - X_{1})^{2} &= \\dfrac{-C_{A1_{0}}Q_{0}1X_{1}}{V_{1}} \\nonumber \\\\\n",
    "X_{1} &= \\dfrac{1}{Q_{0}1} V_{1}k_{0}e^{-E_{a}/RT_{1}}C_{A1_{0}}(1 - X_{1})^{2}\\nonumber \\\\\n",
    "X_{2} &= \\dfrac{1}{Q_{0}2} V_{2}k_{0}e^{-E_{a}/RT_{2}}C_{A2_{0}}(1 - X_{2})^{2}\\nonumber\n",
    "\\end{align}"
   ]
  },
  {
   "cell_type": "markdown",
   "metadata": {},
   "source": [
    "Energy Balance:\n",
    "\\begin{align}\n",
    "T &= T_{0} + \\dfrac{(-\\Delta H_{RX_{j}})(F_{A_{0}}/a)}{\\Sigma_{i}F_{i_{0}}C_{p_{i}}}X_{A} \\nonumber \\\\\n",
    "T_{1} &= T_{0} + \\dfrac{(-\\Delta H_{RX1})}{2C_{p_{A}}}X_{1} \\nonumber \\\\\n",
    "T_{2} &= T_{1} + \\dfrac{(-\\Delta H_{RX2})}{2C_{p_{A}}}X_{2} \\quad \\text{remember that pure A goes into RX2 as well}\\nonumber \n",
    "\\end{align}"
   ]
  },
  {
   "cell_type": "markdown",
   "metadata": {},
   "source": [
    "Extra equations:\n",
    "\\begin{align}\n",
    "C_{A_{1}} &= C_{A1_{0}}(1 - X_{1}) \\nonumber \\\\\n",
    "C_{A2_{0}} &= C_{A_{1}} \\nonumber \\\\\n",
    "C_{A_{2}} &= C_{A2_{0}}(1 - X_{2}) \\nonumber \\\\\n",
    "F_{A_{1}} &= F_{A1_{0}}(1 - X_{1}) \\nonumber \\\\\n",
    "F_{A2_{0}} &= F_{A_{1}} \\nonumber \\\\\n",
    "F_{A_{2}} &= F_{A2_{0}}(1 - X_{2}) \\nonumber\n",
    "\\end{align}"
   ]
  },
  {
   "cell_type": "markdown",
   "metadata": {},
   "source": [
    "For the conversion we have:\n",
    "\\begin{align}\n",
    "(1 - X_{T}) &= (1 - X_{1})(1 - X_{2}) \\nonumber \n",
    "\\end{align}"
   ]
  },
  {
   "cell_type": "markdown",
   "metadata": {},
   "source": [
    "Overall conversion:\n",
    "\\begin{align}\n",
    "X_{T} &= \\dfrac{C_{A1_{0}} - C_{A_{2}}}{C_{A1_{0}}} \\nonumber \\\\\n",
    "\\end{align}"
   ]
  },
  {
   "cell_type": "markdown",
   "metadata": {},
   "source": [
    "Assumption: Flow rate is constant, i.e. $Q = Q_{0_{1}}$ since the density of the mix is constant. Proof:"
   ]
  },
  {
   "cell_type": "markdown",
   "metadata": {},
   "source": [
    "Mass balance:\n",
    "\\begin{align}\n",
    "    \\dot{m}_{in} &= \\dot{m}_{out} \\nonumber \\\\\n",
    "    FA_{0}.MM_{A} &= FA_{0}.(1 - X_{1}).MM_{A} + \\dfrac{1}{2}FA_{0}.X_{1}.MM_{B} \\nonumber\n",
    "\\end{align}"
   ]
  },
  {
   "cell_type": "markdown",
   "metadata": {},
   "source": [
    "For the volumetric flow rates:\n",
    "\\begin{align}\n",
    "    Q_{0} &= \\dfrac{FA_{0}.MM_{A}}{\\rho_{A}} \\nonumber \\\\\n",
    "    Q     &= \\dfrac{FA_{0}.(1 - X_{1}).MM_{A}}{\\rho_{A}} + \\dfrac{FA_{0}.X_{1}.MM_{B}}{2\\rho_{B}} \\nonumber \\\\\n",
    "    but &\\quad \\rho_{A} \\approx \\rho_{B} \\quad (given) \\nonumber \\\\\n",
    "    \\therefore Q_{0} &= Q \\nonumber\n",
    "\\end{align}"
   ]
  },
  {
   "cell_type": "markdown",
   "metadata": {},
   "source": [
    "**Question a)**"
   ]
  },
  {
   "cell_type": "markdown",
   "metadata": {},
   "source": [
    "Can multiple steady states be a problem in RX1? Prove your answer."
   ]
  },
  {
   "cell_type": "markdown",
   "metadata": {},
   "source": [
    "From mole balance equation:\n",
    "\\begin{align}\n",
    "X_{1} &= \\dfrac{1}{Q_{0_{1}}} V_{1}k_{0}e^{-E_{a}/RT_{1}}C_{A1_{0}}(1 - X_{1})^{2}\\nonumber \\\\\n",
    "e^{-E_{a}/RT_{1}} &= \\dfrac{Q_{0_{1}}X_{1}}{V_{1}k_{0}C_{A1_{0}}(1 - X_{1})^{2}} \\nonumber \\\\\n",
    "let \\quad a &= \\dfrac{Q_{0_{1}}X_{1}}{V_{1}k_{0}C_{A1_{0}}(1 - X_{1})^{2}} \\nonumber \\\\\n",
    "\\dfrac{-E_{a}}{RT_{1}} &= ln(a) \\nonumber \\\\\n",
    "T_{1_{mb}} &= \\dfrac{-E_{a}}{Rln(a)} \\nonumber\n",
    "\\end{align}"
   ]
  },
  {
   "cell_type": "code",
   "execution_count": 50,
   "metadata": {},
   "outputs": [],
   "source": [
    "Q        = Qo1\n",
    "X1span   = linspace(0.01,0.99,100)\n",
    "T1eb     = To1 + (-delHref*X1span)/(2*CpA)    #energy balance\n",
    "a        = (Q*X1span)/(V1*ko*CAo1*(1 - X1span)**2)\n",
    "T1mb     = -Ea/(R*log(a)) "
   ]
  },
  {
   "cell_type": "code",
   "execution_count": 51,
   "metadata": {},
   "outputs": [
    {
     "data": {
      "image/png": "[encoded data removed]",
      "text/plain": [
       "<Figure size 432x288 with 1 Axes>"
      ]
     },
     "metadata": {
      "needs_background": "light"
     },
     "output_type": "display_data"
    }
   ],
   "source": [
    "plt.figure(1)\n",
    "plt.plot(T1mb, X1span, color='navy', label='XAmol')\n",
    "plt.plot(T1eb, X1span, color='red', label='XAenergy')\n",
    "plt.legend(loc='best')\n",
    "plt.ylabel('Conversion') \n",
    "plt.xlabel('Temp[K]') \n",
    "#plt.ylim(0.01,0.7)\n",
    "#plt.xlim(320,400)\n",
    "plt.show()"
   ]
  },
  {
   "cell_type": "markdown",
   "metadata": {},
   "source": [
    "No. Looking at the above graph, the mole balance curve intersects the energy balance curve only once."
   ]
  },
  {
   "cell_type": "markdown",
   "metadata": {},
   "source": [
    "**Question b)**"
   ]
  },
  {
   "cell_type": "markdown",
   "metadata": {},
   "source": [
    "What must the volume of the second reactor be if the <em>overall</em> conversion of reactant $A$ (i.e. in the two reactor system) must be $90\\%$?"
   ]
  },
  {
   "cell_type": "code",
   "execution_count": 52,
   "metadata": {
    "scrolled": true
   },
   "outputs": [
    {
     "name": "stdout",
     "output_type": "stream",
     "text": [
      "Max conversion for CSTR1= 47.6 %\n",
      "Outlet temperature for CSTR1= 361.8 K\n"
     ]
    }
   ],
   "source": [
    "def CSTR1(var):\n",
    "    X = var[0]\n",
    "    T = To1 - delHref*X/(2*CpA)\n",
    "    return[X - (ko*CAo1*exp(-Ea/(R*T))*((1-X)**2)*V1/(Q))]   \n",
    "\n",
    "Xcstr1 = fsolve(CSTR1,0.91) \n",
    "X1     = Xcstr1[-1]\n",
    "T1     = To1 - delHref*X1/(2*CpA)\n",
    "print('Max conversion for CSTR1=', (X1*100).round(1),'%')\n",
    "print('Outlet temperature for CSTR1=', (T1).round(1),'K')"
   ]
  },
  {
   "cell_type": "code",
   "execution_count": 53,
   "metadata": {},
   "outputs": [
    {
     "name": "stdout",
     "output_type": "stream",
     "text": [
      "Max conversion for CSTR2= 80.9 %\n",
      "Outlet temperature for CSTR2= 424.3 K\n"
     ]
    }
   ],
   "source": [
    "Xtot = 0.9\n",
    "X2   = 1 - (1 - Xtot)/(1 - X1)\n",
    "T2   = T1 - delHref*X2/(2*CpA)\n",
    "print('Max conversion for CSTR2=', (X2*100).round(1),'%')\n",
    "print('Outlet temperature for CSTR2=', (T2).round(1),'K')"
   ]
  },
  {
   "cell_type": "markdown",
   "metadata": {},
   "source": [
    "<img src=\"CRO410 Tut 2.2a 2021 diagram.JPG\" width=\"700\" />"
   ]
  },
  {
   "cell_type": "markdown",
   "metadata": {},
   "source": [
    "$Q_{0}$ is given.\n",
    "Mass balance around $RX_{1}$:\n",
    "\\begin{align}\n",
    "    \\dot{m}_{in} &= \\dot{m}_{out} \\nonumber \\\\\n",
    "    FA_{0}.MM_{A} &= FA.MM_{A} + FB.MM_{B} \\nonumber \\\\\n",
    "    FA_{0}.MM_{A} &= FA_{0}(1 - X_{1}).MM_{A} + \\dfrac{1}{2}F_{A_{0}}X_{1}.MM_{B} \\nonumber    \n",
    "\\end{align}"
   ]
  },
  {
   "cell_type": "markdown",
   "metadata": {},
   "source": [
    "Now we can calculate the volumetric flow rate into reactor 2:\n",
    "\\begin{align}\n",
    "    \\dfrac{Q_{2}}{Q_{1}} &= \\dfrac{[FA_{0}.MM_{A}(1 - X_{1})]/\\rho_{A}}{(FA_{0}.MM_{A})/\\rho_{A}} \\nonumber \\\\\n",
    "    Q_{2} &= Q_{1}(1 - X_{1}) \\nonumber\n",
    "\\end{align}"
   ]
  },
  {
   "cell_type": "code",
   "execution_count": 54,
   "metadata": {},
   "outputs": [
    {
     "data": {
      "text/plain": [
       "5.239377718790741"
      ]
     },
     "execution_count": 54,
     "metadata": {},
     "output_type": "execute_result"
    }
   ],
   "source": [
    "CA1  = CAo1*(1 - X1)\n",
    "NA1  = CA1*Q\n",
    "NA1"
   ]
  },
  {
   "cell_type": "code",
   "execution_count": 55,
   "metadata": {},
   "outputs": [
    {
     "data": {
      "text/plain": [
       "2.6196888593953704"
      ]
     },
     "execution_count": 55,
     "metadata": {},
     "output_type": "execute_result"
    }
   ],
   "source": [
    "Q2 = Q*(1 - X1)\n",
    "Q2"
   ]
  },
  {
   "cell_type": "code",
   "execution_count": 56,
   "metadata": {},
   "outputs": [],
   "source": [
    "CAo2 = NA1/Q2"
   ]
  },
  {
   "cell_type": "code",
   "execution_count": 57,
   "metadata": {},
   "outputs": [
    {
     "data": {
      "text/plain": [
       "0.38172472139718217"
      ]
     },
     "execution_count": 57,
     "metadata": {},
     "output_type": "execute_result"
    }
   ],
   "source": [
    "CA2 = CAo2*(1 - X2)\n",
    "CA2"
   ]
  },
  {
   "cell_type": "code",
   "execution_count": 58,
   "metadata": {},
   "outputs": [
    {
     "name": "stdout",
     "output_type": "stream",
     "text": [
      "Max conversion for CSTR1= 47.6 %\n",
      "Max conversion for CSTR2= 80.9 %\n",
      "Outlet temperature for CSTR1= 361.8 K\n",
      "Outlet temperature for CSTR2= 424.3 K\n",
      "Volumetric flowrate from CSTR1= 5 L\n",
      "Volumetric flowrate from CSTR2= 2.62 L\n",
      "Leftover A from CSTR1= 1.05 mol/L\n",
      "Leftover A from CSTR2= 0.382 mol/L\n"
     ]
    }
   ],
   "source": [
    "print('Max conversion for CSTR1=', (X1*100).round(1),'%')\n",
    "print('Max conversion for CSTR2=', (X2*100).round(1),'%')\n",
    "print('Outlet temperature for CSTR1=', (T1).round(1),'K')\n",
    "print('Outlet temperature for CSTR2=', (T2).round(1),'K')\n",
    "print('Volumetric flowrate from CSTR1=', (Q),'L')\n",
    "print('Volumetric flowrate from CSTR2=', (Q2).round(2),'L')\n",
    "print('Leftover A from CSTR1=', (CA1).round(2),'mol/L')\n",
    "print('Leftover A from CSTR2=', (CA2).round(3),'mol/L')"
   ]
  },
  {
   "cell_type": "markdown",
   "metadata": {},
   "source": [
    "\\begin{align}\n",
    "    X_{2} &= \\dfrac{1}{Q_{0_{2}}} V_{2}k_{0}e^{-E_{a}/RT_{2}}C_{A2_{0}}(1 - X_{2})^{2} \\nonumber \\\\\n",
    "    V_{2} &= \\dfrac{X_{2}.Q_{0_{2}}}{k_{0}e^{-E_{a}/RT_{2}}C_{A2_{0}}(1 - X_{2})^{2}} \\nonumber    \n",
    "\\end{align}"
   ]
  },
  {
   "cell_type": "code",
   "execution_count": 59,
   "metadata": {},
   "outputs": [
    {
     "name": "stdout",
     "output_type": "stream",
     "text": [
      "Volume of CSTR2 = 68.03 L\n",
      "Error with memo = -0.0 L\n"
     ]
    }
   ],
   "source": [
    "d = X2*Q2\n",
    "e = ko*exp(-Ea/(R*T2))*CAo2*(1 - X2)**2 \n",
    "V2 = d/e\n",
    "print('Volume of CSTR2 =', (V2).round(2),'L')\n",
    "print('Error with memo =', (V2 - 68.03).round(2), 'L')"
   ]
  },
  {
   "cell_type": "markdown",
   "metadata": {},
   "source": [
    "**Question c)**"
   ]
  },
  {
   "cell_type": "markdown",
   "metadata": {},
   "source": [
    "Compare the conversion of $A$ that can be achieved in an adiabatic PFR with the same volume and inlet conditions as $RX1$ (i.e. $V = 150~L$ and with $T_{0}, CA_{0}, Q_{0}$), to the conversion that can be achieved in $RX1$ (the first adiabatic CSTR). Explain the difference (or similarity) in the calculated conversions (remember a picture paints a thousand words)."
   ]
  },
  {
   "cell_type": "markdown",
   "metadata": {},
   "source": [
    "Setting up equations:\n",
    "Mole Balance for the PFR:\n",
    "\\begin{align}\n",
    "\\dfrac{dF_{A}}{dV} &= r_{A} \\nonumber \\\\\n",
    "-F{A_{o}}\\dfrac{dX}{dV} &= -k_{i}C_{A}^{2} \\nonumber \\\\\n",
    "-QC{A_{o}}\\dfrac{dX}{dV} &= -k_{i}C_{A}^{2} \\nonumber \\\\\n",
    "\\dfrac{dX}{dV} &= -k_{i}\\dfrac{(C_{A_{0}}(1 - X))^{2}}{-QC{A_{o}}} \\nonumber \\\\\n",
    "\\dfrac{dX}{dV} &= k_{0}e^{\\left(-\\dfrac{E_{a}}{RT}\\right)}\\dfrac{C_{A_{0}}(1 - X)^{2}}{Q} \\nonumber \\\\\n",
    "\\end{align}"
   ]
  },
  {
   "cell_type": "markdown",
   "metadata": {},
   "source": [
    "Energy Balance is the same as for the CSTR:\n",
    "\\begin{align}\n",
    "T_{1} &= T_{0} + \\dfrac{(-\\Delta H_{RX1})}{2C_{p_{A}}}X_{1} \\nonumber  \n",
    "\\end{align}"
   ]
  },
  {
   "cell_type": "code",
   "execution_count": 60,
   "metadata": {},
   "outputs": [
    {
     "data": {
      "text/plain": [
       "150"
      ]
     },
     "execution_count": 60,
     "metadata": {},
     "output_type": "execute_result"
    }
   ],
   "source": [
    "V1"
   ]
  },
  {
   "cell_type": "code",
   "execution_count": 61,
   "metadata": {},
   "outputs": [],
   "source": [
    "def PFR1(var,V):\n",
    "    Xpfr = var[0]\n",
    "    Tpfr = To1 - delHref*Xpfr/(2*CpA)\n",
    "    dXdV = (ko*exp(-Ea/(R*Tpfr))*CAo1*(1 - Xpfr)**2)/Q\n",
    "    return [dXdV]"
   ]
  },
  {
   "cell_type": "code",
   "execution_count": 62,
   "metadata": {},
   "outputs": [
    {
     "name": "stdout",
     "output_type": "stream",
     "text": [
      "Max conversion for PFR1= 31.03 %\n",
      "Outlet temperature for PFR1= 348.98 K\n"
     ]
    }
   ],
   "source": [
    "Vspan2    = linspace(0, V1, 1000)\n",
    "conv      = [0]\n",
    "sols      = odeint(PFR1, conv, Vspan2) \n",
    "\n",
    "Xpfr1     = sols[:,0]\n",
    "Tpfr1     = To1 - delHref*Xpfr1/(2*CpA)\n",
    "print('Max conversion for PFR1=', (Xpfr1[-1]*100).round(2),'%')\n",
    "print('Outlet temperature for PFR1=', (Tpfr1[-1]).round(2),'K')"
   ]
  },
  {
   "cell_type": "code",
   "execution_count": 63,
   "metadata": {},
   "outputs": [],
   "source": [
    "Xcspan = linspace(0,0.95, 1000)\n",
    "Tc = To1 - delHref*Xcspan/(2*CpA)\n",
    "kc = ko*exp(-Ea/(R*Tc)) \n",
    "rAc = -kc*(CAo1*(1-Xcspan))**2\n",
    "rate = -1/rAc"
   ]
  },
  {
   "cell_type": "code",
   "execution_count": 64,
   "metadata": {},
   "outputs": [
    {
     "name": "stdout",
     "output_type": "stream",
     "text": [
      "Max conversion for CSTR1= 47.61 %\n",
      "Outlet temperature for CSTR1= 361.79 K\n",
      "Max conversion for PFR1= 31.03 %\n",
      "Outlet temperature for PFR1= 348.98 K\n"
     ]
    }
   ],
   "source": [
    "print('Max conversion for CSTR1=', (X1*100).round(2),'%')\n",
    "print('Outlet temperature for CSTR1=', (T1).round(2),'K')\n",
    "print('Max conversion for PFR1=', (Xpfr1[-1]*100).round(2),'%')\n",
    "print('Outlet temperature for PFR1=', (Tpfr1[-1]).round(2),'K')"
   ]
  },
  {
   "cell_type": "code",
   "execution_count": 65,
   "metadata": {},
   "outputs": [],
   "source": [
    "def PFR_func(X):\n",
    "    T    = To1 - delHref*X/(2*CpA)\n",
    "    k    = ko*exp(-Ea/(R*T))\n",
    "    rA   = -k*(CAo1*(1 - X))**2\n",
    "    rate = -1/rA\n",
    "    return [rate]"
   ]
  },
  {
   "cell_type": "code",
   "execution_count": 66,
   "metadata": {},
   "outputs": [
    {
     "data": {
      "text/plain": [
       "31.508485895230276"
      ]
     },
     "execution_count": 66,
     "metadata": {},
     "output_type": "execute_result"
    }
   ],
   "source": [
    "Tx   = To1 - delHref-X1/(2*CpA)\n",
    "kx   = ko*exp(-Ea/(R*T1))\n",
    "rAx  = -kx*(CAo1*(1 - X1))**2\n",
    "ratex= -1/rAx\n",
    "ratex"
   ]
  },
  {
   "cell_type": "code",
   "execution_count": 67,
   "metadata": {},
   "outputs": [
    {
     "data": {
      "image/png": "[encoded data removed]",
      "text/plain": [
       "<Figure size 432x288 with 1 Axes>"
      ]
     },
     "metadata": {
      "needs_background": "light"
     },
     "output_type": "display_data"
    }
   ],
   "source": [
    "plt.figure(2)\n",
    "plt.plot(Xcspan, rate, color='blue', label='Xi')\n",
    "plt.fill_between([0, X1],[ratex,ratex], color='red')\n",
    "plt.legend(loc='best')\n",
    "plt.axis([0, 0.99,20,90])\n",
    "plt.title('Levenspiel Plot')\n",
    "plt.ylabel('Depletion rate') \n",
    "plt.xlabel('Conversion')\n",
    "#plt.ylim(0,100)\n",
    "#plt.xlim(0,0.5)\n",
    "plt.show()"
   ]
  },
  {
   "cell_type": "markdown",
   "metadata": {},
   "source": [
    "To best explain the difference between using a CSTR or PFR as the first reactor, it is easier to see it on a Levenspiel diagram. Since a CSTR conversion is at the outlet, it's volume is less, therefore more efficient than the PFR. The PFR would need more volume to achieve the same conversion as the first reactor in the system given."
   ]
  },
  {
   "cell_type": "markdown",
   "metadata": {},
   "source": [
    "--------------------------------------------------------------------------------------------"
   ]
  },
  {
   "cell_type": "markdown",
   "metadata": {},
   "source": [
    "**Question d)**"
   ]
  },
  {
   "cell_type": "markdown",
   "metadata": {},
   "source": [
    "<em>Design an optimal reactor “train” to achieve $90~\\%$ conversion if you do NOT plan to separate unconverted A from B after the first reactor. (i.e. select reactor types operating in series, size each reactor). Separation is an EXPENSIVE process. Easy to do in a Tut problem, but a few million R in a real-life large-scale plant.</em>"
   ]
  },
  {
   "cell_type": "markdown",
   "metadata": {},
   "source": [
    "Approach: The Levenspiel diagram has already been rendered. We know the most efficient train will be a CSTR followed by a PFR. The CSTR will be sized such that the conversion will be at the maximum rate (minimum on Levenspiel), followed from there by a PFR to the required 90%. The energy equation will now include product B into reactor 2."
   ]
  },
  {
   "cell_type": "code",
   "execution_count": 68,
   "metadata": {},
   "outputs": [
    {
     "data": {
      "text/plain": [
       "31.494930080555843"
      ]
     },
     "execution_count": 68,
     "metadata": {},
     "output_type": "execute_result"
    }
   ],
   "source": [
    "MaxRate = min(rate)\n",
    "MaxRate"
   ]
  },
  {
   "cell_type": "code",
   "execution_count": 69,
   "metadata": {},
   "outputs": [
    {
     "name": "stdout",
     "output_type": "stream",
     "text": [
      "CSTR Conversion = 48.59%\n"
     ]
    }
   ],
   "source": [
    "i = argmax(-rate==max(-rate))\n",
    "Xmin = Xcspan[i]\n",
    "print('CSTR Conversion = '+str((Xmin*100).round(2))+'%')"
   ]
  },
  {
   "cell_type": "code",
   "execution_count": 70,
   "metadata": {},
   "outputs": [
    {
     "data": {
      "text/plain": [
       "-0.03175114208675047"
      ]
     },
     "execution_count": 70,
     "metadata": {},
     "output_type": "execute_result"
    }
   ],
   "source": [
    "Xcstr  = Xmin\n",
    "Td = To1 - delHref*Xcstr/(2*CpA)\n",
    "kd   = ko*exp(-Ea/(R*Td))\n",
    "rAcstr = -kd*CAo1**2*(1 - Xcstr)**2\n",
    "rAcstr"
   ]
  },
  {
   "cell_type": "code",
   "execution_count": 71,
   "metadata": {},
   "outputs": [
    {
     "name": "stdout",
     "output_type": "stream",
     "text": [
      "CSTR Volume = 153.05 L\n"
     ]
    }
   ],
   "source": [
    "Vcstr = Q*CAo1*Xcstr/(-rAcstr)\n",
    "print('CSTR Volume = '+str(Vcstr.round(2))+' L')"
   ]
  },
  {
   "cell_type": "code",
   "execution_count": 72,
   "metadata": {},
   "outputs": [
    {
     "name": "stdout",
     "output_type": "stream",
     "text": [
      "The concentration of A into the PFR =  1.03 mol/L\n",
      "The concentration of B into the PFR =  0.49 mol/L\n"
     ]
    }
   ],
   "source": [
    "CAo2d = CAo1*(1 - Xcstr) #concentration for A into XR2\n",
    "CBo2d = 0.5*CAo1*Xcstr \n",
    "print('The concentration of A into the PFR = ', (CAo2d).round(2), 'mol/L')\n",
    "print('The concentration of B into the PFR = ', (CBo2d).round(2), 'mol/L')"
   ]
  },
  {
   "cell_type": "markdown",
   "metadata": {},
   "source": [
    "Energy Balance for reactor 2:\n",
    "\\begin{align}\n",
    "T &= T_{0} + \\dfrac{(-\\Delta H_{RX_{j}})(F_{A_{0}}/a)}{\\Sigma_{i}F_{i_{0}}C_{p_{i}}}X_{A} \\nonumber \\\\\n",
    "T_{2} &= T_{1} + \\dfrac{(-\\Delta H_{RX_{2}}F_{A_{0_{2}}})}{2(F_{A_{0_{2}}}C_{p_{A}} + F_{B_{0_{2}}}Cp_{p_{B}})}X_{2} \\nonumber \\\\\n",
    "T_{2} &= T_{1} + \\dfrac{(-\\Delta H_{RX_{2}}F_{A_{0_{2}}})}{2(F_{A_{0_{2}}}C_{p_{A}} + \\dfrac{1}{2}F_{A_{0_{1}}}.X_{1}C_{p_{B}})}X_{2} \\nonumber \\\\\n",
    "T_{2} &= T_{1} + \\dfrac{(-\\Delta H_{RX_{2}}C_{A_{0_{2}}}.Q)}{2(C_{A_{0_{2}}}.Q.C_{p_{A}} + \\dfrac{1}{2}C_{A_{0_{1}}}.Q.X_{1}C_{p_{B}})}X_{2} \\nonumber \\\\\n",
    "T_{2} &= T_{1} + \\dfrac{(-\\Delta H_{RX_{2}}C_{A_{0_{2}}})}{2C_{A_{0_{2}}}.C_{p_{A}} + C_{A_{0_{1}}}.X_{1}.C_{p_{B}})}X_{2} \\nonumber\n",
    "\\end{align}"
   ]
  },
  {
   "cell_type": "code",
   "execution_count": 73,
   "metadata": {},
   "outputs": [
    {
     "data": {
      "text/plain": [
       "0.8054717164833025"
      ]
     },
     "execution_count": 73,
     "metadata": {},
     "output_type": "execute_result"
    }
   ],
   "source": [
    "xt = 1 - (1-0.9)/(1-Xcstr)\n",
    "xt"
   ]
  },
  {
   "cell_type": "code",
   "execution_count": 74,
   "metadata": {},
   "outputs": [
    {
     "data": {
      "text/plain": [
       "0.8054717164833026"
      ]
     },
     "execution_count": 74,
     "metadata": {},
     "output_type": "execute_result"
    }
   ],
   "source": [
    "xp = (CAo2d - CAo1*(0.1))/CAo2d\n",
    "xp"
   ]
  },
  {
   "cell_type": "markdown",
   "metadata": {},
   "source": [
    "For $90\\%$ overall conversion:\n",
    "\\begin{align}\n",
    "X_{pfr} &= 1  - \\dfrac{1 - X_{total}}{1 - X_{cstr}} \\nonumber \\\\\n",
    "&= 1 - \\dfrac{1 - 0.90}{1 - 0.49} \\nonumber \\\\\n",
    "&= 0.805472 \\nonumber\n",
    "\\end{align}"
   ]
  },
  {
   "cell_type": "code",
   "execution_count": 75,
   "metadata": {},
   "outputs": [],
   "source": [
    "def PFRd(var,V):\n",
    "    Xpfr = var[0]\n",
    "    Tpfr = Td - delHref*Xpfr*CAo2d/(2*CAo2d*CpA + CAo1*Xcstr*CpB)\n",
    "    dXdV = (ko*exp(-Ea/(R*Tpfr))*CAo2d*(1 - Xpfr)**2)/Q\n",
    "    return [dXdV]"
   ]
  },
  {
   "cell_type": "code",
   "execution_count": 76,
   "metadata": {},
   "outputs": [
    {
     "name": "stdout",
     "output_type": "stream",
     "text": [
      "Max conversion for PFR= 80.54 %\n",
      "Outlet temperature for PFR= 394.54 K\n"
     ]
    }
   ],
   "source": [
    "Vpfr       = 233.39 #keep changing volume until X=0.805472\n",
    "vspan      = linspace(0, Vpfr, 1000)\n",
    "convd      = [0]\n",
    "solsd      = odeint(PFRd, convd, vspan) \n",
    "\n",
    "Xpfrd     = solsd[:,0]\n",
    "Tpfrd     = Td - delHref*Xpfrd*CAo2d/(2*CAo2d*CpA + CAo1*Xcstr*CpB)\n",
    "print('Max conversion for PFR=', (Xpfrd[-1]*100).round(2),'%')\n",
    "print('Outlet temperature for PFR=', (Tpfrd[-1]).round(2),'K')"
   ]
  },
  {
   "cell_type": "code",
   "execution_count": 77,
   "metadata": {},
   "outputs": [
    {
     "name": "stdout",
     "output_type": "stream",
     "text": [
      "CSTR Volume = 153.05 L\n",
      "CSTR Conversion = 48.59%\n",
      "PFR Volume = 233.39 L\n",
      "Total Volume = 386.44 L\n"
     ]
    }
   ],
   "source": [
    "Vtot = Vcstr + Vpfr\n",
    "print('CSTR Volume = '+str(Vcstr.round(2))+' L')\n",
    "print('CSTR Conversion = '+str((Xmin*100).round(2))+'%')\n",
    "print('PFR Volume = '+str(Vpfr)+' L')\n",
    "print('Total Volume =', (Vtot).round(2), 'L')"
   ]
  },
  {
   "cell_type": "code",
   "execution_count": null,
   "metadata": {},
   "outputs": [],
   "source": []
  },
  {
   "cell_type": "code",
   "execution_count": null,
   "metadata": {},
   "outputs": [],
   "source": []
  },
  {
   "cell_type": "code",
   "execution_count": null,
   "metadata": {},
   "outputs": [],
   "source": []
  },
  {
   "cell_type": "code",
   "execution_count": null,
   "metadata": {},
   "outputs": [],
   "source": []
  },
  {
   "cell_type": "code",
   "execution_count": 78,
   "metadata": {},
   "outputs": [
    {
     "data": {
      "image/png": "[encoded data removed]",
      "text/plain": [
       "<Figure size 432x288 with 1 Axes>"
      ]
     },
     "metadata": {
      "needs_background": "light"
     },
     "output_type": "display_data"
    },
    {
     "data": {
      "text/plain": [
       "0.3102863130406267"
      ]
     },
     "execution_count": 78,
     "metadata": {},
     "output_type": "execute_result"
    }
   ],
   "source": [
    "x = linspace(0, Xpfr1[-1])\n",
    "y = PFR_func(x)\n",
    "plt.figure(3)\n",
    "plt.plot(Xcspan, rate, color='blue', label='Xi')\n",
    "#\n",
    "#plt.fill_between([0,Xpfr1], rate, ratex, alpha=0.30)\n",
    "#plt.fill_between(x, y)\n",
    "#i = numpy.where(rate == rate[0])[0][0]\n",
    "#j = numpy.where(Xcspan == 0)[0][0]\n",
    "#plt.fill_between(Xcspan[i:j+1],rate[i:j+1], color='green')\n",
    "#plt.plot(Xpfr1[-1], rate[j],\"ro\")\n",
    "#plt.legend(loc='best')\n",
    "#plt.axis([0, 0.99,20,90])\n",
    "plt.title('Levenspiel Plot')\n",
    "plt.ylabel('Depletion rate') \n",
    "plt.xlabel('Conversion')\n",
    "plt.ylim(0,70)\n",
    "plt.xlim(0,0.5)\n",
    "plt.show()\n",
    "Xpfr1[-1]"
   ]
  },
  {
   "cell_type": "raw",
   "metadata": {},
   "source": [
    "def func(x):\n",
    "    return (x - 3) * (x - 5) * (x - 7) + 85\n",
    "\n",
    "\n",
    "a, b = 2, 9  # integral limits\n",
    "x = linspace(0, 10)\n",
    "y = func(x)\n",
    "\n",
    "fig, ax = plt.subplots()\n",
    "ax.plot(x, y, 'r', linewidth=2)\n",
    "ax.set_ylim(bottom=0)\n",
    "\n",
    "# Make the shaded region\n",
    "ix = linspace(a, b)\n",
    "iy = func(ix)\n",
    "verts = [(a, 0), *zip(ix, iy), (b, 0)]\n",
    "poly = Polygon(verts, facecolor='0.9', edgecolor='0.5')\n",
    "ax.add_patch(poly)\n",
    "\n",
    "ax.text(0.5 * (a + b), 30, r\"$\\int_a^b f(x)\\mathrm{d}x$\",\n",
    "        horizontalalignment='center', fontsize=20)\n",
    "\n",
    "fig.text(0.9, 0.05, '$x$')\n",
    "fig.text(0.1, 0.9, '$y$')\n",
    "\n",
    "ax.spines.right.set_visible(False)\n",
    "ax.spines.top.set_visible(False)\n",
    "ax.xaxis.set_ticks_position('bottom')\n",
    "\n",
    "ax.set_xticks((a, b))\n",
    "ax.set_xticklabels(('$a$', '$b$'))\n",
    "ax.set_yticks([])\n",
    "\n",
    "plt.show()"
   ]
  },
  {
   "cell_type": "raw",
   "metadata": {},
   "source": [
    "a, b = 0, Xpfr1[-1]  # integral limits\n",
    "x = (0,0.95)\n",
    "y = PFR_func(x)\n",
    "\n",
    "fig, ax = plt.subplots()\n",
    "ax.plot(x, y, 'r', linewidth=2)\n",
    "ax.set_ylim(bottom=0)\n",
    "\n",
    "# Make the shaded region\n",
    "ix = linspace(a, b)\n",
    "iy = PFR_func(ix)\n",
    "verts = [(a, 0), *zip(ix, iy), (b, 0)]\n",
    "poly = Polygon(verts, facecolor='0.9', edgecolor='0.5')\n",
    "ax.add_patch(poly)\n",
    "\n",
    "#ax.text(0.5 * (a + b), 30, r\"$\\int_a^b f(x)\\mathrm{d}x$\",\n",
    "        #horizontalalignment='center', fontsize=20)\n",
    "\n",
    "fig.text(0.9, 0.05, '$x$')\n",
    "fig.text(0.1, 0.9, '$y$')\n",
    "\n",
    "ax.spines.right.set_visible(False)\n",
    "ax.spines.top.set_visible(False)\n",
    "ax.xaxis.set_ticks_position('bottom')\n",
    "\n",
    "ax.set_xticks((a, b))\n",
    "ax.set_xticklabels(('$a$', '$b$'))\n",
    "ax.set_yticks([])\n",
    "\n",
    "plt.show()"
   ]
  },
  {
   "cell_type": "code",
   "execution_count": null,
   "metadata": {},
   "outputs": [],
   "source": []
  }
 ],
 "metadata": {
  "kernelspec": {
   "display_name": "Python 3",
   "language": "python",
   "name": "python3"
  },
  "language_info": {
   "codemirror_mode": {
    "name": "ipython",
    "version": 3
   },
   "file_extension": ".py",
   "mimetype": "text/x-python",
   "name": "python",
   "nbconvert_exporter": "python",
   "pygments_lexer": "ipython3",
   "version": "3.7.3"
  }
 },
 "nbformat": 4,
 "nbformat_minor": 2
}
