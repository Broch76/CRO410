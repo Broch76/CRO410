{
 "cells": [
  {
   "cell_type": "code",
   "execution_count": 1,
   "metadata": {},
   "outputs": [],
   "source": [
    "import numpy as np\n",
    "from matplotlib import pyplot as plt"
   ]
  },
  {
   "cell_type": "code",
   "execution_count": 2,
   "metadata": {},
   "outputs": [
    {
     "name": "stdout",
     "output_type": "stream",
     "text": [
      "Delta Cp reaction = 0 J/(mol.K)\n"
     ]
    }
   ],
   "source": [
    "#2A --> B + C\n",
    "FAo     =      1\n",
    "FBo     =      0\n",
    "FCo     =      0\n",
    "Qo      =    1.5\n",
    "To      =    350\n",
    "V       =      5\n",
    "delH298 = -18000\n",
    "CpA     =     30\n",
    "CpB     =     22\n",
    "CpC     =     38\n",
    "\n",
    "delCp   = CpB + CpC - 2* CpA\n",
    "print(f'Delta Cp reaction = {delCp} J/(mol.K)')"
   ]
  },
  {
   "cell_type": "markdown",
   "metadata": {},
   "source": [
    "**Energy Balance:**"
   ]
  },
  {
   "cell_type": "markdown",
   "metadata": {},
   "source": [
    "$F_{i,0}C_{p,i}(T - T_{0}) + \\dot{\\epsilon}\\Delta{H}_{RX} = 0$  "
   ]
  },
  {
   "cell_type": "markdown",
   "metadata": {},
   "source": [
    "Where $\\dot{\\epsilon} = \\dfrac{\\Delta{F}_{i}}{\\nu_{i}}$"
   ]
  },
  {
   "cell_type": "code",
   "execution_count": 3,
   "metadata": {},
   "outputs": [],
   "source": [
    "X = np.linspace(0.001, 0.99) # the rate will go to zero at XA = 1 and\n",
    "#it will give me issues later, so I choose to avoid the 0 and 1 limits\n",
    "FA           =                    FAo*(1 - X)\n",
    "delFA        =                       FA - FAo\n",
    "nu_A         =                             -2\n",
    "eps          =                     delFA/nu_A\n",
    "sum_Fi_Cpi_o =              FAo*CpA + FBo*CpB\n",
    "\n",
    "T_eb         = -eps*delH298/sum_Fi_Cpi_o + To"
   ]
  },
  {
   "cell_type": "markdown",
   "metadata": {},
   "source": [
    "**Mole Balance**"
   ]
  },
  {
   "cell_type": "markdown",
   "metadata": {},
   "source": [
    "$F_{A,0} - F_{A} + r_{A}V = 0$"
   ]
  },
  {
   "cell_type": "markdown",
   "metadata": {},
   "source": [
    "$r_{A} = k_{0}exp^{(\\dfrac{-E}{RT})}C^{2}_{A}$"
   ]
  },
  {
   "cell_type": "code",
   "execution_count": 6,
   "metadata": {},
   "outputs": [],
   "source": [
    "ko   = 1e8\n",
    "E    = 66000 #70000 or 66000\n",
    "#elementary rate\n",
    "#I already have FA = FAo*(1 - X)\n",
    "CA   = FA/Qo #liquid phase reaction\n",
    "#Q does not change\n",
    "rA   = (FAo - FA)/-V\n",
    "k    = -rA/CA**2\n",
    "R    = 8.314\n",
    "T_mb = (np.log(k/ko)*R/-E)**-1"
   ]
  },
  {
   "cell_type": "markdown",
   "metadata": {},
   "source": [
    "**Graphical Solution**"
   ]
  },
  {
   "cell_type": "code",
   "execution_count": 7,
   "metadata": {},
   "outputs": [
    {
     "data": {
      "text/plain": [
       "(0, 1)"
      ]
     },
     "execution_count": 7,
     "metadata": {},
     "output_type": "execute_result"
    },
    {
     "data": {
      "image/png": "[encoded data removed]",
      "text/plain": [
       "<Figure size 432x288 with 1 Axes>"
      ]
     },
     "metadata": {
      "needs_background": "light"
     },
     "output_type": "display_data"
    }
   ],
   "source": [
    "plt.plot(T_mb, X, label = 'Mol Balance')\n",
    "plt.plot(T_eb, X, label = 'Energy Balance')\n",
    "plt.legend()\n",
    "plt.xlabel('$T/(K)$')\n",
    "plt.ylabel('$x_{A}$')\n",
    "plt.ylim(0,1)"
   ]
  },
  {
   "cell_type": "markdown",
   "metadata": {},
   "source": [
    " ## <span style=\"color:blue\"> Use fsolve(first guess values for X and T now pretty good!)</span> ##"
   ]
  },
  {
   "cell_type": "markdown",
   "metadata": {},
   "source": [
    "<span style=\"color:blue\"> def solver(var):</span>&nbsp; \n",
    "<blockquote>\n",
    "    <p><span style=\"color:blue\">X, T = var </p>\n",
    "    <p><span style=\"color:blue\">FA   = ... </p>  \n",
    "    <p><span style=\"color:blue\">eps  = ... </p>  \n",
    "    <p><span style=\"color:blue\">CA   = ... </p>  \n",
    "    <p><span style=\"color:blue\">rA   = ... </p>  \n",
    "    <p><span style=\"color:blue\">MB   = FAo - FA + rAV </p> \n",
    "    <p><span style=\"color:blue\">delHrx - delH298 + delCprx(T - 298) </p>  \n",
    "    <p><span style=\"color:blue\">EB = FAo*CpA*(T - To) + eps*delHrx </p>  \n",
    "    <p><span style=\"color:blue\">return MB, EB </p> \n",
    "</blockquote>    </span> \n",
    "<span style=\"color:blue\">Etc......</span>\n",
    "   "
   ]
  },
  {
   "cell_type": "code",
   "execution_count": null,
   "metadata": {},
   "outputs": [],
   "source": []
  }
 ],
 "metadata": {
  "kernelspec": {
   "display_name": "Python 3",
   "language": "python",
   "name": "python3"
  },
  "language_info": {
   "codemirror_mode": {
    "name": "ipython",
    "version": 3
   },
   "file_extension": ".py",
   "mimetype": "text/x-python",
   "name": "python",
   "nbconvert_exporter": "python",
   "pygments_lexer": "ipython3",
   "version": "3.7.3"
  }
 },
 "nbformat": 4,
 "nbformat_minor": 2
}
