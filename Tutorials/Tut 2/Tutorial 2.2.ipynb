{
 "cells": [
  {
   "cell_type": "markdown",
   "metadata": {},
   "source": [
    "<img src=\"Tut 2.2.PNG\" width=\"900\" />"
   ]
  },
  {
   "cell_type": "code",
   "execution_count": 90,
   "metadata": {},
   "outputs": [],
   "source": [
    "from numpy import log, array, exp, linspace, asarray, argmax, interp, append\n",
    "from scipy.integrate import odeint\n",
    "from scipy.stats import linregress \n",
    "import matplotlib.pyplot as plt\n",
    "%matplotlib inline\n",
    "#%matplotlib notebook"
   ]
  },
  {
   "cell_type": "code",
   "execution_count": 91,
   "metadata": {},
   "outputs": [],
   "source": [
    "#1st order\n",
    "#liquid phase\n",
    "#Adiabatic\n",
    "R      =  8.314 #Kpa.m3/(kmol.K)\n",
    "CAo    =    0.1 # mol/L\n",
    "V      =    500 #L\n",
    "Ko     =  20000 #1/s\n",
    "Ea     =  55000 #J/mol\n",
    "delHrx = -30000 #J/mol (exothermic)\n",
    "CpA    =  157.9 #J/(mol.K)\n",
    "CpB    =    CpA\n",
    "Q      =      2 #L/s"
   ]
  },
  {
   "cell_type": "markdown",
   "metadata": {
    "collapsed": true
   },
   "source": [
    "**Question a)**"
   ]
  },
  {
   "cell_type": "markdown",
   "metadata": {},
   "source": [
    "Rate equations:\n",
    "\\begin{align}\n",
    "r_{A} &= -k_{0}e^{-\\dfrac{E_{a}}{RT}}C_{A_{0}}(1 - X) \\nonumber \\\\\n",
    "r_{B} &= -r_{A} \\nonumber\n",
    "\\end{align}"
   ]
  },
  {
   "cell_type": "markdown",
   "metadata": {},
   "source": [
    "Mole balance for CSTR:\n",
    "\\begin{align}\n",
    "F_{A_{0}} - F_{A} + r_{A}V &= 0 \\nonumber \\\\\n",
    "QC_{A_{0}}X &= k_{0}e^{-\\dfrac{E_{a}}{RT}}C_{A_{0}}(1 - X)V \\nonumber \\\\\n",
    "X &= \\dfrac{k_{0}}{Q}e^{(-E_{a}/RT)}(1 - X)V\n",
    "\\end{align}"
   ]
  },
  {
   "cell_type": "markdown",
   "metadata": {},
   "source": [
    "Energy balance:\n",
    "\\begin{align}\n",
    "T_{out} &= T_{in} +  \\dfrac{(-\\Delta H_{RX})}{C_{p_{A}}}X_{A}\n",
    "\\end{align}"
   ]
  },
  {
   "cell_type": "code",
   "execution_count": 92,
   "metadata": {},
   "outputs": [],
   "source": [
    "from scipy.optimize import fsolve"
   ]
  },
  {
   "cell_type": "code",
   "execution_count": 93,
   "metadata": {},
   "outputs": [
    {
     "name": "stdout",
     "output_type": "stream",
     "text": [
      "Max conversion for CSTR= 93.31877434654574 %\n"
     ]
    }
   ],
   "source": [
    "To = 340 #K\n",
    "\n",
    "def CSTR(var):\n",
    "    X = var[0]\n",
    "    T = To - delHrx*X/(CpA)\n",
    "    return[X - (Ko/Q)*exp(-Ea/(R*T))*(1-X)*V]   \n",
    "\n",
    "Xcstr = fsolve(CSTR,0.9) #test both 0.1 and 0.9 as different guess\n",
    "X = Xcstr[-1]\n",
    "print('Max conversion for CSTR=', X*100,'%')\n",
    "\n",
    "#NOTE: depending on first guess for fsolve, X=93.2% or X=2.2% - MULTIPLICITY!"
   ]
  },
  {
   "cell_type": "code",
   "execution_count": 94,
   "metadata": {},
   "outputs": [
    {
     "data": {
      "text/plain": [
       "517.2997612663946"
      ]
     },
     "execution_count": 94,
     "metadata": {},
     "output_type": "execute_result"
    }
   ],
   "source": [
    "T = To - delHrx*X/(CpA)\n",
    "T"
   ]
  },
  {
   "cell_type": "markdown",
   "metadata": {},
   "source": [
    "Rearranging the mole balance:\n",
    "\\begin{align}\n",
    "X &= \\dfrac{k_{0}}{Q}e^{(-E_{a}/RT)}(1 - X)V \\nonumber \\\\\n",
    "X - \\dfrac{k_{i}}{Q}(1 - X)V &= 0 \\nonumber \\\\\n",
    "let\\ \\dfrac{k_{i}}{Q} &= k_{1} \\nonumber \\\\\n",
    "\\therefore X - k_{1} + k_{1}XV &= 0 \\nonumber \\\\\n",
    "X_{1} &= \\dfrac{k_{1}V}{(1 + k_{1}V)}\n",
    "\\end{align}"
   ]
  },
  {
   "cell_type": "markdown",
   "metadata": {},
   "source": [
    "Rearranging the energy balance:\n",
    "Energy balance:\n",
    "\\begin{align}\n",
    "T_{out} &= T_{in} +  \\dfrac{(-\\Delta H_{RX})}{C_{p_{A}}}X_{A} \\nonumber \\\\\n",
    "X_{2} &= \\dfrac{C_{p_{A}}(T - T_{0})}{-\\Delta H_{RX}}\n",
    "\\end{align}"
   ]
  },
  {
   "cell_type": "code",
   "execution_count": 95,
   "metadata": {},
   "outputs": [],
   "source": [
    "tspan = linspace(To,T,1000)\n",
    "k1 = (Ko/Q)*exp(-Ea/(R*tspan))\n",
    "X1 = k1*V/(1+k1*V)\n",
    "X2 = (CpA*(tspan-To))/-delHrx"
   ]
  },
  {
   "cell_type": "code",
   "execution_count": 96,
   "metadata": {},
   "outputs": [
    {
     "data": {
      "image/png": "[encoded data removed]",
      "text/plain": [
       "<Figure size 432x288 with 1 Axes>"
      ]
     },
     "metadata": {
      "needs_background": "light"
     },
     "output_type": "display_data"
    }
   ],
   "source": [
    "plt.figure(1)\n",
    "plt.plot(tspan, X1, color='blue', label='XAmol')\n",
    "plt.plot(tspan, X2, color='green', label='XAenergy')\n",
    "plt.legend(loc='best')\n",
    "plt.ylabel('Conversion') \n",
    "plt.xlabel('Temp[K]') \n",
    "plt.show()"
   ]
  },
  {
   "cell_type": "markdown",
   "metadata": {
    "collapsed": true
   },
   "source": [
    "*from the graph, one can see the multiplicity issue*"
   ]
  },
  {
   "cell_type": "markdown",
   "metadata": {
    "collapsed": true
   },
   "source": [
    "**Question b)**"
   ]
  },
  {
   "cell_type": "code",
   "execution_count": 97,
   "metadata": {},
   "outputs": [
    {
     "name": "stdout",
     "output_type": "stream",
     "text": [
      "Max conversion for CSTR= 97.7163041051656 %\n"
     ]
    }
   ],
   "source": [
    "Qb = 0.8 #L/s\n",
    "\n",
    "def CSTR1(varb):\n",
    "    Xb = varb[0]\n",
    "    Tb = To - delHrx*Xb/(CpA)\n",
    "    return[Xb - (Ko/Qb)*exp(-Ea/(R*Tb))*(1-Xb)*V]   \n",
    "\n",
    "Xcstrb = fsolve(CSTR1,0.9) #test both 0.1 and 0.9 as different guess\n",
    "Xb = Xcstrb[-1]\n",
    "print('Max conversion for CSTR=', Xb*100,'%')"
   ]
  },
  {
   "cell_type": "code",
   "execution_count": 98,
   "metadata": {},
   "outputs": [
    {
     "data": {
      "text/plain": [
       "525.6547893068378"
      ]
     },
     "execution_count": 98,
     "metadata": {},
     "output_type": "execute_result"
    }
   ],
   "source": [
    "Tb = To - delHrx*Xb/(CpA)\n",
    "Tb"
   ]
  },
  {
   "cell_type": "code",
   "execution_count": 99,
   "metadata": {},
   "outputs": [],
   "source": [
    "tspanb = linspace(To,Tb,1000)\n",
    "kb = (Ko/Qb)*exp(-Ea/(R*tspanb))\n",
    "Xb1 = kb*V/(1+kb*V)\n",
    "Xb2 = (CpA*(tspanb-To))/-delHrx"
   ]
  },
  {
   "cell_type": "code",
   "execution_count": 100,
   "metadata": {},
   "outputs": [
    {
     "data": {
      "image/png": "[encoded data removed]",
      "text/plain": [
       "<Figure size 432x288 with 1 Axes>"
      ]
     },
     "metadata": {
      "needs_background": "light"
     },
     "output_type": "display_data"
    }
   ],
   "source": [
    "plt.figure(2)\n",
    "plt.plot(tspanb, Xb1, color='blue', label='XAmol')\n",
    "plt.plot(tspanb, Xb2, color='green', label='XAenergy')\n",
    "plt.legend(loc='best')\n",
    "plt.ylabel('Conversion') \n",
    "plt.xlabel('Temp[K]') \n",
    "plt.show()"
   ]
  },
  {
   "cell_type": "markdown",
   "metadata": {
    "collapsed": true
   },
   "source": [
    "Now one can see multiplicity is no longer an issue. Lowering the flowrate makes the CSTR more stable and increases the conversion. (It also makes logical sense as the residence time naturally increases)"
   ]
  },
  {
   "cell_type": "markdown",
   "metadata": {
    "collapsed": true
   },
   "source": [
    "**Question c)**"
   ]
  },
  {
   "cell_type": "code",
   "execution_count": 101,
   "metadata": {},
   "outputs": [
    {
     "name": "stdout",
     "output_type": "stream",
     "text": [
      "Max conversion for CSTR= 93.31877434654574 %\n"
     ]
    }
   ],
   "source": [
    "Toc = 360 #K\n",
    "\n",
    "def CSTRc(varc):\n",
    "    Xc = varc[0]\n",
    "    Tc = Toc - delHrx*Xc/(CpA)\n",
    "    return[Xc - (Ko/Q)*exp(-Ea/(R*Tc))*(1-Xc)*V]   \n",
    "\n",
    "Xcstrc = fsolve(CSTRc,0.9) \n",
    "Xc = Xcstrc[-1]\n",
    "Tc = Toc - delHrx*Xc/(CpA)\n",
    "\n",
    "print('Max conversion for CSTR=', X*100,'%')"
   ]
  },
  {
   "cell_type": "code",
   "execution_count": 102,
   "metadata": {},
   "outputs": [],
   "source": [
    "tspanc = linspace(Toc,Tc,1000)\n",
    "k1c = (Ko/Q)*exp(-Ea/(R*tspanc))\n",
    "X1c = k1c*V/(1+k1c*V)\n",
    "X2c = (CpA*(tspanc-Toc))/-delHrx"
   ]
  },
  {
   "cell_type": "code",
   "execution_count": 103,
   "metadata": {},
   "outputs": [
    {
     "data": {
      "image/png": "[encoded data removed]",
      "text/plain": [
       "<Figure size 432x288 with 1 Axes>"
      ]
     },
     "metadata": {
      "needs_background": "light"
     },
     "output_type": "display_data"
    }
   ],
   "source": [
    "plt.figure(3)\n",
    "plt.plot(tspanc, X1c, color='blue', label='XAmol')\n",
    "plt.plot(tspanc, X2c, color='green', label='XAenergy')\n",
    "plt.legend(loc='best')\n",
    "plt.ylabel('Conversion') \n",
    "plt.xlabel('Temp[K]') \n",
    "plt.show()"
   ]
  },
  {
   "cell_type": "code",
   "execution_count": 104,
   "metadata": {},
   "outputs": [],
   "source": [
    "# We keep changing Toc and rerunning cells until graph shows only one intercept"
   ]
  },
  {
   "cell_type": "markdown",
   "metadata": {
    "collapsed": true
   },
   "source": [
    "**Question d)**"
   ]
  },
  {
   "cell_type": "code",
   "execution_count": 105,
   "metadata": {},
   "outputs": [
    {
     "name": "stdout",
     "output_type": "stream",
     "text": [
      "340.59460743016876\n",
      "Max conversion for CSTR= 0.3129617107455048 %\n"
     ]
    }
   ],
   "source": [
    "Eanew = 60000 #J/mol\n",
    "\n",
    "def CSTRd(vard):\n",
    "    Xd = vard[0]\n",
    "    Td = To - delHrx*Xd/(CpA)\n",
    "    return[Xd - (Ko/Q)*exp(-Eanew/(R*Td))*(1-Xd)*V]   \n",
    "\n",
    "Xcstrd = fsolve(CSTRd,0.9) \n",
    "Xd = Xcstrd[-1]\n",
    "Td = To - delHrx*Xd/(CpA)\n",
    "print(Td)\n",
    "print('Max conversion for CSTR=', Xd*100,'%')"
   ]
  },
  {
   "cell_type": "code",
   "execution_count": 106,
   "metadata": {},
   "outputs": [],
   "source": [
    "tspand = linspace(To,Td,1000)\n",
    "k1d = (Ko/Q)*exp(-Eanew/(R*tspand))\n",
    "X1d = k1d*V/(1+k1d*V)\n",
    "X2d = (CpA*(tspand-To))/-delHrx"
   ]
  },
  {
   "cell_type": "code",
   "execution_count": 107,
   "metadata": {},
   "outputs": [
    {
     "data": {
      "image/png": "[encoded data removed]",
      "text/plain": [
       "<Figure size 432x288 with 1 Axes>"
      ]
     },
     "metadata": {
      "needs_background": "light"
     },
     "output_type": "display_data"
    }
   ],
   "source": [
    "plt.figure(4)\n",
    "plt.plot(tspand, X1d, color='blue', label='XAmol')\n",
    "plt.plot(tspand, X2d, color='green', label='XAenergy')\n",
    "plt.legend(loc='best')\n",
    "plt.ylabel('Conversion') \n",
    "plt.xlabel('Temp[K]') \n",
    "plt.show()"
   ]
  },
  {
   "cell_type": "markdown",
   "metadata": {},
   "source": [
    "Makes sense that increasing the activation energy will reduce the conversion rate."
   ]
  },
  {
   "cell_type": "markdown",
   "metadata": {
    "collapsed": true
   },
   "source": [
    "**Question e)**"
   ]
  },
  {
   "cell_type": "markdown",
   "metadata": {},
   "source": [
    "The energy balance now no longer equals zero:\n",
    "$$\n",
    "\\begin{align}\n",
    "\\Sigma_{i} F_{i_{0}}C_{p_{i}}(T - T_{0}) + (-\\Delta F_{A})\\Delta H^{\\circ}_{RX_{A}} &= UA(T_{U} - T) \\nonumber \\\\\n",
    "F_{A_{0}}C_{p_{A}}(T - T_{0}) + (F_{A_{0}}X_{A})\\Delta H^{\\circ}_{RX_{A}} &= UAT_{U} - UAT \\nonumber \\\\\n",
    "T(F_{A_{0}}C_{p_{A}} + UA) - F_{A_{0}}C_{p_{A}}T_{0} + F_{A_{0}}X_{A}\\Delta H^{\\circ}_{RX_{A}} &= UAT_{U} \\nonumber \\\\\n",
    "T(F_{A_{0}}C_{p_{A}} + UA) &= - F_{A_{0}}X_{A}\\Delta H^{\\circ}_{RX_{A}} +  UAT_{U} + F_{A_{0}}C_{p_{A}}T_{0}  \\nonumber \\\\\n",
    "T &= \\dfrac{- F_{A_{0}}\\Delta H^{\\circ}_{RX_{A}}}{F_{A_{0}}C_{p_{A}} + UA}X_{A} + \\dfrac{UAT_{U} + F_{A_{0}}C_{p_{A}}T_{0}}{F_{A_{0}}C_{p_{A}} + UA}\n",
    "\\end{align}\n",
    "$$"
   ]
  },
  {
   "cell_type": "code",
   "execution_count": 108,
   "metadata": {},
   "outputs": [
    {
     "name": "stdout",
     "output_type": "stream",
     "text": [
      "515.2989359334316\n",
      "Max conversion for CSTR= 93.00244620457019 %\n"
     ]
    }
   ],
   "source": [
    "UA = 31.6 #J/(s.K)\n",
    "Eae = 55000 #J/mol\n",
    "\n",
    "Tu = 513.9 #keep changing until X=0.93\n",
    "\n",
    "def CSTRe(vare):\n",
    "    Xe = vare[0]\n",
    "    a = CAo*Q*CpA + UA\n",
    "    Te = (UA*Tu+CAo*Q*CpA*To)/a - CAo*Q*delHrx*Xe/a\n",
    "    return[Xe - (Ko/Q)*exp(-Eae/(R*Te))*(1-Xe)*V]   \n",
    "\n",
    "Xcstre = fsolve(CSTRe,0.9) \n",
    "Xe = Xcstre[-1]\n",
    "a = CAo*Q*CpA + UA\n",
    "Te = (UA*Tu+CAo*Q*CpA*To)/a - CAo*Q*delHrx*Xe/a\n",
    "print(Te)\n",
    "print('Max conversion for CSTR=', Xe*100,'%')"
   ]
  },
  {
   "cell_type": "code",
   "execution_count": 109,
   "metadata": {},
   "outputs": [],
   "source": [
    "tspane = linspace(To,600,1000)\n",
    "\n",
    "ke = (Ko/Q)*exp(-Eae/(R*tspane))\n",
    "Xmb = ke*V/(1+ke*V)\n",
    "a = CAo*Q*CpA + UA\n",
    "Xeb = CpA*To/delHrx + (UA*Tu - a*tspane)/(CAo*Q*delHrx)\n",
    "Xad = CpA*(tspane-To)/(-delHrx)"
   ]
  },
  {
   "cell_type": "code",
   "execution_count": 110,
   "metadata": {},
   "outputs": [
    {
     "data": {
      "image/png": "[encoded data removed]",
      "text/plain": [
       "<Figure size 432x288 with 1 Axes>"
      ]
     },
     "metadata": {
      "needs_background": "light"
     },
     "output_type": "display_data"
    }
   ],
   "source": [
    "plt.figure(5)\n",
    "plt.plot(tspane, Xmb, color='blue', label='Xmb')\n",
    "plt.plot(tspane, Xeb, color='green', label='Xeb')\n",
    "plt.plot(tspane, Xad, color='red', label='Xad')\n",
    "plt.legend(loc='best')\n",
    "plt.ylabel('Conversion') \n",
    "plt.xlabel('Temp[K]') \n",
    "plt.show()"
   ]
  },
  {
   "cell_type": "code",
   "execution_count": 111,
   "metadata": {},
   "outputs": [
    {
     "data": {
      "application/vnd.jupyter.widget-view+json": {
       "model_id": "9a5e5a06ded44b93a8c375013cd10c18",
       "version_major": 2,
       "version_minor": 0
      },
      "text/plain": [
       "interactive(children=(FloatSlider(value=20000000.0, description='ko1', max=1000000000.0, min=1000000.0, step=1…"
      ]
     },
     "metadata": {},
     "output_type": "display_data"
    },
    {
     "data": {
      "text/plain": [
       "<function __main__.kT(ko1=20000000.0, ko2=20000000.0, EA1=50000, EA2=50000, Tmin=273.15, Tmax=1000)>"
      ]
     },
     "execution_count": 111,
     "metadata": {},
     "output_type": "execute_result"
    }
   ],
   "source": [
    "from numpy import linspace, exp\n",
    "from ipywidgets import interact\n",
    "import matplotlib.pyplot as plt\n",
    "\n",
    "R = 8.314 #J/mol.K\n",
    "\n",
    "def kT(ko1 = 2e7, ko2 = 2e7,  EA1 = 50000, EA2 = 50000,\n",
    "       Tmin = 273.15, Tmax = 1000):\n",
    "    T = linspace(Tmin, Tmax, 1000)\n",
    "    k1 = ko1*exp(-EA1/(R*T))\n",
    "    k2 = ko2*exp(-EA2/(R*T))\n",
    "    plt.plot(T, k1, T, k2)\n",
    "    plt.legend(['k1', 'k2'], loc=2)\n",
    "    plt.ylabel('k (1/s)')\n",
    "    plt.xlabel('T (K)')\n",
    "    \n",
    "interact(kT, ko1=(1e6, 1e9, 1e5), ko2=(1e6, 1e9, 1e5),\n",
    "         EA1=(10000, 100000, 1000), EA2=(10000, 100000, 1000),\n",
    "         Tmin=(150, 1000, 10), Tmax=(1000, 100000, 10))\n",
    "    \n",
    "\n",
    "    \n"
   ]
  },
  {
   "cell_type": "code",
   "execution_count": null,
   "metadata": {},
   "outputs": [],
   "source": []
  }
 ],
 "metadata": {
  "kernelspec": {
   "display_name": "Python 3",
   "language": "python",
   "name": "python3"
  },
  "language_info": {
   "codemirror_mode": {
    "name": "ipython",
    "version": 3
   },
   "file_extension": ".py",
   "mimetype": "text/x-python",
   "name": "python",
   "nbconvert_exporter": "python",
   "pygments_lexer": "ipython3",
   "version": "3.7.3"
  }
 },
 "nbformat": 4,
 "nbformat_minor": 2
}
