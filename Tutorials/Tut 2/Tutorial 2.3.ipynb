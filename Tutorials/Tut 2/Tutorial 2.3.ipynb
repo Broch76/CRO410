{
 "cells": [
  {
   "cell_type": "code",
   "execution_count": 38,
   "metadata": {},
   "outputs": [],
   "source": [
    "from numpy import *\n",
    "from scipy.optimize import fsolve\n",
    "from scipy.integrate import odeint\n",
    "from matplotlib import pyplot as plt\n",
    "from scipy.interpolate import interp1d\n",
    "%matplotlib inline"
   ]
  },
  {
   "cell_type": "markdown",
   "metadata": {},
   "source": [
    "The gas phase reaction:\n",
    "$$ A \\rightarrow 2B $$\n",
    "occurs in a shell and tube packed bed reactor where pure $A$ at $2~bar$ and $150~°C$ is fed at $400~kmol/hr$. The reactor has $200$ tubes and the shell has a cooling medium at a constant temperature of $25~°C$. Determine the diameter and length of the tubes so that the reaction temperature never exceeds $200~°C$. You need to have a conversion higher than $96~\\%$. You can use the following expression for the pressure drop:\n",
    "$$ \\dfrac{dP}{dz} = -K_{Ergun}\\dfrac{F_{T}}{F_{T_{0}}}\\dfrac{P_{0}}{P}\\dfrac{T}{T_{0}} $$"
   ]
  },
  {
   "cell_type": "markdown",
   "metadata": {},
   "source": [
    "Information for this system:"
   ]
  },
  {
   "cell_type": "markdown",
   "metadata": {},
   "source": [
    "<img src=\"2.3a.PNG\" width=\"350\" />"
   ]
  },
  {
   "cell_type": "markdown",
   "metadata": {},
   "source": [
    "(assume hat tubes are available in diameters $25$, $28$, and $30~mm$. Remember that $K_{Ergun} \\propto G^{2}$ in turbulent flow and it will therefore also depend on the tube diameter.)"
   ]
  },
  {
   "cell_type": "markdown",
   "metadata": {},
   "source": [
    "<img src=\"2.3b.PNG\" width=\"850\" />"
   ]
  },
  {
   "cell_type": "code",
   "execution_count": 39,
   "metadata": {},
   "outputs": [],
   "source": [
    "#Gas phase\n",
    "#Pure A fed\n",
    "Ntubes =        200\n",
    "koprm  =        700 #m3/kg.s #therefore 1st order rx\n",
    "Ea     =      40000 #J/mol\n",
    "CpA    =        500 #J/(mol.K)\n",
    "CpB    =    0.5*CpA\n",
    "dHrx   =     -47500 #J/mol\n",
    "U      =        200 #W/(m2.K)\n",
    "rhobed =        800 #kg/m3\n",
    "W      =        700 #kg\n",
    "Wpt    =   W/Ntubes\n",
    "Kerg30i= 0.02e3*100 #kPa/m (pressure drop constant for 30mm tubes)\n",
    "D30    =      0.030 #m tube diameter\n",
    "D28    =      0.028 #m tube diameter\n",
    "D25    =      0.025 #m tube diameter\n",
    "Po     =    2e3*100 #kPa\n",
    "To     = 150+273.15 #K\n",
    "T      = 200+273.15 #K\n",
    "Tu     =  25+273.15 #K\n",
    "FAo    = 400e3/3600 #mol/s\n",
    "FAopt  = FAo/Ntubes #mol/s/tube\n",
    "R      =      8.314 #kJ/Kmol/K\n",
    "Qo     = FAopt*R*To/Po"
   ]
  },
  {
   "cell_type": "code",
   "execution_count": 40,
   "metadata": {},
   "outputs": [
    {
     "data": {
      "text/plain": [
       "3.5"
      ]
     },
     "execution_count": 40,
     "metadata": {},
     "output_type": "execute_result"
    }
   ],
   "source": [
    "Wpt"
   ]
  },
  {
   "cell_type": "code",
   "execution_count": 41,
   "metadata": {},
   "outputs": [
    {
     "data": {
      "text/plain": [
       "array([0.025, 0.028, 0.03 ])"
      ]
     },
     "execution_count": 41,
     "metadata": {},
     "output_type": "execute_result"
    }
   ],
   "source": [
    "D = array([D25, D28, D30])\n",
    "D"
   ]
  },
  {
   "cell_type": "code",
   "execution_count": 42,
   "metadata": {},
   "outputs": [
    {
     "data": {
      "text/plain": [
       "array([0.00049087, 0.00061575, 0.00070686])"
      ]
     },
     "execution_count": 42,
     "metadata": {},
     "output_type": "execute_result"
    }
   ],
   "source": [
    "Ax = 0.25*pi*D**2\n",
    "Ax"
   ]
  },
  {
   "cell_type": "code",
   "execution_count": 43,
   "metadata": {},
   "outputs": [],
   "source": [
    "Ax30 = 0.25*pi*D30**2\n",
    "Ax28 = 0.25*pi*D28**2\n",
    "Ax25 = 0.25*pi*D25**2"
   ]
  },
  {
   "cell_type": "markdown",
   "metadata": {},
   "source": [
    "For Turbulent flow assumed as given in the description:\n",
    "\\begin{equation}\n",
    "\t\t\t\\frac{dP}{dz} = -\\dfrac{1.75G^{2}}{\\rho_{\\circ}d_{p}}\\left(\\frac{1 - \\epsilon}{\\epsilon}\\right)\\left(\\dfrac{P_{\\circ}}{P}\\frac{F_{T}}{F_{T_{\\circ}}}\\frac{T}{T_{\\circ}}\\right)\n",
    "\\end{equation}"
   ]
  },
  {
   "cell_type": "markdown",
   "metadata": {},
   "source": [
    "But $K_{Ergun}$ units are in $\\dfrac{Pressure}{m}$, therefore:"
   ]
  },
  {
   "cell_type": "markdown",
   "metadata": {},
   "source": [
    "From $ \\dfrac{dP}{dz} $, $ dz = \\dfrac{dW}{\\rho_{B}*A_{across}} $"
   ]
  },
  {
   "cell_type": "markdown",
   "metadata": {},
   "source": [
    "Where $ A_{across} = \\pi\\frac{D_{tube}^{2}}{4}$ therefore substituting $dz$ into equation above in terms of $\\frac{dP}{dW}:  $"
   ]
  },
  {
   "cell_type": "markdown",
   "metadata": {},
   "source": [
    "$$\n",
    "\\begin{equation}\n",
    "\t\t\\frac{dP}{dW} = -\\dfrac{1.75}{\\rho_{\\circ}d_{p}}\\left(\\frac{1 - \\epsilon}{\\epsilon}\\right)\\dfrac{G^{2}}{\\rho_{B}A_{across}}\\left(\\dfrac{P_{\\circ}}{P}\\frac{F_{T}}{F_{T_{\\circ}}}\\frac{T}{T_{\\circ}}\\right)\n",
    "\\end{equation}\n",
    "$$\t\n",
    "Where:\n",
    "$$\n",
    "\\begin{equation}\n",
    "\t\tK_{Ergun}^{'} = -\\dfrac{1.75}{\\rho_{\\circ}d_{p}}\\left(\\frac{1 - \\epsilon}{\\epsilon}\\right)\\dfrac{G^{2}}{\\rho_{B}A_{across}}\n",
    "\\end{equation}\n",
    "$$"
   ]
  },
  {
   "cell_type": "markdown",
   "metadata": {},
   "source": [
    "$K_{Ergun}'$ units are in $\\dfrac{Pressure}{kg}$, so:"
   ]
  },
  {
   "cell_type": "markdown",
   "metadata": {},
   "source": [
    "\\begin{align}\n",
    "\t\t\t K_{Ergun}'  &\\propto \\dfrac{G^{2}}{\\rho_{B}A_{across}} \\nonumber\\\\\n",
    "\t\t\t  &\\propto \\dfrac{\\dot{m^{2}}/A_{across}^{2}}{\\rho_{B}A_{across}} \\nonumber \\\\\n",
    "\t\t\t  &\\propto \\dfrac{\\dot{m^{2}}}{\\rho_{B}A_{across}^{3}} \\nonumber \\\\\n",
    "\t\t\t K_{Ergun}'  &\\propto \\dfrac{\\dot{m^{2}}}{\\rho_{B}D_{Tube}^{6}} \\nonumber \\nonumber \n",
    "\t\t\\end{align}"
   ]
  },
  {
   "cell_type": "markdown",
   "metadata": {},
   "source": [
    "Therefore, after prorating:\n",
    "\\begin{align}\n",
    "K_{Ergun2}^{'} &= \\left(\\dfrac{D_{1}}{D_{2}}\\right)^{6}K_{Ergun1}^{'} \\nonumber\n",
    "\\end{align}"
   ]
  },
  {
   "cell_type": "code",
   "execution_count": 44,
   "metadata": {},
   "outputs": [
    {
     "data": {
      "text/plain": [
       "3536.7765131532296"
      ]
     },
     "execution_count": 44,
     "metadata": {},
     "output_type": "execute_result"
    }
   ],
   "source": [
    "Kerg30 = Kerg30i/(rhobed*Ax30)\n",
    "Kerg30 #kPa/kg"
   ]
  },
  {
   "cell_type": "code",
   "execution_count": 45,
   "metadata": {},
   "outputs": [],
   "source": [
    "Kerg28 = ((30/28)**6)*Kerg30\n",
    "Kerg25 = ((30/25)**6)*Kerg30"
   ]
  },
  {
   "cell_type": "code",
   "execution_count": 46,
   "metadata": {},
   "outputs": [
    {
     "data": {
      "text/plain": [
       "array([10560.75807985,  5350.40870648,  3536.77651315])"
      ]
     },
     "execution_count": 46,
     "metadata": {},
     "output_type": "execute_result"
    }
   ],
   "source": [
    "Kerg = array([Kerg25, Kerg28, Kerg30])\n",
    "Kerg"
   ]
  },
  {
   "cell_type": "code",
   "execution_count": 47,
   "metadata": {},
   "outputs": [],
   "source": [
    "Kerg28i = Kerg28*rhobed*Ax28\n",
    "Kerg25i = Kerg25*rhobed*Ax25"
   ]
  },
  {
   "cell_type": "markdown",
   "metadata": {},
   "source": [
    "Rate equations:\n",
    "\\begin{align}\n",
    "r_{A}^{'} &= -k_{0}^{'}e^{-\\dfrac{E_{a}}{RT}}C_{A_{0}}(1 - X) \\nonumber \\\\\n",
    "r_{B}^{'} &= -2r_{A}^{'} \\nonumber\n",
    "\\end{align} "
   ]
  },
  {
   "cell_type": "markdown",
   "metadata": {},
   "source": [
    "Algebraic equations:\n",
    "\\begin{align}\n",
    "F_{A} &= F_{A_{0}}(1 - X_{A}) \\\\\n",
    "F_{B} &= \\dfrac{1}{2}F_{A_{0}}X_{A} \\\\\n",
    "F_{T} &= F_{A} + F_{B} \\\\\n",
    "Q &= \\dfrac{F_{T}RT}{P} \n",
    "\\end{align}"
   ]
  },
  {
   "cell_type": "markdown",
   "metadata": {},
   "source": [
    "Mole balance:\n",
    "\\begin{align}\n",
    "\\dfrac{dF_{A}}{dW} &= r_{A}^{'} \\nonumber \\\\\n",
    "-F_{A_{0}}\\dfrac{dX}{dW} &= -k_{0}^{'}e^{-\\dfrac{E_{a}}{RT}}C_{A_{0}}(1 - X)  \\nonumber \\\\\n",
    "Q_{0}C_{A_{0}}\\dfrac{dX}{dW} &= k_{0}^{'}e^{-\\dfrac{E_{a}}{RT}}C_{A_{0}}(1 - X)  \\nonumber \\\\\n",
    "\\dfrac{dX}{dW} &= \\dfrac{k_{0}^{'}}{Q_{0}}e^{-\\dfrac{E_{a}}{RT}}(1 - X)  \\nonumber \\\\\n",
    "\\end{align}"
   ]
  },
  {
   "cell_type": "markdown",
   "metadata": {},
   "source": [
    "The energy balance for a non-adiabatic, non-isothermal PBR:\n",
    "$$\n",
    "\\begin{align}\n",
    "\\dfrac{\\Delta\\Sigma (H_{i})}{\\Delta W} &= U(T_{U} - T)\\dfrac{\\Delta A}{\\Delta W} \\nonumber\n",
    "\\end{align}\n",
    "$$\n",
    "But \n",
    "$$\n",
    "\\begin{align}\n",
    "\\dfrac{\\Delta A}{\\Delta W} &= \\dfrac{\\pi.D\\Delta z}{\\Delta W} \\nonumber \\\\\n",
    "&= \\dfrac{\\pi.D}{\\Delta W}.\\dfrac{\\Delta W}{\\rho_{bed}A_{across}} \\nonumber \\\\\n",
    "&= \\dfrac{4\\pi.D}{\\rho_{bed}\\pi D^{2}} \\nonumber \\\\\n",
    "a &= \\dfrac{4}{\\rho_{bed}D} \\nonumber \n",
    "\\end{align}\n",
    "$$\n",
    "therefore \n",
    "$$\n",
    "\\begin{align}\n",
    "\\dfrac{\\Delta\\Sigma (H_{i})}{\\Delta W} &= U(T_{U} - T).a \\nonumber\n",
    "\\end{align}\n",
    "$$"
   ]
  },
  {
   "cell_type": "markdown",
   "metadata": {},
   "source": [
    "Energy balance over a slice:\n",
    "$$\n",
    "\\begin{align}\n",
    "\\dfrac{d\\Sigma (H_{i})}{\\Delta W} &=  Ua(T_{U} - T) \\nonumber \\\\\n",
    "&= \\dfrac{\\Sigma F_{i}C_{p_{i}}dT}{dW} + \\Delta H_{RX_{j}}\\dfrac{d\\epsilon_{i}}{dW} \\nonumber\n",
    "\\end{align}\n",
    "$$\n",
    "where\n",
    "$$\n",
    "\\begin{align}\n",
    "d\\epsilon_{i} &= \\dfrac{dF_{A_{j}}}{\\nu_{A_{j}}} \\nonumber \\\\\n",
    "&= -dF_{A_{j}}\n",
    "\\end{align}\n",
    "$$\n",
    "Therefore\n",
    "$$\n",
    "\\begin{align}\n",
    "\\dfrac{d\\Sigma (H_{i})}{\\Delta W} &= \\dfrac{\\Sigma F_{i}C_{p_{i}}dT}{dW} - \\Delta H_{RX(T)}\\dfrac{dF_{A_{j}}}{dW} \\nonumber \\\\\n",
    "Ua(T_{U} - T) &= \\dfrac{\\Sigma F_{i}C_{p_{i}}dT}{dW} - \\Delta H_{RX(T)}r_{A_{j}}^{'} \\nonumber \\\\\n",
    "\\dfrac{dT}{dW} &= \\dfrac{Ua(T_{U} - T) + r_{A_{j} \\Delta H_{RX(T)}}}{\\Sigma F_{i_{0}}C_{p_{i_{0}}}} \\nonumber \n",
    "\\end{align}\n",
    "$$"
   ]
  },
  {
   "cell_type": "markdown",
   "metadata": {},
   "source": [
    "Pressure Drop equation:\n",
    "\n",
    "\\begin{equation}\n",
    "\t\t\\frac{dP}{dW} = -K_{Ergun}^{'}\\left(\\dfrac{P_{\\circ}}{P}\\frac{F_{T}}{F_{T_{\\circ}}}\\frac{T}{T_{\\circ}}\\right)\n",
    "\\end{equation}"
   ]
  },
  {
   "cell_type": "code",
   "execution_count": 48,
   "metadata": {},
   "outputs": [
    {
     "data": {
      "text/plain": [
       "3.5"
      ]
     },
     "execution_count": 48,
     "metadata": {},
     "output_type": "execute_result"
    }
   ],
   "source": [
    "Dspan = linspace(D25,D30,500)\n",
    "#Conversion = Drange(Dspan)\n",
    "Conversion = []\n",
    "Length     = []\n",
    "Temperature= []\n",
    "Tmax       = []\n",
    "Pout       = []\n",
    "for vals in Dspan:\n",
    "    D = vals\n",
    "    \n",
    "    def PBR(var,w):\n",
    "        FA, FB, T, P = var\n",
    "        Ftot   = FA + FB\n",
    "        a      = 4/(rhobed*D)\n",
    "        kprm   = koprm*exp(-Ea/(R*T))\n",
    "        Q      = Ftot*R*T/P\n",
    "        rAprm  = -kprm*(FA/Q)\n",
    "        rBprm  = -2*rAprm\n",
    "        dFAdW  = rAprm\n",
    "        dFBdW  = rBprm        \n",
    "        M      = U*a*(Tu - T)/(FAopt*CpA)\n",
    "        C      = rAprm*dHrx/(FAopt*CpA)\n",
    "        dTdW   = M + C\n",
    "        Kerg   = ((D30/D)**6)*Kerg30\n",
    "        dPdW   = -Kerg*(Po/P)*(Ftot/FAopt)*(T/To) #sign?\n",
    "        #print(w)\n",
    "        return[dFAdW,dFBdW,dTdW,dPdW]\n",
    "        \n",
    "    W     = Wpt #kg\n",
    "    wspan = linspace(0,W,36)\n",
    "    init  = (FAopt, 0, To, Po)\n",
    "    sols  = odeint(PBR,init,wspan)\n",
    "    \n",
    "    FA,FB,T,P = sols.T\n",
    "    Tmx       = max(T)\n",
    "    XA = (FAopt - FA[-1])/FAopt\n",
    "    Ax = 0.25*pi*D**2\n",
    "    L  = W/(rhobed*Ax)\n",
    "    Conversion.append(XA)\n",
    "    Length.append(L)\n",
    "    Temperature.append(T[-1]) #this is temperature out\n",
    "    Tmax.append(Tmx)\n",
    "    Pout.append(P[-1])\n",
    "Wpt"
   ]
  },
  {
   "cell_type": "code",
   "execution_count": 49,
   "metadata": {},
   "outputs": [
    {
     "data": {
      "image/png": "[encoded data removed]",
      "text/plain": [
       "<Figure size 432x288 with 1 Axes>"
      ]
     },
     "metadata": {
      "needs_background": "light"
     },
     "output_type": "display_data"
    }
   ],
   "source": [
    "plt.figure(1)\n",
    "plt.plot(Dspan*1000, Conversion, color='blue', label='XA')\n",
    "plt.ylabel('Conversion A') \n",
    "plt.xlabel('Pipe Diameter [mm]') \n",
    "plt.show()"
   ]
  },
  {
   "cell_type": "code",
   "execution_count": 55,
   "metadata": {},
   "outputs": [
    {
     "data": {
      "text/plain": [
       "0.9671927150658357"
      ]
     },
     "execution_count": 55,
     "metadata": {},
     "output_type": "execute_result"
    }
   ],
   "source": [
    "Conv28 = interp(-0.028,-Dspan[::-1], Conversion[::-1])\n",
    "Conv28"
   ]
  },
  {
   "cell_type": "code",
   "execution_count": 51,
   "metadata": {},
   "outputs": [
    {
     "data": {
      "text/plain": [
       "197.26558728726167"
      ]
     },
     "execution_count": 51,
     "metadata": {},
     "output_type": "execute_result"
    }
   ],
   "source": [
    "Tmax28 = interp(-0.028, -Dspan[::-1],Tmax[::-1])\n",
    "Tmax28-273.15"
   ]
  },
  {
   "cell_type": "code",
   "execution_count": 52,
   "metadata": {},
   "outputs": [
    {
     "data": {
      "text/plain": [
       "1.6092053475681656"
      ]
     },
     "execution_count": 52,
     "metadata": {},
     "output_type": "execute_result"
    }
   ],
   "source": [
    "P28 = interp(-0.028, -Dspan[::-1],Pout[::-1])\n",
    "P28/1000/100"
   ]
  },
  {
   "cell_type": "code",
   "execution_count": 53,
   "metadata": {},
   "outputs": [
    {
     "data": {
      "text/plain": [
       "7.10513138803104"
      ]
     },
     "execution_count": 53,
     "metadata": {},
     "output_type": "execute_result"
    }
   ],
   "source": [
    "L = Wpt/(Ax28*rhobed)\n",
    "L"
   ]
  },
  {
   "cell_type": "code",
   "execution_count": 54,
   "metadata": {},
   "outputs": [
    {
     "data": {
      "text/plain": [
       "0.9751796168732"
      ]
     },
     "execution_count": 54,
     "metadata": {},
     "output_type": "execute_result"
    }
   ],
   "source": [
    "Conv30 = interp(-0.030,-Dspan[::-1], Conversion[::-1])\n",
    "Conv30"
   ]
  },
  {
   "cell_type": "code",
   "execution_count": null,
   "metadata": {},
   "outputs": [],
   "source": []
  }
 ],
 "metadata": {
  "kernelspec": {
   "display_name": "Python 3",
   "language": "python",
   "name": "python3"
  },
  "language_info": {
   "codemirror_mode": {
    "name": "ipython",
    "version": 3
   },
   "file_extension": ".py",
   "mimetype": "text/x-python",
   "name": "python",
   "nbconvert_exporter": "python",
   "pygments_lexer": "ipython3",
   "version": "3.7.3"
  }
 },
 "nbformat": 4,
 "nbformat_minor": 2
}
