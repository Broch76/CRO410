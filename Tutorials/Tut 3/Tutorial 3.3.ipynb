{
 "cells": [
  {
   "cell_type": "markdown",
   "metadata": {},
   "source": [
    "The following is the latex code from the textbook question:"
   ]
  },
  {
   "cell_type": "raw",
   "metadata": {},
   "source": [
    "\\documentclass{article}\n",
    "\\usepackage{amsmath}\n",
    "\\usepackage{enumerate}\n",
    "\\usepackage{amssymb}\n",
    "\\usepackage{gensymb}\n",
    "\\usepackage{graphicx}\n",
    "\\usepackage{setspace}\n",
    "\\usepackage{arydshln}\n",
    "\\usepackage{fancyhdr}\n",
    "\\usepackage[version=4]{mhchem}\n",
    "\\usepackage{siunitx}\n",
    "\\usepackage[top=1in, bottom=2in, left=1in, right=1in, headheight=2in]{geometry}\n",
    "\\pagestyle{fancy}\n",
    "\\fancyhead[L]{CRO410}\n",
    "\\fancyhead[C]{Tutorial 3.3 2020}\n",
    "\\fancyhead[R]{May 2020}\n",
    "\n",
    "\\newenvironment{solution}\n",
    "{\\textit{Answer:}}\n",
    "{}\n",
    "\n",
    "%\\renewcommand{\\qed}{\\quad\\qedsymbol}\n",
    "\n",
    "\\begin{document}\n",
    "\t\\onehalfspacing\n",
    "\t\n",
    "\t\t\\begin{center}\n",
    "\t\t\t\\Large \\textbf{Fogler 4th Edition Problem 8-26 Page 585}\n",
    "\t\t\\end{center}\n",
    "\t\t\\noindent \\\\\n",
    "\t\t(Comprehensive Problem on multiple reactions with heat effects) Styrene can be produced from ethylbenzene by the following reaction:\n",
    "\t\t\\begin{equation}\n",
    "\t\t\t\\ce{ethylbenzene <-> styrene + H2}\n",
    "\t\t\\end{equation}\n",
    "\t\t\n",
    "\t\tHowever, several irreversible side reactions also occur: \n",
    "\t\t\\begin{equation}\n",
    "\t\t\t\\ce{ethylbenzene -> benzene + ethylene}\n",
    "\t\t\\end{equation}\n",
    "\t\t\\begin{equation}\n",
    "\t\t\t\\ce{ethylbenzene + H2 -> toluene + methane}\n",
    "\t\t\\end{equation}\n",
    "\t\t\n",
    "\t\t[J. Snyder and B. Subramaniam, Chem. Eng. Sci ., 49 , 5585 (1994)]. Ethylbenzene is fed at a rate of 0.00344 kmol/s to a $10.0~m^3$ PFR (PBR) along with inert steam at a total pressure of $2.4~atm$. The steam/ethylbenzene molar ratio is initially [i.e., parts (a) to (c)] 14.5:1 but can be varied. Given the following data, find the exiting molar flow rates of styrene, benzene, and toluene along with $\\widetilde{S}_{St/BT} $ for the following inlet temperatures when the reactor is operated adiabatically.\n",
    "\t\t\\begin{enumerate}[a]\n",
    "\t\t\t\\item $ T_{0} = 800~K $ \n",
    "\t\t\t\\item $ T_{0} = 930~K $ \n",
    "\t\t\t\\item $ T_{0} = 1100~K $ \n",
    "\t\t\t\\item Find the ideal inlet temperature for the production of styrene for a steam/ethylbenzene ratio of 58:1. (Hint: Plot the molar flow rate of styrene versus $T_{0}$ . Explain why your curve looks the way it does.)\n",
    "\t\t\t\\item Find the ideal steam/ethylbenzene ratio for the production of styrene at 900 K. [ Hint: See part (d).]\n",
    "\t\t\t\\item It is proposed to add a counter current heat exchanger with $Ua = 100 kJ/m^{3} /min/K$ where $T_{a}$ is virtually constant at $1000 K$. For an entering steam to ethylbenzene ratio of $20$, what would you suggest as an entering temperature? Plot the molar flow rates and $\\widetilde{S}_{St/BT} $ .\n",
    "\t\t\t\\item What do you believe to be the points of this problem?  \n",
    "\t\t\t\\item Ask another question or suggest another calculation that can be made for this problem.\n",
    "\t\t\\end{enumerate}\n",
    "\t\t\n",
    "\t\t\\emph{Additional information:}\n",
    "\t\t\n",
    "\t\t\\begin{center}\n",
    "\t\t\tHeat Capacities\n",
    "\t\t\\end{center}\n",
    "\t\t\\begin{center}\n",
    "\t\t\t\\begin{tabular}{lrclr}\n",
    "\t\t\t\tMethane & $ 68~J/kmol.K $ & & Styrene &$ 273~J/kmol.K $\\\\\n",
    "\t\t\t\tEthylene & $ 90~J/kmol.K $ & & Ethylbenzene &$ 299~J/kmol.K $ \\\\\n",
    "\t\t\t\tBenzene & $ 201~J/kmol.K $ & & Hydrogen &$ 30~J/kmol.K $ \\\\\n",
    "\t\t\t\tToluene & $ 249~J/kmol.K $ & & Steam &$ 40~J/kmol.K $ \\\\\n",
    "\t\t\t\\end{tabular}\n",
    "\t\t\\end{center}\n",
    "\t\t$ \\rho = 2137~kg/m^3 $ of pellet\\\\\n",
    "\t\t$ \\phi = 0.4 $\\\\\n",
    "\t\t$ \\Delta H^{\\degree}_{Rx1EB} = 118000~kJ/kmol~ethylbenzene $ \\\\\n",
    "\t\t$ \\Delta H^{\\degree}_{Rx2EB} = 105200~kJ/kmol~ethylbenzene $ \\\\\n",
    "\t\t$ \\Delta H^{\\degree}_{Rx3EB} = -53900~kJ/kmol~ethylbenzene $ \\\\\n",
    "\t\t\\begin{center}\n",
    "\t\t\t$ K_{p1} = exp\\{b_{1} + \\frac{b_{2}}{T} + b_{3}ln(T) + [(b_{4}T + b_{5})T + b_{6}]T\\}~atm$\n",
    "\t\t\\end{center}\n",
    "\t\t\\begin{center}\n",
    "\t\t\t\\begin{tabular}{lcrccclcr}\n",
    "\t\t\t\t$b_{1}$ & = & $        -17.34 $  &   &    & & $b_{4}$ & = & $-2.314x10^{-10}$\\\\\n",
    "\t\t\t\t$b_{2}$ & = & $ -1.302x10^{4} $  &   &    & & $b_{5}$ & = & $  1.302x10^{-6}$\\\\\n",
    "\t\t\t\t$b_{3}$ & = & $         5.051 $  &   &    & & $b_{6}$ & = & $ -4.931x10^{-3}$\\\\\n",
    "\t\t\t\\end{tabular}\n",
    "\t\t\\end{center}\n",
    "\t\tThe kinetic rate laws for the formation of styrene ($ St $), benzene ($ B $), and toluene ($ T $), respectively, are as follows. (EB = ethylbenzene)\\\\\n",
    "\t\t\n",
    "\t\t\t$r_{1St} = \\rho (1 - \\phi)exp(-0.08539 - \\dfrac{10925}{T})(P_{EB} - \\dfrac{P_{St}P_{H_{2}}}{K_{p1}})~(kmol/m^{3}.s)$ \\\\\n",
    "\t\t\n",
    "\t\t$r_{2B} = \\rho (1 - \\phi)exp(13.2392 - \\dfrac{25000}{T})(P_{EB})~(kmol/m^{3}.s)$ \\\\\n",
    "\t\t\n",
    "\t\t$r_{3T} = \\rho (1 - \\phi)exp(0.2961 - \\dfrac{11000}{T})(P_{EB}P_{H_{2}})~(kmol/m^{3}.s)$ \\\\\n",
    "\t\t\\\\\n",
    "\t\tThe temperature $ T $ is in Kelvin and $ P_{i} $ is in atm.\\\\\n",
    "\t\t\n",
    "\t\t\n",
    "\\end{document}\n",
    "\n",
    "\n"
   ]
  },
  {
   "cell_type": "markdown",
   "metadata": {},
   "source": [
    "<img src=\"images/Tut3.3a.JPG\" width=\"700\" />\n",
    "<img src=\"images/Tut3.3b.JPG\" width=\"700\" />\n",
    "<img src=\"images/Tut3.3c.JPG\" width=\"700\" />\n",
    "<img src=\"images/Tut3.3d.JPG\" width=\"700\" />\n",
    "<img src=\"images/Tut3.3e.JPG\" width=\"700\" />\n",
    "<img src=\"images/Tut3.3f.JPG\" width=\"700\" />"
   ]
  },
  {
   "cell_type": "markdown",
   "metadata": {},
   "source": [
    "For ease of reference let:\n",
    "\n",
    "    A = Ethylenebenzene\n",
    "    B = Styrene\n",
    "    C = \\H_{2}   \n",
    "    D = Benzene\n",
    "    E = Ethylene\n",
    "    F = Toluene\n",
    "    G = Ethane\n",
    "    I = inert steam"
   ]
  },
  {
   "cell_type": "code",
   "execution_count": 47,
   "metadata": {},
   "outputs": [],
   "source": [
    "from numpy import *\n",
    "from scipy.optimize import fsolve\n",
    "from scipy.integrate import odeint\n",
    "from matplotlib import pyplot as plt\n",
    "from scipy.interpolate import interp1d\n",
    "%matplotlib inline"
   ]
  },
  {
   "cell_type": "code",
   "execution_count": 48,
   "metadata": {},
   "outputs": [],
   "source": [
    "FAo  =  0.00344 #kmol/s\n",
    "Tref =      300 #kmol\n",
    "Toa  =      800 #K for Question a\n",
    "Tob  =      930 #K for Question b\n",
    "Toc  =     1100 #K for Question c\n",
    "FIo   = 14.5*FAo #kmol/s\n",
    "Finit= FAo + FIo #kmol/s\n",
    "P    =      2.4 #atm\n",
    "V    =       10 #m^3\n",
    "R    =    8.314 #kJ/kmol.K"
   ]
  },
  {
   "cell_type": "markdown",
   "metadata": {},
   "source": [
    "Heat Capacities:"
   ]
  },
  {
   "cell_type": "code",
   "execution_count": 49,
   "metadata": {},
   "outputs": [],
   "source": [
    "CpA = 299 #J/kmol.K\n",
    "CpB = 273 #J/kmol.K\n",
    "CpC =  30 #J/kmol.K\n",
    "CpD = 201 #J/kmol.K\n",
    "CpE =  90 #J/kmol.K\n",
    "CpF = 249 #J/kmol.K\n",
    "CpG =  68 #J/kmol.K\n",
    "CpI =  40 #J/kmol.K"
   ]
  },
  {
   "cell_type": "markdown",
   "metadata": {},
   "source": [
    "Change in heat capacities of each reaction:"
   ]
  },
  {
   "cell_type": "code",
   "execution_count": 50,
   "metadata": {},
   "outputs": [],
   "source": [
    "delCp1 = CpB + CpC - CpA \n",
    "delCp2 = CpD + CpE - CpA\n",
    "delCp3 = CpF + CpG - CpA - CpC"
   ]
  },
  {
   "cell_type": "code",
   "execution_count": 51,
   "metadata": {},
   "outputs": [],
   "source": [
    "rhocat = 2137 #kg/m^3 of pellet\n",
    "phi    =  0.4 #porosity"
   ]
  },
  {
   "cell_type": "markdown",
   "metadata": {},
   "source": [
    "Heats of reaction:"
   ]
  },
  {
   "cell_type": "code",
   "execution_count": 52,
   "metadata": {},
   "outputs": [],
   "source": [
    "delH1Aref = 118000 #kJ/kmol ethylbenzene\n",
    "delH2Aref = 105200 #kJ/kmol ethylbenzene\n",
    "delH3Aref = -53900 #kJ/kmol ethylbenzene"
   ]
  },
  {
   "cell_type": "markdown",
   "metadata": {},
   "source": [
    "Constants for Kp1:"
   ]
  },
  {
   "cell_type": "code",
   "execution_count": 53,
   "metadata": {},
   "outputs": [],
   "source": [
    "b1 = -17.34\n",
    "b2 =  -1.302E4\n",
    "b3 =   5.051\n",
    "b4 =  -2.314E-10\n",
    "b5 =   1.302E-6\n",
    "b6 =  -4.931E-3"
   ]
  },
  {
   "cell_type": "markdown",
   "metadata": {},
   "source": [
    "Define a function to get calculate from all given equations:"
   ]
  },
  {
   "cell_type": "code",
   "execution_count": 54,
   "metadata": {},
   "outputs": [],
   "source": [
    "def reactor(var, V):\n",
    "    [T, FA, FB, FC, FD, FE, FF, FG, FI] = var\n",
    "    Ftot = FA + FB + FC + FD + FE + FF + FG + FI\n",
    "    \n",
    "    Kp1 = exp(b1 + (b2/T) + b3*log(T) +((b4*T + b5)*T + b6)*T) #atm\n",
    "    \n",
    "    #mol fractions:\n",
    "    yA = FA/Ftot\n",
    "    yB = FB/Ftot\n",
    "    yC = FC/Ftot\n",
    "    \n",
    "    #partial pressures:\n",
    "    pA = yA*P\n",
    "    pB = yB*P\n",
    "    pC = yC*P\n",
    "    \n",
    "    #multiple reaction balance:\n",
    "    # rA = +r1A + r2A + r3A\n",
    "    # rB = -r1A\n",
    "    # rC = -r1A + r3A\n",
    "    # rD = -r2A\n",
    "    # rE = -r2A\n",
    "    # rF = -r3A\n",
    "    # rG = -r3A\n",
    "    \n",
    "    #In terms of r1B, r2D and r3F as given:\n",
    "    # rA = -r1B -r2D -r3F\n",
    "    # rB = +r1B\n",
    "    # rC = +r1B -r3F\n",
    "    # rD = +r2D\n",
    "    # rE = +r2D\n",
    "    # rF = +r3F\n",
    "    # rG = +r3F\n",
    "    \n",
    "    r1B = rhocat*(1 - phi)*exp(-0.08539 - (10925/T))*(pA - ((pB * pC)/Kp1))\n",
    "    r2D = rhocat*(1 - phi)*exp(13.23920 - (25000/T))*(pA)\n",
    "    r3F = rhocat*(1 - phi)*exp( 0.29610 - (11000/T))*(pA*pC)\n",
    "    \n",
    "    delH1A = delH1Aref + delCp1*(T - Tref)\n",
    "    delH2A = delH2Aref + delCp2*(T - Tref)\n",
    "    delH3A = delH3Aref + delCp3*(T - Tref)\n",
    "    \n",
    "    a = r1B*(-delH1A)+ r2D*(-delH2A)+ r3F*(-delH3A)\n",
    "    b = FA*CpA + FB*CpB + FC*CpC + FD*CpD + FE*CpE + FF*CpF + FG*CpG + FI*CpI\n",
    "    \n",
    "    dTdV = a/b\n",
    "    dFAdV = -r1B -r2D -r3F\n",
    "    dFBdV = +r1B\n",
    "    dFCdV = +r1B -r3F\n",
    "    dFDdV = +r2D\n",
    "    dFEdV = +r2D\n",
    "    dFFdV = +r3F\n",
    "    dFGdV = +r3F\n",
    "    dFIdV =    0\n",
    "    \n",
    "    return[ dTdV,\n",
    "           dFAdV,\n",
    "           dFBdV,\n",
    "           dFCdV,\n",
    "           dFDdV,\n",
    "           dFEdV,\n",
    "           dFFdV,\n",
    "           dFGdV,\n",
    "           dFIdV]"
   ]
  },
  {
   "cell_type": "markdown",
   "metadata": {},
   "source": [
    "Question a-c Tref=300 K and delCp for the reactions are considered"
   ]
  },
  {
   "cell_type": "code",
   "execution_count": 55,
   "metadata": {},
   "outputs": [],
   "source": [
    "vspan = linspace(0, V, 1000)\n",
    "\n",
    "inita = [Toa, FAo, 0, 0, 0, 0, 0, 0, FIo]\n",
    "initb = [Tob, FAo, 0, 0, 0, 0, 0, 0, FIo]\n",
    "initc = [Toc, FAo, 0, 0, 0, 0, 0, 0, FIo]\n",
    "\n",
    "solsa = odeint(reactor, inita, vspan) \n",
    "solsb = odeint(reactor, initb, vspan)\n",
    "solsc = odeint(reactor, initc, vspan)"
   ]
  },
  {
   "cell_type": "code",
   "execution_count": 56,
   "metadata": {},
   "outputs": [],
   "source": [
    "Ta  = solsa[:,0]\n",
    "Tb  = solsb[:,0]\n",
    "Tc  = solsc[:,0]\n",
    "\n",
    "FBa = solsa[:,2]\n",
    "FBb = solsb[:,2]\n",
    "FBc = solsc[:,2]\n",
    "\n",
    "FDa = solsa[:,4]\n",
    "FDb = solsb[:,4]\n",
    "FDc = solsc[:,4]\n",
    "\n",
    "FFa = solsa[:,6]\n",
    "FFb = solsb[:,6]\n",
    "FFc = solsc[:,6]"
   ]
  },
  {
   "cell_type": "code",
   "execution_count": 57,
   "metadata": {},
   "outputs": [],
   "source": [
    "Sa = FBa[-1]/(FDa[-1] + FFa[-1])\n",
    "Sb = FBb[-1]/(FDb[-1] + FFb[-1])\n",
    "Sc = FBc[-1]/(FDc[-1] + FFc[-1])"
   ]
  },
  {
   "cell_type": "code",
   "execution_count": 58,
   "metadata": {},
   "outputs": [
    {
     "name": "stdout",
     "output_type": "stream",
     "text": [
      "0.8941585639311079mol/s 19.30762904352131molB/molA 764.8981671695526K\n",
      "1.9316827561950793mol/s 4.62799832240775molB/molA 850.106016454116K\n",
      "1.6461352281615487mol/s 0.9434527862626507molB/molA 983.4570460892701K\n"
     ]
    }
   ],
   "source": [
    "print(str(FBa[-1]*1000)+'mol/s',str(Sa)+'molB/molA',str(Ta[-1])+'K')\n",
    "print(str(FBb[-1]*1000)+'mol/s',str(Sb)+'molB/molA',str(Tb[-1])+'K')\n",
    "print(str(FBc[-1]*1000)+'mol/s',str(Sc)+'molB/molA',str(Tc[-1])+'K')"
   ]
  },
  {
   "cell_type": "markdown",
   "metadata": {},
   "source": [
    "<img src=\"images/Tut3.3a.JPG\" width=\"700\" />"
   ]
  },
  {
   "cell_type": "code",
   "execution_count": 59,
   "metadata": {},
   "outputs": [
    {
     "data": {
      "text/plain": [
       "array([771.01222388, 786.06016719])"
      ]
     },
     "execution_count": 59,
     "metadata": {},
     "output_type": "execute_result"
    }
   ],
   "source": [
    "fa = interp1d(vspan,Ta)\n",
    "fa([6,2])"
   ]
  },
  {
   "cell_type": "code",
   "execution_count": 60,
   "metadata": {},
   "outputs": [
    {
     "data": {
      "text/plain": [
       "array([852.9317492 , 874.05982396])"
      ]
     },
     "execution_count": 60,
     "metadata": {},
     "output_type": "execute_result"
    }
   ],
   "source": [
    "fb = interp1d(vspan,Tb)\n",
    "fb([6,2])"
   ]
  },
  {
   "cell_type": "code",
   "execution_count": 61,
   "metadata": {},
   "outputs": [
    {
     "data": {
      "text/plain": [
       "array([982.48106635, 985.13694064])"
      ]
     },
     "execution_count": 61,
     "metadata": {},
     "output_type": "execute_result"
    }
   ],
   "source": [
    "fc = interp1d(vspan,Tc)\n",
    "fc([6,2])"
   ]
  },
  {
   "cell_type": "markdown",
   "metadata": {},
   "source": [
    "For S ratio at 14.5"
   ]
  },
  {
   "cell_type": "code",
   "execution_count": 62,
   "metadata": {
    "scrolled": true
   },
   "outputs": [
    {
     "data": {
      "image/png": "[encoded data removed]",
      "text/plain": [
       "<Figure size 432x288 with 1 Axes>"
      ]
     },
     "metadata": {
      "needs_background": "light"
     },
     "output_type": "display_data"
    }
   ],
   "source": [
    "plt.figure(1)\n",
    "plt.plot(vspan, FBa*1000, color='red', label='To = 800K')\n",
    "plt.plot(vspan, FBb*1000, color='blue', label='To = 930K')\n",
    "plt.plot(vspan, FBc*1000, color='green', label='To =1100K')\n",
    "plt.axis([0,10, 0, 3.5])\n",
    "plt.legend(loc='best')\n",
    "plt.title('Steam to Ethylbenzene ratio = 14.5')\n",
    "plt.ylabel(\"Styrene flowrate $mol/s$\")\n",
    "plt.xlabel(\"Volume reactor $m^{3}$\")\n",
    "plt.show()"
   ]
  },
  {
   "cell_type": "markdown",
   "metadata": {},
   "source": [
    "For S ratio at 50"
   ]
  },
  {
   "cell_type": "code",
   "execution_count": 63,
   "metadata": {},
   "outputs": [],
   "source": [
    "vspan50 = linspace(0, V, 1000)\n",
    "\n",
    "inita50 = [Toa, FAo, 0, 0, 0, 0, 0, 0, 50*FAo]\n",
    "initb50 = [Tob, FAo, 0, 0, 0, 0, 0, 0, 50*FAo]\n",
    "initc50 = [Toc, FAo, 0, 0, 0, 0, 0, 0, 50*FAo]\n",
    "\n",
    "solsa50 = odeint(reactor, inita50, vspan50) \n",
    "solsb50 = odeint(reactor, initb50, vspan50)\n",
    "solsc50 = odeint(reactor, initc50, vspan50)"
   ]
  },
  {
   "cell_type": "code",
   "execution_count": 64,
   "metadata": {},
   "outputs": [],
   "source": [
    "Ta50  = solsa50[:,0]\n",
    "Tb50  = solsb50[:,0]\n",
    "Tc50  = solsc50[:,0]\n",
    "\n",
    "FBa50 = solsa50[:,2]\n",
    "FBb50 = solsb50[:,2]\n",
    "FBc50 = solsc50[:,2]\n",
    "\n",
    "FDa50 = solsa50[:,4]\n",
    "FDb50 = solsb50[:,4]\n",
    "FDc50 = solsc50[:,4]\n",
    "\n",
    "FFa50 = solsa50[:,6]\n",
    "FFb50 = solsb50[:,6]\n",
    "FFc50 = solsc50[:,6]"
   ]
  },
  {
   "cell_type": "code",
   "execution_count": 65,
   "metadata": {},
   "outputs": [],
   "source": [
    "Sa50 = FBa50[-1]/(FDa50[-1] + FFa50[-1])\n",
    "Sb50 = FBb50[-1]/(FDb50[-1] + FFb50[-1])\n",
    "Sc50 = FBc50[-1]/(FDc50[-1] + FFc50[-1])"
   ]
  },
  {
   "cell_type": "code",
   "execution_count": 66,
   "metadata": {},
   "outputs": [
    {
     "name": "stdout",
     "output_type": "stream",
     "text": [
      "0.545140671230812mol/s 55.725785747236344molB/molA 791.6612130070171K\n",
      "1.969268794677185mol/s 6.791047535889812molB/molA 897.0889949860093K\n",
      "1.4817282426064533mol/s 0.7580423421667675molB/molA 1053.2426040365553K\n"
     ]
    }
   ],
   "source": [
    "print(str(FBa50[-1]*1000)+'mol/s',str(Sa50)+'molB/molA',str(Ta50[-1])+'K')\n",
    "print(str(FBb50[-1]*1000)+'mol/s',str(Sb50)+'molB/molA',str(Tb50[-1])+'K')\n",
    "print(str(FBc50[-1]*1000)+'mol/s',str(Sc50)+'molB/molA',str(Tc50[-1])+'K')"
   ]
  },
  {
   "cell_type": "code",
   "execution_count": 67,
   "metadata": {},
   "outputs": [
    {
     "data": {
      "image/png": "[encoded data removed]",
      "text/plain": [
       "<Figure size 432x288 with 1 Axes>"
      ]
     },
     "metadata": {
      "needs_background": "light"
     },
     "output_type": "display_data"
    }
   ],
   "source": [
    "plt.figure(2)\n",
    "plt.plot(vspan, FBa50*1000, color='black', label='To50 = 800K')\n",
    "plt.plot(vspan, FBb50*1000, color='cyan', label='To50 = 930K')\n",
    "plt.plot(vspan, FBc50*1000, color='purple', label='To50 =1100K')\n",
    "plt.axis([0,10, 0, 3.5])\n",
    "plt.legend(loc='best')\n",
    "plt.title('Steam to Ethylbenzene ratio = 50')\n",
    "plt.ylabel(\"Styrene flowrate $mol/s$\")\n",
    "plt.xlabel(\"Volume reactor $m^{3}$\")\n",
    "plt.show()"
   ]
  },
  {
   "cell_type": "code",
   "execution_count": 68,
   "metadata": {
    "scrolled": true
   },
   "outputs": [
    {
     "data": {
      "image/png": "[encoded data removed]",
      "text/plain": [
       "<Figure size 432x288 with 1 Axes>"
      ]
     },
     "metadata": {
      "needs_background": "light"
     },
     "output_type": "display_data"
    }
   ],
   "source": [
    "plt.figure(3)\n",
    "plt.plot(vspan, FBa*1000, color='red', label='To14.5 = 800K')\n",
    "plt.plot(vspan, FBa50*1000, color='black', label='To50 = 800K')\n",
    "plt.plot(vspan, FBb*1000, color='blue', label='To14.5 = 930K')\n",
    "plt.plot(vspan, FBb50*1000, color='cyan', label='To50 = 930K')\n",
    "plt.plot(vspan, FBc*1000, color='green', label='To14.5 =1100K')\n",
    "plt.plot(vspan, FBc50*1000, color='purple', label='To50 =1100K')\n",
    "plt.axis([0,10, 0, 3.5])\n",
    "plt.legend(loc='best')\n",
    "plt.title('Steam to Ethylbenzene ratio = 14.5 and 50')\n",
    "plt.ylabel(\"Styrene flowrate $mol/s$\")\n",
    "plt.xlabel(\"Volume reactor $m^{3}$\")\n",
    "plt.show()"
   ]
  },
  {
   "cell_type": "code",
   "execution_count": null,
   "metadata": {},
   "outputs": [],
   "source": []
  },
  {
   "cell_type": "markdown",
   "metadata": {},
   "source": []
  }
 ],
 "metadata": {
  "kernelspec": {
   "display_name": "Python 3",
   "language": "python",
   "name": "python3"
  },
  "language_info": {
   "codemirror_mode": {
    "name": "ipython",
    "version": 3
   },
   "file_extension": ".py",
   "mimetype": "text/x-python",
   "name": "python",
   "nbconvert_exporter": "python",
   "pygments_lexer": "ipython3",
   "version": "3.7.3"
  }
 },
 "nbformat": 4,
 "nbformat_minor": 2
}
