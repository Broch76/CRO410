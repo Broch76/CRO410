{
 "cells": [
  {
   "cell_type": "markdown",
   "metadata": {},
   "source": [
    "Question a"
   ]
  },
  {
   "cell_type": "markdown",
   "metadata": {},
   "source": [
    "A chemical engineer designed a 10 m long reactor, 350 mm diameter, filled with 5 mm spherical catalyst particles packed with a voidage (porosity) of 0,428, for converting a liquid feedstock with volumetric feed rate of 0,4 m3/s. The first-order reaction takes place only on the external surface of the catalyst. Using the laboratory results, (which were measured in conditions where external mass transfer was very fast), he calculated that the reactor would convert 91,6% of the feed. When he commissioned the reactor he found that the conversion was only 80% due to mass transfer limitations that he had not taken into account.Calculate the mass transfer coefficient kc at these reactor conditions. (Use actual reactor performance data for the calculation, i.e. no correlation)\n",
    "($𝑘_{𝑐} = 2.783 × 10^{−3} 𝑚.𝑠^{−1}$)"
   ]
  },
  {
   "cell_type": "code",
   "execution_count": 365,
   "metadata": {},
   "outputs": [],
   "source": [
    "from numpy import *\n",
    "from scipy.optimize import fsolve\n",
    "from scipy.integrate import odeint\n",
    "from matplotlib import pyplot as plt\n",
    "from scipy.interpolate import interp1d\n",
    "%matplotlib inline"
   ]
  },
  {
   "cell_type": "code",
   "execution_count": 366,
   "metadata": {},
   "outputs": [],
   "source": [
    "L    =           10 #m legth of pipe\n",
    "D    =     350/1000 #m diameter of pipe\n",
    "dp   =       5/1000 #m spherical catalyst particle diameter\n",
    "phi  =        0.428 #porosity\n",
    "Q    =          0.4 #m3/s feedstock volumetric feed rate\n",
    "Aacr = 0.25*pi*D**2 #cross-sectional area of the pipe\n",
    "ac   = 6*(1-phi)/dp #ext catalyst area per volume\n",
    "V    =        L*Aacr #m3 volume of reactor"
   ]
  },
  {
   "cell_type": "code",
   "execution_count": 367,
   "metadata": {},
   "outputs": [
    {
     "name": "stdout",
     "output_type": "stream",
     "text": [
      "686.4000000000001\n",
      "0.962112750161874\n"
     ]
    }
   ],
   "source": [
    "print(ac)\n",
    "print(V)"
   ]
  },
  {
   "cell_type": "code",
   "execution_count": 368,
   "metadata": {},
   "outputs": [],
   "source": [
    "#liquid\n",
    "#first-order reaction therefore keff can be used\n",
    "#reaction takes place only on the surface of the catalyst\n",
    "#spherical catalyst particles\n",
    "#steady state\n",
    "#Xexp = 0.916 - conversion when mass transfer not taken into account\n",
    "#Xact = 0.800 - conversion with mass transfer taken into account"
   ]
  },
  {
   "cell_type": "code",
   "execution_count": 369,
   "metadata": {},
   "outputs": [],
   "source": [
    "#     dFAdV = ra\n",
    "#    QdCAdV = -kacCA\n",
    "# -QCAodXdV = -kacCAo(1-X)\n",
    "#      dXdV = kac(1-X)/Q"
   ]
  },
  {
   "cell_type": "code",
   "execution_count": 370,
   "metadata": {},
   "outputs": [],
   "source": [
    "kexp = 0.0015003 #resistance without mass transfer\n",
    "def exp(X,V):\n",
    "    return(kexp*ac*(1-X)/Q)"
   ]
  },
  {
   "cell_type": "code",
   "execution_count": 371,
   "metadata": {},
   "outputs": [
    {
     "name": "stdout",
     "output_type": "stream",
     "text": [
      "0.916002964137857\n"
     ]
    }
   ],
   "source": [
    "vspan = linspace(0,V,101)\n",
    "exp1  = odeint(exp,0,vspan)\n",
    "Xexp  = exp1[:,0]\n",
    "print(str(Xexp[-1]))"
   ]
  },
  {
   "cell_type": "code",
   "execution_count": 372,
   "metadata": {},
   "outputs": [],
   "source": [
    "kiprime=kexp"
   ]
  },
  {
   "cell_type": "code",
   "execution_count": 373,
   "metadata": {},
   "outputs": [],
   "source": [
    "kact = 0.000975 # actual restistance with mass transfer\n",
    "def act(X,V):\n",
    "    return(kact*ac*(1-X)/Q)"
   ]
  },
  {
   "cell_type": "code",
   "execution_count": 374,
   "metadata": {},
   "outputs": [
    {
     "name": "stdout",
     "output_type": "stream",
     "text": [
      "0.8000545916563274\n"
     ]
    }
   ],
   "source": [
    "vspan1 = linspace(0,V,101)\n",
    "act    = odeint(act,0,vspan1)\n",
    "Xact   = act[:,0]\n",
    "print(str(Xact[-1]))"
   ]
  },
  {
   "cell_type": "code",
   "execution_count": 375,
   "metadata": {},
   "outputs": [],
   "source": [
    "# 1/keff = 1/kc + 1/ki\n",
    "# 1/kc = (1/keff - 1/ki)\n",
    "keff = kact"
   ]
  },
  {
   "cell_type": "code",
   "execution_count": 376,
   "metadata": {},
   "outputs": [
    {
     "name": "stdout",
     "output_type": "stream",
     "text": [
      "2.7846801827527132 .E-3 m/2 \n"
     ]
    }
   ],
   "source": [
    "a  = ((1/keff)-(1/kiprime)) #area based\n",
    "kc = 1/a\n",
    "print(str(kc*1000)+' .E-3 m/2 ')"
   ]
  },
  {
   "cell_type": "markdown",
   "metadata": {},
   "source": [
    "Question b"
   ]
  },
  {
   "cell_type": "markdown",
   "metadata": {},
   "source": [
    "Having learned from his mistake, the engineer proposes to replace the 5 mm diameter catalyst with 3,5 mm diameter catalyst particles in order to achieve the 90% conversion that is required. Assume that the Thoenes-Kramer correlation\n",
    "can be used to estimate the mass transfer coefficient in this reactor and determine the conversion that can be achieved with the new catalyst. ($𝑥= 0.912$)"
   ]
  },
  {
   "cell_type": "code",
   "execution_count": 377,
   "metadata": {},
   "outputs": [
    {
     "data": {
      "text/plain": [
       "980.5714285714287"
      ]
     },
     "execution_count": 377,
     "metadata": {},
     "output_type": "execute_result"
    }
   ],
   "source": [
    "dp1   =       3.5/1000 #m new diameter for the catalyst particles\n",
    "acnew =  6*(1-phi)/dp1\n",
    "acnew"
   ]
  },
  {
   "cell_type": "code",
   "execution_count": 378,
   "metadata": {},
   "outputs": [
    {
     "data": {
      "text/plain": [
       "0.0033283294222725703"
      ]
     },
     "execution_count": 378,
     "metadata": {},
     "output_type": "execute_result"
    }
   ],
   "source": [
    "#kc proportional to (physical propeties)*((u**0.5)/(dp**0.5))\n",
    "#dp1 = dp*3.5/5\n",
    "#dp1**0.5 = (dp*3.5/5)**0.5 =[dp**0.5]*[(3.5/5)**0.5]\n",
    "#kcnew = kc/[(3.5/5)**0.5]\n",
    "b = (3.5/5)**0.5\n",
    "kcnew = kc/b\n",
    "kcnew"
   ]
  },
  {
   "cell_type": "code",
   "execution_count": 379,
   "metadata": {},
   "outputs": [],
   "source": [
    "c = (1/kcnew) + (1/kiprime)\n",
    "keffnew = 1/c"
   ]
  },
  {
   "cell_type": "code",
   "execution_count": 380,
   "metadata": {},
   "outputs": [],
   "source": [
    "def new(X,V):\n",
    "    return(keffnew*acnew*(1-X)/Q)"
   ]
  },
  {
   "cell_type": "code",
   "execution_count": 381,
   "metadata": {},
   "outputs": [
    {
     "name": "stdout",
     "output_type": "stream",
     "text": [
      "91.27588004104261%\n"
     ]
    }
   ],
   "source": [
    "vspan2 = linspace(0,V,101)\n",
    "new    = odeint(new,0,vspan2)\n",
    "Xnew   = new[:,0]\n",
    "conv   = Xnew[-1]*100\n",
    "print(str(conv)+'%')"
   ]
  },
  {
   "cell_type": "code",
   "execution_count": null,
   "metadata": {},
   "outputs": [],
   "source": []
  }
 ],
 "metadata": {
  "kernelspec": {
   "display_name": "Python 3",
   "language": "python",
   "name": "python3"
  },
  "language_info": {
   "codemirror_mode": {
    "name": "ipython",
    "version": 3
   },
   "file_extension": ".py",
   "mimetype": "text/x-python",
   "name": "python",
   "nbconvert_exporter": "python",
   "pygments_lexer": "ipython3",
   "version": "3.7.3"
  }
 },
 "nbformat": 4,
 "nbformat_minor": 2
}
