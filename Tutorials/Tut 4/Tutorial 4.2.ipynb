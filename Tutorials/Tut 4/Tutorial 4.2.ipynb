{
 "cells": [
  {
   "cell_type": "markdown",
   "metadata": {},
   "source": [
    "A second order irreversible liquid phase reaction:\n",
    "$$A \\rightarrow B$$\n",
    "occurs in a $5~L$ CSTR, where solid (non-porous) catalyst spheres are suspended in a\n",
    "liquid mixture. The aim of the experiment is to maintain a fixed outlet concentration of $B$ at\n",
    "$C_{B} = 0.5~mol/m^{3}$ while the stirrer speed is altered. The inlet conditions do not change during\n",
    "the course of all the experiments. The first experiment is performed at a stirrer speed of $200~\n",
    "rpm$ and a catalyst concentration of $10~kg.m^{-3}$. The overall (i.e. per reactor volume) external\n",
    "mass transfer coefficient at $200~rpm$ is given as $1.5 s^{-1}$. You can assume a direct\n",
    "proportionality between the stirrer speed and the specific mass transfer coefficient (units of\n",
    "m/s). The intrinsic rate constant of the catalyst is given as $k_{i}^{’} = 0.3~m^{6}/(mol.kg.s)$ The inlet\n",
    "concentration of A is $1 mol/m^{3}$ (no B)"
   ]
  },
  {
   "cell_type": "code",
   "execution_count": 76,
   "metadata": {},
   "outputs": [],
   "source": [
    "# 2nd order\n",
    "# irreversible\n",
    "# liquid\n",
    "# CB = 0.5 = CA#mol/m3 this is the aim\n",
    "# 200rpm for 1st experiment\n",
    "# kc \\propto rpm"
   ]
  },
  {
   "cell_type": "markdown",
   "metadata": {},
   "source": [
    "Hints:\n",
    "\n",
    "    • If the outlet concentration, reactor volume and volumetric feed rate remain the same, it implies that the     volumetric rate in the reactor must remain constant for each scenario. \n",
    "    • The “overall external mass transfer coefficient” = $kc.ac$\n",
    "    • This is NOT a first order reaction! Think in terms of unknowns and number of equations\n",
    "    • Will $k_{i}^{’}$ (the mass based rate constant) remain constant if the particle diameter is changed?"
   ]
  },
  {
   "cell_type": "markdown",
   "metadata": {},
   "source": [
    "a) What should the catalyst concentration be at $1000~rpm$ if you need to maintain the outlet concentration? ($𝐶_{𝑐at} = 5.23~𝑘g/𝑚^{3}$, 𝑤ith $𝐶_{𝐴_{s}} = 0.427~𝑚ol/𝑚^{3}$)"
   ]
  },
  {
   "cell_type": "code",
   "execution_count": 77,
   "metadata": {},
   "outputs": [],
   "source": [
    "from numpy import *\n",
    "from scipy.optimize import fsolve\n",
    "from scipy.integrate import odeint\n",
    "from matplotlib import pyplot as plt\n",
    "from scipy.interpolate import interp1d\n",
    "%matplotlib inline"
   ]
  },
  {
   "cell_type": "code",
   "execution_count": 78,
   "metadata": {},
   "outputs": [],
   "source": [
    "n       =      2 #2nd order, given\n",
    "L       =      5 #CSTR\n",
    "V       = 5/1000 #m3\n",
    "Ccat    =     10 #kg/m3 = rhobed since 0 porosity\n",
    "rhobed  =     10 #kg/m3\n",
    "kc1ac1  =    1.5 #1/s  from -rA=ki*CAs**n = kc*ac*(CAb - CAs), units: [1/(s)]*[m2/m3]*[mol/m2]\n",
    "CAo     =      1 #mol/m3\n",
    "CB      =    0.5 #mol/m3 this at the outlet since it is a CSTR\n",
    "kiprime =    0.3 #m6/(mol.kg.s) intrinsic rate constant\n",
    "# CB    =    0.5 #mol/m3 this is the way"
   ]
  },
  {
   "cell_type": "markdown",
   "metadata": {},
   "source": [
    "Mol balance: $FAo - FA = -r_{A}^{'}C_{cat}V$"
   ]
  },
  {
   "cell_type": "markdown",
   "metadata": {},
   "source": [
    "(FAo - FA) is constant, V (but Q cannot be explicitly calculated) is constant which means ($-r_{A}^{'}C_{cat}$) has to also remain constant"
   ]
  },
  {
   "cell_type": "markdown",
   "metadata": {},
   "source": [
    "For ($-r_{A}^{'}C_{cat}$) (the volumetric rate $-r_{A}$) to remain constant, ($-r_{A}^{'}$) and ($C_{cat}$) have to change in opposite directions"
   ]
  },
  {
   "cell_type": "markdown",
   "metadata": {},
   "source": [
    "$$-r_{A} = -r_{A}^{'}C_{cat} = (k_{i}^{'}C_{A_{s}}^2)C_{cat} = k_{i}^{'}C_{cat}C_{A_{s}}^2$$ "
   ]
  },
  {
   "cell_type": "markdown",
   "metadata": {},
   "source": [
    "Use the steady-state equation for volumetric based mass transfer rate = volumetric surface rate reaction rate to solve the unknowns"
   ]
  },
  {
   "cell_type": "markdown",
   "metadata": {},
   "source": [
    "$$k_{c}a_{c}(C_{A_{b}} - C_{A_{s}}) = k_{i}^{'}C_{cat}C_{A_{s}}^2 $$"
   ]
  },
  {
   "cell_type": "markdown",
   "metadata": {},
   "source": [
    "We need to be able to calculate $-r_{A}$ (the rate that stays constant) in order to solve all the problems in this question"
   ]
  },
  {
   "cell_type": "markdown",
   "metadata": {},
   "source": [
    "$$-r_{A} = k_{i}^{'}C_{cat}C_{A_{s}}^{2}$$"
   ]
  },
  {
   "cell_type": "markdown",
   "metadata": {},
   "source": [
    "(NB!: always be mindful of all the variables that are in a rate constant and what can vary in the conversion factors, specifically $a_{c}$ and $a_{m}$)"
   ]
  },
  {
   "cell_type": "markdown",
   "metadata": {},
   "source": [
    "$$-r_{A} = k_{i}^{'}C_{cat}C_{A_{s}}^{2} = k_{c}a_{c}(C_{A_{b}} - C_{A_{s}})$$"
   ]
  },
  {
   "cell_type": "markdown",
   "metadata": {},
   "source": [
    "$$ 0 = k_{i}^{'}C_{cat}C_{A_{s}}^{2} + k_{c}a_{c}C_{A_{s}} - k_{c}a_{c}C_{A_{b}} $$"
   ]
  },
  {
   "cell_type": "code",
   "execution_count": 79,
   "metadata": {},
   "outputs": [],
   "source": [
    "CAb = CB"
   ]
  },
  {
   "cell_type": "code",
   "execution_count": 80,
   "metadata": {},
   "outputs": [],
   "source": [
    "a = kiprime*Ccat\n",
    "b = kc1ac1\n",
    "c = -kc1ac1*CAb"
   ]
  },
  {
   "cell_type": "code",
   "execution_count": 81,
   "metadata": {},
   "outputs": [
    {
     "data": {
      "text/plain": [
       "0.30901699437494745"
      ]
     },
     "execution_count": 81,
     "metadata": {},
     "output_type": "execute_result"
    }
   ],
   "source": [
    "x1 = (-b + ((b**2 - 4*a*c)**0.5))/(2*a)\n",
    "x1"
   ]
  },
  {
   "cell_type": "code",
   "execution_count": 82,
   "metadata": {},
   "outputs": [
    {
     "data": {
      "text/plain": [
       "-0.8090169943749475"
      ]
     },
     "execution_count": 82,
     "metadata": {},
     "output_type": "execute_result"
    }
   ],
   "source": [
    "x2 = (-b - ((b**2 - 4*a*c)**0.5))/(2*a)\n",
    "x2"
   ]
  },
  {
   "cell_type": "code",
   "execution_count": 83,
   "metadata": {},
   "outputs": [],
   "source": [
    "CAs = x1"
   ]
  },
  {
   "cell_type": "code",
   "execution_count": 84,
   "metadata": {},
   "outputs": [
    {
     "name": "stdout",
     "output_type": "stream",
     "text": [
      "0.28647450843757893 kmol/(s.m3)\n"
     ]
    }
   ],
   "source": [
    "ra = kiprime*Ccat*CAs**2\n",
    "print(str(ra)+ ' kmol/(s.m3)')"
   ]
  },
  {
   "cell_type": "markdown",
   "metadata": {},
   "source": [
    "$k_{c2}a_{c2} = k_{c1}a_{c2}.\\dfrac{rpm_{2}}{rpm_{1}}$  (given in the problem statement)"
   ]
  },
  {
   "cell_type": "markdown",
   "metadata": {},
   "source": [
    "In a CSTR: $a_{c1} = (\\dfrac{6}{d_{p1}.\\rho_{cat}}).C_{cat1}$"
   ]
  },
  {
   "cell_type": "markdown",
   "metadata": {},
   "source": [
    "and $a_{c2} = (\\dfrac{6}{d_{p_{2}}.\\rho_{cat}}).C_{cat2}$"
   ]
  },
  {
   "cell_type": "markdown",
   "metadata": {},
   "source": [
    "But $ d_{p2} =  d_{p1}$  as the diameter of the particle does not change."
   ]
  },
  {
   "cell_type": "markdown",
   "metadata": {},
   "source": [
    "Therefore, $a_{c_{2}} = a_{c_{1}}.\\dfrac{C_{cat_{2}}}{C_{cat_{1}}}$"
   ]
  },
  {
   "cell_type": "markdown",
   "metadata": {},
   "source": [
    " since $d_{p_{2}} = d_{p_{1}\n",
    "} $ and $rho_{cat}$ remains unchanged"
   ]
  },
  {
   "cell_type": "markdown",
   "metadata": {},
   "source": [
    "Finally $$k_{c2}a_{c2} = k_{c1}a_{c2}.\\dfrac{rpm_{2}}{rpm_{1}} = k_{c1}(a_{c_{1}}.\\dfrac{C_{cat_{2}}}{C_{cat_{1}}}).\\dfrac{rpm_{2}}{rpm_{1}}  $$"
   ]
  },
  {
   "cell_type": "markdown",
   "metadata": {},
   "source": [
    "Therefore $$k_{c2}a_{c2}(C_{A_{b}} - C_{A2_{s}}) = k_{i}^{'}C_{cat_{2}}C_{A2_{s}}^2 $$"
   ]
  },
  {
   "cell_type": "markdown",
   "metadata": {},
   "source": [
    "$$k_{c1}a_{c1}.\\dfrac{rpm_{2}}{rpm_{1}}.\\dfrac{(C_{A_{b}} - C_{A2{s}})}{C_{cat_{1}}} = k_{i}^{'}C_{A2_{s}}^2 $$"
   ]
  },
  {
   "cell_type": "markdown",
   "metadata": {},
   "source": [
    "Now can just solve for $C_{A_{s}}$"
   ]
  },
  {
   "cell_type": "code",
   "execution_count": 85,
   "metadata": {},
   "outputs": [],
   "source": [
    "rpm1 =  200 \n",
    "rpm2 = 1000"
   ]
  },
  {
   "cell_type": "code",
   "execution_count": 86,
   "metadata": {},
   "outputs": [
    {
     "data": {
      "text/plain": [
       "0.75"
      ]
     },
     "execution_count": 86,
     "metadata": {},
     "output_type": "execute_result"
    }
   ],
   "source": [
    "d = kc1ac1*rpm2/(rpm1*Ccat) #d(CAb - CA2s) = kiprime*CA2s**2\n",
    "d"
   ]
  },
  {
   "cell_type": "code",
   "execution_count": 87,
   "metadata": {},
   "outputs": [],
   "source": [
    "#d(CAb - CAs) = kiprime*CAs**2\n",
    "# 0 = kiprime*CAs**2 +dCAs -dCAb "
   ]
  },
  {
   "cell_type": "code",
   "execution_count": 88,
   "metadata": {},
   "outputs": [],
   "source": [
    "a = kiprime\n",
    "b = d\n",
    "c = -d*CAb"
   ]
  },
  {
   "cell_type": "code",
   "execution_count": 89,
   "metadata": {},
   "outputs": [
    {
     "data": {
      "text/plain": [
       "0.42705098312484224"
      ]
     },
     "execution_count": 89,
     "metadata": {},
     "output_type": "execute_result"
    }
   ],
   "source": [
    "x3 = (-b + ((b**2 - 4*a*c)**0.5))/(2*a)\n",
    "x3"
   ]
  },
  {
   "cell_type": "code",
   "execution_count": 90,
   "metadata": {},
   "outputs": [
    {
     "data": {
      "text/plain": [
       "-2.9270509831248424"
      ]
     },
     "execution_count": 90,
     "metadata": {},
     "output_type": "execute_result"
    }
   ],
   "source": [
    "x4 = (-b - ((b**2 - 4*a*c)**0.5))/(2*a)\n",
    "x4"
   ]
  },
  {
   "cell_type": "code",
   "execution_count": 91,
   "metadata": {},
   "outputs": [
    {
     "name": "stdout",
     "output_type": "stream",
     "text": [
      "Therefore new CAs= 0.42705098312484224 mol/m3\n"
     ]
    }
   ],
   "source": [
    "print('Therefore new CAs= '+str(x3)+' mol/m3')"
   ]
  },
  {
   "cell_type": "markdown",
   "metadata": {},
   "source": [
    "$$-r_{A} = k_{i}^{'}C_{cat}C_{A_{s}}^{2}$$"
   ]
  },
  {
   "cell_type": "code",
   "execution_count": 92,
   "metadata": {},
   "outputs": [
    {
     "name": "stdout",
     "output_type": "stream",
     "text": [
      "The new concentration= 5.2360679774997925 kg/m3\n"
     ]
    }
   ],
   "source": [
    "Ccat2 = ra/(kiprime*x3**2)\n",
    "print('The new concentration= '+str(Ccat2)+' kg/m3')"
   ]
  },
  {
   "cell_type": "markdown",
   "metadata": {},
   "source": [
    "b) What should the catalyst concentration be at $2000~rpm$ if you need to maintain the outlet concentration? Any comments on the difference between (1) and (2)?\n",
    "($𝐶_{cat} = 4.54~𝑘g/𝑚^{3}$, 𝑤ith $𝐶_{A_{s}}= 0.458~𝑚ol/m^{3}$)"
   ]
  },
  {
   "cell_type": "code",
   "execution_count": 93,
   "metadata": {},
   "outputs": [
    {
     "data": {
      "text/plain": [
       "1.5"
      ]
     },
     "execution_count": 93,
     "metadata": {},
     "output_type": "execute_result"
    }
   ],
   "source": [
    "rpm3 = 2000\n",
    "d2 = kc1ac1*rpm3/(rpm1*Ccat) #d(CAb - CA2s) = kiprime*CA2s**2\n",
    "d2"
   ]
  },
  {
   "cell_type": "code",
   "execution_count": 94,
   "metadata": {},
   "outputs": [],
   "source": [
    "a3 = kiprime\n",
    "b3 = d2\n",
    "c3 = -d2*CAb"
   ]
  },
  {
   "cell_type": "code",
   "execution_count": 95,
   "metadata": {},
   "outputs": [
    {
     "data": {
      "text/plain": [
       "0.4580398915498082"
      ]
     },
     "execution_count": 95,
     "metadata": {},
     "output_type": "execute_result"
    }
   ],
   "source": [
    "x5 = (-b3 + ((b3**2 - 4*a3*c3)**0.5))/(2*a3)\n",
    "x5"
   ]
  },
  {
   "cell_type": "code",
   "execution_count": 96,
   "metadata": {},
   "outputs": [
    {
     "data": {
      "text/plain": [
       "-5.4580398915498085"
      ]
     },
     "execution_count": 96,
     "metadata": {},
     "output_type": "execute_result"
    }
   ],
   "source": [
    "x6 = (-b3 - ((b3**2 - 4*a3*c3)**0.5))/(2*a3)\n",
    "x6"
   ]
  },
  {
   "cell_type": "code",
   "execution_count": 97,
   "metadata": {},
   "outputs": [
    {
     "name": "stdout",
     "output_type": "stream",
     "text": [
      "Therefore new CAs= 0.4580398915498082 mol/m3\n"
     ]
    }
   ],
   "source": [
    "print('Therefore new CAs= '+str(x5)+' mol/m3')"
   ]
  },
  {
   "cell_type": "code",
   "execution_count": 98,
   "metadata": {},
   "outputs": [
    {
     "name": "stdout",
     "output_type": "stream",
     "text": [
      "The new concentration= 4.551537464488576 kg/m3\n"
     ]
    }
   ],
   "source": [
    "Ccat3 = ra/(kiprime*x5**2)\n",
    "print('The new concentration= '+str(Ccat3)+' kg/m3')"
   ]
  },
  {
   "cell_type": "code",
   "execution_count": null,
   "metadata": {},
   "outputs": [],
   "source": []
  }
 ],
 "metadata": {
  "kernelspec": {
   "display_name": "Python 3",
   "language": "python",
   "name": "python3"
  },
  "language_info": {
   "codemirror_mode": {
    "name": "ipython",
    "version": 3
   },
   "file_extension": ".py",
   "mimetype": "text/x-python",
   "name": "python",
   "nbconvert_exporter": "python",
   "pygments_lexer": "ipython3",
   "version": "3.7.3"
  }
 },
 "nbformat": 4,
 "nbformat_minor": 2
}
