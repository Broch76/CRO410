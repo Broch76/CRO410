{
 "cells": [
  {
   "cell_type": "code",
   "execution_count": 45,
   "metadata": {},
   "outputs": [],
   "source": [
    "from numpy import *\n",
    "from scipy.optimize import fsolve\n",
    "from scipy.integrate import odeint\n",
    "from matplotlib import pyplot as plt\n",
    "from scipy.interpolate import interp1d\n",
    "%matplotlib inline"
   ]
  },
  {
   "cell_type": "markdown",
   "metadata": {},
   "source": [
    "The first order catalytic reaction\n",
    "$$A \\rightarrow B$$\n",
    "occurs in a cylindrical packed bed that consists out of solid catalyst (completely non porous\n",
    "– only external surface reaction). An isothermal run gives a steady state conversion of\n",
    "$46.6\\%$. The following information is available on the reactor:"
   ]
  },
  {
   "cell_type": "markdown",
   "metadata": {},
   "source": [
    "<img src=\"4.3a.JPG\" width=\"450\" />"
   ]
  },
  {
   "cell_type": "code",
   "execution_count": 46,
   "metadata": {},
   "outputs": [],
   "source": [
    "#first order\n",
    "#PBR\n",
    "#non-porous catalyst - SOLID - ki will change with dp\n",
    "#isothermal with steady state conversion"
   ]
  },
  {
   "cell_type": "code",
   "execution_count": 47,
   "metadata": {},
   "outputs": [],
   "source": [
    "X       =      0.466 #conversion\n",
    "W       =       0.15 #kg\n",
    "Q       = 50e-3/3600 #m3/s\n",
    "dp      =     2.5e-3 #m\n",
    "kiprime =       3e-4 #m3/(kg.s)\n",
    "rhobed  =       1200 #kg/m3\n",
    "phi     =        0.4 #porosity"
   ]
  },
  {
   "cell_type": "markdown",
   "metadata": {},
   "source": [
    "**a) What would the conversion be if external mass transfer was assumed to be\n",
    "negligible?** [$X = 0.961$]"
   ]
  },
  {
   "cell_type": "markdown",
   "metadata": {},
   "source": [
    "This question can easily be done analytically quite quickly:\n",
    "\\begin{align}\n",
    "\\dfrac{dF_{A}}{dW} &= r_{A}^{'} \\nonumber \\\\\n",
    "-QC_{A_{0}}\\dfrac{dX}{dW} &= -k_{i}^{'}C_{A} \\nonumber \\\\\n",
    "\\dfrac{dX}{dW} &= k_{i}^{'}\\dfrac{C_{A_{0}}(1 - X)}{QC_{A_{0}}} \\nonumber \\\\\n",
    "\\dfrac{dX}{dW} &= k_{i}^{'}\\dfrac{(1 - X)}{Q} \\nonumber \\\\\n",
    "\\int^{X}_{0}\\dfrac{dx}{1-x}&=\\dfrac{k_{i}^{'}W}{Q} \\nonumber \\\\\n",
    "-\\ln(1-X)\\big\\rvert^{X}_0 &=\\dfrac{k_{i}^{'}W}{Q}\\nonumber \\\\\n",
    "-\\ln(1-X) &=\\dfrac{k_{i}^{'}W}{Q}\\nonumber \\\\\n",
    "X &= 1 - e^{\\dfrac{-k_{i}^{'}W}{Q}}\\nonumber\n",
    "\\end{align}"
   ]
  },
  {
   "cell_type": "code",
   "execution_count": 48,
   "metadata": {},
   "outputs": [
    {
     "name": "stdout",
     "output_type": "stream",
     "text": [
      "Conversion= 96.0836104901013%\n"
     ]
    }
   ],
   "source": [
    "Xa = 1 - exp((-kiprime*W)/Q)\n",
    "print('Conversion= '+str(Xa*100)+'%')"
   ]
  },
  {
   "cell_type": "markdown",
   "metadata": {},
   "source": [
    "**b) What is the specific mass transfer coefficient (units m/s) in the reactor?** [$k_{c}= 6 \\times 10^{-5}~m/s$]"
   ]
  },
  {
   "cell_type": "markdown",
   "metadata": {},
   "source": [
    "The external catalyst surface area per $kg$ catalyst:\n",
    "\\begin{align}\n",
    "a_{m} &= \\dfrac{A_{sphere}}{V_{sphere}}\\dfrac{1}{\\rho_{cat}} \\nonumber \\\\\n",
    "&= \\dfrac{6}{d_{p}}\\dfrac{1}{\\rho_{cat}} \\nonumber \\\\\n",
    "but\\ \\rho_{B} &= \\rho_{cat}(1 - \\epsilon_{Bed}) \\nonumber \\\\\n",
    "\\therefore a_{m} &= \\dfrac{6}{d_{p}}\\dfrac{(1 - \\epsilon)}{\\rho_{Bed}} \\nonumber\n",
    "\\end{align}"
   ]
  },
  {
   "cell_type": "code",
   "execution_count": 49,
   "metadata": {},
   "outputs": [
    {
     "data": {
      "text/plain": [
       "1.2"
      ]
     },
     "execution_count": 49,
     "metadata": {},
     "output_type": "execute_result"
    }
   ],
   "source": [
    "am = (6*(1 - phi))/(dp*rhobed)\n",
    "am"
   ]
  },
  {
   "cell_type": "markdown",
   "metadata": {},
   "source": [
    "We know what the conversion is and that external mass transfer plays a role, therefore we can modify the above equation from a) to calculate the effective constant:\n",
    "\\begin{align}\n",
    "-\\ln(1-X) &=\\dfrac{k_{eff}^{'}W}{Q}\\nonumber \\\\\n",
    "k_{eff}^{'} &= -\\dfrac{Q}{W}\\ln(1-X)\\nonumber\n",
    "\\end{align}"
   ]
  },
  {
   "cell_type": "code",
   "execution_count": 50,
   "metadata": {},
   "outputs": [
    {
     "data": {
      "text/plain": [
       "5.8088837039068724e-05"
      ]
     },
     "execution_count": 50,
     "metadata": {},
     "output_type": "execute_result"
    }
   ],
   "source": [
    "keff = -Q*log(1 - X)/W\n",
    "keff"
   ]
  },
  {
   "cell_type": "markdown",
   "metadata": {},
   "source": [
    "Because we are dealing with a first order reaction we can use the simplified equation:\n",
    "\\begin{align}\n",
    "\\dfrac{1}{k_{eff}^{'}} &= \\dfrac{1}{k_{c}a_{m}} + \\dfrac{1}{k_{i}^{'}}\n",
    "\\end{align}"
   ]
  },
  {
   "cell_type": "code",
   "execution_count": 51,
   "metadata": {},
   "outputs": [
    {
     "data": {
      "text/plain": [
       "6.003116632576613e-05"
      ]
     },
     "execution_count": 51,
     "metadata": {},
     "output_type": "execute_result"
    }
   ],
   "source": [
    "p = (1/keff) - (1/kiprime)\n",
    "kc = 1/(am*p)\n",
    "kc"
   ]
  },
  {
   "cell_type": "markdown",
   "metadata": {},
   "source": [
    "-------------------------------------------------------------------------"
   ]
  },
  {
   "cell_type": "markdown",
   "metadata": {},
   "source": [
    "*Given a new reactor with a different shape (also cylindrical) containing $150~g$ of $1.8~mm$(diameter) particles a $44.8~\\%$ conversion was obtained. The active site surface concentration (i.e. (Atoms of catalytically active material)/area) for the $1.8~mm$ catalyst is double that of the $2.5~mm$ catalysts (same type of active site). Everything else in the given table remains the same.*"
   ]
  },
  {
   "cell_type": "markdown",
   "metadata": {},
   "source": [
    "*Use the Theones Kramer correlation for the dependency of $k_{c}$ on different process and catalyst variables*"
   ]
  },
  {
   "cell_type": "code",
   "execution_count": 52,
   "metadata": {},
   "outputs": [],
   "source": [
    "dp2 = 1.8e-3 #m\n",
    "X2  = 0.448\n",
    "#L1 = 2*L original"
   ]
  },
  {
   "cell_type": "markdown",
   "metadata": {},
   "source": [
    "**c) Determine the mass based intrinsic constant of the 1.8 mm catalyst.** [$k_{i}^{'} = 8.33 \\times 10^{-4}~m^{3}/(kg.s)$] (Note: function of particle diameter and loading density!)"
   ]
  },
  {
   "cell_type": "markdown",
   "metadata": {},
   "source": [
    "Thoenes Kramer correlation to calculate the new $k_{c}$ value.\n",
    "\n",
    "\\begin{align}\n",
    "\\left[\\frac{k_cd_p}{D_{AB}}\\left(\\frac{\\epsilon}{1-\\epsilon}\\right)\\frac{1}{\\gamma}\\right] &= \\left[\\frac{Ud_p\\rho_L}{\\mu(1-\\epsilon)\\gamma}\\right]^{1/2}\\left(\\frac{\\mu}{\\rho D_{AB}}\\right)^{1/3}\\\\\n",
    "\\end{align}"
   ]
  },
  {
   "cell_type": "markdown",
   "metadata": {},
   "source": [
    "We know that:\n",
    "\\begin{align}\n",
    "k_{i}^{'} &= k_{i}^{''}a_{m}L_{sites} \\nonumber \\\\\n",
    "k_{2}^{'} &= k_{i}^{''}a_{m2} 2\\times L_{sites} \\nonumber \\\\\n",
    "\\therefore k_{2}^{'} &= \\dfrac{2a_{m2}}{a_{m}}k_{1}^{'} \\nonumber\n",
    "\\end{align}"
   ]
  },
  {
   "cell_type": "code",
   "execution_count": 53,
   "metadata": {},
   "outputs": [
    {
     "data": {
      "text/plain": [
       "1.6666666666666663"
      ]
     },
     "execution_count": 53,
     "metadata": {},
     "output_type": "execute_result"
    }
   ],
   "source": [
    "am2 = (6*(1 - phi))/(dp2*rhobed)\n",
    "am2"
   ]
  },
  {
   "cell_type": "code",
   "execution_count": 54,
   "metadata": {},
   "outputs": [
    {
     "name": "stdout",
     "output_type": "stream",
     "text": [
      "New ki= 8.3333333333333310^-4\n"
     ]
    }
   ],
   "source": [
    "ki2 = 2*am2*kiprime/am\n",
    "print('New ki= '+str(ki2*10000)+'10^-4')"
   ]
  },
  {
   "cell_type": "markdown",
   "metadata": {},
   "source": [
    "**d) Is the new reactor diameter bigger or smaller than the original one? What is the exact\n",
    "ratio?** ($ 𝐷_{2} = 2 × 𝐷_{1}$)"
   ]
  },
  {
   "cell_type": "code",
   "execution_count": 55,
   "metadata": {},
   "outputs": [
    {
     "data": {
      "text/plain": [
       "5.501918821342978e-05"
      ]
     },
     "execution_count": 55,
     "metadata": {},
     "output_type": "execute_result"
    }
   ],
   "source": [
    "keff2 = -Q*log(1 - X2)/W\n",
    "keff2"
   ]
  },
  {
   "cell_type": "code",
   "execution_count": 56,
   "metadata": {},
   "outputs": [
    {
     "data": {
      "text/plain": [
       "3.534510361812439e-05"
      ]
     },
     "execution_count": 56,
     "metadata": {},
     "output_type": "execute_result"
    }
   ],
   "source": [
    "b = (1/keff2) - (1/ki2)\n",
    "kc2 = 1/(am2*b)\n",
    "kc2"
   ]
  },
  {
   "cell_type": "markdown",
   "metadata": {},
   "source": [
    "From the Thoenes Kramer correlation above, all else equal:\n",
    "\\begin{align}\n",
    "\\frac{k_{c2}}{k_{c1}}&=\\left[\\frac{U_{2}d_{p1}}{U_{1}d_{p2}}\\right]^{1/2}\\nonumber \\\\\n",
    "&=\\left[\\frac{Q/A_{across2}}{Q/A_{across1}}\\right]^{1/2}\\left[\\dfrac{d_{p1}}{d_{p2}}\\right]^{1/2}\\nonumber \\\\\n",
    "&=\\left[\\frac{\\pi D_{1}^{2}/4}{\\pi D_{2}^{2}/4}\\right]^{1/2}\\left[\\dfrac{d_{p1}}{d_{p2}}\\right]^{1/2}\\nonumber \\\\\n",
    "\\frac{k_{c2}}{k_{c1}} \\left[\\dfrac{d_{p2}}{d_{p1}}\\right]^{1/2}&=\\left[\\frac{D_{1}}{D_{2}}\\right]\\nonumber \n",
    "\\end{align}"
   ]
  },
  {
   "cell_type": "code",
   "execution_count": 57,
   "metadata": {},
   "outputs": [
    {
     "data": {
      "text/plain": [
       "0.49959573960947135"
      ]
     },
     "execution_count": 57,
     "metadata": {},
     "output_type": "execute_result"
    }
   ],
   "source": [
    "Ratio = (kc2/kc)*((dp2/dp)**0.5)\n",
    "Ratio"
   ]
  },
  {
   "cell_type": "markdown",
   "metadata": {},
   "source": [
    "Therefore $D_{2} = 2 \\times D_{1}$"
   ]
  },
  {
   "cell_type": "code",
   "execution_count": null,
   "metadata": {},
   "outputs": [],
   "source": []
  }
 ],
 "metadata": {
  "kernelspec": {
   "display_name": "Python 3",
   "language": "python",
   "name": "python3"
  },
  "language_info": {
   "codemirror_mode": {
    "name": "ipython",
    "version": 3
   },
   "file_extension": ".py",
   "mimetype": "text/x-python",
   "name": "python",
   "nbconvert_exporter": "python",
   "pygments_lexer": "ipython3",
   "version": "3.7.3"
  }
 },
 "nbformat": 4,
 "nbformat_minor": 2
}
