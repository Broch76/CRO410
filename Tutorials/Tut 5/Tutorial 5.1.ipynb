{
 "cells": [
  {
   "cell_type": "markdown",
   "metadata": {},
   "source": [
    "Fogler 4th ed Problem P12_3, a to h. Pages 856-857"
   ]
  },
  {
   "cell_type": "markdown",
   "metadata": {},
   "source": [
    "The catalytic reaction $A \\rightarrow B$ takes place within a fixed bed containing spherical porous catalyst $X22$. Figure P12-3B (below) shows the overall rates of reaction at a point in the reactor as a function of temperature for various entering total molar flow rates, $F_{T_{0}}$. "
   ]
  },
  {
   "cell_type": "markdown",
   "metadata": {},
   "source": [
    "<img src=\"Fig 12_3B.JPG\" width=\"500\" />"
   ]
  },
  {
   "cell_type": "markdown",
   "metadata": {},
   "source": [
    "a) Is the reaction limited by external diffusion? "
   ]
  },
  {
   "cell_type": "markdown",
   "metadata": {},
   "source": [
    "Yes. Increasing the molar flow rate equates to an increase in the superficial velocity. The increase in velocity shows and increase in the reaction rate which implies that the reaction is external diffusion limited"
   ]
  },
  {
   "cell_type": "markdown",
   "metadata": {},
   "source": [
    "b) If your answer to part (a) was “yes,” under what conditions [ of those shown (i.e., $T$, $F_{T_{0}}$) ] is the reaction limited by external diffusion?"
   ]
  },
  {
   "cell_type": "markdown",
   "metadata": {},
   "source": [
    "All temperatures, $F_{T_{0}} = 10~mol/hr$. The rate of reaction changes with flow rate and increases linearly with temperature."
   ]
  },
  {
   "cell_type": "markdown",
   "metadata": {},
   "source": [
    "c)  Is the reaction “reaction-rate-limited”? \n"
   ]
  },
  {
   "cell_type": "markdown",
   "metadata": {},
   "source": [
    "Yes"
   ]
  },
  {
   "cell_type": "markdown",
   "metadata": {},
   "source": [
    "d)  If your answer to part (c) was “yes,” under what conditions [ of those shown (i.e., $T$, $F_{T_{0}}$) ] is the reaction limited by the rate of the surface reactions?"
   ]
  },
  {
   "cell_type": "markdown",
   "metadata": {},
   "source": [
    "For $T < 367~K$, $F_{T_{0}} = 1000~mol/hr$, $5000~mol/hr$."
   ]
  },
  {
   "cell_type": "markdown",
   "metadata": {},
   "source": [
    "For $T < 362~K$, $F_{T_{0}} = 100~mol/hr$."
   ]
  },
  {
   "cell_type": "markdown",
   "metadata": {},
   "source": [
    "e)  Is the reaction limited by internal diffusion? "
   ]
  },
  {
   "cell_type": "markdown",
   "metadata": {},
   "source": [
    "Yes"
   ]
  },
  {
   "cell_type": "markdown",
   "metadata": {},
   "source": [
    "f)  If your answer to part (e) was “yes,” under what conditions [ of those shown (i.e., $T$, $F_{T_{0}}$) ] is the reaction limited by the rate of internal diffusion? "
   ]
  },
  {
   "cell_type": "markdown",
   "metadata": {},
   "source": [
    "For $T > 367~K$, $F_{T_{0}} = 1000~mol/hr$, $5000~mol/hr$."
   ]
  },
  {
   "cell_type": "markdown",
   "metadata": {},
   "source": [
    "For $T > 362~K$, $F_{T_{0}} = 100~mol/hr$"
   ]
  },
  {
   "cell_type": "markdown",
   "metadata": {},
   "source": [
    "g)  For a flow rate of $10~gmol/h$, determine (if possible) the overall effectiveness factor, $\\Omega$, at $360~K$."
   ]
  },
  {
   "cell_type": "markdown",
   "metadata": {},
   "source": [
    "$\\Omega = \\dfrac{\\text{actual rate of reaction}}{\\text{ideal rate of reaction}} = \\dfrac{-r_{A}(\\text{at }362~K \\text{,} F_{T_{0}} = 10~mol/hr)}{-r_{A}(\\text{at }362~K \\text{,} F_{T_{0}} = 5000~mol/hr)}$"
   ]
  },
  {
   "cell_type": "code",
   "execution_count": 1,
   "metadata": {},
   "outputs": [
    {
     "name": "stdout",
     "output_type": "stream",
     "text": [
      "0.37142857142857144\n"
     ]
    }
   ],
   "source": [
    "Omega = 0.26/0.70\n",
    "print(str(Omega))"
   ]
  },
  {
   "cell_type": "markdown",
   "metadata": {},
   "source": [
    "h) Estimate (if possible) the internal effectiveness factor, $\\eta$, at $367~K$.  "
   ]
  },
  {
   "cell_type": "markdown",
   "metadata": {},
   "source": [
    "At $F_{T_{0}} = 5000~mol/hr$, there is no external diffusion limitation, so the external effectiveness factor is 1."
   ]
  },
  {
   "cell_type": "markdown",
   "metadata": {},
   "source": [
    "$\\eta = \\dfrac{\\text{actual rate of reaction }(\\text{at} 362~K \\text{,} F_{T_{0}} = 5000~mol/hr)}{\\text{extrapolated rate of reaction }(\\text{at} 362~K \\text{,} F_{T_{0}} = 5000~mol/hr)}$"
   ]
  },
  {
   "cell_type": "code",
   "execution_count": 3,
   "metadata": {},
   "outputs": [
    {
     "name": "stdout",
     "output_type": "stream",
     "text": [
      "0.8571428571428572\n"
     ]
    }
   ],
   "source": [
    "eta = 1.2/1.4\n",
    "print(str(eta))"
   ]
  },
  {
   "cell_type": "code",
   "execution_count": null,
   "metadata": {},
   "outputs": [],
   "source": []
  }
 ],
 "metadata": {
  "kernelspec": {
   "display_name": "Python 3",
   "language": "python",
   "name": "python3"
  },
  "language_info": {
   "codemirror_mode": {
    "name": "ipython",
    "version": 3
   },
   "file_extension": ".py",
   "mimetype": "text/x-python",
   "name": "python",
   "nbconvert_exporter": "python",
   "pygments_lexer": "ipython3",
   "version": "3.7.3"
  }
 },
 "nbformat": 4,
 "nbformat_minor": 2
}
