{
 "cells": [
  {
   "cell_type": "markdown",
   "metadata": {},
   "source": [
    "The first order gas phase reaction where $A \\rightarrow B$ is performed in a packed bed reactor. You can assume the absence of external mass transfer effects. Given the information below determine the intrinsic rate constant at this temperature ($k_{i}^{’}$)."
   ]
  },
  {
   "cell_type": "markdown",
   "metadata": {},
   "source": [
    "($k_{i}^{’}= 1.009 × 10^{−4}~m^{3}/(kg.s)$, $\\eta = 0.44$)"
   ]
  },
  {
   "cell_type": "markdown",
   "metadata": {},
   "source": [
    "<img src=\"Tut5.2 data.JPG\" width=\"450\" />"
   ]
  },
  {
   "cell_type": "code",
   "execution_count": 1,
   "metadata": {},
   "outputs": [],
   "source": [
    "from numpy import *\n",
    "from scipy.optimize import fsolve\n",
    "from scipy.integrate import odeint\n",
    "from matplotlib import pyplot as plt\n",
    "from scipy.interpolate import interp1d\n",
    "%matplotlib inline"
   ]
  },
  {
   "cell_type": "markdown",
   "metadata": {},
   "source": [
    "Since it is stated that external mass transfer can be assumed absent, it follows that $C_{A_{b}} = C_{A_{s}}$"
   ]
  },
  {
   "cell_type": "markdown",
   "metadata": {},
   "source": [
    "Therefore $$\\dfrac{1}{k_{eff}^{'}} = \\dfrac{1}{\\eta.k_{i}^{'}}$$\n",
    "$$k_{eff}^{'} = \\eta.k_{i}^{'}$$"
   ]
  },
  {
   "cell_type": "code",
   "execution_count": 2,
   "metadata": {},
   "outputs": [],
   "source": [
    "W      =             7 #kg\n",
    "dp     =        2/1000 #m\n",
    "R      =          dp/2 #m partical radius\n",
    "rhocat =          1600 #kg/m3\n",
    "De     =          5e-9 #m2/s\n",
    "Q      =  20/(1000*60) #L/s\n",
    "X      =          0.60\n",
    "epsilon=           0.4 #porosity\n",
    "rho    =          1100 #kg/m3 liquid density\n",
    "n      =             1 # 1st order reaction"
   ]
  },
  {
   "cell_type": "markdown",
   "metadata": {},
   "source": [
    "# PBR - Mole Balance\n",
    "\n",
    "For plug flow\n",
    "\n",
    "$$\n",
    "\\begin{align}\n",
    "\\frac{dF_A}{dW}&=-r_A'\\\\\n",
    "\\frac{dF_A}{dW}&=\\eta k_{i}^{'}C_A\\\\\n",
    "QC_{Ao}\\frac{dx}{dW}&=\\eta k_{i}^{'}C_{Ao}(1-x)\\\\\n",
    "\\int^{x=0.6}_{x=0}\\frac{dx}{1-x}&=\\frac{\\eta k_{i}^{'}W}{Q}\\\\\n",
    "-\\ln(1-x)\\big\\rvert^{0.6}_0 &=\\frac{\\eta k_{i}W}{Q}\\\\\n",
    "\\eta k_{i} &=-\\frac{Q\\ln(1-x)\\big\\rvert^{0.6}_0}{W} \\\\\n",
    "-ln(1 - x) &= \\eta k_{i}^{'}\\dfrac{W}{Q}  \n",
    "\\end{align}\n",
    "$$"
   ]
  },
  {
   "cell_type": "markdown",
   "metadata": {},
   "source": [
    "# Effectiveness ($\\eta$) - First Order Reaction\n",
    "\n",
    "$$\n",
    "\\eta=\\frac{3}{\\phi_1^2}\\left(\\phi_1\\coth\\phi_1-1\\right)\n",
    "$$"
   ]
  },
  {
   "cell_type": "markdown",
   "metadata": {},
   "source": [
    "# Thiele-Modulus ($\\phi_n$)\n",
    "\n",
    "\\begin{align}\n",
    "\\phi_n^2&=\\frac{k_i'\\rho_cR^2C_{As}^{n-1}}{D_e}\\\\\n",
    "&=\\frac{\\frac{k_{app}}{\\eta}\\rho_cR^2C_{As}^{n-1}}{D_e}\\\\\n",
    "\\phi_n&=\\left(\\frac{k_i'\\rho_cR^2}{D_e} \\right)^{0.5}\n",
    "\\end{align}"
   ]
  },
  {
   "cell_type": "markdown",
   "metadata": {},
   "source": [
    "Remember: $\\eta \\leq 1$ "
   ]
  },
  {
   "cell_type": "markdown",
   "metadata": {},
   "source": [
    "First method is to do a fixed point iteration between the mole balance, eta and phi equations by guessing $\\eta$ to be 1 in order to calculate $k_{i}^{'}$, taking this result and calculating $\\phi$ then using this value to calculate the new $\\eta$. This iteration is continued until $\\eta$ converges, then in turn calculating the final $\\phi$"
   ]
  },
  {
   "cell_type": "code",
   "execution_count": 3,
   "metadata": {},
   "outputs": [],
   "source": [
    "eta   = 1 #first guess\n",
    "error = 0.1 #to get iteration started"
   ]
  },
  {
   "cell_type": "code",
   "execution_count": 4,
   "metadata": {},
   "outputs": [],
   "source": [
    "while error >= 0.0000000001:\n",
    "    kiprime  = -log(1 - X)*Q/(eta*W) #mole balance equation\n",
    "    phi      = ((kiprime*rhocat*(R)**2)/De)**0.5 #Thiele modules equation\n",
    "    etanew   = 3*((phi/tanh(phi)) - 1)/(phi**2) #Effectiveness equation\n",
    "    error    = abs(eta - etanew)\n",
    "    eta      = etanew"
   ]
  },
  {
   "cell_type": "code",
   "execution_count": 5,
   "metadata": {},
   "outputs": [
    {
     "name": "stdout",
     "output_type": "stream",
     "text": [
      "$k_{i}^{'}$ = 9.990039717711863e-05\n",
      "$\\eta$ = 0.4367639490734235\n"
     ]
    }
   ],
   "source": [
    "print('$k_{i}^{\\'}$ = '+str(kiprime))\n",
    "print('$\\eta$ = '+str(eta))"
   ]
  },
  {
   "cell_type": "markdown",
   "metadata": {},
   "source": [
    "Second method is to use fsolve to calculate $\\eta$ and $k_{i}^{'}$ (first two guesses), and using the Thiele equation as a variable. "
   ]
  },
  {
   "cell_type": "code",
   "execution_count": 6,
   "metadata": {},
   "outputs": [],
   "source": [
    "def PET(var):\n",
    "    kiprime, eta = var\n",
    "    phi = ((1.00915621e-04*rhocat*(R)**2)/De)**0.5 #use kiprime result from fsolve and replace here until it converges\n",
    "    EQ1 = -log(1 - X) - eta*kiprime*W/Q\n",
    "    EQ2 = 3*((phi/tanh(phi)) - 1)/(phi**2) - eta\n",
    "    return [EQ1, \n",
    "            EQ2]"
   ]
  },
  {
   "cell_type": "code",
   "execution_count": 7,
   "metadata": {},
   "outputs": [
    {
     "data": {
      "text/plain": [
       "[1.874368438237184e-10, -0.0017323799528450867]"
      ]
     },
     "execution_count": 7,
     "metadata": {},
     "output_type": "execute_result"
    }
   ],
   "source": [
    "PET([9.990039717711863e-05, 0.4367639490734235])\n"
   ]
  },
  {
   "cell_type": "code",
   "execution_count": 8,
   "metadata": {},
   "outputs": [
    {
     "data": {
      "text/plain": [
       "array([1.00298220e-04, 4.35031569e-01])"
      ]
     },
     "execution_count": 8,
     "metadata": {},
     "output_type": "execute_result"
    }
   ],
   "source": [
    "guess = [1, 2]\n",
    "sols  = fsolve(PET, guess)\n",
    "sols"
   ]
  },
  {
   "cell_type": "code",
   "execution_count": null,
   "metadata": {},
   "outputs": [],
   "source": []
  },
  {
   "cell_type": "code",
   "execution_count": null,
   "metadata": {},
   "outputs": [],
   "source": []
  }
 ],
 "metadata": {
  "kernelspec": {
   "display_name": "Python 3",
   "language": "python",
   "name": "python3"
  },
  "language_info": {
   "codemirror_mode": {
    "name": "ipython",
    "version": 3
   },
   "file_extension": ".py",
   "mimetype": "text/x-python",
   "name": "python",
   "nbconvert_exporter": "python",
   "pygments_lexer": "ipython3",
   "version": "3.7.3"
  }
 },
 "nbformat": 4,
 "nbformat_minor": 2
}
