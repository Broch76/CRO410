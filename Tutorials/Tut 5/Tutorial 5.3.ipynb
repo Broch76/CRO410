{
 "cells": [
  {
   "cell_type": "markdown",
   "metadata": {},
   "source": [
    "A first order liquid phase reaction where component A reacts to form B using a porous catalyst is studied in a packed bed reactor. The following is known about the fixed bed setup:"
   ]
  },
  {
   "cell_type": "markdown",
   "metadata": {},
   "source": [
    "<img src=\"Tut5.3 data.JPG\" width=\"450\" />"
   ]
  },
  {
   "cell_type": "markdown",
   "metadata": {},
   "source": [
    "You can use the Thoenes-Kramer correlation to estimate the liquid solid mass\n",
    "transfer coefficient (if required)"
   ]
  },
  {
   "cell_type": "code",
   "execution_count": 35,
   "metadata": {},
   "outputs": [],
   "source": [
    "from numpy import *\n",
    "from scipy.optimize import fsolve\n",
    "from scipy.integrate import odeint\n",
    "from matplotlib import pyplot as plt\n",
    "from scipy.interpolate import interp1d\n",
    "%matplotlib inline"
   ]
  },
  {
   "cell_type": "code",
   "execution_count": 36,
   "metadata": {},
   "outputs": [],
   "source": [
    "W       =          0.9 #kg\n",
    "dp      =       2/1000 #m\n",
    "R       =         dp/2 #m\n",
    "rhobed  =         1300 #kg/m3\n",
    "De      =       1.8e-9 #m2/s\n",
    "Q       = 60/3600/1000 #m3/s\n",
    "X       =        0.895\n",
    "D       =         0.04 #m reactor diameter\n",
    "kiprime =         5e-4 #m3/(kg.s) \n",
    "Dab     =         3e-9 #m2/s\n",
    "mu      =        0.001 #kg/(m.s)\n",
    "epsilon =          0.4 #porosity\n",
    "rholiq  =         1000 #kg/m3"
   ]
  },
  {
   "cell_type": "markdown",
   "metadata": {},
   "source": [
    "a) What is the catalyst effectiveness factor? ($\\eta = 0.117$)"
   ]
  },
  {
   "cell_type": "markdown",
   "metadata": {},
   "source": [
    "$$\n",
    "\\begin{align}\n",
    "\\frac{dF_A}{dW}&=-r_{A}^{'}\\\\\n",
    "\\frac{dF_A}{dW}&=\\eta k_{i}^{'}C_A\\\\\n",
    "QC_{Ao}\\frac{dx}{dW}&=\\eta k_{i}^{'}C_{Ao}(1-x)\\\\\n",
    "\\int^{x=0.895}_{x=0}\\frac{dx}{1-x}&=\\frac{\\eta k_{i}^{'}W}{Q}\\\\\n",
    "-\\ln(1-x)\\big\\rvert^{0.895}_0 &=\\frac{\\eta k_{i}^{'}W}{Q}\\\\\n",
    "\\eta k_{i}^{'} &=-\\frac{Q\\ln(1-x)\\big\\rvert^{0.895}_0}{W} \\\\\n",
    "\\eta &= -ln(1 - x)\\dfrac{Q}{k_{i}^{'}.W}  \n",
    "\\end{align}\n",
    "$$\n",
    "\n",
    "Since mass transfer is NOT negligible, the above equation can NOT be used."
   ]
  },
  {
   "cell_type": "markdown",
   "metadata": {},
   "source": [
    "**THIELE MODULUS**\n",
    "\n",
    "\\begin{align}\n",
    "\\phi_{n}^{2}&=\\frac{k_i'\\rho_cR^2C_{As}^{n-1}}{D_e}\\\\\n",
    "\\phi_{1}&=\\left(\\frac{k_i'\\rho_bR^2}{D_e(1-\\epsilon)}\\right)^{0.5}\\\\\n",
    "\\end{align}"
   ]
  },
  {
   "cell_type": "code",
   "execution_count": 37,
   "metadata": {},
   "outputs": [
    {
     "name": "stdout",
     "output_type": "stream",
     "text": [
      "24.532669073132908\n"
     ]
    }
   ],
   "source": [
    "a   = kiprime*rhobed*R**2\n",
    "b   = De*(1 - epsilon)\n",
    "phi = (a/b)**0.5\n",
    "print(str(phi))"
   ]
  },
  {
   "cell_type": "markdown",
   "metadata": {},
   "source": [
    "For a first order reaction\n",
    "\n",
    "\\begin{align}\n",
    "\\eta&=\\frac{3}{\\phi_1^2}\\left(\\phi_1\\coth\\phi_1-1\\right)\n",
    "\\end{align}"
   ]
  },
  {
   "cell_type": "code",
   "execution_count": 38,
   "metadata": {},
   "outputs": [
    {
     "name": "stdout",
     "output_type": "stream",
     "text": [
      "0.11730130430300095\n"
     ]
    }
   ],
   "source": [
    "eta = 3*((phi/tanh(phi)) - 1)/(phi**2)\n",
    "print(str(eta))"
   ]
  },
  {
   "cell_type": "markdown",
   "metadata": {},
   "source": [
    "**b) Does liquid-solid mass transfer play a role?** Answer this question without the use of a correlation. ($x_{ideal} = 0.96 > x_{real}$ , Yes, Mass transfer plays a role)"
   ]
  },
  {
   "cell_type": "markdown",
   "metadata": {},
   "source": [
    "If only internal mass transfer is considered $k_{eff}'=\\eta k_i'$. If this conversion is lower than what is actually obtained, it implies that the rate is influenced by external mass transfer and $$\\frac{1}{k_{eff}'}=\\frac{1}{k_ca_m}+\\frac{1}{\\eta k_i'}$$\n",
    "\n",
    "$$\n",
    "k_{eff}=\\frac{\\eta k_i'k_ca_m}{\\eta k_i'+k_ca_m}\n",
    "$$\n",
    "and from above derivation:\n",
    "\\begin{align}\n",
    "-ln(1 - x) &= \\eta k_{i}^{'}\\dfrac{W}{Q} \\\\\n",
    "-ln(1 - x) &= k_{eff}^{'}\\dfrac{W}{Q}\n",
    "\\end{align}\n",
    "Now solve for conversion:"
   ]
  },
  {
   "cell_type": "code",
   "execution_count": 39,
   "metadata": {},
   "outputs": [
    {
     "name": "stdout",
     "output_type": "stream",
     "text": [
      "0.9578758983427543\n"
     ]
    }
   ],
   "source": [
    "c = -eta*kiprime*W/Q\n",
    "d = exp(c)\n",
    "Xideal = 1 - d\n",
    "print(str(Xideal))"
   ]
  },
  {
   "cell_type": "markdown",
   "metadata": {},
   "source": [
    "Therefore, since $x_{ideal}=0.958 > x_{actual}=0.895$, mass transfer does indeed affect the rate."
   ]
  },
  {
   "cell_type": "markdown",
   "metadata": {},
   "source": [
    "**c) The reactor diameter is changed to 2 cm while still using the same mass of catalyst (i.e a longer reactor), what is the new conversion?** ($X_{new} = 0.928$ with  $k_{eff}^{'} = 4.877 \\times 10^{−5}$)"
   ]
  },
  {
   "cell_type": "markdown",
   "metadata": {},
   "source": [
    "Answer: The Thoenes Kramer correlation can be used in this question. The first thing to notice, all other catalysts specifications kept constant, is that reducing the reactor diameter will increase the linear velocity. From this, we can calculate the new $k_{c}$ value, and this unlocks the remainder of the solution."
   ]
  },
  {
   "cell_type": "markdown",
   "metadata": {},
   "source": [
    "**Step 1:** "
   ]
  },
  {
   "cell_type": "markdown",
   "metadata": {},
   "source": [
    "We use the Thoenes Kramer correlation to calculate the new $k_{c}$ value.\n",
    "\n",
    "\\begin{align}\n",
    "\\left[\\frac{k_cd_p}{D_{AB}}\\left(\\frac{\\epsilon}{1-\\epsilon}\\right)\\frac{1}{\\gamma}\\right] &= \\left[\\frac{Ud_p\\rho_L}{\\mu(1-\\epsilon)\\gamma}\\right]^{1/2}\\left(\\frac{\\mu}{\\rho D_{AB}}\\right)^{1/3}\\\\\n",
    "\\end{align}"
   ]
  },
  {
   "cell_type": "code",
   "execution_count": 40,
   "metadata": {},
   "outputs": [],
   "source": [
    "D1       = D\n",
    "Aacross1 = 0.25*pi*(D1)**2\n",
    "U1       = Q/Aacross1\n",
    "Asurface = pi*dp**2\n",
    "gamma    = Asurface/(pi*dp**2)"
   ]
  },
  {
   "cell_type": "code",
   "execution_count": 41,
   "metadata": {},
   "outputs": [],
   "source": [
    "a = (U1*dp*rholiq/(mu*(1 - epsilon)*gamma))**0.5\n",
    "b = (mu/(rholiq*Dab))**(1/3)\n",
    "c = dp*epsilon/(Dab*(1 - epsilon)*gamma)"
   ]
  },
  {
   "cell_type": "code",
   "execution_count": 42,
   "metadata": {},
   "outputs": [
    {
     "name": "stdout",
     "output_type": "stream",
     "text": [
      "0.00010372917297430709\n"
     ]
    }
   ],
   "source": [
    "kc1 = a*b/c\n",
    "print(str(kc1))"
   ]
  },
  {
   "cell_type": "markdown",
   "metadata": {},
   "source": [
    "**Step 2:**"
   ]
  },
  {
   "cell_type": "markdown",
   "metadata": {},
   "source": [
    "Dividing the new Thoenes Kramer correlation (containing the new $k_{c}$ and new $U$) by the first with original $k_{c}$ and $U$ results in:\n",
    "\n",
    "\\begin{equation}\n",
    "\\frac{k_{c2}}{k_{c1}}=\\left[\\frac{U_2}{U_1}\\right]^{1/2}\\\\\n",
    "\\end{equation}"
   ]
  },
  {
   "cell_type": "code",
   "execution_count": 43,
   "metadata": {},
   "outputs": [],
   "source": [
    "D2       = 0.02 #m new reactor diameter\n",
    "Aacross2 = 0.25*pi*(D2)**2\n",
    "U2       = Q/Aacross2"
   ]
  },
  {
   "cell_type": "code",
   "execution_count": 44,
   "metadata": {},
   "outputs": [
    {
     "name": "stdout",
     "output_type": "stream",
     "text": [
      "0.00020745834594861418\n"
     ]
    }
   ],
   "source": [
    "kc2 = kc1*(U2/U1)**0.5\n",
    "print(str(kc2))"
   ]
  },
  {
   "cell_type": "markdown",
   "metadata": {},
   "source": [
    "**Step 3:**"
   ]
  },
  {
   "cell_type": "markdown",
   "metadata": {},
   "source": [
    "Calculate $a_{m}$ from:\n",
    "\\begin{equation}\n",
    "a_{m} = \\frac{6(1-\\epsilon)}{d_p\\rho_b}\n",
    "\\end{equation}\n",
    "\n",
    "And $k_{eff}^{'}$ from:\n",
    "\\begin{equation}\n",
    "k_{eff}^{'}=\\frac{\\eta k_{i}^{'}k_{c}a_{m}}{\\eta k_{i}^{'} + k_{c}a_{m}}\n",
    "\\end{equation}"
   ]
  },
  {
   "cell_type": "code",
   "execution_count": 45,
   "metadata": {},
   "outputs": [
    {
     "name": "stdout",
     "output_type": "stream",
     "text": [
      "1.3846153846153844\n"
     ]
    }
   ],
   "source": [
    "am = 6*(1 - epsilon)/(dp*rhobed)\n",
    "print(str(am))"
   ]
  },
  {
   "cell_type": "code",
   "execution_count": 46,
   "metadata": {},
   "outputs": [
    {
     "name": "stdout",
     "output_type": "stream",
     "text": [
      "4.870589257185835e-05\n"
     ]
    }
   ],
   "source": [
    "keffprime = eta*kiprime*kc2*am/(eta*kiprime + kc2*am)\n",
    "print(str(keffprime))"
   ]
  },
  {
   "cell_type": "markdown",
   "metadata": {},
   "source": [
    "**Step 4:**"
   ]
  },
  {
   "cell_type": "markdown",
   "metadata": {},
   "source": [
    "Now we can use the mole balance equation derived above:\n",
    "\n",
    "\\begin{equation}\n",
    "-ln(1 - X) = k_{eff}^{'}\\dfrac{W}{Q}\n",
    "\\end{equation}"
   ]
  },
  {
   "cell_type": "code",
   "execution_count": 47,
   "metadata": {},
   "outputs": [
    {
     "name": "stdout",
     "output_type": "stream",
     "text": [
      "Xnew= 0.9279300568512846 Keff= 4.870589257185835e-05\n"
     ]
    }
   ],
   "source": [
    "d  = keffprime*W/Q\n",
    "e  = exp(-d)\n",
    "X2 = 1 - e\n",
    "print('Xnew= '+str(X2), 'Keff= '+str(keffprime))"
   ]
  },
  {
   "cell_type": "markdown",
   "metadata": {},
   "source": [
    "**d) Calculate the conversion if the 4 cm reactor is used with 1.5 mm catalyst (same total mass of catalyst)** ($X_{new}= 0.95$, $a_{m} = 1.846$ and $ k_{eff}^{'} = 5.72 \\times 10^{−5}~m^{3}/(kg.s)$)"
   ]
  },
  {
   "cell_type": "code",
   "execution_count": 48,
   "metadata": {},
   "outputs": [],
   "source": [
    "dp3 = 1.5/1000 #m "
   ]
  },
  {
   "cell_type": "markdown",
   "metadata": {},
   "source": [
    "Extrapolating the methodology used in the previous question, a new $k_{c}$ value can be obtained by now leaving the linear velocity unchanged and correlating the change in particle diameter. The new proportionality derived from Theone Kramer:\n",
    "\n",
    "\\begin{align}\n",
    "\\frac{k_{c3}d_{p3}}{k_{c1}d_{p1}}&=\\left[\\frac{d_{p3}}{d_{p1}}\\right]^{1/2}\\\\\n",
    "\\frac{k_{c3}}{k_{c1}}&=\\left[\\frac{d_{p1}}{d_{p3}}\\right]^{1/2}\n",
    "\\end{align}"
   ]
  },
  {
   "cell_type": "code",
   "execution_count": 49,
   "metadata": {},
   "outputs": [
    {
     "name": "stdout",
     "output_type": "stream",
     "text": [
      "0.0001197761318790669\n"
     ]
    }
   ],
   "source": [
    "dp1 = dp\n",
    "kc3 = kc1*(dp1/dp3)**0.5\n",
    "print(str(kc3))"
   ]
  },
  {
   "cell_type": "markdown",
   "metadata": {},
   "source": [
    "The other affected variables are $a_{m}$, $\\phi$ and $\\eta$. From these a new $k_{eff}^{'}$ can be obtained to calculate the new conversion"
   ]
  },
  {
   "cell_type": "code",
   "execution_count": 52,
   "metadata": {},
   "outputs": [
    {
     "name": "stdout",
     "output_type": "stream",
     "text": [
      "1.846153846153846\n"
     ]
    }
   ],
   "source": [
    "am3 = 6*(1 - epsilon)/(dp3*rhobed)\n",
    "print(str(am3))"
   ]
  },
  {
   "cell_type": "markdown",
   "metadata": {},
   "source": [
    "From the Thiele modulus:\n",
    "\\begin{align}\n",
    "\\phi_n^2&=\\frac{k_i'\\rho_cR^2C_{As}^{n-1}}{D_e}\\\\\n",
    "&=\\frac{\\frac{k_{app}}{\\eta}\\rho_cR^2C_{As}^{n-1}}{D_e}\\\\\n",
    "\\phi_1&=\\left(\\frac{k_{i}^{'}\\rho_{bed}R^{2}}{D_{e}(1 - \\epsilon) }\\right)^{0.5}\n",
    "\\end{align}"
   ]
  },
  {
   "cell_type": "code",
   "execution_count": 60,
   "metadata": {},
   "outputs": [
    {
     "name": "stdout",
     "output_type": "stream",
     "text": [
      "18.39950180484968\n"
     ]
    }
   ],
   "source": [
    "R3   = dp3/2\n",
    "phi3 = (kiprime*rhobed*(R3**2)/(De*(1 - epsilon)))**0.5 \n",
    "print(str(phi3))"
   ]
  },
  {
   "cell_type": "markdown",
   "metadata": {},
   "source": [
    "\\begin{equation}\n",
    "\\eta=\\frac{3}{\\phi_1^2}\\left(\\phi_1\\coth\\phi_1-1\\right)\\\\\n",
    "\\end{equation}"
   ]
  },
  {
   "cell_type": "code",
   "execution_count": 63,
   "metadata": {},
   "outputs": [
    {
     "name": "stdout",
     "output_type": "stream",
     "text": [
      "0.15418635445528334\n"
     ]
    }
   ],
   "source": [
    "eta3 = 3*((phi3/tanh(phi3))-1)/(phi3**2)\n",
    "print(str(eta3))"
   ]
  },
  {
   "cell_type": "markdown",
   "metadata": {},
   "source": [
    "\\begin{equation}\n",
    "k_{eff}'=\\frac{\\eta k'_ik_ca_m}{\\eta k'_i + k_ca_m}\\\\\n",
    "\\end{equation}"
   ]
  },
  {
   "cell_type": "code",
   "execution_count": 65,
   "metadata": {},
   "outputs": [
    {
     "name": "stdout",
     "output_type": "stream",
     "text": [
      "5.71636252763895e-05\n"
     ]
    }
   ],
   "source": [
    "keff3 = eta3*kiprime*kc3*am3/(eta*kiprime + kc3*am3)\n",
    "print(str(keff3))"
   ]
  },
  {
   "cell_type": "code",
   "execution_count": null,
   "metadata": {},
   "outputs": [],
   "source": []
  }
 ],
 "metadata": {
  "kernelspec": {
   "display_name": "Python 3",
   "language": "python",
   "name": "python3"
  },
  "language_info": {
   "codemirror_mode": {
    "name": "ipython",
    "version": 3
   },
   "file_extension": ".py",
   "mimetype": "text/x-python",
   "name": "python",
   "nbconvert_exporter": "python",
   "pygments_lexer": "ipython3",
   "version": "3.7.3"
  }
 },
 "nbformat": 4,
 "nbformat_minor": 2
}
