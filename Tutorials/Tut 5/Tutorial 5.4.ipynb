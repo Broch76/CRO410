{
 "cells": [
  {
   "cell_type": "markdown",
   "metadata": {},
   "source": [
    "It is commonly accepted that an effectiveness factor of 99% can be approximated as reaction rate controlled, while a Thiele modulus of 20 represents complete internal mass transfer control where the apparent rate is inverse proportional to the catalyst effective diameter. It is further accepted that for a Thiele modulus bigger than 20, one\n",
    "can obtain the apparent rate constant at higher temperatures by extrapolating with a value half that of the activation energy, while for effectiveness factors bigger than 99% one can obtain the true rate constant at lower temperatures by extrapolating with the activation energy. To approximate the area between internal mass transfer control and reaction rate control, the above extrapolations are sometimes performed in the reverse direction to obtain an intersection point (at a specific temperature) where the activation energy line on an Arrhenius plot takes a sudden ‘bend’. This approximation is not completely correct. We are interested in quantifying the error of this approximation for a first order reaction with the following properties."
   ]
  },
  {
   "cell_type": "markdown",
   "metadata": {},
   "source": [
    "<img src=\"Tut5.4 data.JPG\" width=\"600\" />"
   ]
  },
  {
   "cell_type": "code",
   "execution_count": 619,
   "metadata": {},
   "outputs": [],
   "source": [
    "from numpy import *\n",
    "from scipy.optimize import fsolve\n",
    "from scipy.integrate import odeint\n",
    "from matplotlib import pyplot as plt\n",
    "from scipy.interpolate import interp1d\n",
    "%matplotlib inline"
   ]
  },
  {
   "cell_type": "code",
   "execution_count": 620,
   "metadata": {},
   "outputs": [
    {
     "data": {
      "text/plain": [
       "31138288.867490347"
      ]
     },
     "execution_count": 620,
     "metadata": {},
     "output_type": "execute_result"
    }
   ],
   "source": [
    "De     =   4e-9 #m2/s - doesn't vary with T\n",
    "dp     = 2/1000 #m\n",
    "Rp     =   dp/2 #m\n",
    "rhocat =   2000 #kg/m3\n",
    "Ea     =  80000 #J/mol\n",
    "ki25   =  3e-7\n",
    "ko     =  ki25/(exp(-Ea/(R*298.15))) #m3/(kg.s) first order\n",
    "R      =  8.314 #J/mol.K\n",
    "ko"
   ]
  },
  {
   "cell_type": "markdown",
   "metadata": {},
   "source": [
    "\\begin{equation}\n",
    "k_{i}^{'} = k_{o}^{'}e^{(-\\dfrac{E}{RT})}\n",
    "\\end{equation}"
   ]
  },
  {
   "cell_type": "markdown",
   "metadata": {},
   "source": [
    "Mass based rate:\n",
    "\\begin{equation}\n",
    "-r_{A}^{'}= \\dfrac{1}{\\rho_{cat}^{0.5}}\\left(\\dfrac{3}{R}\\right)\\left(\\dfrac{2D_{e}}{n+1}\\right)^{\\dfrac{1}{2}}(k^{'})^{\\dfrac{1}{2}}C_{A_{s}}^{\\dfrac{n+1}{2}}\\nonumber\n",
    "\\end{equation}"
   ]
  },
  {
   "cell_type": "markdown",
   "metadata": {},
   "source": [
    "Apparent rate:\n",
    "\\begin{equation}\n",
    "k_{app}^{'}=\\dfrac{1}{\\rho_{cat}^{0.5}}\\left(\\dfrac{3}{R}\\right)\\left(\\dfrac{2D_{e}}{n+1}\\right)^{\\dfrac{1}{2}}(k^{'})^{\\dfrac{1}{2}}\\nonumber \n",
    "\\end{equation}"
   ]
  },
  {
   "cell_type": "markdown",
   "metadata": {},
   "source": [
    "Apparent rate expanded:\n",
    "\\begin{equation}\n",
    "k_{app}^{'}=\\dfrac{1}{\\rho_{cat}^{0.5}}\\left(\\dfrac{3}{R}\\right)\\left(\\dfrac{2D_{e}}{n+1}\\right)^{\\dfrac{1}{2}}(k_{0}^{'}e^{-\\dfrac{Ea}{RT}})^{\\dfrac{1}{2}}\\nonumber \n",
    "\\end{equation}"
   ]
  },
  {
   "cell_type": "markdown",
   "metadata": {},
   "source": [
    "\\begin{equation}\n",
    "n_{app} =\\dfrac{n+1}{2}\\nonumber \n",
    "\\end{equation}"
   ]
  },
  {
   "cell_type": "markdown",
   "metadata": {},
   "source": [
    "\\begin{equation}\n",
    "\\therefore -r_{A}^{'} =k_{app}^{'}C_{A_{s}}^{n_{app}} \\nonumber\n",
    "\\end{equation}"
   ]
  },
  {
   "cell_type": "markdown",
   "metadata": {},
   "source": [
    "\\begin{equation}\n",
    "k_{app}^{'} = k_{0_{app}}^{'}e^{-\\dfrac{Ea}{2}(\\dfrac{1}{RT})} \\nonumber\n",
    "\\end{equation}"
   ]
  },
  {
   "cell_type": "markdown",
   "metadata": {},
   "source": [
    "Therefore:\n",
    "\\begin{equation}\n",
    "k_{0_{app}}^{'} = \\dfrac{1}{\\rho_{cat}^{0.5}}\\left(\\dfrac{3}{R}\\right)\\left(\\dfrac{2D_{e}}{n+1}\\right)^{\\dfrac{1}{2}}(k_{0}^{'})^{\\dfrac{1}{2}}\\nonumber \n",
    "\\end{equation}"
   ]
  },
  {
   "cell_type": "markdown",
   "metadata": {},
   "source": [
    "First Order Thiele Modulus:\n",
    "\\begin{equation}\n",
    "\\phi_1^2=\\frac{k_i'\\rho_cR^2}{D_e}\n",
    "\\end{equation}"
   ]
  },
  {
   "cell_type": "markdown",
   "metadata": {},
   "source": [
    "First order effectiveness equation:\n",
    "\\begin{equation}\n",
    "\\eta=\\frac{3}{\\phi_1^2}\\left(\\phi_1\\coth\\phi_1-1\\right)\n",
    "\\end{equation}"
   ]
  },
  {
   "cell_type": "markdown",
   "metadata": {},
   "source": [
    "**a) Plot the above description on an Arrhenius plot and show the region where the extrapolation is not entirely correct**"
   ]
  },
  {
   "cell_type": "code",
   "execution_count": 658,
   "metadata": {},
   "outputs": [],
   "source": [
    "Tspan = linspace(250,1000,1000)\n",
    "Tplot = 1/Tspan\n",
    "n     = 1\n",
    "koapp = (1/(rhocat**0.5))*(3/Rp)*((2*De/(n+1))**0.5)*(ko**0.5)"
   ]
  },
  {
   "cell_type": "code",
   "execution_count": 659,
   "metadata": {},
   "outputs": [],
   "source": [
    "phi = ((ko*exp(-Ea/(R*Tspan)))*rhocat*(Rp**2))**0.5\n",
    "eta = 3/phi**2*((phi*1/tanh(phi))-1)\n"
   ]
  },
  {
   "cell_type": "code",
   "execution_count": 660,
   "metadata": {},
   "outputs": [],
   "source": [
    "ki   = ko*exp(-Ea/(R*Tspan))\n",
    "Y25  = (-Ea/R)*(1/Tspan) + log(ko)\n",
    "Yapp = (-Ea/(2*R))*(1/Tspan) + log(koapp)\n",
    "#Yact = (-Ea/(R))*(1/Tspan) + log(koapp) + log(eta)"
   ]
  },
  {
   "cell_type": "code",
   "execution_count": 661,
   "metadata": {},
   "outputs": [
    {
     "data": {
      "image/png": "[encoded data removed]",
      "text/plain": [
       "<Figure size 432x288 with 1 Axes>"
      ]
     },
     "metadata": {
      "needs_background": "light"
     },
     "output_type": "display_data"
    }
   ],
   "source": [
    "plt.plot(Tplot, Y25,'-', label = 'Real')\n",
    "plt.plot(Tplot, Yapp,'-', label = 'Apparent')\n",
    "#plt.plot(Tplot, Yact,'-', label = 'Actual')\n",
    "#plt.axis([0,500, 0, 1.5])\n",
    "plt.legend(loc='best')\n",
    "plt.ylabel(\"ln(ki)\")\n",
    "plt.xlabel(\"(1/T)\")\n",
    "plt.show()"
   ]
  },
  {
   "cell_type": "code",
   "execution_count": 625,
   "metadata": {},
   "outputs": [],
   "source": [
    "def FOphi (k,rhocat,dp,De): #first order Thiele Modulus\n",
    "    R   = dp/2\n",
    "    phi = (k*rhocat*R**2/De)**0.5  \n",
    "    return phi"
   ]
  },
  {
   "cell_type": "code",
   "execution_count": 626,
   "metadata": {},
   "outputs": [],
   "source": [
    "def FOeta (phi): #first order Effectiveness\n",
    "    eta = 3/phi**2*((phi*1/tanh(phi))-1)\n",
    "    return eta"
   ]
  },
  {
   "cell_type": "code",
   "execution_count": 627,
   "metadata": {},
   "outputs": [],
   "source": [
    "def true(Tspan):\n",
    "    lnk = -Ea/(R*Tspan) + log(ko)\n",
    "    return lnk"
   ]
  },
  {
   "cell_type": "code",
   "execution_count": 628,
   "metadata": {},
   "outputs": [],
   "source": [
    "def assum(Tspan):\n",
    "    phi    = 20\n",
    "    eta    = FOeta(phi)\n",
    "    keff   = eta*true(Tspan)\n",
    "    lnkeff = log(keff)\n",
    "    return lnkeff "
   ]
  },
  {
   "cell_type": "code",
   "execution_count": 629,
   "metadata": {},
   "outputs": [],
   "source": [
    "def measured(Tspan):\n",
    "    phi    = FOphi(ko,rhocat,dp,De)\n",
    "    eta    = FOeta(phi)\n",
    "    keff   = eta*true(Tspan)\n",
    "    lnkeff = log(keff)\n",
    "    return lnkeff"
   ]
  },
  {
   "cell_type": "code",
   "execution_count": 630,
   "metadata": {},
   "outputs": [
    {
     "name": "stdout",
     "output_type": "stream",
     "text": [
      "0.0002583930354073864 0.0038835376206628573\n"
     ]
    }
   ],
   "source": [
    "k1   = exp(true(421.94))\n",
    "phi  = FOphi(k1,rhocat,dp,De)\n",
    "eta  = FOeta(phi)\n",
    "keff = eta*k1\n",
    "print(keff, k1)"
   ]
  },
  {
   "cell_type": "markdown",
   "metadata": {},
   "source": [
    "**b) What is the effectiveness factor at 25°C?** ($\\eta = 0.99$)"
   ]
  },
  {
   "cell_type": "code",
   "execution_count": 631,
   "metadata": {},
   "outputs": [
    {
     "data": {
      "text/plain": [
       "0.38729833462074165"
      ]
     },
     "execution_count": 631,
     "metadata": {},
     "output_type": "execute_result"
    }
   ],
   "source": [
    "phi = (ki25*rhocat*Rp**2/De)**0.5\n",
    "phi"
   ]
  },
  {
   "cell_type": "code",
   "execution_count": 632,
   "metadata": {},
   "outputs": [
    {
     "name": "stdout",
     "output_type": "stream",
     "text": [
      "0.9901407462675496\n"
     ]
    }
   ],
   "source": [
    "eta = 3*((phi/tanh(phi))-1)/(phi**2)\n",
    "print(str(eta))"
   ]
  },
  {
   "cell_type": "markdown",
   "metadata": {},
   "source": [
    "**c) Above what temperature can one assume that complete internal mass transfer controls the reaction rate?** ($T = 121^{\\circ}C$)"
   ]
  },
  {
   "cell_type": "markdown",
   "metadata": {},
   "source": [
    "Complete internal mass transfer controls the reaction rate for first order reactions when $\\phi_{1} > 20$ and consequently a shortcut can be used: $\\eta = \\dfrac{3}{\\phi_{1}}$"
   ]
  },
  {
   "cell_type": "code",
   "execution_count": 633,
   "metadata": {},
   "outputs": [],
   "source": [
    "phi20 = 20"
   ]
  },
  {
   "cell_type": "markdown",
   "metadata": {},
   "source": [
    "Rearranging the Thiele Modulus equation:\n",
    "\\begin{align}\n",
    "\\phi_n^2&=\\frac{k_i'\\rho_cR^2C_{As}^{n-1}}{D_e}\\\\\n",
    "k_{i}^{'}&= \\dfrac{\\phi_{1}^{2}D_{e}}{\\rho_{C}R^{2}}\n",
    "\\end{align}"
   ]
  },
  {
   "cell_type": "code",
   "execution_count": 634,
   "metadata": {},
   "outputs": [
    {
     "data": {
      "text/plain": [
       "0.0008"
      ]
     },
     "execution_count": 634,
     "metadata": {},
     "output_type": "execute_result"
    }
   ],
   "source": [
    "ki20 = De*(phi20**2)/(rhocat*Rp**2)\n",
    "ki20"
   ]
  },
  {
   "cell_type": "code",
   "execution_count": 635,
   "metadata": {},
   "outputs": [
    {
     "data": {
      "text/plain": [
       "394.60258057208466"
      ]
     },
     "execution_count": 635,
     "metadata": {},
     "output_type": "execute_result"
    }
   ],
   "source": [
    "T20 = -Ea/(R*log(ki20/ko))\n",
    "T20"
   ]
  },
  {
   "cell_type": "code",
   "execution_count": 636,
   "metadata": {},
   "outputs": [
    {
     "name": "stdout",
     "output_type": "stream",
     "text": [
      "T = 121.45258057208468 deg C\n"
     ]
    }
   ],
   "source": [
    "print('T = '+str(T20-273.15)+' deg C')"
   ]
  },
  {
   "cell_type": "markdown",
   "metadata": {},
   "source": [
    "**d) For the specific system, by how much is the rate constant over-predicted/ under-predicted at the ‘intersection’ or ‘bend’ temperature if the sudden slope change\n",
    "method (discussed above) is used?**\n",
    "($k_{app~estimate} = 1.644 \\times 10^{−5}~m^{3}/(kg.s) = 1.45 \\times k_{app~real}$ )"
   ]
  },
  {
   "cell_type": "markdown",
   "metadata": {},
   "source": [
    "We first need to determine to regression lines, one where $\\eta \\approx 1$ (which we already have from question b) above. Then you determine a regression line for where you know internal mass transfer controls the rate such as where $\\phi = 20$. \n",
    "Calculate the temperature and apparent rate where these two lines intersects. Calculate $\\eta$ in order to get the real rate and from there the ratio between the two can be obtained."
   ]
  },
  {
   "cell_type": "code",
   "execution_count": 637,
   "metadata": {},
   "outputs": [
    {
     "data": {
      "text/plain": [
       "0.00011999999999999999"
      ]
     },
     "execution_count": 637,
     "metadata": {},
     "output_type": "execute_result"
    }
   ],
   "source": [
    "n      = 1\n",
    "kapp20 = (1/rhocat**0.5)*(3/Rp)*((2*De/(n+1))**0.5)*(ki20**0.5)\n",
    "kapp20"
   ]
  },
  {
   "cell_type": "code",
   "execution_count": 638,
   "metadata": {},
   "outputs": [],
   "source": [
    "Y1 = log(ki25)\n",
    "Y2 = log(kapp20)"
   ]
  },
  {
   "cell_type": "code",
   "execution_count": 639,
   "metadata": {},
   "outputs": [],
   "source": [
    "X1 = 1/298.15\n",
    "X2 = 1/T20"
   ]
  },
  {
   "cell_type": "code",
   "execution_count": 640,
   "metadata": {},
   "outputs": [],
   "source": [
    "m1 = -Ea/(R)\n",
    "m2 = -Ea/(2*R)"
   ]
  },
  {
   "cell_type": "code",
   "execution_count": 641,
   "metadata": {},
   "outputs": [],
   "source": [
    "C1 = Y1 - m1*X1\n",
    "C2 = Y2 - m2*X2"
   ]
  },
  {
   "cell_type": "code",
   "execution_count": 642,
   "metadata": {},
   "outputs": [
    {
     "data": {
      "text/plain": [
       "341.4703817566001"
      ]
     },
     "execution_count": 642,
     "metadata": {},
     "output_type": "execute_result"
    }
   ],
   "source": [
    "#intersection:\n",
    "#C1 + m1X = C2 + m2X\n",
    "X = (C2 - C1)/(m1 - m2)\n",
    "Tx = 1/X\n",
    "Tx"
   ]
  },
  {
   "cell_type": "code",
   "execution_count": 643,
   "metadata": {},
   "outputs": [
    {
     "data": {
      "text/plain": [
       "1.800000000000002e-05"
      ]
     },
     "execution_count": 643,
     "metadata": {},
     "output_type": "execute_result"
    }
   ],
   "source": [
    "kx = exp((m2*X) + C2)\n",
    "kx"
   ]
  },
  {
   "cell_type": "code",
   "execution_count": 644,
   "metadata": {},
   "outputs": [
    {
     "data": {
      "text/plain": [
       "3.0000000000000013"
      ]
     },
     "execution_count": 644,
     "metadata": {},
     "output_type": "execute_result"
    }
   ],
   "source": [
    "phix = (kx*rhocat*Rp**2/De)**0.5\n",
    "phix"
   ]
  },
  {
   "cell_type": "code",
   "execution_count": 645,
   "metadata": {},
   "outputs": [
    {
     "name": "stdout",
     "output_type": "stream",
     "text": [
      "0.6716364899803559\n"
     ]
    }
   ],
   "source": [
    "etax = FOeta(phix)\n",
    "print(str(etax))"
   ]
  },
  {
   "cell_type": "code",
   "execution_count": 646,
   "metadata": {},
   "outputs": [
    {
     "data": {
      "text/plain": [
       "1.208945681964642e-05"
      ]
     },
     "execution_count": 646,
     "metadata": {},
     "output_type": "execute_result"
    }
   ],
   "source": [
    "kreal = etax*kx\n",
    "kreal"
   ]
  },
  {
   "cell_type": "code",
   "execution_count": 647,
   "metadata": {},
   "outputs": [
    {
     "data": {
      "text/plain": [
       "1.48890064032889"
      ]
     },
     "execution_count": 647,
     "metadata": {},
     "output_type": "execute_result"
    }
   ],
   "source": [
    "ratio = kx/kreal\n",
    "ratio"
   ]
  },
  {
   "cell_type": "code",
   "execution_count": 648,
   "metadata": {},
   "outputs": [
    {
     "name": "stdout",
     "output_type": "stream",
     "text": [
      "kapp_est= 1.800000000000002e-05 m3/(kg.s) = 1.48890064032889 X kapp_real\n"
     ]
    }
   ],
   "source": [
    "print('kapp_est= '+str(kx)+' m3/(kg.s) = '+str(ratio)+' X kapp_real')"
   ]
  },
  {
   "cell_type": "code",
   "execution_count": null,
   "metadata": {},
   "outputs": [],
   "source": []
  }
 ],
 "metadata": {
  "kernelspec": {
   "display_name": "Python 3",
   "language": "python",
   "name": "python3"
  },
  "language_info": {
   "codemirror_mode": {
    "name": "ipython",
    "version": 3
   },
   "file_extension": ".py",
   "mimetype": "text/x-python",
   "name": "python",
   "nbconvert_exporter": "python",
   "pygments_lexer": "ipython3",
   "version": "3.7.3"
  }
 },
 "nbformat": 4,
 "nbformat_minor": 2
}
