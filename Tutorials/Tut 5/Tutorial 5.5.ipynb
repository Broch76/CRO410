{
 "cells": [
  {
   "cell_type": "markdown",
   "metadata": {},
   "source": [
    "*A first order liquid reaction occurs in a packed bed reactor. The conversion is $80\\%$ if $1~mm$ particles are used.*"
   ]
  },
  {
   "cell_type": "code",
   "execution_count": 4,
   "metadata": {},
   "outputs": [],
   "source": [
    "from numpy import *\n",
    "from scipy.optimize import fsolve\n",
    "from scipy.integrate import odeint\n",
    "from matplotlib import pyplot as plt\n",
    "from scipy.interpolate import interp1d\n",
    "%matplotlib inline"
   ]
  },
  {
   "cell_type": "code",
   "execution_count": 8,
   "metadata": {},
   "outputs": [],
   "source": [
    "n  = 1 #PBR\n",
    "X1  = 0.8\n",
    "dp = 1/1000 #m"
   ]
  },
  {
   "cell_type": "markdown",
   "metadata": {},
   "source": [
    "**a) What will be the conversion if $2~mm$ particles are used, if one assumes that internal mass transfer is controlling the rate for both particle sizes?** ($X_{2~mm}= 0.55$)"
   ]
  },
  {
   "cell_type": "markdown",
   "metadata": {},
   "source": [
    "Since internal mass transfer is controlling:\n",
    "$\\eta k_{i}^{'} = k_{eff}^{'}$"
   ]
  },
  {
   "cell_type": "markdown",
   "metadata": {},
   "source": [
    "$$\n",
    "\\begin{align}\n",
    "\\frac{dF_A}{dW}&=r_{A}^{'}\\\\\n",
    "\\frac{dF_A}{dW}&=-\\eta k_{i}^{'}C_A\\\\\n",
    "QC_{Ao}\\frac{dx}{dW}&=\\eta k_{i}^{'}C_{Ao}(1-x)\\\\\n",
    "\\int^{x=0.8}_{x=0}\\frac{dx}{1-x}&=\\frac{\\eta k_{i}^{'}W}{Q}\\\\\n",
    "-\\ln(1-0.8)&=\\frac{\\eta k_{i}^{'}W}{Q}\\\\\n",
    "\\end{align}\n",
    "$$"
   ]
  },
  {
   "cell_type": "code",
   "execution_count": 13,
   "metadata": {},
   "outputs": [
    {
     "data": {
      "text/plain": [
       "1.6094379124341005"
      ]
     },
     "execution_count": 13,
     "metadata": {},
     "output_type": "execute_result"
    }
   ],
   "source": [
    "a=-log(1-X)\n",
    "a"
   ]
  },
  {
   "cell_type": "markdown",
   "metadata": {},
   "source": [
    "For the internal mass transfer controlled regime $\\eta\\propto\\frac 1R$"
   ]
  },
  {
   "cell_type": "markdown",
   "metadata": {},
   "source": [
    "Therefore, as particle diameter doubles, $\\eta$ will halve. So now we can use proportionality on the mole balance equation derived above to solve for the new conversion, $\\eta_{2} = 0.5\\eta_{1}$"
   ]
  },
  {
   "cell_type": "markdown",
   "metadata": {},
   "source": [
    "Therefore:\n",
    "\\begin{align}\n",
    "\\dfrac{\\eta_{2}}{\\eta_{1}} &= \\dfrac{ln(1 - X_{2})}{ln(1 - X_{1})} \\nonumber \\\\\n",
    "\\dfrac{1}{2} &= \\dfrac{ln(1 - X_{2})}{ln(1 - X_{1})} \\nonumber \\\\\n",
    "ln(1 - X_{1})^{1/2} &= ln(1 - X_{2}) \\nonumber \\\\\n",
    "X_{2} &= (1 - (1 - X_{1})^{1/2}) \\nonumber \\\\\n",
    "\\end{align}"
   ]
  },
  {
   "cell_type": "code",
   "execution_count": 12,
   "metadata": {},
   "outputs": [
    {
     "data": {
      "text/plain": [
       "0.5527864045000421"
      ]
     },
     "execution_count": 12,
     "metadata": {},
     "output_type": "execute_result"
    }
   ],
   "source": [
    "X2 =  1 - (1 - X1)**0.5\n",
    "X2"
   ]
  },
  {
   "cell_type": "markdown",
   "metadata": {},
   "source": [
    "**b) What will be the conversion if $2~mm$ particles are used, if one assumes that external mass transfer is controlling the rate for both particle sizes?**($X_{2mm} = 0.43$)"
   ]
  },
  {
   "cell_type": "markdown",
   "metadata": {},
   "source": [
    "Since now external mass transfer is controlling:\n",
    "$k_{c}a_{m} = k_{eff}^{'}$"
   ]
  },
  {
   "cell_type": "markdown",
   "metadata": {},
   "source": [
    "From the PBR mole balance above, the derived equation now is:\n",
    "$$\n",
    "\\begin{align}\n",
    "-\\ln(1-x)&=\\frac{k_{c}a_{m}W}{Q}\\\\\n",
    "\\end{align}\n",
    "$$"
   ]
  },
  {
   "cell_type": "markdown",
   "metadata": {},
   "source": [
    "From the Thoenes Kramer correlation:\n",
    "\n",
    "\\begin{align}\n",
    "\\frac{k_{c2}d_{p2}}{k_{c1}d_{p1}}&=\\left[\\frac{d_{p2}}{d_{p1}}\\right]^{1/2}\\\\\n",
    "\\frac{k_{c2}}{k_{c1}}&=\\left[\\frac{d_{p1}}{d_{p2}}\\right]^{1/2}\\\\\n",
    "k_{c2} &=\\left[\\frac{1}{\\sqrt 2}\\right]k_{c1}\n",
    "\\end{align}"
   ]
  },
  {
   "cell_type": "markdown",
   "metadata": {},
   "source": [
    "$a_{m} \\propto \\dfrac{1}{dp}$, therefore:\n",
    "\\begin{align}\n",
    "\\frac{a_{m2}}{a_{m1}}&=\\frac{d_{p1}}{d_{p2}}\\\\\n",
    "a_{m2}&=\\frac{1}{2}a_{m1}\n",
    "\\end{align}"
   ]
  },
  {
   "cell_type": "markdown",
   "metadata": {},
   "source": [
    "Therefore, the total proportionality:\n",
    "\\begin{align}\n",
    "k_{c2}a_{m2} &=\\left[\\frac{1}{2\\sqrt 2}\\right]k_{c1}a_{m1}\n",
    "\\end{align}"
   ]
  },
  {
   "cell_type": "markdown",
   "metadata": {},
   "source": [
    "Finally:\n",
    "$$\n",
    "\\begin{align}\n",
    "-\\ln(1-x_{2})&=k_{c2}a_{m2}\\frac{W}{Q}\\\\\n",
    "-\\ln(1-x_{2})&=\\left[\\frac{1}{2\\sqrt 2}\\right]k_{c1}a_{m1}\\frac{W}{Q}\\\\\n",
    "-\\ln(1-x_{2})&=\\left[\\frac{-\\ln(1-x1)}{2\\sqrt 2}\\right]\n",
    "\\end{align}\n",
    "$$"
   ]
  },
  {
   "cell_type": "code",
   "execution_count": 15,
   "metadata": {},
   "outputs": [
    {
     "data": {
      "text/plain": [
       "0.5690222308904367"
      ]
     },
     "execution_count": 15,
     "metadata": {},
     "output_type": "execute_result"
    }
   ],
   "source": [
    "b = a/(2*sqrt(2))\n",
    "b"
   ]
  },
  {
   "cell_type": "code",
   "execution_count": 17,
   "metadata": {},
   "outputs": [
    {
     "data": {
      "text/plain": [
       "0.4339213375773717"
      ]
     },
     "execution_count": 17,
     "metadata": {},
     "output_type": "execute_result"
    }
   ],
   "source": [
    "X2 = 1 - exp(-b) \n",
    "X2"
   ]
  },
  {
   "cell_type": "markdown",
   "metadata": {},
   "source": [
    "**c) If the shape of the packed bed is changed so that the reactor is longer and the diameter smaller (the same amount catalyst is used), qualitatively, how will the conversion change for the 2 mm packed bed in (1). How will it change for the packed bed in (2).**"
   ]
  },
  {
   "cell_type": "markdown",
   "metadata": {},
   "source": [
    "---\n",
    "Reducing the reactor diameter reduces it's cross-sectional aread. If $Q$ is to remain the same, the linear velocity must increase.\n",
    "\n",
    "From a) - Higher velocity will not affect $X$ if internal mass transfer controls the reaction.\n",
    "\n",
    "From b) - The increased velocity will increase $X$ since $k_c\\propto U^{1/2}$"
   ]
  },
  {
   "cell_type": "code",
   "execution_count": null,
   "metadata": {},
   "outputs": [],
   "source": []
  }
 ],
 "metadata": {
  "kernelspec": {
   "display_name": "Python 3",
   "language": "python",
   "name": "python3"
  },
  "language_info": {
   "codemirror_mode": {
    "name": "ipython",
    "version": 3
   },
   "file_extension": ".py",
   "mimetype": "text/x-python",
   "name": "python",
   "nbconvert_exporter": "python",
   "pygments_lexer": "ipython3",
   "version": "3.7.3"
  }
 },
 "nbformat": 4,
 "nbformat_minor": 2
}
