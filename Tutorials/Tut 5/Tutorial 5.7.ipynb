{
 "cells": [
  {
   "cell_type": "markdown",
   "metadata": {},
   "source": [
    "The first order reaction where A is converted to B is carried out in a laboratory scale CSTR at different stirrer speeds (in $rpm$), at different temperatures and catalyst particle sizes. The results at a fixed concentration of $A$, $C_{A} = 16.9\\times10^{3}~mol/m^{3}$, is shown on the attached figure. The catalyst is porous and $\\rho_{cat} = 1200~kg/m^{3}$. It is also known that the total catalyst surface area ($S_{i}$) is $100~m^{2}/g$."
   ]
  },
  {
   "cell_type": "markdown",
   "metadata": {},
   "source": [
    "<img src=\"Tut5.7 data.JPG\" width=\"850\" />"
   ]
  },
  {
   "cell_type": "code",
   "execution_count": 123,
   "metadata": {},
   "outputs": [],
   "source": [
    "from numpy import *\n",
    "from scipy.optimize import fsolve\n",
    "from scipy.integrate import odeint\n",
    "from matplotlib import pyplot as plt\n",
    "from scipy.interpolate import interp1d\n",
    "%matplotlib inline"
   ]
  },
  {
   "cell_type": "markdown",
   "metadata": {},
   "source": [
    "**a) In what region(s) ($rpm$, $T$ and $dp$) is the reaction rate influenced by only internal mass transfer limitations (i.e. no external mass transfer effects)?** ($dp = 5~mm$, $T = 400~K$, $rpm > 900$)"
   ]
  },
  {
   "cell_type": "markdown",
   "metadata": {},
   "source": [
    "**b) In what region/s is the reaction rate influenced by only external mass transfer\n",
    "limitations? (i.e. no internal mass transfer effects)**\n",
    "($400~K$, $d_{p} = 0.3~mm$, $rpm<400$, and $400~K$, $d_{p} = 0.1~mm$, $rpm<200$)"
   ]
  },
  {
   "cell_type": "markdown",
   "metadata": {},
   "source": [
    "For both questions a) and b):"
   ]
  },
  {
   "cell_type": "markdown",
   "metadata": {},
   "source": [
    "It is important to recognise that for all the particle diameters at the **higher stirrer speeds**, $C_{A_{b}} = C_{A_{s}}$: External mass transfer is negligible here (when the curve flatlines with rpm). A synonym for this is that external diffusion effects are negligible and for a first order reaction it implies that in:\n",
    "$$\n",
    "\\begin{align}\n",
    "\\dfrac{1}{k_{eff}^{'}} &= \\dfrac{1}{k_{c}a_{m}} + \\dfrac{1}{\\eta k_{i}^{'}} \\nonumber \\\\\n",
    "\\dfrac{1}{k_{c}a_{m}} &\\approx 0\\nonumber \\\\\n",
    "k_{eff}^{'} &= \\eta k_{i}^{'} \\nonumber\n",
    "\\end{align}\n",
    "$$"
   ]
  },
  {
   "cell_type": "markdown",
   "metadata": {},
   "source": [
    "Also, at $300~K$, $\\eta = 1$ for both $d_{p} = 1~mm$ and $d_{p} = 0.5~mm$. We can deduce that since at the point where $C_{A_{s}} = C_{A_{b}}$, the rates for the two diameters are equal."
   ]
  },
  {
   "cell_type": "markdown",
   "metadata": {},
   "source": [
    "And at $400~K$, $\\eta = 1$ for both diameters shown."
   ]
  },
  {
   "cell_type": "markdown",
   "metadata": {},
   "source": [
    "At **lower stirrer speeds** with these small diameters, the difference between the rates (at the same stirrer speed), is due to $k_{c}a_{m} \\propto rpm^{m}.d_{p}^{-1}$ and NOT because $\\eta < 1$"
   ]
  },
  {
   "cell_type": "markdown",
   "metadata": {},
   "source": [
    "For $d_{p} = 5~mm$ at $300~K$, $\\eta$ is less than one. Even where $C_{A_{s}} = C_{A_{b}}$ (flatline with rpm), the rate at the same temperature and the same $C_{A_{b}}$ is not the same as for the particle sizes where $\\eta = 1$. The $\\eta$-value here is NOT a function of rpm! So even at lower rpm's where $C_{A_{s}} \\neq C_{A_{b}}$ the same value of $\\eta$ applies. It will only change if one changes $d_{p}$ and/or Temperature."
   ]
  },
  {
   "cell_type": "markdown",
   "metadata": {},
   "source": [
    "-"
   ]
  },
  {
   "cell_type": "markdown",
   "metadata": {},
   "source": [
    "A packed bed reactor is packed with $100~kg$ of the $5~mm$ particles of this same catalyst ($\\epsilon = 0.4$). It is used to process $40~L/min$ of a feed stream with pure component $A$."
   ]
  },
  {
   "cell_type": "code",
   "execution_count": 124,
   "metadata": {},
   "outputs": [],
   "source": [
    "CAb    = 16.9e3 #mol/m3\n",
    "rhocat =   1200 #kg/m3\n",
    "Si     =  100e3 #m2/kg\n",
    "R      =  8.314 #J/kg.K"
   ]
  },
  {
   "cell_type": "code",
   "execution_count": 125,
   "metadata": {},
   "outputs": [],
   "source": [
    "W       =        100 #kg\n",
    "dp      =     5/1000 #m\n",
    "Rp      =       dp/2 #m \n",
    "epsilon =        0.4\n",
    "Q       = 40/1000/60 #m3/s"
   ]
  },
  {
   "cell_type": "markdown",
   "metadata": {},
   "source": [
    "**c) What conversion would be obtained if the reactor is free of any external mass\n",
    "transfer or mixing effects and is isothermally operated at $400~K$?** ($X = 0.59$)"
   ]
  },
  {
   "cell_type": "markdown",
   "metadata": {},
   "source": [
    "$$\n",
    "\\begin{align}\n",
    "\\frac{dF_A}{dW}&=-r_{A}^{'}\\\\\n",
    "\\frac{dF_A}{dW}&=\\eta k_{i}^{'}C_A\\\\\n",
    "QC_{Ao}\\frac{dx}{dW}&=\\eta k_{i}^{'}C_{Ao}(1-x)\\\\\n",
    "\\int^{X}_{0}\\frac{dx}{1-x}&=\\frac{\\eta k_{i}^{'}W}{Q}\\\\\n",
    "-\\ln(1-X)&=\\frac{\\eta k_{i}^{'}W}{Q}\\\\\n",
    "\\end{align}\n",
    "$$"
   ]
  },
  {
   "cell_type": "code",
   "execution_count": 126,
   "metadata": {},
   "outputs": [],
   "source": [
    "T = 400 #k\n",
    "raprime = 0.1 #mol/(kg.s) read off the graph for the 5mm cat particle"
   ]
  },
  {
   "cell_type": "code",
   "execution_count": 127,
   "metadata": {},
   "outputs": [
    {
     "data": {
      "text/plain": [
       "5.917159763313609e-06"
      ]
     },
     "execution_count": 127,
     "metadata": {},
     "output_type": "execute_result"
    }
   ],
   "source": [
    "keffprime = raprime/CAb\n",
    "keffprime"
   ]
  },
  {
   "cell_type": "code",
   "execution_count": 128,
   "metadata": {},
   "outputs": [
    {
     "data": {
      "text/plain": [
       "0.4116532276535465"
      ]
     },
     "execution_count": 128,
     "metadata": {},
     "output_type": "execute_result"
    }
   ],
   "source": [
    "a = exp(-keffprime*W/Q)  \n",
    "a"
   ]
  },
  {
   "cell_type": "code",
   "execution_count": 129,
   "metadata": {},
   "outputs": [
    {
     "data": {
      "text/plain": [
       "0.5883467723464535"
      ]
     },
     "execution_count": 129,
     "metadata": {},
     "output_type": "execute_result"
    }
   ],
   "source": [
    "X = 1 - a\n",
    "X"
   ]
  },
  {
   "cell_type": "markdown",
   "metadata": {},
   "source": [
    "**d) Calculate the conversion that would be achieved if the temperature of the reactor\n",
    "(with 100 kg of catalyst) is increased to 500 K and the reactor layout is such that\n",
    "the rate is still not limited by external mass transfer.** ($\\eta = 0.74$ and X $= 0.87$)"
   ]
  },
  {
   "cell_type": "markdown",
   "metadata": {},
   "source": [
    "1) We know at higher stirrer speeds, $k_{i}^{'}$ does not depend on particle diameter for the same temperature."
   ]
  },
  {
   "cell_type": "markdown",
   "metadata": {},
   "source": [
    "2) We also know, because both $d_{p} = 0.3~mm$ and $d_{p} = 0.1~mm$ converge at high stirrer speeds (i.e. both have the same $-r_{A}$), that $\\eta = 1$ at $400~K$ for those two. Since $d_{p} = 5~mm$ has a lower $-r_{A}$ at higher stirrer speeds, it's $\\eta$ must be less than $1$"
   ]
  },
  {
   "cell_type": "markdown",
   "metadata": {},
   "source": [
    "3) Using the intrinsic rate equation, $-r_{A} = \\eta k_{i}^{'}C_{A_{b}}$, we have two equations:\n",
    "\\begin{align}\n",
    "0.1355 &= k_{1}^{'}C_{A_{b}} \\nonumber \\\\\n",
    "0.1000 &= \\eta k_{2}^{'}C_{A_{b}} \\nonumber \\\\\n",
    "k_{1}^{'} &= k_{2}^{'} \\nonumber\n",
    "\\end{align}"
   ]
  },
  {
   "cell_type": "code",
   "execution_count": 130,
   "metadata": {},
   "outputs": [
    {
     "data": {
      "text/plain": [
       "0.7380073800738007"
      ]
     },
     "execution_count": 130,
     "metadata": {},
     "output_type": "execute_result"
    }
   ],
   "source": [
    "# therefore, eta for dp=5mm:\n",
    "eta400 = 0.1/0.1355\n",
    "eta400"
   ]
  },
  {
   "cell_type": "code",
   "execution_count": 131,
   "metadata": {},
   "outputs": [
    {
     "data": {
      "text/plain": [
       "8.017751479289941e-06"
      ]
     },
     "execution_count": 131,
     "metadata": {},
     "output_type": "execute_result"
    }
   ],
   "source": [
    "k400 = keffprime/eta400\n",
    "k400"
   ]
  },
  {
   "cell_type": "markdown",
   "metadata": {},
   "source": [
    "At $300~K$, we can calculate the rate constant where $d_{p}=1~mm$ and $d_{p}=0.5~mm$ converge. $\\eta = 1$ at high stirrer speed there as well as both those particle sizes converge."
   ]
  },
  {
   "cell_type": "code",
   "execution_count": 132,
   "metadata": {},
   "outputs": [
    {
     "data": {
      "text/plain": [
       "1.0650887573964497e-06"
      ]
     },
     "execution_count": 132,
     "metadata": {},
     "output_type": "execute_result"
    }
   ],
   "source": [
    "k300 = 0.018/CAb\n",
    "k300"
   ]
  },
  {
   "cell_type": "code",
   "execution_count": 133,
   "metadata": {},
   "outputs": [
    {
     "data": {
      "text/plain": [
       "-11.733852539573546"
      ]
     },
     "execution_count": 133,
     "metadata": {},
     "output_type": "execute_result"
    }
   ],
   "source": [
    "Y1 = log(k400)\n",
    "Y1"
   ]
  },
  {
   "cell_type": "code",
   "execution_count": 134,
   "metadata": {},
   "outputs": [
    {
     "data": {
      "text/plain": [
       "-13.752452421997138"
      ]
     },
     "execution_count": 134,
     "metadata": {},
     "output_type": "execute_result"
    }
   ],
   "source": [
    "Y2 = log(k300)\n",
    "Y2"
   ]
  },
  {
   "cell_type": "code",
   "execution_count": 135,
   "metadata": {},
   "outputs": [],
   "source": [
    "X1 = 1/400\n",
    "X2 = 1/300"
   ]
  },
  {
   "cell_type": "code",
   "execution_count": 136,
   "metadata": {},
   "outputs": [
    {
     "data": {
      "text/plain": [
       "-5.678052892302772"
      ]
     },
     "execution_count": 136,
     "metadata": {},
     "output_type": "execute_result"
    }
   ],
   "source": [
    "#gradient, M is the same for both intrinsic rate lines\n",
    "#(Y1 - C)/X1 = (Y2 - C)/X2\n",
    "C = (Y2*X1 - Y1*X2)/(X1 - X2)\n",
    "C"
   ]
  },
  {
   "cell_type": "code",
   "execution_count": 137,
   "metadata": {},
   "outputs": [
    {
     "data": {
      "text/plain": [
       "0.0034202114843071532"
      ]
     },
     "execution_count": 137,
     "metadata": {},
     "output_type": "execute_result"
    }
   ],
   "source": [
    "koprime = exp(C)\n",
    "koprime"
   ]
  },
  {
   "cell_type": "code",
   "execution_count": 138,
   "metadata": {},
   "outputs": [
    {
     "data": {
      "text/plain": [
       "-2422.3198589083095"
      ]
     },
     "execution_count": 138,
     "metadata": {},
     "output_type": "execute_result"
    }
   ],
   "source": [
    "M = (Y1 - C)/X1\n",
    "M"
   ]
  },
  {
   "cell_type": "code",
   "execution_count": 139,
   "metadata": {},
   "outputs": [
    {
     "data": {
      "text/plain": [
       "20139.167306963685"
      ]
     },
     "execution_count": 139,
     "metadata": {},
     "output_type": "execute_result"
    }
   ],
   "source": [
    "Ea = -R*M\n",
    "Ea"
   ]
  },
  {
   "cell_type": "code",
   "execution_count": 140,
   "metadata": {},
   "outputs": [
    {
     "data": {
      "text/plain": [
       "2.691861212317777e-05"
      ]
     },
     "execution_count": 140,
     "metadata": {},
     "output_type": "execute_result"
    }
   ],
   "source": [
    "k500 = koprime*exp(-Ea/(R*500))\n",
    "k500"
   ]
  },
  {
   "cell_type": "markdown",
   "metadata": {},
   "source": [
    "Now we need to calculate $\\eta$ at $500~K$ for $d_{p} = 5~mm$"
   ]
  },
  {
   "cell_type": "markdown",
   "metadata": {},
   "source": [
    "$$\\eta_{400~K} = 0.738 = \\dfrac{3}{\\phi_{1}^{2}}(\\phi_{1}coth(\\phi_{1}) - 1)$$"
   ]
  },
  {
   "cell_type": "code",
   "execution_count": 145,
   "metadata": {},
   "outputs": [],
   "source": [
    "phi = 3/eta400 #1st guess\n",
    "error = 0.1"
   ]
  },
  {
   "cell_type": "code",
   "execution_count": 147,
   "metadata": {},
   "outputs": [],
   "source": [
    "while error >= 0.0000000001:\n",
    "    phinew  = ((3/eta400)*((phi/tanh(phi)) - 1))**0.5\n",
    "    error    = abs(phi - phinew)\n",
    "    phi      = phinew"
   ]
  },
  {
   "cell_type": "code",
   "execution_count": 149,
   "metadata": {},
   "outputs": [
    {
     "name": "stdout",
     "output_type": "stream",
     "text": [
      "2.48725078247475\n"
     ]
    }
   ],
   "source": [
    "phi400 = phi\n",
    "print(str(phi400))"
   ]
  },
  {
   "cell_type": "markdown",
   "metadata": {},
   "source": [
    "From the Thiele equation:\n",
    "\\begin{align}\n",
    "\\dfrac{\\phi_{1}^{2})_{400~K}}{\\phi_{1}^{2})_{500~K}} = \\dfrac{k_{i}^{'})_{400~K}}{k_{i}^{'})_{500~K}} \\nonumber\n",
    "\\end{align}"
   ]
  },
  {
   "cell_type": "code",
   "execution_count": 151,
   "metadata": {},
   "outputs": [
    {
     "data": {
      "text/plain": [
       "4.5574258693926275"
      ]
     },
     "execution_count": 151,
     "metadata": {},
     "output_type": "execute_result"
    }
   ],
   "source": [
    "phi500 = ((phi400**2)*k500/k400)**0.5\n",
    "phi500"
   ]
  },
  {
   "cell_type": "code",
   "execution_count": 155,
   "metadata": {},
   "outputs": [
    {
     "data": {
      "text/plain": [
       "0.5139730031460392"
      ]
     },
     "execution_count": 155,
     "metadata": {},
     "output_type": "execute_result"
    }
   ],
   "source": [
    "eta500 = (3/(phi500**2))*((phi500/tanh(phi500)) - 1)\n",
    "eta500"
   ]
  },
  {
   "cell_type": "code",
   "execution_count": null,
   "metadata": {},
   "outputs": [],
   "source": []
  },
  {
   "cell_type": "code",
   "execution_count": 156,
   "metadata": {},
   "outputs": [
    {
     "data": {
      "text/plain": [
       "0.12551675955931763"
      ]
     },
     "execution_count": 156,
     "metadata": {},
     "output_type": "execute_result"
    }
   ],
   "source": [
    "a500 = exp(-eta500*k500*W/Q)  \n",
    "a500"
   ]
  },
  {
   "cell_type": "code",
   "execution_count": 158,
   "metadata": {},
   "outputs": [
    {
     "data": {
      "text/plain": [
       "0.8744832404406824"
      ]
     },
     "execution_count": 158,
     "metadata": {},
     "output_type": "execute_result"
    }
   ],
   "source": [
    "X500 = 1 - a500 \n",
    "X500     #0.874 is actually correct if no external mass transfer for a CSTR"
   ]
  },
  {
   "cell_type": "code",
   "execution_count": null,
   "metadata": {},
   "outputs": [],
   "source": []
  }
 ],
 "metadata": {
  "kernelspec": {
   "display_name": "Python 3",
   "language": "python",
   "name": "python3"
  },
  "language_info": {
   "codemirror_mode": {
    "name": "ipython",
    "version": 3
   },
   "file_extension": ".py",
   "mimetype": "text/x-python",
   "name": "python",
   "nbconvert_exporter": "python",
   "pygments_lexer": "ipython3",
   "version": "3.7.3"
  }
 },
 "nbformat": 4,
 "nbformat_minor": 2
}
